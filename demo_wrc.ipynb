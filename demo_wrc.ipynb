{
 "cells": [
  {
   "cell_type": "markdown",
   "source": [
    "# ChEMBL webresource client examples\n",
    "\n",
    "The library helps accessing ChEMBL data and cheminformatics tools from Python. You don't need to know how to write SQL. You don't need to know how to interact with REST APIs. You don't need to compile or install any cheminformatics frameworks. Results are cached.\n",
    "\n",
    "The client handles interaction with the HTTPS protocol and caches all results in the local file system for faster retrieval. Abstracting away all network-related tasks, the client provides the end user with a convenient interface, giving the impression of working with a local resource. Design is based on the Django QuerySet interface. The client also implements lazy evaluation of results, which means it will only evaluate a request for data when a value is required. This approach reduces number of network requests and increases performance."
   ],
   "metadata": {}
  },
  {
   "cell_type": "markdown",
   "source": [
    "## Available data entities\n",
    "\n",
    "You can list available data entities using the following code"
   ],
   "metadata": {}
  },
  {
   "cell_type": "code",
   "execution_count": 1,
   "source": [
    "from chembl_webresource_client.new_client import new_client\n",
    "\n",
    "available_resources = [resource for resource in dir(new_client) if not resource.startswith('_')]\n",
    "print(available_resources)"
   ],
   "outputs": [
    {
     "output_type": "stream",
     "name": "stdout",
     "text": [
      "['activity', 'activity_supplementary_data_by_activity', 'assay', 'assay_class', 'atc_class', 'binding_site', 'biotherapeutic', 'cell_line', 'chembl_id_lookup', 'compound_record', 'compound_structural_alert', 'description', 'document', 'document_similarity', 'drug', 'drug_indication', 'drug_warning', 'go_slim', 'image', 'mechanism', 'metabolism', 'molecule', 'molecule_form', 'official', 'organism', 'protein_class', 'similarity', 'source', 'substructure', 'target', 'target_component', 'target_relation', 'tissue', 'xref_source']\n"
     ]
    }
   ],
   "metadata": {}
  },
  {
   "cell_type": "markdown",
   "source": [
    "## Available filters\n",
    "\n",
    "The design of the client is based on Django QuerySet (https://docs.djangoproject.com/en/1.11/ref/models/querysets) and most important lookup types are supported. These are:\n",
    "\n",
    "- exact\n",
    "- iexact\n",
    "- contains\n",
    "- icontains\n",
    "- in\n",
    "- gt\n",
    "- gte\n",
    "- lt\n",
    "- lte\n",
    "- startswith\n",
    "- istartswith\n",
    "- endswith\n",
    "- iendswith\n",
    "- range\n",
    "- isnull\n",
    "- regex\n",
    "- iregex"
   ],
   "metadata": {}
  },
  {
   "cell_type": "markdown",
   "source": [
    "## Only operator\n",
    "\n",
    "`only` is a special method allowing to limit the results to a selected set of fields. only should take a single argument: a list of fields that should be included in result. Specified fields have to exists in the endpoint against which only is executed. Using only will usually make an API call faster because less information returned will save bandwidth. The API logic will also check if any SQL joins are necessary to return the specified field and exclude unnecessary joins with critically improves performance.\n",
    "\n",
    "Please note that only has one limitation: a list of fields will ignore nested fields i.e. calling only(['molecule_properties__alogp']) is equivalent to only(['molecule_properties']).\n",
    "\n",
    "For many 2 many relationships only will not make any SQL join optimisation."
   ],
   "metadata": {}
  },
  {
   "cell_type": "markdown",
   "source": [
    "# Molecules\n",
    "\n",
    "Molecule records may be retrieved in a number of ways, such as lookup of single molecules using various identifiers or searching for compounds via similarity."
   ],
   "metadata": {}
  },
  {
   "cell_type": "markdown",
   "source": [
    "## Find a molecule by pref_name\n"
   ],
   "metadata": {}
  },
  {
   "cell_type": "code",
   "execution_count": 2,
   "source": [
    "from chembl_webresource_client.new_client import new_client\n",
    "\n",
    "molecule = new_client.molecule\n",
    "mols = molecule.filter(pref_name__iexact='aspirin')\n",
    "mols"
   ],
   "outputs": [
    {
     "output_type": "execute_result",
     "data": {
      "text/plain": [
       "[{'atc_classifications': ['B01AC06', 'N02BA01', 'N02BA51', 'A01AD05', 'N02BA71'], 'availability_type': 2, 'biotherapeutic': None, 'black_box_warning': 0, 'chebi_par_id': 15365, 'chirality': 2, 'cross_references': [{'xref_id': 'aspirin', 'xref_name': 'aspirin', 'xref_src': 'DailyMed'}, {'xref_id': '144203627', 'xref_name': 'SID: 144203627', 'xref_src': 'PubChem'}, {'xref_id': '144209315', 'xref_name': 'SID: 144209315', 'xref_src': 'PubChem'}, {'xref_id': '144210466', 'xref_name': 'SID: 144210466', 'xref_src': 'PubChem'}, {'xref_id': '170465039', 'xref_name': 'SID: 170465039', 'xref_src': 'PubChem'}, {'xref_id': '17389202', 'xref_name': 'SID: 17389202', 'xref_src': 'PubChem'}, {'xref_id': '17390036', 'xref_name': 'SID: 17390036', 'xref_src': 'PubChem'}, {'xref_id': '174007205', 'xref_name': 'SID: 174007205', 'xref_src': 'PubChem'}, {'xref_id': '26747283', 'xref_name': 'SID: 26747283', 'xref_src': 'PubChem'}, {'xref_id': '26752858', 'xref_name': 'SID: 26752858', 'xref_src': 'PubChem'}, {'xref_id': '47193676', 'xref_name': 'SID: 47193676', 'xref_src': 'PubChem'}, {'xref_id': '50105490', 'xref_name': 'SID: 50105490', 'xref_src': 'PubChem'}, {'xref_id': '85230910', 'xref_name': 'SID: 85230910', 'xref_src': 'PubChem'}, {'xref_id': '87798', 'xref_name': 'SID: 87798', 'xref_src': 'PubChem'}, {'xref_id': '90340586', 'xref_name': 'SID: 90340586', 'xref_src': 'PubChem'}, {'xref_id': '14', 'xref_name': 'aspirin', 'xref_src': 'TG-GATEs'}, {'xref_id': 'Aspirin', 'xref_name': None, 'xref_src': 'Wikipedia'}], 'dosed_ingredient': True, 'first_approval': 1950, 'first_in_class': 0, 'helm_notation': None, 'indication_class': 'Analgesic; Antirheumatic; Antipyretic', 'inorganic_flag': 0, 'max_phase': 4, 'molecule_chembl_id': 'CHEMBL25', 'molecule_hierarchy': {'molecule_chembl_id': 'CHEMBL25', 'parent_chembl_id': 'CHEMBL25'}, 'molecule_properties': {'alogp': '1.31', 'aromatic_rings': 1, 'cx_logd': '-2.16', 'cx_logp': '1.24', 'cx_most_apka': '3.41', 'cx_most_bpka': None, 'full_molformula': 'C9H8O4', 'full_mwt': '180.16', 'hba': 3, 'hba_lipinski': 4, 'hbd': 1, 'hbd_lipinski': 1, 'heavy_atoms': 13, 'molecular_species': 'ACID', 'mw_freebase': '180.16', 'mw_monoisotopic': '180.0423', 'num_lipinski_ro5_violations': 0, 'num_ro5_violations': 0, 'psa': '63.60', 'qed_weighted': '0.55', 'ro3_pass': 'N', 'rtb': 2}, 'molecule_structures': {'canonical_smiles': 'CC(=O)Oc1ccccc1C(=O)O', 'molfile': '\\n     RDKit          2D\\n\\n 13 13  0  0  0  0  0  0  0  0999 V2000\\n    8.8810   -2.1206    0.0000 C   0  0  0  0  0  0  0  0  0  0  0  0\\n    8.8798   -2.9479    0.0000 C   0  0  0  0  0  0  0  0  0  0  0  0\\n    9.5946   -3.3607    0.0000 C   0  0  0  0  0  0  0  0  0  0  0  0\\n   10.3110   -2.9474    0.0000 C   0  0  0  0  0  0  0  0  0  0  0  0\\n   10.3081   -2.1170    0.0000 C   0  0  0  0  0  0  0  0  0  0  0  0\\n    9.5928   -1.7078    0.0000 C   0  0  0  0  0  0  0  0  0  0  0  0\\n   11.0210   -1.7018    0.0000 C   0  0  0  0  0  0  0  0  0  0  0  0\\n   11.7369   -2.1116    0.0000 O   0  0  0  0  0  0  0  0  0  0  0  0\\n   11.0260   -3.3588    0.0000 O   0  0  0  0  0  0  0  0  0  0  0  0\\n   11.0273   -4.1837    0.0000 C   0  0  0  0  0  0  0  0  0  0  0  0\\n   11.7423   -4.5949    0.0000 C   0  0  0  0  0  0  0  0  0  0  0  0\\n   10.3136   -4.5972    0.0000 O   0  0  0  0  0  0  0  0  0  0  0  0\\n   11.0178   -0.8769    0.0000 O   0  0  0  0  0  0  0  0  0  0  0  0\\n  1  2  2  0\\n  5  7  1  0\\n  3  4  2  0\\n  7  8  2  0\\n  4  9  1  0\\n  4  5  1  0\\n  9 10  1  0\\n  2  3  1  0\\n 10 11  1  0\\n  5  6  2  0\\n 10 12  2  0\\n  6  1  1  0\\n  7 13  1  0\\nM  END\\n\\n> <chembl_id>\\nCHEMBL25\\n\\n> <chembl_pref_name>\\nASPIRIN\\n\\n', 'standard_inchi': 'InChI=1S/C9H8O4/c1-6(10)13-8-5-3-2-4-7(8)9(11)12/h2-5H,1H3,(H,11,12)', 'standard_inchi_key': 'BSYNRYMUTXBXSQ-UHFFFAOYSA-N'}, 'molecule_synonyms': [{'molecule_synonym': '8-hour bayer', 'syn_type': 'TRADE_NAME', 'synonyms': '8-HOUR BAYER'}, {'molecule_synonym': 'Acetosalic Acid', 'syn_type': 'TRADE_NAME', 'synonyms': 'Acetosalic Acid'}, {'molecule_synonym': 'Acetylsalic acid', 'syn_type': 'TRADE_NAME', 'synonyms': 'ACETYLSALIC ACID'}, {'molecule_synonym': 'Acetylsalicylic Acid', 'syn_type': 'INN', 'synonyms': 'Acetylsalicylic Acid'}, {'molecule_synonym': 'Acetylsalicylic Acid', 'syn_type': 'TRADE_NAME', 'synonyms': 'Acetylsalicylic Acid'}, {'molecule_synonym': 'Acetylsalicylic acid', 'syn_type': 'ATC', 'synonyms': 'ACETYLSALICYLIC ACID'}, {'molecule_synonym': 'Acetylsalicylic acid', 'syn_type': 'OTHER', 'synonyms': 'ACETYLSALICYLIC ACID'}, {'molecule_synonym': 'Alka rapid', 'syn_type': 'TRADE_NAME', 'synonyms': 'ALKA RAPID'}, {'molecule_synonym': 'Anadin all night', 'syn_type': 'TRADE_NAME', 'synonyms': 'ANADIN ALL NIGHT'}, {'molecule_synonym': 'Angettes 75', 'syn_type': 'TRADE_NAME', 'synonyms': 'ANGETTES 75'}, {'molecule_synonym': 'Aspirin', 'syn_type': 'USAN', 'synonyms': 'Aspirin'}, {'molecule_synonym': 'Aspirin', 'syn_type': 'BAN', 'synonyms': 'ASPIRIN'}, {'molecule_synonym': 'Aspirin', 'syn_type': 'BNF', 'synonyms': 'ASPIRIN'}, {'molecule_synonym': 'Aspirin', 'syn_type': 'FDA', 'synonyms': 'ASPIRIN'}, {'molecule_synonym': 'Aspirin', 'syn_type': 'JAN', 'synonyms': 'ASPIRIN'}, {'molecule_synonym': 'Aspirin', 'syn_type': 'MERCK_INDEX', 'synonyms': 'ASPIRIN'}, {'molecule_synonym': 'Aspirin', 'syn_type': 'OTHER', 'synonyms': 'ASPIRIN'}, {'molecule_synonym': 'Aspirin', 'syn_type': 'TRADE_NAME', 'synonyms': 'ASPIRIN'}, {'molecule_synonym': 'Aspirin', 'syn_type': 'USP', 'synonyms': 'ASPIRIN'}, {'molecule_synonym': 'Aspro clr', 'syn_type': 'TRADE_NAME', 'synonyms': 'ASPRO CLR'}, {'molecule_synonym': 'BAY1019036', 'syn_type': 'RESEARCH_CODE', 'synonyms': 'BAY1019036'}, {'molecule_synonym': 'Bayer extra strength aspirin for migraine pain', 'syn_type': 'TRADE_NAME', 'synonyms': 'BAYER EXTRA STRENGTH ASPIRIN FOR MIGRAINE PAIN'}, {'molecule_synonym': 'Danamep', 'syn_type': 'TRADE_NAME', 'synonyms': 'DANAMEP'}, {'molecule_synonym': 'Disprin cv', 'syn_type': 'TRADE_NAME', 'synonyms': 'DISPRIN CV'}, {'molecule_synonym': 'Disprin direct', 'syn_type': 'TRADE_NAME', 'synonyms': 'DISPRIN DIRECT'}, {'molecule_synonym': 'Durlaza', 'syn_type': 'TRADE_NAME', 'synonyms': 'DURLAZA'}, {'molecule_synonym': 'Ecotrin', 'syn_type': 'TRADE_NAME', 'synonyms': 'Ecotrin'}, {'molecule_synonym': 'Enprin', 'syn_type': 'TRADE_NAME', 'synonyms': 'ENPRIN'}, {'molecule_synonym': 'Equi-Prin', 'syn_type': 'TRADE_NAME', 'synonyms': 'Equi-Prin'}, {'molecule_synonym': 'Gencardia', 'syn_type': 'TRADE_NAME', 'synonyms': 'GENCARDIA'}, {'molecule_synonym': 'Levius', 'syn_type': 'TRADE_NAME', 'synonyms': 'LEVIUS'}, {'molecule_synonym': 'Max strgh aspro clr', 'syn_type': 'TRADE_NAME', 'synonyms': 'MAX STRGH ASPRO CLR'}, {'molecule_synonym': 'Measurin', 'syn_type': 'TRADE_NAME', 'synonyms': 'MEASURIN'}, {'molecule_synonym': 'Micropirin ec', 'syn_type': 'TRADE_NAME', 'synonyms': 'MICROPIRIN EC'}, {'molecule_synonym': 'NSC-27223', 'syn_type': 'RESEARCH_CODE', 'synonyms': 'NSC-27223'}, {'molecule_synonym': 'NSC-406186', 'syn_type': 'RESEARCH_CODE', 'synonyms': 'NSC-406186'}, {'molecule_synonym': 'Nu-seals 300', 'syn_type': 'TRADE_NAME', 'synonyms': 'NU-SEALS 300'}, {'molecule_synonym': 'Nu-seals 600', 'syn_type': 'TRADE_NAME', 'synonyms': 'NU-SEALS 600'}, {'molecule_synonym': 'Nu-seals 75', 'syn_type': 'TRADE_NAME', 'synonyms': 'NU-SEALS 75'}, {'molecule_synonym': 'Nu-seals cardio 75', 'syn_type': 'TRADE_NAME', 'synonyms': 'NU-SEALS CARDIO 75'}, {'molecule_synonym': 'Paynocil', 'syn_type': 'TRADE_NAME', 'synonyms': 'PAYNOCIL'}, {'molecule_synonym': 'Platet', 'syn_type': 'TRADE_NAME', 'synonyms': 'PLATET'}, {'molecule_synonym': 'Platet 300', 'syn_type': 'TRADE_NAME', 'synonyms': 'PLATET 300'}, {'molecule_synonym': 'Postmi 300', 'syn_type': 'TRADE_NAME', 'synonyms': 'POSTMI 300'}, {'molecule_synonym': 'Postmi 75', 'syn_type': 'TRADE_NAME', 'synonyms': 'POSTMI 75'}, {'molecule_synonym': 'Salicylic Acid Acetate', 'syn_type': 'TRADE_NAME', 'synonyms': 'Salicylic Acid Acetate'}, {'molecule_synonym': 'Vazalore', 'syn_type': 'TRADE_NAME', 'synonyms': 'VAZALORE'}], 'molecule_type': 'Small molecule', 'natural_product': 0, 'oral': True, 'parenteral': False, 'polymer_flag': False, 'pref_name': 'ASPIRIN', 'prodrug': 0, 'structure_type': 'MOL', 'therapeutic_flag': True, 'topical': False, 'usan_stem': None, 'usan_stem_definition': None, 'usan_substem': None, 'usan_year': None, 'withdrawn_class': None, 'withdrawn_country': None, 'withdrawn_flag': False, 'withdrawn_reason': None, 'withdrawn_year': None}]"
      ]
     },
     "metadata": {},
     "execution_count": 2
    }
   ],
   "metadata": {}
  },
  {
   "cell_type": "markdown",
   "source": [
    "## Find a molecule by its synonyms\n",
    "\n",
    "- in case it is not found by pref_name\n",
    "- Use the `only` method where you can specify fields you want to be included in response"
   ],
   "metadata": {}
  },
  {
   "cell_type": "code",
   "execution_count": 3,
   "source": [
    "from chembl_webresource_client.new_client import new_client\n",
    "\n",
    "molecule = new_client.molecule\n",
    "mols = molecule.filter(molecule_synonyms__molecule_synonym__iexact='viagra').only('molecule_chembl_id')\n",
    "mols"
   ],
   "outputs": [
    {
     "output_type": "execute_result",
     "data": {
      "text/plain": [
       "[{'molecule_chembl_id': 'CHEMBL192'}, {'molecule_chembl_id': 'CHEMBL1737'}]"
      ]
     },
     "metadata": {},
     "execution_count": 3
    }
   ],
   "metadata": {}
  },
  {
   "cell_type": "markdown",
   "source": [
    "## Get a single molecule by ChEMBL id\n",
    "\n",
    "All the main entities in the ChEMBL database have a ChEMBL ID. It is a stable identifier designed for straightforward lookup of data."
   ],
   "metadata": {}
  },
  {
   "cell_type": "code",
   "execution_count": 4,
   "source": [
    "from chembl_webresource_client.new_client import new_client\n",
    "\n",
    "molecule = new_client.molecule\n",
    "m1 = molecule.filter(chembl_id='CHEMBL192').only(['molecule_chembl_id', 'pref_name', 'molecule_structures'])\n",
    "m1"
   ],
   "outputs": [
    {
     "output_type": "execute_result",
     "data": {
      "text/plain": [
       "[{'molecule_chembl_id': 'CHEMBL192', 'molecule_structures': {'canonical_smiles': 'CCCc1nn(C)c2c(=O)[nH]c(-c3cc(S(=O)(=O)N4CCN(C)CC4)ccc3OCC)nc12', 'molfile': '\\n     RDKit          2D\\n\\n 33 36  0  0  0  0  0  0  0  0999 V2000\\n    2.1000   -0.0042    0.0000 C   0  0  0  0  0  0  0  0  0  0  0  0\\n    2.1000    0.7000    0.0000 C   0  0  0  0  0  0  0  0  0  0  0  0\\n   -1.5375   -0.0042    0.0000 S   0  0  0  0  0  0  0  0  0  0  0  0\\n    1.4917   -0.3667    0.0000 N   0  0  0  0  0  0  0  0  0  0  0  0\\n    0.8792   -0.0042    0.0000 C   0  0  0  0  0  0  0  0  0  0  0  0\\n    2.8042    0.9083    0.0000 N   0  0  0  0  0  0  0  0  0  0  0  0\\n    1.4917    1.0625    0.0000 C   0  0  0  0  0  0  0  0  0  0  0  0\\n    0.8792    0.6833    0.0000 N   0  0  0  0  0  0  0  0  0  0  0  0\\n    3.2042    0.3458    0.0000 N   0  0  0  0  0  0  0  0  0  0  0  0\\n    2.8042   -0.2417    0.0000 C   0  0  0  0  0  0  0  0  0  0  0  0\\n    0.2875   -0.3750    0.0000 C   0  0  0  0  0  0  0  0  0  0  0  0\\n   -2.1583   -0.3750    0.0000 N   0  0  0  0  0  0  0  0  0  0  0  0\\n   -0.9333   -0.3750    0.0000 C   0  0  0  0  0  0  0  0  0  0  0  0\\n   -0.3208   -0.0333    0.0000 C   0  0  0  0  0  0  0  0  0  0  0  0\\n   -1.1875    0.6083    0.0000 O   0  0  0  0  0  0  0  0  0  0  0  0\\n   -1.8958    0.6083    0.0000 O   0  0  0  0  0  0  0  0  0  0  0  0\\n   -3.3958   -1.0917    0.0000 N   0  0  0  0  0  0  0  0  0  0  0  0\\n   -2.7833   -0.0042    0.0000 C   0  0  0  0  0  0  0  0  0  0  0  0\\n   -2.1583   -1.0917    0.0000 C   0  0  0  0  0  0  0  0  0  0  0  0\\n    0.2875   -1.1125    0.0000 C   0  0  0  0  0  0  0  0  0  0  0  0\\n    1.4917    1.7708    0.0000 O   0  0  0  0  0  0  0  0  0  0  0  0\\n   -0.9333   -1.1125    0.0000 C   0  0  0  0  0  0  0  0  0  0  0  0\\n   -0.3208   -1.4542    0.0000 C   0  0  0  0  0  0  0  0  0  0  0  0\\n   -3.3958   -0.3750    0.0000 C   0  0  0  0  0  0  0  0  0  0  0  0\\n   -2.7833   -1.4417    0.0000 C   0  0  0  0  0  0  0  0  0  0  0  0\\n    3.0750    1.5750    0.0000 C   0  0  0  0  0  0  0  0  0  0  0  0\\n    2.8042   -0.9500    0.0000 C   0  0  0  0  0  0  0  0  0  0  0  0\\n    0.8792   -1.4542    0.0000 O   0  0  0  0  0  0  0  0  0  0  0  0\\n   -3.9958   -1.4292    0.0000 C   0  0  0  0  0  0  0  0  0  0  0  0\\n    1.4958   -1.1000    0.0000 C   0  0  0  0  0  0  0  0  0  0  0  0\\n    3.4167   -1.3125    0.0000 C   0  0  0  0  0  0  0  0  0  0  0  0\\n    2.1125   -1.4500    0.0000 C   0  0  0  0  0  0  0  0  0  0  0  0\\n    4.0375   -0.9542    0.0000 C   0  0  0  0  0  0  0  0  0  0  0  0\\n  2  1  2  0\\n  3 13  1  0\\n  4  1  1  0\\n  5  4  2  0\\n  6  2  1  0\\n  7  2  1  0\\n  8  5  1  0\\n  9 10  2  0\\n 10  1  1  0\\n 11  5  1  0\\n 12  3  1  0\\n 13 14  2  0\\n 14 11  1  0\\n 15  3  2  0\\n 16  3  2  0\\n 17 25  1  0\\n 18 12  1  0\\n 19 12  1  0\\n 20 11  2  0\\n 21  7  2  0\\n 22 23  2  0\\n 23 20  1  0\\n 24 18  1  0\\n 25 19  1  0\\n 26  6  1  0\\n 27 10  1  0\\n 28 20  1  0\\n 29 17  1  0\\n 30 28  1  0\\n 31 27  1  0\\n 32 30  1  0\\n 33 31  1  0\\n  9  6  1  0\\n  8  7  1  0\\n 22 13  1  0\\n 17 24  1  0\\nM  END\\n\\n> <chembl_id>\\nCHEMBL192\\n\\n> <chembl_pref_name>\\nSILDENAFIL\\n\\n', 'standard_inchi': 'InChI=1S/C22H30N6O4S/c1-5-7-17-19-20(27(4)25-17)22(29)24-21(23-19)16-14-15(8-9-18(16)32-6-2)33(30,31)28-12-10-26(3)11-13-28/h8-9,14H,5-7,10-13H2,1-4H3,(H,23,24,29)', 'standard_inchi_key': 'BNRNXUUZRGQAQC-UHFFFAOYSA-N'}, 'pref_name': 'SILDENAFIL'}]"
      ]
     },
     "metadata": {},
     "execution_count": 4
    }
   ],
   "metadata": {}
  },
  {
   "cell_type": "markdown",
   "source": [
    "## Get many molecules by id"
   ],
   "metadata": {}
  },
  {
   "cell_type": "code",
   "execution_count": 5,
   "source": [
    "from chembl_webresource_client.new_client import new_client\n",
    "\n",
    "molecule = new_client.molecule\n",
    "mols = molecule.filter(molecule_chembl_id__in=['CHEMBL25', 'CHEMBL192', 'CHEMBL27']).only(['molecule_chembl_id', 'pref_name'])\n",
    "mols"
   ],
   "outputs": [
    {
     "output_type": "execute_result",
     "data": {
      "text/plain": [
       "[{'molecule_chembl_id': 'CHEMBL25', 'pref_name': 'ASPIRIN'}, {'molecule_chembl_id': 'CHEMBL27', 'pref_name': 'PROPRANOLOL'}, {'molecule_chembl_id': 'CHEMBL192', 'pref_name': 'SILDENAFIL'}]"
      ]
     },
     "metadata": {},
     "execution_count": 5
    }
   ],
   "metadata": {}
  },
  {
   "cell_type": "markdown",
   "source": [
    "## Display a molecule image"
   ],
   "metadata": {}
  },
  {
   "cell_type": "code",
   "execution_count": 6,
   "source": [
    "from chembl_webresource_client.new_client import new_client\n",
    "from IPython.display import SVG\n",
    "\n",
    "image = new_client.image\n",
    "image.set_format('svg')\n",
    "SVG(image.get('CHEMBL25'))"
   ],
   "outputs": [
    {
     "output_type": "execute_result",
     "data": {
      "image/svg+xml": "<svg xmlns=\"http://www.w3.org/2000/svg\" xmlns:rdkit=\"http://www.rdkit.org/xml\" xmlns:xlink=\"http://www.w3.org/1999/xlink\" version=\"1.1\" baseProfile=\"full\" xml:space=\"preserve\" width=\"500px\" height=\"500px\" viewBox=\"0 0 500 500\">\n<!-- END OF HEADER -->\n<path class=\"bond-0\" d=\"M 61.3426,174.682 L 61.196,275.762\" style=\"fill:none;fill-rule:evenodd;stroke:#000000;stroke-width:2px;stroke-linecap:butt;stroke-linejoin:miter;stroke-opacity:1\"/>\n<path class=\"bond-0\" d=\"M 83.3129,189.876 L 83.2103,260.632\" style=\"fill:none;fill-rule:evenodd;stroke:#000000;stroke-width:2px;stroke-linecap:butt;stroke-linejoin:miter;stroke-opacity:1\"/>\n<path class=\"bond-11\" d=\"M 61.3426,174.682 L 148.31,124.246\" style=\"fill:none;fill-rule:evenodd;stroke:#000000;stroke-width:2px;stroke-linecap:butt;stroke-linejoin:miter;stroke-opacity:1\"/>\n<path class=\"bond-7\" d=\"M 61.196,275.762 L 148.53,326.197\" style=\"fill:none;fill-rule:evenodd;stroke:#000000;stroke-width:2px;stroke-linecap:butt;stroke-linejoin:miter;stroke-opacity:1\"/>\n<path class=\"bond-2\" d=\"M 148.53,326.197 L 236.06,275.701\" style=\"fill:none;fill-rule:evenodd;stroke:#000000;stroke-width:2px;stroke-linecap:butt;stroke-linejoin:miter;stroke-opacity:1\"/>\n<path class=\"bond-2\" d=\"M 150.67,299.573 L 211.94,264.225\" style=\"fill:none;fill-rule:evenodd;stroke:#000000;stroke-width:2px;stroke-linecap:butt;stroke-linejoin:miter;stroke-opacity:1\"/>\n<path class=\"bond-4\" d=\"M 236.06,275.701 L 276.237,298.818\" style=\"fill:none;fill-rule:evenodd;stroke:#000000;stroke-width:2px;stroke-linecap:butt;stroke-linejoin:miter;stroke-opacity:1\"/>\n<path class=\"bond-4\" d=\"M 276.237,298.818 L 316.413,321.935\" style=\"fill:none;fill-rule:evenodd;stroke:#FF0000;stroke-width:2px;stroke-linecap:butt;stroke-linejoin:miter;stroke-opacity:1\"/>\n<path class=\"bond-5\" d=\"M 236.06,275.701 L 235.705,174.242\" style=\"fill:none;fill-rule:evenodd;stroke:#000000;stroke-width:2px;stroke-linecap:butt;stroke-linejoin:miter;stroke-opacity:1\"/>\n<path class=\"bond-1\" d=\"M 235.705,174.242 L 322.807,123.513\" style=\"fill:none;fill-rule:evenodd;stroke:#000000;stroke-width:2px;stroke-linecap:butt;stroke-linejoin:miter;stroke-opacity:1\"/>\n<path class=\"bond-9\" d=\"M 235.705,174.242 L 148.31,124.246\" style=\"fill:none;fill-rule:evenodd;stroke:#000000;stroke-width:2px;stroke-linecap:butt;stroke-linejoin:miter;stroke-opacity:1\"/>\n<path class=\"bond-9\" d=\"M 211.676,185.832 L 150.499,150.835\" style=\"fill:none;fill-rule:evenodd;stroke:#000000;stroke-width:2px;stroke-linecap:butt;stroke-linejoin:miter;stroke-opacity:1\"/>\n<path class=\"bond-3\" d=\"M 317.345,133.057 L 357.576,156.086\" style=\"fill:none;fill-rule:evenodd;stroke:#000000;stroke-width:2px;stroke-linecap:butt;stroke-linejoin:miter;stroke-opacity:1\"/>\n<path class=\"bond-3\" d=\"M 357.576,156.086 L 397.808,179.116\" style=\"fill:none;fill-rule:evenodd;stroke:#FF0000;stroke-width:2px;stroke-linecap:butt;stroke-linejoin:miter;stroke-opacity:1\"/>\n<path class=\"bond-3\" d=\"M 328.27,113.97 L 368.502,137\" style=\"fill:none;fill-rule:evenodd;stroke:#000000;stroke-width:2px;stroke-linecap:butt;stroke-linejoin:miter;stroke-opacity:1\"/>\n<path class=\"bond-3\" d=\"M 368.502,137 L 408.734,160.03\" style=\"fill:none;fill-rule:evenodd;stroke:#FF0000;stroke-width:2px;stroke-linecap:butt;stroke-linejoin:miter;stroke-opacity:1\"/>\n<path class=\"bond-12\" d=\"M 322.807,123.513 L 322.626,76.8703\" style=\"fill:none;fill-rule:evenodd;stroke:#000000;stroke-width:2px;stroke-linecap:butt;stroke-linejoin:miter;stroke-opacity:1\"/>\n<path class=\"bond-12\" d=\"M 322.626,76.8703 L 322.445,30.2273\" style=\"fill:none;fill-rule:evenodd;stroke:#FF0000;stroke-width:2px;stroke-linecap:butt;stroke-linejoin:miter;stroke-opacity:1\"/>\n<path class=\"bond-6\" d=\"M 323.43,333.465 L 323.504,380.108\" style=\"fill:none;fill-rule:evenodd;stroke:#FF0000;stroke-width:2px;stroke-linecap:butt;stroke-linejoin:miter;stroke-opacity:1\"/>\n<path class=\"bond-6\" d=\"M 323.504,380.108 L 323.577,426.751\" style=\"fill:none;fill-rule:evenodd;stroke:#000000;stroke-width:2px;stroke-linecap:butt;stroke-linejoin:miter;stroke-opacity:1\"/>\n<path class=\"bond-8\" d=\"M 323.577,426.751 L 410.936,476.992\" style=\"fill:none;fill-rule:evenodd;stroke:#000000;stroke-width:2px;stroke-linecap:butt;stroke-linejoin:miter;stroke-opacity:1\"/>\n<path class=\"bond-10\" d=\"M 318.065,417.237 L 277.967,440.468\" style=\"fill:none;fill-rule:evenodd;stroke:#000000;stroke-width:2px;stroke-linecap:butt;stroke-linejoin:miter;stroke-opacity:1\"/>\n<path class=\"bond-10\" d=\"M 277.967,440.468 L 237.87,463.7\" style=\"fill:none;fill-rule:evenodd;stroke:#FF0000;stroke-width:2px;stroke-linecap:butt;stroke-linejoin:miter;stroke-opacity:1\"/>\n<path class=\"bond-10\" d=\"M 329.09,436.266 L 288.992,459.497\" style=\"fill:none;fill-rule:evenodd;stroke:#000000;stroke-width:2px;stroke-linecap:butt;stroke-linejoin:miter;stroke-opacity:1\"/>\n<path class=\"bond-10\" d=\"M 288.992,459.497 L 248.895,482.729\" style=\"fill:none;fill-rule:evenodd;stroke:#FF0000;stroke-width:2px;stroke-linecap:butt;stroke-linejoin:miter;stroke-opacity:1\"/>\n<text x=\"403.271\" y=\"181.083\" style=\"font-size:15px;font-style:normal;font-weight:normal;fill-opacity:1;stroke:none;font-family:sans-serif;text-anchor:start;fill:#FF0000\"><tspan>O</tspan></text>\n<text x=\"316.413\" y=\"333.465\" style=\"font-size:15px;font-style:normal;font-weight:normal;fill-opacity:1;stroke:none;font-family:sans-serif;text-anchor:start;fill:#FF0000\"><tspan>O</tspan></text>\n<text x=\"229.373\" y=\"484.773\" style=\"font-size:15px;font-style:normal;font-weight:normal;fill-opacity:1;stroke:none;font-family:sans-serif;text-anchor:start;fill:#FF0000\"><tspan>O</tspan></text>\n<text x=\"308.911\" y=\"30.2273\" style=\"font-size:15px;font-style:normal;font-weight:normal;fill-opacity:1;stroke:none;font-family:sans-serif;text-anchor:start;fill:#FF0000\"><tspan>OH</tspan></text>\n</svg>",
      "text/plain": [
       "<IPython.core.display.SVG object>"
      ]
     },
     "metadata": {},
     "execution_count": 6
    }
   ],
   "metadata": {}
  },
  {
   "cell_type": "markdown",
   "source": [
    "## Get a single molecule by standard inchi key"
   ],
   "metadata": {}
  },
  {
   "cell_type": "code",
   "execution_count": 7,
   "source": [
    "from chembl_webresource_client.new_client import new_client\n",
    "\n",
    "molecule = new_client.molecule\n",
    "mol = molecule.filter(molecule_structures__standard_inchi_key='BSYNRYMUTXBXSQ-UHFFFAOYSA-N').only(['molecule_chembl_id', 'pref_name', 'molecule_structures'])\n",
    "mol"
   ],
   "outputs": [
    {
     "output_type": "execute_result",
     "data": {
      "text/plain": [
       "[{'molecule_chembl_id': 'CHEMBL25', 'molecule_structures': {'canonical_smiles': 'CC(=O)Oc1ccccc1C(=O)O', 'molfile': '\\n     RDKit          2D\\n\\n 13 13  0  0  0  0  0  0  0  0999 V2000\\n    8.8810   -2.1206    0.0000 C   0  0  0  0  0  0  0  0  0  0  0  0\\n    8.8798   -2.9479    0.0000 C   0  0  0  0  0  0  0  0  0  0  0  0\\n    9.5946   -3.3607    0.0000 C   0  0  0  0  0  0  0  0  0  0  0  0\\n   10.3110   -2.9474    0.0000 C   0  0  0  0  0  0  0  0  0  0  0  0\\n   10.3081   -2.1170    0.0000 C   0  0  0  0  0  0  0  0  0  0  0  0\\n    9.5928   -1.7078    0.0000 C   0  0  0  0  0  0  0  0  0  0  0  0\\n   11.0210   -1.7018    0.0000 C   0  0  0  0  0  0  0  0  0  0  0  0\\n   11.7369   -2.1116    0.0000 O   0  0  0  0  0  0  0  0  0  0  0  0\\n   11.0260   -3.3588    0.0000 O   0  0  0  0  0  0  0  0  0  0  0  0\\n   11.0273   -4.1837    0.0000 C   0  0  0  0  0  0  0  0  0  0  0  0\\n   11.7423   -4.5949    0.0000 C   0  0  0  0  0  0  0  0  0  0  0  0\\n   10.3136   -4.5972    0.0000 O   0  0  0  0  0  0  0  0  0  0  0  0\\n   11.0178   -0.8769    0.0000 O   0  0  0  0  0  0  0  0  0  0  0  0\\n  1  2  2  0\\n  5  7  1  0\\n  3  4  2  0\\n  7  8  2  0\\n  4  9  1  0\\n  4  5  1  0\\n  9 10  1  0\\n  2  3  1  0\\n 10 11  1  0\\n  5  6  2  0\\n 10 12  2  0\\n  6  1  1  0\\n  7 13  1  0\\nM  END\\n\\n> <chembl_id>\\nCHEMBL25\\n\\n> <chembl_pref_name>\\nASPIRIN\\n\\n', 'standard_inchi': 'InChI=1S/C9H8O4/c1-6(10)13-8-5-3-2-4-7(8)9(11)12/h2-5H,1H3,(H,11,12)', 'standard_inchi_key': 'BSYNRYMUTXBXSQ-UHFFFAOYSA-N'}, 'pref_name': 'ASPIRIN'}]"
      ]
     },
     "metadata": {},
     "execution_count": 7
    }
   ],
   "metadata": {}
  },
  {
   "cell_type": "markdown",
   "source": [
    "## Find compounds similar to given SMILES query with similarity threshold of 70%"
   ],
   "metadata": {}
  },
  {
   "cell_type": "code",
   "execution_count": 8,
   "source": [
    "from chembl_webresource_client.new_client import new_client\n",
    "\n",
    "similarity = new_client.similarity\n",
    "res = similarity.filter(smiles=\"CO[C@@H](CCC#C\\C=C/CCCC(C)CCCCC=C)C(=O)[O-]\", similarity=70).only(['molecule_chembl_id', 'similarity'])\n",
    "for i in res:\n",
    "    print(i)"
   ],
   "outputs": [
    {
     "output_type": "stream",
     "name": "stdout",
     "text": [
      "{'molecule_chembl_id': 'CHEMBL477888', 'similarity': '85.4166686534881591796875'}\n",
      "{'molecule_chembl_id': 'CHEMBL477889', 'similarity': '85.4166686534881591796875'}\n",
      "{'molecule_chembl_id': 'CHEMBL478779', 'similarity': '85.4166686534881591796875'}\n",
      "{'molecule_chembl_id': 'CHEMBL2304268', 'similarity': '70.1754391193389892578125'}\n"
     ]
    }
   ],
   "metadata": {}
  },
  {
   "cell_type": "markdown",
   "source": [
    "## Find compounds similar to aspirin (CHEMBL25) with similarity threshold of 70%\n"
   ],
   "metadata": {}
  },
  {
   "cell_type": "code",
   "execution_count": 9,
   "source": [
    "from chembl_webresource_client.new_client import new_client\n",
    "\n",
    "similarity = new_client.similarity\n",
    "res = similarity.filter(chembl_id='CHEMBL25', similarity=70).only(['molecule_chembl_id', 'pref_name', 'similarity'])\n",
    "res"
   ],
   "outputs": [
    {
     "output_type": "execute_result",
     "data": {
      "text/plain": [
       "[{'molecule_chembl_id': 'CHEMBL2296002', 'pref_name': None, 'similarity': '100'}, {'molecule_chembl_id': 'CHEMBL1697753', 'pref_name': 'ASPIRIN DL-LYSINE', 'similarity': '100'}, {'molecule_chembl_id': 'CHEMBL3833325', 'pref_name': 'CARBASPIRIN CALCIUM', 'similarity': '88.8888895511627197265625'}, {'molecule_chembl_id': 'CHEMBL3833404', 'pref_name': 'CARBASPIRIN', 'similarity': '88.8888895511627197265625'}, '...(remaining elements truncated)...']"
      ]
     },
     "metadata": {},
     "execution_count": 9
    }
   ],
   "metadata": {}
  },
  {
   "cell_type": "markdown",
   "source": [
    "## Find compounds with the same connectivity"
   ],
   "metadata": {}
  },
  {
   "cell_type": "code",
   "execution_count": 10,
   "source": [
    "from chembl_webresource_client.new_client import new_client\n",
    "\n",
    "molecule = new_client.molecule\n",
    "res = molecule.filter(molecule_structures__canonical_smiles__connectivity='CN(C)C(=N)N=C(N)N').only(['molecule_chembl_id', 'pref_name'])\n",
    "for i in res:\n",
    "    print(i)"
   ],
   "outputs": [
    {
     "output_type": "stream",
     "name": "stdout",
     "text": [
      "{'molecule_chembl_id': 'CHEMBL1431', 'pref_name': 'METFORMIN'}\n",
      "{'molecule_chembl_id': 'CHEMBL1703', 'pref_name': 'METFORMIN HYDROCHLORIDE'}\n",
      "{'molecule_chembl_id': 'CHEMBL3094198', 'pref_name': None}\n"
     ]
    }
   ],
   "metadata": {}
  },
  {
   "cell_type": "markdown",
   "source": [
    "## Get all approved drugs\n",
    "\n",
    "using `order_by` to sort them by molecular weight"
   ],
   "metadata": {}
  },
  {
   "cell_type": "code",
   "execution_count": 11,
   "source": [
    "from chembl_webresource_client.new_client import new_client\n",
    "\n",
    "molecule = new_client.molecule\n",
    "approved_drugs = molecule.filter(max_phase=4).order_by('molecule_properties__mw_freebase')\n",
    "approved_drugs"
   ],
   "outputs": [
    {
     "output_type": "execute_result",
     "data": {
      "text/plain": [
       "[{'atc_classifications': ['V03AN03'], 'availability_type': 1, 'biotherapeutic': None, 'black_box_warning': 0, 'chebi_par_id': 30217, 'chirality': 2, 'cross_references': [], 'dosed_ingredient': True, 'first_approval': 2015, 'first_in_class': 0, 'helm_notation': None, 'indication_class': 'Gases, Diluent for', 'inorganic_flag': 1, 'max_phase': 4, 'molecule_chembl_id': 'CHEMBL1796997', 'molecule_hierarchy': {'molecule_chembl_id': 'CHEMBL1796997', 'parent_chembl_id': 'CHEMBL1796997'}, 'molecule_properties': {'alogp': None, 'aromatic_rings': None, 'cx_logd': None, 'cx_logp': None, 'cx_most_apka': None, 'cx_most_bpka': None, 'full_molformula': 'He', 'full_mwt': '4.00', 'hba': None, 'hba_lipinski': None, 'hbd': None, 'hbd_lipinski': None, 'heavy_atoms': None, 'molecular_species': None, 'mw_freebase': '4.00', 'mw_monoisotopic': '4.0026', 'num_lipinski_ro5_violations': None, 'num_ro5_violations': None, 'psa': None, 'qed_weighted': None, 'ro3_pass': None, 'rtb': None}, 'molecule_structures': {'canonical_smiles': '[He]', 'molfile': '\\n     RDKit          2D\\n\\n  1  0  0  0  0  0  0  0  0  0999 V2000\\n   -3.1917    1.0958    0.0000 He  0  0  0  0  0 15  0  0  0  0  0  0\\nM  END\\n\\n> <chembl_id>\\nCHEMBL1796997\\n\\n> <chembl_pref_name>\\nHELIUM\\n\\n', 'standard_inchi': 'InChI=1S/He', 'standard_inchi_key': 'SWQJXJOGLNCZEY-UHFFFAOYSA-N'}, 'molecule_synonyms': [{'molecule_synonym': 'E939', 'syn_type': 'E_NUMBER', 'synonyms': 'E939'}, {'molecule_synonym': 'E-939', 'syn_type': 'RESEARCH_CODE', 'synonyms': 'E-939'}, {'molecule_synonym': 'Helium', 'syn_type': 'ATC', 'synonyms': 'HELIUM'}, {'molecule_synonym': 'Helium', 'syn_type': 'FDA', 'synonyms': 'HELIUM'}, {'molecule_synonym': 'Helium', 'syn_type': 'MERCK_INDEX', 'synonyms': 'HELIUM'}, {'molecule_synonym': 'Helium', 'syn_type': 'OTHER', 'synonyms': 'HELIUM'}, {'molecule_synonym': 'Helium', 'syn_type': 'USP', 'synonyms': 'HELIUM'}, {'molecule_synonym': 'INS-939', 'syn_type': 'RESEARCH_CODE', 'synonyms': 'INS-939'}, {'molecule_synonym': 'INS NO.939', 'syn_type': 'RESEARCH_CODE', 'synonyms': 'INS NO.939'}], 'molecule_type': 'Small molecule', 'natural_product': 0, 'oral': False, 'parenteral': False, 'polymer_flag': False, 'pref_name': 'HELIUM', 'prodrug': 0, 'structure_type': 'MOL', 'therapeutic_flag': False, 'topical': True, 'usan_stem': '-ium', 'usan_stem_definition': 'quaternary ammonium derivatives', 'usan_substem': '-ium', 'usan_year': None, 'withdrawn_class': None, 'withdrawn_country': None, 'withdrawn_flag': False, 'withdrawn_reason': None, 'withdrawn_year': None}, {'atc_classifications': [], 'availability_type': 1, 'biotherapeutic': None, 'black_box_warning': 0, 'chebi_par_id': 16134, 'chirality': 2, 'cross_references': [{'xref_id': 'ammonia%20n-13', 'xref_name': 'ammonia n-13', 'xref_src': 'DailyMed'}, {'xref_id': 'Ammonia', 'xref_name': None, 'xref_src': 'Wikipedia'}], 'dosed_ingredient': False, 'first_approval': 2007, 'first_in_class': 0, 'helm_notation': None, 'indication_class': 'Pharmaceutic Aid (solvent and source of ammonia),Radioactive Agent; Diagnostic Aid (cardiac imaging); Diagnostic Aid (liver imaging)', 'inorganic_flag': 0, 'max_phase': 4, 'molecule_chembl_id': 'CHEMBL1160819', 'molecule_hierarchy': {'molecule_chembl_id': 'CHEMBL1160819', 'parent_chembl_id': 'CHEMBL1160819'}, 'molecule_properties': {'alogp': '0.16', 'aromatic_rings': 0, 'cx_logd': '-2.44', 'cx_logp': '-0.98', 'cx_most_apka': None, 'cx_most_bpka': '8.86', 'full_molformula': 'H3N', 'full_mwt': '17.03', 'hba': 1, 'hba_lipinski': 1, 'hbd': 1, 'hbd_lipinski': 3, 'heavy_atoms': 1, 'molecular_species': 'BASE', 'mw_freebase': '17.03', 'mw_monoisotopic': '17.0265', 'num_lipinski_ro5_violations': 0, 'num_ro5_violations': 0, 'psa': '35.00', 'qed_weighted': '0.40', 'ro3_pass': 'Y', 'rtb': 0}, 'molecule_structures': {'canonical_smiles': 'N', 'molfile': '\\n     RDKit          2D\\n\\n  1  0  0  0  0  0  0  0  0  0999 V2000\\n    1.3000    0.7500    0.0000 N   0  0  0  0  0  0  0  0  0  0  0  0\\nM  END\\n\\n> <chembl_id>\\nCHEMBL1160819\\n\\n> <chembl_pref_name>\\nAMMONIA SOLUTION, STRONG\\n\\n', 'standard_inchi': 'InChI=1S/H3N/h1H3', 'standard_inchi_key': 'QGZKDVFQNNGYKY-UHFFFAOYSA-N'}, 'molecule_synonyms': [{'molecule_synonym': 'Ammonia', 'syn_type': 'INN', 'synonyms': 'Ammonia'}, {'molecule_synonym': 'Ammonia', 'syn_type': 'MERCK_INDEX', 'synonyms': 'AMMONIA'}, {'molecule_synonym': 'Ammonia', 'syn_type': 'OTHER', 'synonyms': 'AMMONIA'}, {'molecule_synonym': 'Ammonia solution, strong', 'syn_type': 'NATIONAL_FORMULARY', 'synonyms': 'AMMONIA SOLUTION, STRONG'}, {'molecule_synonym': 'Ammonia solution, strong', 'syn_type': 'OTHER', 'synonyms': 'AMMONIA SOLUTION, STRONG'}, {'molecule_synonym': 'Ammonia spirit, aromatic', 'syn_type': 'OTHER', 'synonyms': 'AMMONIA SPIRIT, AROMATIC'}, {'molecule_synonym': 'Ammonia water', 'syn_type': 'JAN', 'synonyms': 'AMMONIA WATER'}, {'molecule_synonym': 'Ammonia water', 'syn_type': 'MERCK_INDEX', 'synonyms': 'AMMONIA WATER'}, {'molecule_synonym': 'Ammonia water', 'syn_type': 'OTHER', 'synonyms': 'AMMONIA WATER'}, {'molecule_synonym': 'E-527', 'syn_type': 'RESEARCH_CODE', 'synonyms': 'E-527'}, {'molecule_synonym': 'INS-527', 'syn_type': 'RESEARCH_CODE', 'synonyms': 'INS-527'}, {'molecule_synonym': 'INS NO.527', 'syn_type': 'RESEARCH_CODE', 'synonyms': 'INS NO.527'}], 'molecule_type': 'Small molecule', 'natural_product': 0, 'oral': False, 'parenteral': True, 'polymer_flag': False, 'pref_name': 'AMMONIA SOLUTION, STRONG', 'prodrug': 0, 'structure_type': 'MOL', 'therapeutic_flag': False, 'topical': False, 'usan_stem': None, 'usan_stem_definition': None, 'usan_substem': None, 'usan_year': 1990, 'withdrawn_class': None, 'withdrawn_country': None, 'withdrawn_flag': False, 'withdrawn_reason': None, 'withdrawn_year': None}, {'atc_classifications': [], 'availability_type': 1, 'biotherapeutic': None, 'black_box_warning': 0, 'chebi_par_id': None, 'chirality': 2, 'cross_references': [{'xref_id': 'ammonia%20n-13', 'xref_name': 'ammonia n-13', 'xref_src': 'DailyMed'}], 'dosed_ingredient': True, 'first_approval': 2007, 'first_in_class': 0, 'helm_notation': None, 'indication_class': 'Radioactive Agent; Diagnostic Aid (cardiac imaging); Diagnostic Aid (liver imaging)', 'inorganic_flag': 0, 'max_phase': 4, 'molecule_chembl_id': 'CHEMBL1201189', 'molecule_hierarchy': {'molecule_chembl_id': 'CHEMBL1201189', 'parent_chembl_id': 'CHEMBL1160819'}, 'molecule_properties': {'alogp': '0.16', 'aromatic_rings': 0, 'cx_logd': '-2.44', 'cx_logp': '-0.98', 'cx_most_apka': None, 'cx_most_bpka': '8.86', 'full_molformula': 'H3N', 'full_mwt': '16.03', 'hba': 1, 'hba_lipinski': 1, 'hbd': 1, 'hbd_lipinski': 3, 'heavy_atoms': 1, 'molecular_species': 'BASE', 'mw_freebase': '17.03', 'mw_monoisotopic': '17.0265', 'num_lipinski_ro5_violations': 0, 'num_ro5_violations': 0, 'psa': '35.00', 'qed_weighted': '0.40', 'ro3_pass': 'Y', 'rtb': 0}, 'molecule_structures': {'canonical_smiles': '[13NH3]', 'molfile': '\\n     RDKit          2D\\n\\n  1  0  0  0  0  0  0  0  0  0999 V2000\\n   -0.1333   -0.4083    0.0000 N   0  0  0  0  0  0  0  0  0  0  0  0\\nM  ISO  1   1  13\\nM  END\\n\\n> <chembl_id>\\nCHEMBL1201189\\n\\n> <chembl_pref_name>\\nAMMONIA N 13\\n\\n', 'standard_inchi': 'InChI=1S/H3N/h1H3/i1-1', 'standard_inchi_key': 'QGZKDVFQNNGYKY-BJUDXGSMSA-N'}, 'molecule_synonyms': [{'molecule_synonym': '13n', 'syn_type': 'OTHER', 'synonyms': '13N'}, {'molecule_synonym': 'Ammonia (13N)', 'syn_type': 'OTHER', 'synonyms': 'Ammonia, n-13'}, {'molecule_synonym': 'Ammonia n 13', 'syn_type': 'OTHER', 'synonyms': 'AMMONIA N 13'}, {'molecule_synonym': 'Ammonia n 13', 'syn_type': 'TRADE_NAME', 'synonyms': 'AMMONIA N 13'}, {'molecule_synonym': 'Ammonia n 13', 'syn_type': 'USAN', 'synonyms': 'AMMONIA N 13'}, {'molecule_synonym': 'Ammonia n 13', 'syn_type': 'USP', 'synonyms': 'AMMONIA N 13'}, {'molecule_synonym': 'Ammonia n-13', 'syn_type': 'FDA', 'synonyms': 'AMMONIA N-13'}], 'molecule_type': 'Small molecule', 'natural_product': 0, 'oral': False, 'parenteral': True, 'polymer_flag': False, 'pref_name': 'AMMONIA N 13', 'prodrug': 0, 'structure_type': 'MOL', 'therapeutic_flag': False, 'topical': False, 'usan_stem': None, 'usan_stem_definition': None, 'usan_substem': None, 'usan_year': 1990, 'withdrawn_class': None, 'withdrawn_country': None, 'withdrawn_flag': False, 'withdrawn_reason': None, 'withdrawn_year': None}, {'atc_classifications': [], 'availability_type': 2, 'biotherapeutic': None, 'black_box_warning': 0, 'chebi_par_id': 15377, 'chirality': 2, 'cross_references': [{'xref_id': 'purified%20water', 'xref_name': 'purified water', 'xref_src': 'DailyMed'}, {'xref_id': 'sterile%20water%20for%20irrigation', 'xref_name': 'sterile water for irrigation', 'xref_src': 'DailyMed'}, {'xref_id': 'Properties_of_water', 'xref_name': None, 'xref_src': 'Wikipedia'}], 'dosed_ingredient': True, 'first_approval': 2011, 'first_in_class': 0, 'helm_notation': None, 'indication_class': 'Diagnostic Aid (radioactive, vascular disorders); Radioactive Agent,Radioactive Agent', 'inorganic_flag': 0, 'max_phase': 4, 'molecule_chembl_id': 'CHEMBL1098659', 'molecule_hierarchy': {'molecule_chembl_id': 'CHEMBL1098659', 'parent_chembl_id': 'CHEMBL1098659'}, 'molecule_properties': {'alogp': '-0.82', 'aromatic_rings': 0, 'cx_logd': '-0.65', 'cx_logp': '-0.65', 'cx_most_apka': None, 'cx_most_bpka': None, 'full_molformula': 'H2O', 'full_mwt': '18.02', 'hba': 0, 'hba_lipinski': 1, 'hbd': 0, 'hbd_lipinski': 2, 'heavy_atoms': 1, 'molecular_species': 'NEUTRAL', 'mw_freebase': '18.02', 'mw_monoisotopic': '18.0106', 'num_lipinski_ro5_violations': 0, 'num_ro5_violations': 0, 'psa': '31.50', 'qed_weighted': '0.33', 'ro3_pass': 'Y', 'rtb': 0}, 'molecule_structures': {'canonical_smiles': 'O', 'molfile': '\\n     RDKit          2D\\n\\n  1  0  0  0  0  0  0  0  0  0999 V2000\\n    0.4917   -8.4375    0.0000 O   0  0  0  0  0  0  0  0  0  0  0  0\\nM  END\\n\\n> <chembl_id>\\nCHEMBL1098659\\n\\n> <chembl_pref_name>\\nWATER\\n\\n', 'standard_inchi': 'InChI=1S/H2O/h1H2', 'standard_inchi_key': 'XLYOFNOQVPJJNP-UHFFFAOYSA-N'}, 'molecule_synonyms': [{'molecule_synonym': 'B1217', 'syn_type': 'RESEARCH_CODE', 'synonyms': 'B1217'}, {'molecule_synonym': 'NSC-147337', 'syn_type': 'RESEARCH_CODE', 'synonyms': 'NSC-147337'}, {'molecule_synonym': 'Purified water', 'syn_type': 'FDA', 'synonyms': 'PURIFIED WATER'}, {'molecule_synonym': 'Purified water', 'syn_type': 'USP', 'synonyms': 'PURIFIED WATER'}, {'molecule_synonym': 'Pur-wash', 'syn_type': 'TRADE_NAME', 'synonyms': 'PUR-WASH'}, {'molecule_synonym': 'R-718', 'syn_type': 'RESEARCH_CODE', 'synonyms': 'R-718'}, {'molecule_synonym': 'Sterile purified water', 'syn_type': 'USP', 'synonyms': 'STERILE PURIFIED WATER'}, {'molecule_synonym': 'Sterile water', 'syn_type': 'TRADE_NAME', 'synonyms': 'STERILE WATER'}, {'molecule_synonym': 'Sterile water for injection', 'syn_type': 'FDA', 'synonyms': 'STERILE WATER FOR INJECTION'}, {'molecule_synonym': 'Sterile water for injection', 'syn_type': 'TRADE_NAME', 'synonyms': 'STERILE WATER FOR INJECTION'}, {'molecule_synonym': 'Sterile water for irrigation', 'syn_type': 'FDA', 'synonyms': 'STERILE WATER FOR IRRIGATION'}, {'molecule_synonym': 'Water', 'syn_type': 'MERCK_INDEX', 'synonyms': 'WATER'}, {'molecule_synonym': 'Water', 'syn_type': 'OTHER', 'synonyms': 'WATER'}, {'molecule_synonym': 'Water', 'syn_type': 'USP', 'synonyms': 'WATER'}, {'molecule_synonym': 'Water for injection', 'syn_type': 'BNF', 'synonyms': 'WATER FOR INJECTION'}, {'molecule_synonym': 'Water for injection', 'syn_type': 'OTHER', 'synonyms': 'WATER FOR INJECTION'}, {'molecule_synonym': 'Water purified', 'syn_type': 'OTHER', 'synonyms': 'WATER PURIFIED'}, {'molecule_synonym': 'Water, purified', 'syn_type': 'OTHER', 'synonyms': 'WATER, PURIFIED'}], 'molecule_type': 'Small molecule', 'natural_product': 0, 'oral': False, 'parenteral': False, 'polymer_flag': False, 'pref_name': 'WATER', 'prodrug': 0, 'structure_type': 'MOL', 'therapeutic_flag': False, 'topical': True, 'usan_stem': 'deu-', 'usan_stem_definition': 'deuterated compounds', 'usan_substem': 'deu-', 'usan_year': 1963, 'withdrawn_class': None, 'withdrawn_country': None, 'withdrawn_flag': False, 'withdrawn_reason': None, 'withdrawn_year': None}, '...(remaining elements truncated)...']"
      ]
     },
     "metadata": {},
     "execution_count": 11
    }
   ],
   "metadata": {}
  },
  {
   "cell_type": "markdown",
   "source": [
    "## Get approved drugs for lung cancer"
   ],
   "metadata": {}
  },
  {
   "cell_type": "code",
   "execution_count": 12,
   "source": [
    "from chembl_webresource_client.new_client import new_client\n",
    "\n",
    "drug_indication = new_client.drug_indication\n",
    "molecules = new_client.molecule\n",
    "\n",
    "lung_cancer_ind = drug_indication.filter(efo_term__icontains=\"LUNG CARCINOMA\")\n",
    "lung_cancer_mols = molecules.filter(\n",
    "    molecule_chembl_id__in=[x['molecule_chembl_id'] for x in lung_cancer_ind])\n",
    "\n",
    "len(lung_cancer_mols)"
   ],
   "outputs": [
    {
     "output_type": "execute_result",
     "data": {
      "text/plain": [
       "631"
      ]
     },
     "metadata": {},
     "execution_count": 12
    }
   ],
   "metadata": {}
  },
  {
   "cell_type": "markdown",
   "source": [
    "## Filter drugs by approval year and name"
   ],
   "metadata": {}
  },
  {
   "cell_type": "code",
   "execution_count": 13,
   "source": [
    "from chembl_webresource_client.new_client import new_client\n",
    "\n",
    "drug = new_client.drug\n",
    "res = drug.filter(first_approval__gte=1980).filter(usan_stem=\"-azosin\")\n",
    "res"
   ],
   "outputs": [
    {
     "output_type": "execute_result",
     "data": {
      "text/plain": [
       "[{'applicants': ['Hikma Pharmaceuticals International Ltd', 'Jubilant Cadista Pharmaceuticals Inc', 'Apnar Pharma Lp', 'Abbott Laboratories Pharmaceutical Products Div', 'Ranbaxy Laboratories Ltd', 'Beximco Pharmaceuticals Usa Inc', 'Ivax Pharmaceuticals Inc Sub Teva Pharmaceuticals Usa', 'Mylan Technologies Inc', 'Teva Pharmaceuticals Usa Inc', 'Sandoz Inc'], 'atc_classification': [{'code': 'G04CA03', 'description': 'GENITO URINARY SYSTEM AND SEX HORMONES: UROLOGICALS: DRUGS USED IN BENIGN PROSTATIC HYPERTROPHY: Alpha-adrenoreceptor antagonists'}], 'availability_type': 1, 'biotherapeutic': None, 'black_box': False, 'black_box_warning': '0', 'chirality': 0, 'development_phase': 4, 'drug_type': 1, 'first_approval': 1987, 'first_in_class': False, 'helm_notation': None, 'indication_class': 'Antihypertensive', 'molecule_chembl_id': 'CHEMBL611', 'molecule_properties': {'alogp': '1.06', 'aromatic_rings': 2, 'cx_logd': '0.95', 'cx_logp': '1.18', 'cx_most_apka': None, 'cx_most_bpka': '7.24', 'full_molformula': 'C19H25N5O4', 'full_mwt': '387.44', 'hba': 8, 'hba_lipinski': 9, 'hbd': 1, 'hbd_lipinski': 2, 'heavy_atoms': 28, 'molecular_species': 'NEUTRAL', 'mw_freebase': '387.44', 'mw_monoisotopic': '387.1907', 'num_lipinski_ro5_violations': 0, 'num_ro5_violations': 0, 'psa': '103.04', 'qed_weighted': '0.83', 'ro3_pass': 'N', 'rtb': 4}, 'molecule_structures': {'canonical_smiles': 'COc1cc2nc(N3CCN(C(=O)C4CCCO4)CC3)nc(N)c2cc1OC', 'molfile': '\\n     RDKit          2D\\n\\n 28 31  0  0  0  0  0  0  0  0999 V2000\\n   -0.4208    0.3583    0.0000 C   0  0  0  0  0  0  0  0  0  0  0  0\\n   -0.4208    1.0625    0.0000 N   0  0  0  0  0  0  0  0  0  0  0  0\\n   -1.6458    1.0625    0.0000 C   0  0  0  0  0  0  0  0  0  0  0  0\\n   -1.0333    1.4250    0.0000 C   0  0  0  0  0  0  0  0  0  0  0  0\\n   -1.0333    0.0083    0.0000 N   0  0  0  0  0  0  0  0  0  0  0  0\\n   -1.6458    0.3583    0.0000 C   0  0  0  0  0  0  0  0  0  0  0  0\\n    0.1917   -0.0125    0.0000 N   0  0  0  0  0  0  0  0  0  0  0  0\\n    2.0167   -1.1167    0.0000 C   0  0  0  0  0  0  0  0  0  0  0  0\\n    1.4250   -0.7292    0.0000 N   0  0  0  0  0  0  0  0  0  0  0  0\\n   -2.2708    1.4250    0.0000 C   0  0  0  0  0  0  0  0  0  0  0  0\\n   -2.2708    0.0083    0.0000 C   0  0  0  0  0  0  0  0  0  0  0  0\\n   -2.8833    1.0625    0.0000 C   0  0  0  0  0  0  0  0  0  0  0  0\\n   -2.8833    0.3583    0.0000 C   0  0  0  0  0  0  0  0  0  0  0  0\\n    2.6750   -0.7667    0.0000 C   0  0  0  0  0  0  0  0  0  0  0  0\\n    0.1917   -0.7125    0.0000 C   0  0  0  0  0  0  0  0  0  0  0  0\\n    0.8042    0.3458    0.0000 C   0  0  0  0  0  0  0  0  0  0  0  0\\n    0.8042   -1.0917    0.0000 C   0  0  0  0  0  0  0  0  0  0  0  0\\n    1.4250   -0.0125    0.0000 C   0  0  0  0  0  0  0  0  0  0  0  0\\n    2.0167   -1.8042    0.0000 O   0  0  0  0  0  0  0  0  0  0  0  0\\n    3.2625   -1.1917    0.0000 O   0  0  0  0  0  0  0  0  0  0  0  0\\n   -1.0333    2.1333    0.0000 N   0  0  0  0  0  0  0  0  0  0  0  0\\n   -3.4958    1.4125    0.0000 O   0  0  0  0  0  0  0  0  0  0  0  0\\n   -3.4958   -0.0042    0.0000 O   0  0  0  0  0  0  0  0  0  0  0  0\\n    3.8292   -0.7667    0.0000 C   0  0  0  0  0  0  0  0  0  0  0  0\\n    2.9167   -0.0917    0.0000 C   0  0  0  0  0  0  0  0  0  0  0  0\\n   -4.1083    1.0625    0.0000 C   0  0  0  0  0  0  0  0  0  0  0  0\\n   -4.1083    0.3458    0.0000 C   0  0  0  0  0  0  0  0  0  0  0  0\\n    3.5792   -0.0917    0.0000 C   0  0  0  0  0  0  0  0  0  0  0  0\\n  2  1  1  0\\n  3  6  2  0\\n  4  2  2  0\\n  5  1  2  0\\n  6  5  1  0\\n  7  1  1  0\\n  8  9  1  0\\n  9 18  1  0\\n 10  3  1  0\\n 11  6  1  0\\n 12 13  1  0\\n 13 11  2  0\\n 14  8  1  0\\n 15  7  1  0\\n 16  7  1  0\\n 17 15  1  0\\n 18 16  1  0\\n 19  8  2  0\\n 20 14  1  0\\n 21  4  1  0\\n 22 12  1  0\\n 23 13  1  0\\n 24 20  1  0\\n 25 14  1  0\\n 26 22  1  0\\n 27 23  1  0\\n 28 25  1  0\\n  4  3  1  0\\n 17  9  1  0\\n 12 10  2  0\\n 28 24  1  0\\nM  END', 'standard_inchi': 'InChI=1S/C19H25N5O4/c1-26-15-10-12-13(11-16(15)27-2)21-19(22-17(12)20)24-7-5-23(6-8-24)18(25)14-4-3-9-28-14/h10-11,14H,3-9H2,1-2H3,(H2,20,21,22)', 'standard_inchi_key': 'VCKUSRYTPJJLNI-UHFFFAOYSA-N'}, 'molecule_synonyms': [{'molecule_synonym': 'Hytrin', 'syn_type': 'OTHER', 'synonyms': 'Hytrin'}, {'molecule_synonym': 'Terazosin', 'syn_type': 'FDA', 'synonyms': 'Terazosin'}, {'molecule_synonym': 'Terazosin', 'syn_type': 'ATC', 'synonyms': 'TERAZOSIN'}, {'molecule_synonym': 'Terazosin', 'syn_type': 'BAN', 'synonyms': 'TERAZOSIN'}, {'molecule_synonym': 'Terazosin', 'syn_type': 'INN', 'synonyms': 'TERAZOSIN'}, {'molecule_synonym': 'Terazosin', 'syn_type': 'MERCK_INDEX', 'synonyms': 'TERAZOSIN'}, {'molecule_synonym': 'Terazosin', 'syn_type': 'OTHER', 'synonyms': 'TERAZOSIN'}], 'ob_patent': None, 'oral': True, 'parenteral': False, 'prodrug': False, 'research_codes': ['ABBOTT-45975 ANHYDROUS', 'ABBOTT-45975'], 'rule_of_five': True, 'sc_patent': None, 'synonyms': ['Terazosin (BAN, INN, MI)', 'Terazosin hydrochloride (FDA, JAN, MI, USAN, USP)', 'Terazosin hydrochloride dihydrate (MI)', 'Terazosin hydrochloride hydrate (JAN)', ''], 'topical': False, 'usan_stem': '-azosin', 'usan_stem_definition': 'antihypertensives (prazosin type)', 'usan_stem_substem': '-azosin(-azosin)', 'usan_year': 1980, 'withdrawn_class': None, 'withdrawn_country': None, 'withdrawn_flag': '0', 'withdrawn_reason': None, 'withdrawn_year': None}, {'applicants': ['Accord Healthcare Inc', 'Zydus Pharmaceuticals Usa Inc', 'Yaopharma Co Ltd', 'Dava Pharmaceuticals Inc', 'Ivax Pharmaceuticals Inc Sub Teva Pharmaceuticals Usa', 'Apotex Inc', 'Nesher Pharmaceuticals Usa Llc', 'Upjohn Us 1 Llc', 'Ani Pharmaceuticals Inc', 'Teva Pharmaceuticals Usa Inc'], 'atc_classification': [{'code': 'C02CA04', 'description': 'CARDIOVASCULAR SYSTEM: ANTIHYPERTENSIVES: ANTIADRENERGIC AGENTS, PERIPHERALLY ACTING: Alpha-adrenoreceptor antagonists'}], 'availability_type': 1, 'biotherapeutic': None, 'black_box': False, 'black_box_warning': '0', 'chirality': 0, 'development_phase': 4, 'drug_type': 1, 'first_approval': 1990, 'first_in_class': False, 'helm_notation': None, 'indication_class': 'Antihypertensive', 'molecule_chembl_id': 'CHEMBL707', 'molecule_properties': {'alogp': '1.72', 'aromatic_rings': 3, 'cx_logd': '1.91', 'cx_logp': '2.14', 'cx_most_apka': '12.67', 'cx_most_bpka': '7.24', 'full_molformula': 'C23H25N5O5', 'full_mwt': '451.48', 'hba': 9, 'hba_lipinski': 10, 'hbd': 1, 'hbd_lipinski': 2, 'heavy_atoms': 33, 'molecular_species': 'NEUTRAL', 'mw_freebase': '451.48', 'mw_monoisotopic': '451.1856', 'num_lipinski_ro5_violations': 0, 'num_ro5_violations': 0, 'psa': '112.27', 'qed_weighted': '0.63', 'ro3_pass': 'N', 'rtb': 4}, 'molecule_structures': {'canonical_smiles': 'COc1cc2nc(N3CCN(C(=O)C4COc5ccccc5O4)CC3)nc(N)c2cc1OC', 'molfile': '\\n     RDKit          2D\\n\\n 33 37  0  0  0  0  0  0  0  0999 V2000\\n    0.0167  -14.8292    0.0000 C   0  0  0  0  0  0  0  0  0  0  0  0\\n    0.0167  -15.5500    0.0000 N   0  0  0  0  0  0  0  0  0  0  0  0\\n   -1.2208  -15.5500    0.0000 C   0  0  0  0  0  0  0  0  0  0  0  0\\n   -0.6083  -15.9125    0.0000 C   0  0  0  0  0  0  0  0  0  0  0  0\\n   -0.6083  -14.4667    0.0000 N   0  0  0  0  0  0  0  0  0  0  0  0\\n    3.0792  -13.7542    0.0000 C   0  0  0  0  0  0  0  0  0  0  0  0\\n   -1.2208  -14.8292    0.0000 C   0  0  0  0  0  0  0  0  0  0  0  0\\n    2.4792  -13.4042    0.0000 C   0  0  0  0  0  0  0  0  0  0  0  0\\n    3.7042  -13.4167    0.0000 O   0  0  0  0  0  0  0  0  0  0  0  0\\n    0.6417  -14.4667    0.0000 N   0  0  0  0  0  0  0  0  0  0  0  0\\n    1.8667  -13.7542    0.0000 N   0  0  0  0  0  0  0  0  0  0  0  0\\n   -1.8333  -15.9125    0.0000 C   0  0  0  0  0  0  0  0  0  0  0  0\\n   -1.8333  -14.4667    0.0000 C   0  0  0  0  0  0  0  0  0  0  0  0\\n    3.6792  -14.8167    0.0000 O   0  0  0  0  0  0  0  0  0  0  0  0\\n    4.3042  -13.7667    0.0000 C   0  0  0  0  0  0  0  0  0  0  0  0\\n   -2.4583  -15.5500    0.0000 C   0  0  0  0  0  0  0  0  0  0  0  0\\n   -2.4583  -14.8292    0.0000 C   0  0  0  0  0  0  0  0  0  0  0  0\\n    3.0667  -14.4667    0.0000 C   0  0  0  0  0  0  0  0  0  0  0  0\\n    4.2917  -14.4667    0.0000 C   0  0  0  0  0  0  0  0  0  0  0  0\\n    0.6417  -13.7667    0.0000 C   0  0  0  0  0  0  0  0  0  0  0  0\\n    1.2542  -14.8167    0.0000 C   0  0  0  0  0  0  0  0  0  0  0  0\\n    1.2417  -13.4167    0.0000 C   0  0  0  0  0  0  0  0  0  0  0  0\\n    1.8667  -14.4667    0.0000 C   0  0  0  0  0  0  0  0  0  0  0  0\\n    2.4792  -12.7042    0.0000 O   0  0  0  0  0  0  0  0  0  0  0  0\\n   -0.6083  -16.6125    0.0000 N   0  0  0  0  0  0  0  0  0  0  0  0\\n   -3.0833  -15.9125    0.0000 O   0  0  0  0  0  0  0  0  0  0  0  0\\n   -3.0833  -14.4667    0.0000 O   0  0  0  0  0  0  0  0  0  0  0  0\\n    4.9417  -13.4250    0.0000 C   0  0  0  0  0  0  0  0  0  0  0  0\\n    4.9167  -14.8292    0.0000 C   0  0  0  0  0  0  0  0  0  0  0  0\\n   -3.6875  -14.8125    0.0000 C   0  0  0  0  0  0  0  0  0  0  0  0\\n   -3.6833  -15.5500    0.0000 C   0  0  0  0  0  0  0  0  0  0  0  0\\n    5.5542  -13.7875    0.0000 C   0  0  0  0  0  0  0  0  0  0  0  0\\n    5.5417  -14.4875    0.0000 C   0  0  0  0  0  0  0  0  0  0  0  0\\n  2  1  1  0\\n  3  7  2  0\\n  4  2  2  0\\n  5  1  2  0\\n  6  8  1  0\\n  7  5  1  0\\n  8 11  1  0\\n  9  6  1  0\\n 10  1  1  0\\n 11 22  1  0\\n 12  3  1  0\\n 13  7  1  0\\n 14 18  1  0\\n 15  9  1  0\\n 16 12  2  0\\n 17 13  2  0\\n 18  6  1  0\\n 19 14  1  0\\n 20 10  1  0\\n 21 10  1  0\\n 22 20  1  0\\n 23 21  1  0\\n 24  8  2  0\\n 25  4  1  0\\n 26 16  1  0\\n 27 17  1  0\\n 28 15  1  0\\n 29 19  1  0\\n 30 27  1  0\\n 31 26  1  0\\n 32 28  2  0\\n 33 29  2  0\\n  4  3  1  0\\n 23 11  1  0\\n 17 16  1  0\\n 15 19  2  0\\n 32 33  1  0\\nM  END', 'standard_inchi': 'InChI=1S/C23H25N5O5/c1-30-18-11-14-15(12-19(18)31-2)25-23(26-21(14)24)28-9-7-27(8-10-28)22(29)20-13-32-16-5-3-4-6-17(16)33-20/h3-6,11-12,20H,7-10,13H2,1-2H3,(H2,24,25,26)', 'standard_inchi_key': 'RUZYUOTYCVRMRZ-UHFFFAOYSA-N'}, 'molecule_synonyms': [{'molecule_synonym': 'C02CA04', 'syn_type': 'RESEARCH_CODE', 'synonyms': 'C02CA04'}, {'molecule_synonym': 'Cardura', 'syn_type': 'OTHER', 'synonyms': 'Cardura'}, {'molecule_synonym': 'Doxazosin', 'syn_type': 'FDA', 'synonyms': 'Doxazosin'}, {'molecule_synonym': 'Doxazosin', 'syn_type': 'ATC', 'synonyms': 'DOXAZOSIN'}, {'molecule_synonym': 'Doxazosin', 'syn_type': 'BAN', 'synonyms': 'DOXAZOSIN'}, {'molecule_synonym': 'Doxazosin', 'syn_type': 'INN', 'synonyms': 'DOXAZOSIN'}, {'molecule_synonym': 'Doxazosin', 'syn_type': 'MERCK_INDEX', 'synonyms': 'DOXAZOSIN'}, {'molecule_synonym': 'Doxazosin', 'syn_type': 'OTHER', 'synonyms': 'DOXAZOSIN'}, {'molecule_synonym': 'UK-33274', 'syn_type': 'RESEARCH_CODE', 'synonyms': 'UK-33274'}], 'ob_patent': None, 'oral': True, 'parenteral': False, 'prodrug': False, 'research_codes': ['UK-33274', 'UK-33,274-27', 'UK-33274-27', 'C02CA04'], 'rule_of_five': True, 'sc_patent': None, 'synonyms': ['Doxazosin mesilate (JAN)', 'Doxazosin mesylate (FDA, USAN, USP)', 'Doxazosin methanesulfonate (MI)', 'Doxazosin (BAN, INN, MI)', ''], 'topical': False, 'usan_stem': '-azosin', 'usan_stem_definition': 'antihypertensives (prazosin type)', 'usan_stem_substem': '-azosin(-azosin)', 'usan_year': 1981, 'withdrawn_class': None, 'withdrawn_country': None, 'withdrawn_flag': '0', 'withdrawn_reason': None, 'withdrawn_year': None}]"
      ]
     },
     "metadata": {},
     "execution_count": 13
    }
   ],
   "metadata": {}
  },
  {
   "cell_type": "markdown",
   "source": [
    "## Get all biotherapeutic molecules"
   ],
   "metadata": {}
  },
  {
   "cell_type": "code",
   "execution_count": 14,
   "source": [
    "from chembl_webresource_client.new_client import new_client\n",
    "\n",
    "molecule = new_client.molecule\n",
    "biotherapeutics = molecule.filter(biotherapeutic__isnull=False)\n",
    "len(biotherapeutics)"
   ],
   "outputs": [
    {
     "output_type": "execute_result",
     "data": {
      "text/plain": [
       "22963"
      ]
     },
     "metadata": {},
     "execution_count": 14
    }
   ],
   "metadata": {}
  },
  {
   "cell_type": "markdown",
   "source": [
    "## Get molecules with molecular weight <= 300"
   ],
   "metadata": {}
  },
  {
   "cell_type": "code",
   "execution_count": 15,
   "source": [
    "from chembl_webresource_client.new_client import new_client\n",
    "\n",
    "molecule = new_client.molecule\n",
    "light_molecules = molecule.filter(molecule_properties__mw_freebase__lte=300)\n",
    "\n",
    "len(light_molecules)"
   ],
   "outputs": [
    {
     "output_type": "execute_result",
     "data": {
      "text/plain": [
       "367682"
      ]
     },
     "metadata": {},
     "execution_count": 15
    }
   ],
   "metadata": {}
  },
  {
   "cell_type": "markdown",
   "source": [
    "## Get molecules with molecular weight <= 300 AND pref_name ending with nib"
   ],
   "metadata": {}
  },
  {
   "cell_type": "code",
   "execution_count": 16,
   "source": [
    "from chembl_webresource_client.new_client import new_client\n",
    "\n",
    "molecule = new_client.molecule\n",
    "light_nib_molecules = molecule.filter(molecule_properties__mw_freebase__lte=300, pref_name__iendswith=\"nib\").only(['molecule_chembl_id', 'pref_name'])\n",
    "\n",
    "light_nib_molecules"
   ],
   "outputs": [
    {
     "output_type": "execute_result",
     "data": {
      "text/plain": [
       "[{'molecule_chembl_id': 'CHEMBL276711', 'pref_name': 'SEMAXANIB'}, {'molecule_chembl_id': 'CHEMBL274654', 'pref_name': 'ORANTINIB'}, {'molecule_chembl_id': 'CHEMBL13608', 'pref_name': 'TOCERANIB'}, {'molecule_chembl_id': 'CHEMBL535', 'pref_name': 'SUNITINIB'}, '...(remaining elements truncated)...']"
      ]
     },
     "metadata": {},
     "execution_count": 16
    }
   ],
   "metadata": {}
  },
  {
   "cell_type": "markdown",
   "source": [
    "## Get all molecules in ChEMBL with no Rule-of-Five violations"
   ],
   "metadata": {}
  },
  {
   "cell_type": "code",
   "execution_count": 17,
   "source": [
    "from chembl_webresource_client.new_client import new_client\n",
    "\n",
    "molecule = new_client.molecule\n",
    "no_violations = molecule.filter(molecule_properties__num_ro5_violations=0)\n",
    "len(no_violations)"
   ],
   "outputs": [
    {
     "output_type": "execute_result",
     "data": {
      "text/plain": [
       "1441706"
      ]
     },
     "metadata": {},
     "execution_count": 17
    }
   ],
   "metadata": {}
  },
  {
   "cell_type": "markdown",
   "source": [
    "# Activities"
   ],
   "metadata": {}
  },
  {
   "cell_type": "markdown",
   "source": [
    "## Get all IC50 activities related to the hERG target"
   ],
   "metadata": {}
  },
  {
   "cell_type": "code",
   "execution_count": 18,
   "source": [
    "from chembl_webresource_client.new_client import new_client\n",
    "\n",
    "target = new_client.target\n",
    "activity = new_client.activity\n",
    "herg = target.filter(pref_name__iexact='hERG').only('target_chembl_id')[0]\n",
    "herg_activities = activity.filter(target_chembl_id=herg['target_chembl_id']).filter(standard_type=\"IC50\")\n",
    "\n",
    "len(herg_activities)"
   ],
   "outputs": [
    {
     "output_type": "execute_result",
     "data": {
      "text/plain": [
       "13200"
      ]
     },
     "metadata": {},
     "execution_count": 18
    }
   ],
   "metadata": {}
  },
  {
   "cell_type": "markdown",
   "source": [
    "## Get all activities for a specific target with assay type B (binding):"
   ],
   "metadata": {}
  },
  {
   "cell_type": "code",
   "execution_count": 19,
   "source": [
    "from chembl_webresource_client.new_client import new_client\n",
    "\n",
    "activity = new_client.activity\n",
    "res = activity.filter(target_chembl_id='CHEMBL3938', assay_type='B')\n",
    "\n",
    "len(res)"
   ],
   "outputs": [
    {
     "output_type": "execute_result",
     "data": {
      "text/plain": [
       "860"
      ]
     },
     "metadata": {},
     "execution_count": 19
    }
   ],
   "metadata": {}
  },
  {
   "cell_type": "markdown",
   "source": [
    "## Get all activities with a pChEMBL value for a molecule"
   ],
   "metadata": {}
  },
  {
   "cell_type": "code",
   "execution_count": 20,
   "source": [
    "from chembl_webresource_client.new_client import new_client\n",
    "\n",
    "activities = new_client.activity\n",
    "res = activities.filter(molecule_chembl_id=\"CHEMBL25\", pchembl_value__isnull=False)\n",
    "\n",
    "len(res)"
   ],
   "outputs": [
    {
     "output_type": "execute_result",
     "data": {
      "text/plain": [
       "138"
      ]
     },
     "metadata": {},
     "execution_count": 20
    }
   ],
   "metadata": {}
  },
  {
   "cell_type": "markdown",
   "source": [
    "## Search for ADMET-related inhibitor assays (type A)"
   ],
   "metadata": {}
  },
  {
   "cell_type": "code",
   "execution_count": 21,
   "source": [
    "from chembl_webresource_client.new_client import new_client\n",
    "assay = new_client.assay\n",
    "res = assay.filter(description__icontains='inhibit', assay_type='A')\n",
    "res"
   ],
   "outputs": [
    {
     "output_type": "execute_result",
     "data": {
      "text/plain": [
       "[{'assay_category': None, 'assay_cell_type': None, 'assay_chembl_id': 'CHEMBL884521', 'assay_classifications': [], 'assay_organism': 'Rattus norvegicus', 'assay_parameters': [], 'assay_strain': None, 'assay_subcellular_fraction': None, 'assay_tax_id': 10116, 'assay_test_type': None, 'assay_tissue': None, 'assay_type': 'A', 'assay_type_description': 'ADME', 'bao_format': 'BAO_0000357', 'bao_label': 'single protein format', 'cell_chembl_id': None, 'confidence_description': 'Direct single protein target assigned', 'confidence_score': 9, 'description': 'Inhibition of cytochrome P450 progesterone 15-alpha hydroxylase', 'document_chembl_id': 'CHEMBL1125500', 'relationship_description': 'Direct protein target assigned', 'relationship_type': 'D', 'src_assay_id': None, 'src_id': 1, 'target_chembl_id': 'CHEMBL3705', 'tissue_chembl_id': None, 'variant_sequence': None}, {'assay_category': None, 'assay_cell_type': None, 'assay_chembl_id': 'CHEMBL615148', 'assay_classifications': [], 'assay_organism': 'Rattus norvegicus', 'assay_parameters': [], 'assay_strain': None, 'assay_subcellular_fraction': None, 'assay_tax_id': 10116, 'assay_test_type': None, 'assay_tissue': None, 'assay_type': 'A', 'assay_type_description': 'ADME', 'bao_format': 'BAO_0000019', 'bao_label': 'assay format', 'cell_chembl_id': None, 'confidence_description': 'Default value - Target unknown or has yet to be assigned', 'confidence_score': 0, 'description': 'Inhibition of cytochrome P450 progesterone 16-alpha hydroxylase', 'document_chembl_id': 'CHEMBL1125500', 'relationship_description': 'Default value - Target has yet to be curated', 'relationship_type': 'U', 'src_assay_id': None, 'src_id': 1, 'target_chembl_id': 'CHEMBL612558', 'tissue_chembl_id': None, 'variant_sequence': None}, {'assay_category': None, 'assay_cell_type': None, 'assay_chembl_id': 'CHEMBL615199', 'assay_classifications': [], 'assay_organism': 'Rattus norvegicus', 'assay_parameters': [], 'assay_strain': None, 'assay_subcellular_fraction': None, 'assay_tax_id': 10116, 'assay_test_type': None, 'assay_tissue': None, 'assay_type': 'A', 'assay_type_description': 'ADME', 'bao_format': 'BAO_0000357', 'bao_label': 'single protein format', 'cell_chembl_id': None, 'confidence_description': 'Direct single protein target assigned', 'confidence_score': 9, 'description': 'Inhibition of cytochrome P450 progesterone 2-alpha-hydroxylase', 'document_chembl_id': 'CHEMBL1125500', 'relationship_description': 'Direct protein target assigned', 'relationship_type': 'D', 'src_assay_id': None, 'src_id': 1, 'target_chembl_id': 'CHEMBL4971', 'tissue_chembl_id': None, 'variant_sequence': None}, {'assay_category': None, 'assay_cell_type': None, 'assay_chembl_id': 'CHEMBL883800', 'assay_classifications': [], 'assay_organism': 'Rattus norvegicus', 'assay_parameters': [], 'assay_strain': None, 'assay_subcellular_fraction': 'Microsome', 'assay_tax_id': 10116, 'assay_test_type': None, 'assay_tissue': None, 'assay_type': 'A', 'assay_type_description': 'ADME', 'bao_format': 'BAO_0000251', 'bao_label': 'microsome format', 'cell_chembl_id': None, 'confidence_description': 'Homologous single protein target assigned', 'confidence_score': 8, 'description': 'Inhibition of progesterone 6-beta-hydroxylase in rat hepatic microsomes', 'document_chembl_id': 'CHEMBL1125500', 'relationship_description': 'Homologous protein target assigned', 'relationship_type': 'H', 'src_assay_id': None, 'src_id': 1, 'target_chembl_id': 'CHEMBL340', 'tissue_chembl_id': None, 'variant_sequence': None}, '...(remaining elements truncated)...']"
      ]
     },
     "metadata": {},
     "execution_count": 21
    }
   ],
   "metadata": {}
  },
  {
   "cell_type": "markdown",
   "source": [
    "# Tissues"
   ],
   "metadata": {}
  },
  {
   "cell_type": "markdown",
   "source": [
    "## Get tissue by BTO ID"
   ],
   "metadata": {}
  },
  {
   "cell_type": "code",
   "execution_count": 22,
   "source": [
    "from chembl_webresource_client.new_client import new_client\n",
    "\n",
    "tissue = new_client.tissue\n",
    "res = tissue.filter(bto_id=\"BTO:0001073\")\n",
    "res"
   ],
   "outputs": [
    {
     "output_type": "execute_result",
     "data": {
      "text/plain": [
       "[{'bto_id': 'BTO:0001073', 'caloha_id': 'TS-0798', 'efo_id': 'EFO:0000857', 'pref_name': 'Pituitary gland', 'tissue_chembl_id': 'CHEMBL3638173', 'uberon_id': 'UBERON:0000007'}]"
      ]
     },
     "metadata": {},
     "execution_count": 22
    }
   ],
   "metadata": {}
  },
  {
   "cell_type": "markdown",
   "source": [
    "## Get tissue by Caloha id"
   ],
   "metadata": {}
  },
  {
   "cell_type": "code",
   "execution_count": 23,
   "source": [
    "from chembl_webresource_client.new_client import new_client\n",
    "\n",
    "tissue = new_client.tissue\n",
    "res = tissue.filter(caloha_id=\"TS-0490\")\n",
    "res"
   ],
   "outputs": [
    {
     "output_type": "execute_result",
     "data": {
      "text/plain": [
       "[{'bto_id': 'BTO:0000648', 'caloha_id': 'TS-0490', 'efo_id': 'EFO:0000834', 'pref_name': 'Intestine', 'tissue_chembl_id': 'CHEMBL3638176', 'uberon_id': 'UBERON:0000160'}]"
      ]
     },
     "metadata": {},
     "execution_count": 23
    }
   ],
   "metadata": {}
  },
  {
   "cell_type": "markdown",
   "source": [
    "## Get tissue by Uberon id"
   ],
   "metadata": {}
  },
  {
   "cell_type": "code",
   "execution_count": 24,
   "source": [
    "from chembl_webresource_client.new_client import new_client\n",
    "\n",
    "tissue = new_client.tissue\n",
    "res = tissue.filter(uberon_id=\"UBERON:0000173\")\n",
    "res"
   ],
   "outputs": [
    {
     "output_type": "execute_result",
     "data": {
      "text/plain": [
       "[{'bto_id': 'BTO:0000068', 'caloha_id': 'TS-0034', 'efo_id': None, 'pref_name': 'Amniotic fluid', 'tissue_chembl_id': 'CHEMBL3638177', 'uberon_id': 'UBERON:0000173'}]"
      ]
     },
     "metadata": {},
     "execution_count": 24
    }
   ],
   "metadata": {}
  },
  {
   "cell_type": "markdown",
   "source": [
    "## Get tissue by name"
   ],
   "metadata": {}
  },
  {
   "cell_type": "code",
   "execution_count": 25,
   "source": [
    "from chembl_webresource_client.new_client import new_client\n",
    "\n",
    "tissue = new_client.tissue\n",
    "res = tissue.filter(pref_name__istartswith='blood')\n",
    "res"
   ],
   "outputs": [
    {
     "output_type": "execute_result",
     "data": {
      "text/plain": [
       "[{'bto_id': None, 'caloha_id': None, 'efo_id': None, 'pref_name': 'Blood brain barrier', 'tissue_chembl_id': 'CHEMBL3987461', 'uberon_id': 'UBERON:0000120'}, {'bto_id': 'BTO:0000089', 'caloha_id': 'TS-0079', 'efo_id': 'EFO:0000296', 'pref_name': 'Blood', 'tissue_chembl_id': 'CHEMBL3638178', 'uberon_id': 'UBERON:0000178'}, {'bto_id': 'BTO:0001102', 'caloha_id': 'TS-0080', 'efo_id': 'EFO:0000817', 'pref_name': 'Blood vessel', 'tissue_chembl_id': 'CHEMBL3987656', 'uberon_id': 'UBERON:0001981'}, {'bto_id': 'BTO:0000102', 'caloha_id': None, 'efo_id': None, 'pref_name': 'Blood clot', 'tissue_chembl_id': 'CHEMBL3987655', 'uberon_id': 'UBERON:0010210'}, '...(remaining elements truncated)...']"
      ]
     },
     "metadata": {},
     "execution_count": 25
    }
   ],
   "metadata": {}
  },
  {
   "cell_type": "markdown",
   "source": [
    "# Cells"
   ],
   "metadata": {}
  },
  {
   "cell_type": "markdown",
   "source": [
    "## Get cell line by cellosaurus id"
   ],
   "metadata": {}
  },
  {
   "cell_type": "code",
   "execution_count": 26,
   "source": [
    "from chembl_webresource_client.new_client import new_client\n",
    "\n",
    "cell_line = new_client.cell_line\n",
    "res = cell_line.filter(cellosaurus_id=\"CVCL_0417\")\n",
    "res"
   ],
   "outputs": [
    {
     "output_type": "execute_result",
     "data": {
      "text/plain": [
       "[{'cell_chembl_id': 'CHEMBL3307686', 'cell_description': 'MDA-MB-435 (Breast metastasis of melanoma cells', 'cell_id': 687, 'cell_name': 'MDA-MB-435', 'cell_source_organism': 'Homo sapiens', 'cell_source_tax_id': 9606, 'cell_source_tissue': 'Breast metastasis of melanoma cells', 'cellosaurus_id': 'CVCL_0417', 'cl_lincs_id': None, 'clo_id': None, 'efo_id': 'EFO_0001213'}]"
      ]
     },
     "metadata": {},
     "execution_count": 26
    }
   ],
   "metadata": {}
  },
  {
   "cell_type": "markdown",
   "source": [
    "# Utils"
   ],
   "metadata": {}
  },
  {
   "cell_type": "markdown",
   "source": [
    "## Convert SMILES to CTAB"
   ],
   "metadata": {}
  },
  {
   "cell_type": "code",
   "execution_count": 27,
   "source": [
    "from chembl_webresource_client.utils import utils\n",
    "\n",
    "aspirin = utils.smiles2ctab('O=C(Oc1ccccc1C(=O)O)C')\n",
    "aspirin"
   ],
   "outputs": [
    {
     "output_type": "execute_result",
     "data": {
      "text/plain": [
       "'\\n     RDKit          2D\\n\\n 13 13  0  0  0  0  0  0  0  0999 V2000\\n   -0.9550   -1.3220    0.0000 O   0  0  0  0  0  0  0  0  0  0  0  0\\n   -0.9528   -0.3220    0.0000 C   0  0  0  0  0  0  0  0  0  0  0  0\\n   -0.0858    0.1764    0.0000 O   0  0  0  0  0  0  0  0  0  0  0  0\\n    0.7792   -0.3254    0.0000 C   0  0  0  0  0  0  0  0  0  0  0  0\\n    0.7772   -1.3254    0.0000 C   0  0  0  0  0  0  0  0  0  0  0  0\\n    1.6422   -1.8270    0.0000 C   0  0  0  0  0  0  0  0  0  0  0  0\\n    2.5092   -1.3288    0.0000 C   0  0  0  0  0  0  0  0  0  0  0  0\\n    2.5112   -0.3288    0.0000 C   0  0  0  0  0  0  0  0  0  0  0  0\\n    1.6462    0.1728    0.0000 C   0  0  0  0  0  0  0  0  0  0  0  0\\n    1.6482    1.1728    0.0000 C   0  0  0  0  0  0  0  0  0  0  0  0\\n    0.7832    1.6746    0.0000 O   0  0  0  0  0  0  0  0  0  0  0  0\\n    2.5152    1.6710    0.0000 O   0  0  0  0  0  0  0  0  0  0  0  0\\n   -1.8178    0.1798    0.0000 C   0  0  0  0  0  0  0  0  0  0  0  0\\n  1  2  2  0\\n  2  3  1  0\\n  3  4  1  0\\n  4  5  2  0\\n  5  6  1  0\\n  6  7  2  0\\n  7  8  1  0\\n  8  9  2  0\\n  9 10  1  0\\n 10 11  2  0\\n 10 12  1  0\\n  2 13  1  0\\n  9  4  1  0\\nM  END\\n$$$$\\n'"
      ]
     },
     "metadata": {},
     "execution_count": 27
    }
   ],
   "metadata": {}
  },
  {
   "cell_type": "markdown",
   "source": [
    "## Compute Maximal Common Substructure"
   ],
   "metadata": {}
  },
  {
   "cell_type": "code",
   "execution_count": 28,
   "source": [
    "from chembl_webresource_client.utils import utils\n",
    "\n",
    "smiles = [\"O=C(NCc1cc(OC)c(O)cc1)CCCC/C=C/C(C)C\",\n",
    "          \"CC(C)CCCCCC(=O)NCC1=CC(=C(C=C1)O)OC\", \"c1(C=O)cc(OC)c(O)cc1\"]\n",
    "mols = [utils.smiles2ctab(smile) for smile in smiles]\n",
    "sdf = ''.join(mols)\n",
    "result = utils.mcs(sdf)\n",
    "result"
   ],
   "outputs": [
    {
     "output_type": "execute_result",
     "data": {
      "text/plain": [
       "'[#6]1(-[#6]):[#6]:[#6](-[#8]-[#6]):[#6](:[#6]:[#6]:1)-[#8]'"
      ]
     },
     "metadata": {},
     "execution_count": 28
    }
   ],
   "metadata": {}
  },
  {
   "cell_type": "markdown",
   "source": [
    "## Compute various molecular descriptors"
   ],
   "metadata": {}
  },
  {
   "cell_type": "code",
   "execution_count": 29,
   "source": [
    "from chembl_webresource_client.utils import utils\n",
    "\n",
    "aspirin = utils.smiles2ctab('O=C(Oc1ccccc1C(=O)O)C')\n",
    "descs = json.loads(utils.chemblDescriptors(aspirin))[0]\n",
    "descs"
   ],
   "outputs": [
    {
     "output_type": "execute_result",
     "data": {
      "text/plain": [
       "{'qed': 0.5501217966938848,\n",
       " 'MolWt': 180.15899999999996,\n",
       " 'TPSA': 63.60000000000001,\n",
       " 'HeavyAtomCount': 13,\n",
       " 'NumAromaticRings': 1,\n",
       " 'NumHAcceptors': 3,\n",
       " 'NumHDonors': 1,\n",
       " 'NumRotatableBonds': 2,\n",
       " 'MolLogP': 1.3100999999999998,\n",
       " 'MolecularFormula': 'C9H8O4',\n",
       " 'Ro3Pass': 0,\n",
       " 'NumRo5': 0,\n",
       " 'MonoisotopicMolWt': 180.042258736}"
      ]
     },
     "metadata": {},
     "execution_count": 29
    }
   ],
   "metadata": {}
  },
  {
   "cell_type": "markdown",
   "source": [
    "## Compute structural alerts"
   ],
   "metadata": {}
  },
  {
   "cell_type": "code",
   "execution_count": 30,
   "source": [
    "from chembl_webresource_client.utils import utils\n",
    "\n",
    "mol = utils.smiles2ctab(\"O=C(Oc1ccccc1C(=O)O)C\")\n",
    "alerts = json.loads(utils.structuralAlerts(mol))\n",
    "for a in alerts[0]:\n",
    "    print(a)"
   ],
   "outputs": [
    {
     "output_type": "stream",
     "name": "stdout",
     "text": [
      "{'alert_id': 1030, 'alert_name': 'Ester', 'set_name': 'MLSMR', 'smarts': '[#6]-C(=O)O-[#6]'}\n",
      "{'alert_id': 1069, 'alert_name': 'vinyl michael acceptor1', 'set_name': 'MLSMR', 'smarts': '[#6]-[CH1]=C-C(=O)[#6,#7,#8]'}\n"
     ]
    }
   ],
   "metadata": {}
  },
  {
   "cell_type": "markdown",
   "source": [
    "## Standardize a molecule"
   ],
   "metadata": {}
  },
  {
   "cell_type": "code",
   "execution_count": 31,
   "source": [
    "from chembl_webresource_client.utils import utils\n",
    "mol = utils.smiles2ctab(\"[Na]OC(=O)Cc1ccc(C[NH3+])cc1.c1nnn[n-]1.O\")\n",
    "st = json.loads(utils.standardize(mol))\n",
    "st"
   ],
   "outputs": [
    {
     "output_type": "execute_result",
     "data": {
      "text/plain": [
       "[{'standard_molblock': '\\n     RDKit          2D\\n\\n 19 17  0  0  0  0  0  0  0  0999 V2000\\n    0.0000   -3.0000    0.0000 O   0  0  0  0  0  0  0  0  0  0  0  0\\n   -5.5170   -1.9538    0.0000 Na  0  0  0  0  0 15  0  0  0  0  0  0\\n   -2.9244   -0.4442    0.0000 O   0  0  0  0  0  0  0  0  0  0  0  0\\n   -2.0602    0.0590    0.0000 C   0  0  0  0  0  0  0  0  0  0  0  0\\n   -2.0638    1.0590    0.0000 O   0  0  0  0  0  0  0  0  0  0  0  0\\n   -1.1924   -0.4380    0.0000 C   0  0  0  0  0  0  0  0  0  0  0  0\\n   -0.3282    0.0652    0.0000 C   0  0  0  0  0  0  0  0  0  0  0  0\\n    0.5396   -0.4318    0.0000 C   0  0  0  0  0  0  0  0  0  0  0  0\\n    1.4038    0.0714    0.0000 C   0  0  0  0  0  0  0  0  0  0  0  0\\n    1.4002    1.0714    0.0000 C   0  0  0  0  0  0  0  0  0  0  0  0\\n    2.2644    1.5744    0.0000 C   0  0  0  0  0  0  0  0  0  0  0  0\\n    2.2608    2.5744    0.0000 N   0  0  0  0  0  0  0  0  0  0  0  0\\n    0.5324    1.5682    0.0000 C   0  0  0  0  0  0  0  0  0  0  0  0\\n   -0.3318    1.0652    0.0000 C   0  0  0  0  0  0  0  0  0  0  0  0\\n    5.0649    2.8712    0.0000 C   0  0  0  0  0  0  0  0  0  0  0  0\\n    4.8623    1.8920    0.0000 N   0  0  0  0  0  0  0  0  0  0  0  0\\n    3.8683    1.7822    0.0000 N   0  0  0  0  0  0  0  0  0  0  0  0\\n    3.4567    2.6936    0.0000 N   0  0  0  0  0  0  0  0  0  0  0  0\\n    4.1963    3.3666    0.0000 N   0  0  0  0  0  0  0  0  0  0  0  0\\n  3  4  1  0\\n  4  5  2  0\\n  4  6  1  0\\n  6  7  1  0\\n  7  8  2  0\\n  8  9  1  0\\n  9 10  2  0\\n 10 11  1  0\\n 11 12  1  0\\n 10 13  1  0\\n 13 14  2  0\\n 14  7  1  0\\n 15 16  2  0\\n 16 17  1  0\\n 17 18  2  0\\n 18 19  1  0\\n 19 15  1  0\\nM  CHG  2   2   1   3  -1\\nM  END\\n'}]"
      ]
     },
     "metadata": {},
     "execution_count": 31
    }
   ],
   "metadata": {}
  },
  {
   "cell_type": "markdown",
   "source": [
    "## Calculate the parent molecule"
   ],
   "metadata": {}
  },
  {
   "cell_type": "code",
   "execution_count": 32,
   "source": [
    "from chembl_webresource_client.utils import utils\n",
    "\n",
    "mol = utils.smiles2ctab(\"[Na]OC(=O)Cc1ccc(C[NH3+])cc1.c1nnn[n-]1.[Na]\")\n",
    "par = json.loads(utils.getParent(mol))\n",
    "par"
   ],
   "outputs": [
    {
     "output_type": "execute_result",
     "data": {
      "text/plain": [
       "[{'parent_molblock': '\\n     RDKit          2D\\n\\n 18 18  0  0  0  0  0  0  0  0999 V2000\\n   -5.5170   -1.9538    0.0000 Na  0  0  0  0  0  1  0  0  0  0  0  0\\n   -2.9244   -0.4442    0.0000 O   0  0  0  0  0  0  0  0  0  0  0  0\\n   -2.0602    0.0590    0.0000 C   0  0  0  0  0  0  0  0  0  0  0  0\\n   -2.0638    1.0590    0.0000 O   0  0  0  0  0  0  0  0  0  0  0  0\\n   -1.1924   -0.4380    0.0000 C   0  0  0  0  0  0  0  0  0  0  0  0\\n   -0.3282    0.0652    0.0000 C   0  0  0  0  0  0  0  0  0  0  0  0\\n    0.5396   -0.4318    0.0000 C   0  0  0  0  0  0  0  0  0  0  0  0\\n    1.4038    0.0714    0.0000 C   0  0  0  0  0  0  0  0  0  0  0  0\\n    1.4002    1.0714    0.0000 C   0  0  0  0  0  0  0  0  0  0  0  0\\n    2.2644    1.5744    0.0000 C   0  0  0  0  0  0  0  0  0  0  0  0\\n    2.2608    2.5744    0.0000 N   0  0  0  0  0  0  0  0  0  0  0  0\\n    0.5324    1.5682    0.0000 C   0  0  0  0  0  0  0  0  0  0  0  0\\n   -0.3318    1.0652    0.0000 C   0  0  0  0  0  0  0  0  0  0  0  0\\n    5.0649    2.8712    0.0000 C   0  0  0  0  0  0  0  0  0  0  0  0\\n    4.8623    1.8920    0.0000 N   0  0  0  0  0  0  0  0  0  0  0  0\\n    3.8683    1.7822    0.0000 N   0  0  0  0  0  0  0  0  0  0  0  0\\n    3.4567    2.6936    0.0000 N   0  0  0  0  0  0  0  0  0  0  0  0\\n    4.1963    3.3666    0.0000 N   0  0  0  0  0  0  0  0  0  0  0  0\\n  1  2  1  0\\n  2  3  1  0\\n  3  4  2  0\\n  3  5  1  0\\n  5  6  1  0\\n  6  7  2  0\\n  7  8  1  0\\n  8  9  2  0\\n  9 10  1  0\\n 10 11  1  0\\n  9 12  1  0\\n 12 13  2  0\\n 13  6  1  0\\n 14 15  2  0\\n 15 16  1  0\\n 16 17  2  0\\n 17 18  1  0\\n 18 14  1  0\\nM  END\\n',\n",
       "  'exclude': False}]"
      ]
     },
     "metadata": {},
     "execution_count": 32
    }
   ],
   "metadata": {}
  },
  {
   "cell_type": "markdown",
   "source": [
    "# Targets"
   ],
   "metadata": {}
  },
  {
   "cell_type": "markdown",
   "source": [
    "## Find a target by gene name"
   ],
   "metadata": {}
  },
  {
   "cell_type": "code",
   "execution_count": 33,
   "source": [
    "from chembl_webresource_client.new_client import new_client\n",
    "\n",
    "target = new_client.target\n",
    "gene_name = 'BRD4'\n",
    "res = target.filter(target_synonym__icontains=gene_name)\n",
    "res"
   ],
   "outputs": [
    {
     "output_type": "execute_result",
     "data": {
      "text/plain": [
       "[{'cross_references': [{'xref_id': 'O60885', 'xref_name': None, 'xref_src': 'canSAR-Target'}, {'xref_id': 'BRD4', 'xref_name': None, 'xref_src': 'Wikipedia'}], 'organism': 'Homo sapiens', 'pref_name': 'Bromodomain-containing protein 4', 'species_group_flag': False, 'target_chembl_id': 'CHEMBL1163125', 'target_components': [{'accession': 'O60885', 'component_description': 'Bromodomain-containing protein 4', 'component_id': 5501, 'component_type': 'PROTEIN', 'relationship': 'SINGLE PROTEIN', 'target_component_synonyms': [{'component_synonym': 'BRD4', 'syn_type': 'GENE_SYMBOL'}, {'component_synonym': 'Bromodomain-containing protein 4', 'syn_type': 'UNIPROT'}, {'component_synonym': 'HUNK1', 'syn_type': 'GENE_SYMBOL_OTHER'}, {'component_synonym': 'Protein HUNK1', 'syn_type': 'UNIPROT'}], 'target_component_xrefs': [{'xref_id': 'BRD4', 'xref_name': 'BRD4', 'xref_src_db': 'TIMBAL'}, {'xref_id': 'PA25416', 'xref_name': 'bromodomain containing 4', 'xref_src_db': 'PharmGKB'}, {'xref_id': 'O60885', 'xref_name': 'Tchem', 'xref_src_db': 'Pharos'}, {'xref_id': 'O60885', 'xref_name': None, 'xref_src_db': 'UniProt'}, {'xref_id': 'O60433', 'xref_name': None, 'xref_src_db': 'UniProt'}, {'xref_id': 'Q4G0X8', 'xref_name': None, 'xref_src_db': 'UniProt'}, {'xref_id': 'Q86YS8', 'xref_name': None, 'xref_src_db': 'UniProt'}, {'xref_id': 'Q96PD3', 'xref_name': None, 'xref_src_db': 'UniProt'}, {'xref_id': 'O60885', 'xref_name': None, 'xref_src_db': 'ExpressionAtlas'}, {'xref_id': '5AD3', 'xref_name': 'A', 'xref_src_db': 'PDBe'}, {'xref_id': '5AD2', 'xref_name': 'A', 'xref_src_db': 'PDBe'}, {'xref_id': '6VIZ', 'xref_name': 'A', 'xref_src_db': 'PDBe'}, {'xref_id': '5TI3', 'xref_name': 'A', 'xref_src_db': 'PDBe'}, {'xref_id': '5TI2', 'xref_name': 'A', 'xref_src_db': 'PDBe'}, {'xref_id': '5TI5', 'xref_name': 'A', 'xref_src_db': 'PDBe'}, {'xref_id': '5TI4', 'xref_name': 'A', 'xref_src_db': 'PDBe'}, {'xref_id': '5TI7', 'xref_name': 'A', 'xref_src_db': 'PDBe'}, {'xref_id': '5TI6', 'xref_name': 'A', 'xref_src_db': 'PDBe'}, {'xref_id': '5Y1Y', 'xref_name': 'A', 'xref_src_db': 'PDBe'}, {'xref_id': '6VIX', 'xref_name': 'A', 'xref_src_db': 'PDBe'}, {'xref_id': '6VIW', 'xref_name': 'A', 'xref_src_db': 'PDBe'}, {'xref_id': '4PCI', 'xref_name': 'A', 'xref_src_db': 'PDBe'}, {'xref_id': '6HOV', 'xref_name': 'A', 'xref_src_db': 'PDBe'}, {'xref_id': '4CL9', 'xref_name': 'A', 'xref_src_db': 'PDBe'}, {'xref_id': '5H21', 'xref_name': 'A', 'xref_src_db': 'PDBe'}, {'xref_id': '5ULA', 'xref_name': 'A', 'xref_src_db': 'PDBe'}, {'xref_id': '6SE4', 'xref_name': 'A', 'xref_src_db': 'PDBe'}, {'xref_id': '5ACY', 'xref_name': 'A', 'xref_src_db': 'PDBe'}, {'xref_id': '4BJX', 'xref_name': 'A', 'xref_src_db': 'PDBe'}, {'xref_id': '5VOM', 'xref_name': 'A', 'xref_src_db': 'PDBe'}, {'xref_id': '5JWM', 'xref_name': 'A', 'xref_src_db': 'PDBe'}, {'xref_id': '4Z93', 'xref_name': 'A', 'xref_src_db': 'PDBe'}, {'xref_id': '6YQO', 'xref_name': 'A', 'xref_src_db': 'PDBe'}, {'xref_id': '6YQN', 'xref_name': 'A', 'xref_src_db': 'PDBe'}, {'xref_id': '6YQP', 'xref_name': 'A', 'xref_src_db': 'PDBe'}, {'xref_id': '5Z5U', 'xref_name': 'A', 'xref_src_db': 'PDBe'}, {'xref_id': '4CLB', 'xref_name': 'A', 'xref_src_db': 'PDBe'}, {'xref_id': '5Z5T', 'xref_name': 'A', 'xref_src_db': 'PDBe'}, {'xref_id': '5Z5V', 'xref_name': 'A', 'xref_src_db': 'PDBe'}, {'xref_id': '5DLX', 'xref_name': 'A', 'xref_src_db': 'PDBe'}, {'xref_id': '5DLZ', 'xref_name': 'A', 'xref_src_db': 'PDBe'}, {'xref_id': '4DON', 'xref_name': 'A', 'xref_src_db': 'PDBe'}, {'xref_id': '6FNX', 'xref_name': 'A', 'xref_src_db': 'PDBe'}, {'xref_id': '5Z90', 'xref_name': 'A', 'xref_src_db': 'PDBe'}, {'xref_id': '5Z8R', 'xref_name': 'A', 'xref_src_db': 'PDBe'}, {'xref_id': '5Z8G', 'xref_name': 'A', 'xref_src_db': 'PDBe'}, {'xref_id': '6FO5', 'xref_name': 'A', 'xref_src_db': 'PDBe'}, {'xref_id': '4F3I', 'xref_name': 'A', 'xref_src_db': 'PDBe'}, {'xref_id': '4HXL', 'xref_name': 'A', 'xref_src_db': 'PDBe'}, {'xref_id': '4HXM', 'xref_name': 'A', 'xref_src_db': 'PDBe'}, {'xref_id': '4HXN', 'xref_name': 'A', 'xref_src_db': 'PDBe'}, {'xref_id': '4HXO', 'xref_name': 'A', 'xref_src_db': 'PDBe'}, {'xref_id': '4HXP', 'xref_name': 'A', 'xref_src_db': 'PDBe'}, {'xref_id': '4HXR', 'xref_name': 'A', 'xref_src_db': 'PDBe'}, {'xref_id': '4HXS', 'xref_name': 'A', 'xref_src_db': 'PDBe'}, {'xref_id': '6DJC', 'xref_name': 'A', 'xref_src_db': 'PDBe'}, {'xref_id': '4HXK', 'xref_name': 'A', 'xref_src_db': 'PDBe'}, {'xref_id': '3U5K', 'xref_name': 'A', 'xref_src_db': 'PDBe'}, {'xref_id': '3U5L', 'xref_name': 'A', 'xref_src_db': 'PDBe'}, {'xref_id': '6CIY', 'xref_name': 'A', 'xref_src_db': 'PDBe'}, {'xref_id': '4OGI', 'xref_name': 'A', 'xref_src_db': 'PDBe'}, {'xref_id': '4OGJ', 'xref_name': 'A', 'xref_src_db': 'PDBe'}, {'xref_id': '6G0P', 'xref_name': 'A', 'xref_src_db': 'PDBe'}, {'xref_id': '6G0O', 'xref_name': 'A', 'xref_src_db': 'PDBe'}, {'xref_id': '6G0R', 'xref_name': 'A', 'xref_src_db': 'PDBe'}, {'xref_id': '6G0Q', 'xref_name': 'A', 'xref_src_db': 'PDBe'}, {'xref_id': '6CJ2', 'xref_name': 'A', 'xref_src_db': 'PDBe'}, {'xref_id': '5I88', 'xref_name': 'A', 'xref_src_db': 'PDBe'}, {'xref_id': '6CJ1', 'xref_name': 'A', 'xref_src_db': 'PDBe'}, {'xref_id': '6DL2', 'xref_name': 'A', 'xref_src_db': 'PDBe'}, {'xref_id': '6G0S', 'xref_name': 'A', 'xref_src_db': 'PDBe'}, {'xref_id': '5Z9K', 'xref_name': 'A', 'xref_src_db': 'PDBe'}, {'xref_id': '6CIS', 'xref_name': 'A', 'xref_src_db': 'PDBe'}, {'xref_id': '3U5J', 'xref_name': 'A', 'xref_src_db': 'PDBe'}, {'xref_id': '6G0H', 'xref_name': 'A', 'xref_src_db': 'PDBe'}, {'xref_id': '6ULV', 'xref_name': 'A', 'xref_src_db': 'PDBe'}, {'xref_id': '6G0G', 'xref_name': 'A', 'xref_src_db': 'PDBe'}, {'xref_id': '4XYA', 'xref_name': 'A', 'xref_src_db': 'PDBe'}, {'xref_id': '5I80', 'xref_name': 'A', 'xref_src_db': 'PDBe'}, {'xref_id': '5UOO', 'xref_name': 'A', 'xref_src_db': 'PDBe'}, {'xref_id': '4XY9', 'xref_name': 'A', 'xref_src_db': 'PDBe'}, {'xref_id': '6G0D', 'xref_name': 'A', 'xref_src_db': 'PDBe'}, {'xref_id': '5Z8Z', 'xref_name': 'A', 'xref_src_db': 'PDBe'}, {'xref_id': '6G0F', 'xref_name': 'A', 'xref_src_db': 'PDBe'}, {'xref_id': '6G0E', 'xref_name': 'A', 'xref_src_db': 'PDBe'}, {'xref_id': '6ULS', 'xref_name': 'A', 'xref_src_db': 'PDBe'}, {'xref_id': '6Z7L', 'xref_name': 'A', 'xref_src_db': 'PDBe'}, {'xref_id': '6Z7M', 'xref_name': 'A', 'xref_src_db': 'PDBe'}, {'xref_id': '5Y94', 'xref_name': 'A', 'xref_src_db': 'PDBe'}, {'xref_id': '5Y93', 'xref_name': 'A', 'xref_src_db': 'PDBe'}, {'xref_id': '5E0R', 'xref_name': 'A', 'xref_src_db': 'PDBe'}, {'xref_id': '6Z7G', 'xref_name': 'A', 'xref_src_db': 'PDBe'}, {'xref_id': '6AFR', 'xref_name': 'A', 'xref_src_db': 'PDBe'}, {'xref_id': '5Y8C', 'xref_name': 'A', 'xref_src_db': 'PDBe'}, {'xref_id': '3UVW', 'xref_name': 'A', 'xref_src_db': 'PDBe'}, {'xref_id': '3UVX', 'xref_name': 'A', 'xref_src_db': 'PDBe'}, {'xref_id': '3UW9', 'xref_name': 'A', 'xref_src_db': 'PDBe'}, {'xref_id': '3UVY', 'xref_name': 'A', 'xref_src_db': 'PDBe'}, {'xref_id': '6SIS', 'xref_name': 'A', 'xref_src_db': 'PDBe'}, {'xref_id': '6XV3', 'xref_name': 'A', 'xref_src_db': 'PDBe'}, {'xref_id': '6CKS', 'xref_name': 'A', 'xref_src_db': 'PDBe'}, {'xref_id': '6CKR', 'xref_name': 'A', 'xref_src_db': 'PDBe'}, {'xref_id': '6DMJ', 'xref_name': 'A', 'xref_src_db': 'PDBe'}, {'xref_id': '6DML', 'xref_name': 'A', 'xref_src_db': 'PDBe'}, {'xref_id': '5Y8W', 'xref_name': 'A', 'xref_src_db': 'PDBe'}, {'xref_id': '5W55', 'xref_name': 'A', 'xref_src_db': 'PDBe'}, {'xref_id': '5WUU', 'xref_name': 'A', 'xref_src_db': 'PDBe'}, {'xref_id': '5Y8Y', 'xref_name': 'A', 'xref_src_db': 'PDBe'}, {'xref_id': '5Y8Z', 'xref_name': 'A', 'xref_src_db': 'PDBe'}, {'xref_id': '6V1L', 'xref_name': 'A', 'xref_src_db': 'PDBe'}, {'xref_id': '6V1K', 'xref_name': 'A', 'xref_src_db': 'PDBe'}, {'xref_id': '5U2C', 'xref_name': 'A', 'xref_src_db': 'PDBe'}, {'xref_id': '5CP5', 'xref_name': 'A', 'xref_src_db': 'PDBe'}, {'xref_id': '5U2E', 'xref_name': 'A', 'xref_src_db': 'PDBe'}, {'xref_id': '6I7Y', 'xref_name': 'A', 'xref_src_db': 'PDBe'}, {'xref_id': '5U2F', 'xref_name': 'A', 'xref_src_db': 'PDBe'}, {'xref_id': '6I7X', 'xref_name': 'A', 'xref_src_db': 'PDBe'}, {'xref_id': '5COI', 'xref_name': 'A', 'xref_src_db': 'PDBe'}, {'xref_id': '6XVC', 'xref_name': 'A', 'xref_src_db': 'PDBe'}, {'xref_id': '4MEN', 'xref_name': 'A', 'xref_src_db': 'PDBe'}, {'xref_id': '6XV7', 'xref_name': 'A', 'xref_src_db': 'PDBe'}, {'xref_id': '4MEO', 'xref_name': 'A', 'xref_src_db': 'PDBe'}, {'xref_id': '5D0C', 'xref_name': 'A', 'xref_src_db': 'PDBe'}, {'xref_id': '4MEP', 'xref_name': 'A', 'xref_src_db': 'PDBe'}, {'xref_id': '6DNE', 'xref_name': 'A', 'xref_src_db': 'PDBe'}, {'xref_id': '6V0U', 'xref_name': 'A', 'xref_src_db': 'PDBe'}, {'xref_id': '4MEQ', 'xref_name': 'A', 'xref_src_db': 'PDBe'}, {'xref_id': '6XUZ', 'xref_name': 'A', 'xref_src_db': 'PDBe'}, {'xref_id': '5U28', 'xref_name': 'A', 'xref_src_db': 'PDBe'}, {'xref_id': '3SVF', 'xref_name': 'A', 'xref_src_db': 'PDBe'}, {'xref_id': '5D24', 'xref_name': 'A', 'xref_src_db': 'PDBe'}, {'xref_id': '3SVG', 'xref_name': 'A', 'xref_src_db': 'PDBe'}, {'xref_id': '6FT4', 'xref_name': 'A', 'xref_src_db': 'PDBe'}, {'xref_id': '5D26', 'xref_name': 'A', 'xref_src_db': 'PDBe'}, {'xref_id': '6U0D', 'xref_name': 'A', 'xref_src_db': 'PDBe'}, {'xref_id': '5D25', 'xref_name': 'A', 'xref_src_db': 'PDBe'}, {'xref_id': '5F5Z', 'xref_name': 'A', 'xref_src_db': 'PDBe'}, {'xref_id': '6FSY', 'xref_name': 'A', 'xref_src_db': 'PDBe'}, {'xref_id': '5F60', 'xref_name': 'A', 'xref_src_db': 'PDBe'}, {'xref_id': '2NNU', 'xref_name': 'A', 'xref_src_db': 'PDBe'}, {'xref_id': '5F62', 'xref_name': 'A', 'xref_src_db': 'PDBe'}, {'xref_id': '5F61', 'xref_name': 'A', 'xref_src_db': 'PDBe'}, {'xref_id': '6FT3', 'xref_name': 'A', 'xref_src_db': 'PDBe'}, {'xref_id': '5F63', 'xref_name': 'A', 'xref_src_db': 'PDBe'}, {'xref_id': '5CPE', 'xref_name': 'A', 'xref_src_db': 'PDBe'}, {'xref_id': '6V1U', 'xref_name': 'A', 'xref_src_db': 'PDBe'}, {'xref_id': '6AJX', 'xref_name': 'A', 'xref_src_db': 'PDBe'}, {'xref_id': '6AJW', 'xref_name': 'A', 'xref_src_db': 'PDBe'}, {'xref_id': '6AJY', 'xref_name': 'A', 'xref_src_db': 'PDBe'}, {'xref_id': '5CQT', 'xref_name': 'A', 'xref_src_db': 'PDBe'}, {'xref_id': '6AJV', 'xref_name': 'A', 'xref_src_db': 'PDBe'}, {'xref_id': '6MAU', 'xref_name': 'A', 'xref_src_db': 'PDBe'}, {'xref_id': '6X7B', 'xref_name': 'A', 'xref_src_db': 'PDBe'}, {'xref_id': '2YEL', 'xref_name': 'A', 'xref_src_db': 'PDBe'}, {'xref_id': '6X7D', 'xref_name': 'A', 'xref_src_db': 'PDBe'}, {'xref_id': '2YEM', 'xref_name': 'A', 'xref_src_db': 'PDBe'}, {'xref_id': '6X7C', 'xref_name': 'A', 'xref_src_db': 'PDBe'}, {'xref_id': '5V67', 'xref_name': 'A', 'xref_src_db': 'PDBe'}, {'xref_id': '4ZC9', 'xref_name': 'A', 'xref_src_db': 'PDBe'}, {'xref_id': '5UVS', 'xref_name': 'A', 'xref_src_db': 'PDBe'}, {'xref_id': '4QR3', 'xref_name': 'A', 'xref_src_db': 'PDBe'}, {'xref_id': '5UVU', 'xref_name': 'A', 'xref_src_db': 'PDBe'}, {'xref_id': '4QR4', 'xref_name': 'A', 'xref_src_db': 'PDBe'}, {'xref_id': '5UVT', 'xref_name': 'A', 'xref_src_db': 'PDBe'}, {'xref_id': '6VUF', 'xref_name': 'A', 'xref_src_db': 'PDBe'}, {'xref_id': '5D3T', 'xref_name': 'A', 'xref_src_db': 'PDBe'}, {'xref_id': '2OSS', 'xref_name': 'A', 'xref_src_db': 'PDBe'}, {'xref_id': '5CS8', 'xref_name': 'A', 'xref_src_db': 'PDBe'}, {'xref_id': '6BN7', 'xref_name': 'A', 'xref_src_db': 'PDBe'}, {'xref_id': '6VUJ', 'xref_name': 'A', 'xref_src_db': 'PDBe'}, {'xref_id': '6BN9', 'xref_name': 'A', 'xref_src_db': 'PDBe'}, {'xref_id': '5CRZ', 'xref_name': 'A', 'xref_src_db': 'PDBe'}, {'xref_id': '6BN8', 'xref_name': 'A', 'xref_src_db': 'PDBe'}, {'xref_id': '5CRM', 'xref_name': 'A', 'xref_src_db': 'PDBe'}, {'xref_id': '5D3L', 'xref_name': 'A', 'xref_src_db': 'PDBe'}, {'xref_id': '6TPZ', 'xref_name': 'A', 'xref_src_db': 'PDBe'}, {'xref_id': '5D3N', 'xref_name': 'A', 'xref_src_db': 'PDBe'}, {'xref_id': '4UYD', 'xref_name': 'A', 'xref_src_db': 'PDBe'}, {'xref_id': '6VUB', 'xref_name': 'A', 'xref_src_db': 'PDBe'}, {'xref_id': '5D3P', 'xref_name': 'A', 'xref_src_db': 'PDBe'}, {'xref_id': '4E96', 'xref_name': 'A', 'xref_src_db': 'PDBe'}, {'xref_id': '5D3S', 'xref_name': 'A', 'xref_src_db': 'PDBe'}, {'xref_id': '5D3R', 'xref_name': 'A', 'xref_src_db': 'PDBe'}, {'xref_id': '6VUC', 'xref_name': 'A', 'xref_src_db': 'PDBe'}, {'xref_id': '5T35', 'xref_name': 'A', 'xref_src_db': 'PDBe'}, {'xref_id': '6WW8', 'xref_name': 'A', 'xref_src_db': 'PDBe'}, {'xref_id': '5D3H', 'xref_name': 'A', 'xref_src_db': 'PDBe'}, {'xref_id': '6TPY', 'xref_name': 'A', 'xref_src_db': 'PDBe'}, {'xref_id': '5D3J', 'xref_name': 'A', 'xref_src_db': 'PDBe'}, {'xref_id': '6TPX', 'xref_name': 'A', 'xref_src_db': 'PDBe'}, {'xref_id': '6E4A', 'xref_name': 'A', 'xref_src_db': 'PDBe'}, {'xref_id': '4C67', 'xref_name': 'A', 'xref_src_db': 'PDBe'}, {'xref_id': '4C66', 'xref_name': 'A', 'xref_src_db': 'PDBe'}, {'xref_id': '4QR5', 'xref_name': 'A', 'xref_src_db': 'PDBe'}, {'xref_id': '5UVW', 'xref_name': 'A', 'xref_src_db': 'PDBe'}, {'xref_id': '5UVV', 'xref_name': 'A', 'xref_src_db': 'PDBe'}, {'xref_id': '6BNB', 'xref_name': 'A', 'xref_src_db': 'PDBe'}, {'xref_id': '5UVY', 'xref_name': 'A', 'xref_src_db': 'PDBe'}, {'xref_id': '5UVX', 'xref_name': 'A', 'xref_src_db': 'PDBe'}, {'xref_id': '5UVZ', 'xref_name': 'A', 'xref_src_db': 'PDBe'}, {'xref_id': '2OUO', 'xref_name': 'A', 'xref_src_db': 'PDBe'}, {'xref_id': '5KDH', 'xref_name': 'A', 'xref_src_db': 'PDBe'}, {'xref_id': '5VZS', 'xref_name': 'A', 'xref_src_db': 'PDBe'}, {'xref_id': '6BOY', 'xref_name': 'A', 'xref_src_db': 'PDBe'}, {'xref_id': '5DW2', 'xref_name': 'A', 'xref_src_db': 'PDBe'}, {'xref_id': '7AJN', 'xref_name': 'A', 'xref_src_db': 'PDBe'}, {'xref_id': '5CTL', 'xref_name': 'A', 'xref_src_db': 'PDBe'}, {'xref_id': '4PS5', 'xref_name': 'A', 'xref_src_db': 'PDBe'}, {'xref_id': '6UVJ', 'xref_name': 'A', 'xref_src_db': 'PDBe'}, {'xref_id': '6UVM', 'xref_name': 'A', 'xref_src_db': 'PDBe'}, {'xref_id': '4BW1', 'xref_name': 'A', 'xref_src_db': 'PDBe'}, {'xref_id': '4BW2', 'xref_name': 'A', 'xref_src_db': 'PDBe'}, {'xref_id': '4BW3', 'xref_name': 'A', 'xref_src_db': 'PDBe'}, {'xref_id': '5DX4', 'xref_name': 'A', 'xref_src_db': 'PDBe'}, {'xref_id': '4BW4', 'xref_name': 'A', 'xref_src_db': 'PDBe'}, {'xref_id': '5BT4', 'xref_name': 'A', 'xref_src_db': 'PDBe'}, {'xref_id': '6U72', 'xref_name': 'A', 'xref_src_db': 'PDBe'}, {'xref_id': '6UWU', 'xref_name': 'A', 'xref_src_db': 'PDBe'}, {'xref_id': '6U74', 'xref_name': 'A', 'xref_src_db': 'PDBe'}, {'xref_id': '6U6L', 'xref_name': 'A', 'xref_src_db': 'PDBe'}, {'xref_id': '6U6K', 'xref_name': 'A', 'xref_src_db': 'PDBe'}, {'xref_id': '3P5O', 'xref_name': 'A', 'xref_src_db': 'PDBe'}, {'xref_id': '4HBV', 'xref_name': 'A', 'xref_src_db': 'PDBe'}, {'xref_id': '4HBW', 'xref_name': 'A', 'xref_src_db': 'PDBe'}, {'xref_id': '4HBX', 'xref_name': 'A', 'xref_src_db': 'PDBe'}, {'xref_id': '4HBY', 'xref_name': 'A', 'xref_src_db': 'PDBe'}, {'xref_id': '6DUV', 'xref_name': 'A', 'xref_src_db': 'PDBe'}, {'xref_id': '6S25', 'xref_name': 'A', 'xref_src_db': 'PDBe'}, {'xref_id': '5LJ2', 'xref_name': 'A', 'xref_src_db': 'PDBe'}, {'xref_id': '5LJ1', 'xref_name': 'A', 'xref_src_db': 'PDBe'}, {'xref_id': '6ZB3', 'xref_name': 'A', 'xref_src_db': 'PDBe'}, {'xref_id': '6MH1', 'xref_name': 'A', 'xref_src_db': 'PDBe'}, {'xref_id': '6UWX', 'xref_name': 'A', 'xref_src_db': 'PDBe'}, {'xref_id': '6MH7', 'xref_name': 'A', 'xref_src_db': 'PDBe'}, {'xref_id': '6KEI', 'xref_name': 'A', 'xref_src_db': 'PDBe'}, {'xref_id': '6KEH', 'xref_name': 'A', 'xref_src_db': 'PDBe'}, {'xref_id': '5KHM', 'xref_name': 'A', 'xref_src_db': 'PDBe'}, {'xref_id': '6KEK', 'xref_name': 'A', 'xref_src_db': 'PDBe'}, {'xref_id': '6KEJ', 'xref_name': 'A', 'xref_src_db': 'PDBe'}, {'xref_id': '5NNF', 'xref_name': 'A', 'xref_src_db': 'PDBe'}, {'xref_id': '5NNE', 'xref_name': 'A', 'xref_src_db': 'PDBe'}, {'xref_id': '6U8I', 'xref_name': 'A', 'xref_src_db': 'PDBe'}, {'xref_id': '6KEC', 'xref_name': 'A', 'xref_src_db': 'PDBe'}, {'xref_id': '5NNG', 'xref_name': 'A', 'xref_src_db': 'PDBe'}, {'xref_id': '5MLI', 'xref_name': 'A', 'xref_src_db': 'PDBe'}, {'xref_id': '6KEE', 'xref_name': 'A', 'xref_src_db': 'PDBe'}, {'xref_id': '6KED', 'xref_name': 'A', 'xref_src_db': 'PDBe'}, {'xref_id': '6U8M', 'xref_name': 'A', 'xref_src_db': 'PDBe'}, {'xref_id': '4NQM', 'xref_name': 'A', 'xref_src_db': 'PDBe'}, {'xref_id': '6KEG', 'xref_name': 'A', 'xref_src_db': 'PDBe'}, {'xref_id': '6KEF', 'xref_name': 'A', 'xref_src_db': 'PDBe'}, {'xref_id': '6LG9', 'xref_name': 'A', 'xref_src_db': 'PDBe'}, {'xref_id': '6S4B', 'xref_name': 'A', 'xref_src_db': 'PDBe'}, {'xref_id': '5NND', 'xref_name': 'A', 'xref_src_db': 'PDBe'}, {'xref_id': '5CY9', 'xref_name': 'A', 'xref_src_db': 'PDBe'}, {'xref_id': '5NNC', 'xref_name': 'A', 'xref_src_db': 'PDBe'}, {'xref_id': '6U8G', 'xref_name': 'A', 'xref_src_db': 'PDBe'}, {'xref_id': '6LG4', 'xref_name': 'A', 'xref_src_db': 'PDBe'}, {'xref_id': '6LG6', 'xref_name': 'A', 'xref_src_db': 'PDBe'}, {'xref_id': '6LG5', 'xref_name': 'A', 'xref_src_db': 'PDBe'}, {'xref_id': '5MKZ', 'xref_name': 'A', 'xref_src_db': 'PDBe'}, {'xref_id': '6LG8', 'xref_name': 'A', 'xref_src_db': 'PDBe'}, {'xref_id': '6LG7', 'xref_name': 'A', 'xref_src_db': 'PDBe'}, {'xref_id': '5HCL', 'xref_name': 'A', 'xref_src_db': 'PDBe'}, {'xref_id': '5KJ0', 'xref_name': 'A', 'xref_src_db': 'PDBe'}, {'xref_id': '6P05', 'xref_name': 'A', 'xref_src_db': 'PDBe'}, {'xref_id': '4YH3', 'xref_name': 'A', 'xref_src_db': 'PDBe'}, {'xref_id': '4YH4', 'xref_name': 'A', 'xref_src_db': 'PDBe'}, {'xref_id': '5WA5', 'xref_name': 'A', 'xref_src_db': 'PDBe'}, {'xref_id': '6ZCI', 'xref_name': 'A', 'xref_src_db': 'PDBe'}, {'xref_id': '4NR8', 'xref_name': 'A', 'xref_src_db': 'PDBe'}, {'xref_id': '4MR3', 'xref_name': 'A', 'xref_src_db': 'PDBe'}, {'xref_id': '4MR4', 'xref_name': 'A', 'xref_src_db': 'PDBe'}, {'xref_id': '6LIM', 'xref_name': 'A', 'xref_src_db': 'PDBe'}, {'xref_id': '6S6K', 'xref_name': 'A', 'xref_src_db': 'PDBe'}, {'xref_id': '6LIH', 'xref_name': 'A', 'xref_src_db': 'PDBe'}, {'xref_id': '6SWN', 'xref_name': 'A', 'xref_src_db': 'PDBe'}, {'xref_id': '6SWQ', 'xref_name': 'A', 'xref_src_db': 'PDBe'}, {'xref_id': '5A5S', 'xref_name': 'A', 'xref_src_db': 'PDBe'}, {'xref_id': '5IGK', 'xref_name': 'A', 'xref_src_db': 'PDBe'}, {'xref_id': '6PRT', 'xref_name': 'A', 'xref_src_db': 'PDBe'}, {'xref_id': '4QZS', 'xref_name': 'A', 'xref_src_db': 'PDBe'}, {'xref_id': '6ZF9', 'xref_name': 'A', 'xref_src_db': 'PDBe'}, {'xref_id': '6C7R', 'xref_name': 'A', 'xref_src_db': 'PDBe'}, {'xref_id': '6ZEL', 'xref_name': 'A', 'xref_src_db': 'PDBe'}, {'xref_id': '4A9L', 'xref_name': 'A', 'xref_src_db': 'PDBe'}, {'xref_id': '6ZED', 'xref_name': 'A', 'xref_src_db': 'PDBe'}, {'xref_id': '6C7Q', 'xref_name': 'A', 'xref_src_db': 'PDBe'}, {'xref_id': '4O74', 'xref_name': 'A', 'xref_src_db': 'PDBe'}, {'xref_id': '4O75', 'xref_name': 'A', 'xref_src_db': 'PDBe'}, {'xref_id': '4O76', 'xref_name': 'A', 'xref_src_db': 'PDBe'}, {'xref_id': '4O77', 'xref_name': 'A', 'xref_src_db': 'PDBe'}, {'xref_id': '4LR6', 'xref_name': 'A', 'xref_src_db': 'PDBe'}, {'xref_id': '4O78', 'xref_name': 'A', 'xref_src_db': 'PDBe'}, {'xref_id': '4O70', 'xref_name': 'A', 'xref_src_db': 'PDBe'}, {'xref_id': '4O71', 'xref_name': 'A', 'xref_src_db': 'PDBe'}, {'xref_id': '4O72', 'xref_name': 'A', 'xref_src_db': 'PDBe'}, {'xref_id': '4NUC', 'xref_name': 'A', 'xref_src_db': 'PDBe'}, {'xref_id': '5A85', 'xref_name': 'A', 'xref_src_db': 'PDBe'}, {'xref_id': '6PSB', 'xref_name': 'A', 'xref_src_db': 'PDBe'}, {'xref_id': '4NUD', 'xref_name': 'A', 'xref_src_db': 'PDBe'}, {'xref_id': '4NUE', 'xref_name': 'A', 'xref_src_db': 'PDBe'}, {'xref_id': '6RWJ', 'xref_name': 'A', 'xref_src_db': 'PDBe'}, {'xref_id': '6Q3Y', 'xref_name': 'A', 'xref_src_db': 'PDBe'}, {'xref_id': '6PS9', 'xref_name': 'A', 'xref_src_db': 'PDBe'}, {'xref_id': '6Q3Z', 'xref_name': 'A', 'xref_src_db': 'PDBe'}, {'xref_id': '6HDQ', 'xref_name': 'A', 'xref_src_db': 'PDBe'}, {'xref_id': '6JI4', 'xref_name': 'A', 'xref_src_db': 'PDBe'}, {'xref_id': '6JI3', 'xref_name': 'A', 'xref_src_db': 'PDBe'}, {'xref_id': '5N2M', 'xref_name': 'A', 'xref_src_db': 'PDBe'}, {'xref_id': '6CZV', 'xref_name': 'A', 'xref_src_db': 'PDBe'}, {'xref_id': '4O7E', 'xref_name': 'A', 'xref_src_db': 'PDBe'}, {'xref_id': '6CZU', 'xref_name': 'A', 'xref_src_db': 'PDBe'}, {'xref_id': '4O7F', 'xref_name': 'A', 'xref_src_db': 'PDBe'}, {'xref_id': '4LRG', 'xref_name': 'A', 'xref_src_db': 'PDBe'}, {'xref_id': '5VBP', 'xref_name': 'A', 'xref_src_db': 'PDBe'}, {'xref_id': '5VBO', 'xref_name': 'A', 'xref_src_db': 'PDBe'}, {'xref_id': '4O7A', 'xref_name': 'A', 'xref_src_db': 'PDBe'}, {'xref_id': '4O7B', 'xref_name': 'A', 'xref_src_db': 'PDBe'}, {'xref_id': '5FBX', 'xref_name': 'A', 'xref_src_db': 'PDBe'}, {'xref_id': '4O7C', 'xref_name': 'A', 'xref_src_db': 'PDBe'}, {'xref_id': '6JJ3', 'xref_name': 'A', 'xref_src_db': 'PDBe'}, {'xref_id': '6JJ5', 'xref_name': 'A', 'xref_src_db': 'PDBe'}, {'xref_id': '4WHW', 'xref_name': 'A', 'xref_src_db': 'PDBe'}, {'xref_id': '3MXF', 'xref_name': 'A', 'xref_src_db': 'PDBe'}, {'xref_id': '6JI5', 'xref_name': 'A', 'xref_src_db': 'PDBe'}, {'xref_id': '5OVB', 'xref_name': 'A', 'xref_src_db': 'PDBe'}, {'xref_id': '5OWW', 'xref_name': 'A', 'xref_src_db': 'PDBe'}, {'xref_id': '5M39', 'xref_name': 'A', 'xref_src_db': 'PDBe'}, {'xref_id': '4WIV', 'xref_name': 'A', 'xref_src_db': 'PDBe'}, {'xref_id': '5OWM', 'xref_name': 'A', 'xref_src_db': 'PDBe'}, {'xref_id': '5XHY', 'xref_name': 'A', 'xref_src_db': 'PDBe'}, {'xref_id': '5XI3', 'xref_name': 'A', 'xref_src_db': 'PDBe'}, {'xref_id': '5XI2', 'xref_name': 'A', 'xref_src_db': 'PDBe'}, {'xref_id': '6JJB', 'xref_name': 'A', 'xref_src_db': 'PDBe'}, {'xref_id': '5XI4', 'xref_name': 'A', 'xref_src_db': 'PDBe'}, {'xref_id': '6JJ6', 'xref_name': 'A', 'xref_src_db': 'PDBe'}, {'xref_id': '4IOR', 'xref_name': 'A', 'xref_src_db': 'PDBe'}, {'xref_id': '4J0R', 'xref_name': 'A', 'xref_src_db': 'PDBe'}, {'xref_id': '4J0S', 'xref_name': 'A', 'xref_src_db': 'PDBe'}, {'xref_id': '4IOO', 'xref_name': 'A', 'xref_src_db': 'PDBe'}, {'xref_id': '4IOQ', 'xref_name': 'A', 'xref_src_db': 'PDBe'}, {'xref_id': '5LRQ', 'xref_name': 'A', 'xref_src_db': 'PDBe'}, {'xref_id': '5M3A', 'xref_name': 'A', 'xref_src_db': 'PDBe'}, {'xref_id': '5O97', 'xref_name': 'A', 'xref_src_db': 'PDBe'}, {'xref_id': '6KO2', 'xref_name': 'A', 'xref_src_db': 'PDBe'}, {'xref_id': '6YIN', 'xref_name': 'A', 'xref_src_db': 'PDBe'}, {'xref_id': '5HLS', 'xref_name': 'A', 'xref_src_db': 'PDBe'}, {'xref_id': '5UEV', 'xref_name': 'A', 'xref_src_db': 'PDBe'}, {'xref_id': '5UEU', 'xref_name': 'A', 'xref_src_db': 'PDBe'}, {'xref_id': '4KV1', 'xref_name': 'A', 'xref_src_db': 'PDBe'}, {'xref_id': '5UEX', 'xref_name': 'A', 'xref_src_db': 'PDBe'}, {'xref_id': '5UEZ', 'xref_name': 'A', 'xref_src_db': 'PDBe'}, {'xref_id': '4KV4', 'xref_name': 'A', 'xref_src_db': 'PDBe'}, {'xref_id': '5UEY', 'xref_name': 'A', 'xref_src_db': 'PDBe'}, {'xref_id': '5HM0', 'xref_name': 'A', 'xref_src_db': 'PDBe'}, {'xref_id': '4Z1S', 'xref_name': 'A', 'xref_src_db': 'PDBe'}, {'xref_id': '5UEP', 'xref_name': 'A', 'xref_src_db': 'PDBe'}, {'xref_id': '5UEO', 'xref_name': 'A', 'xref_src_db': 'PDBe'}, {'xref_id': '5UF0', 'xref_name': 'A', 'xref_src_db': 'PDBe'}, {'xref_id': '5UER', 'xref_name': 'A', 'xref_src_db': 'PDBe'}, {'xref_id': '5UEQ', 'xref_name': 'A', 'xref_src_db': 'PDBe'}, {'xref_id': '5UET', 'xref_name': 'A', 'xref_src_db': 'PDBe'}, {'xref_id': '5UES', 'xref_name': 'A', 'xref_src_db': 'PDBe'}, {'xref_id': '4Z1Q', 'xref_name': 'A', 'xref_src_db': 'PDBe'}, {'xref_id': '5EGU', 'xref_name': 'A', 'xref_src_db': 'PDBe'}, {'xref_id': '4UIX', 'xref_name': 'A', 'xref_src_db': 'PDBe'}, {'xref_id': '4UIY', 'xref_name': 'A', 'xref_src_db': 'PDBe'}, {'xref_id': '4UIZ', 'xref_name': 'A', 'xref_src_db': 'PDBe'}, {'xref_id': '6WGX', 'xref_name': 'A', 'xref_src_db': 'PDBe'}, {'xref_id': '4CFK', 'xref_name': 'A', 'xref_src_db': 'PDBe'}, {'xref_id': '4CFL', 'xref_name': 'A', 'xref_src_db': 'PDBe'}, {'xref_id': '5LUU', 'xref_name': 'A', 'xref_src_db': 'PDBe'}, {'xref_id': '4J3I', 'xref_name': 'A', 'xref_src_db': 'PDBe'}, {'xref_id': '4QB3', 'xref_name': 'A', 'xref_src_db': 'PDBe'}, {'xref_id': '6FFD', 'xref_name': 'A', 'xref_src_db': 'PDBe'}, {'xref_id': '5EI4', 'xref_name': 'A', 'xref_src_db': 'PDBe'}, {'xref_id': '4LYS', 'xref_name': 'A', 'xref_src_db': 'PDBe'}, {'xref_id': '5KU3', 'xref_name': 'A', 'xref_src_db': 'PDBe'}, {'xref_id': '4LYW', 'xref_name': 'A', 'xref_src_db': 'PDBe'}, {'xref_id': '6IN1', 'xref_name': 'A', 'xref_src_db': 'PDBe'}, {'xref_id': '4LYI', 'xref_name': 'A', 'xref_src_db': 'PDBe'}, {'xref_id': '5YOV', 'xref_name': 'A', 'xref_src_db': 'PDBe'}, {'xref_id': '5YOU', 'xref_name': 'A', 'xref_src_db': 'PDBe'}, {'xref_id': '6SA3', 'xref_name': 'A', 'xref_src_db': 'PDBe'}, {'xref_id': '6SA2', 'xref_name': 'A', 'xref_src_db': 'PDBe'}, {'xref_id': '7A9U', 'xref_name': 'A', 'xref_src_db': 'PDBe'}, {'xref_id': '5WMD', 'xref_name': 'A', 'xref_src_db': 'PDBe'}, {'xref_id': '5EIS', 'xref_name': 'A', 'xref_src_db': 'PDBe'}, {'xref_id': '5WMG', 'xref_name': 'A', 'xref_src_db': 'PDBe'}, {'xref_id': '4LZR', 'xref_name': 'A', 'xref_src_db': 'PDBe'}, {'xref_id': '4LZS', 'xref_name': 'A', 'xref_src_db': 'PDBe'}, {'xref_id': '6SB8', 'xref_name': 'A', 'xref_src_db': 'PDBe'}, {'xref_id': '5WMA', 'xref_name': 'A', 'xref_src_db': 'PDBe'}, {'xref_id': '5Z1T', 'xref_name': 'A', 'xref_src_db': 'PDBe'}, {'xref_id': '4GPJ', 'xref_name': 'A', 'xref_src_db': 'PDBe'}, {'xref_id': '6SAH', 'xref_name': 'A', 'xref_src_db': 'PDBe'}, {'xref_id': '5Z1S', 'xref_name': 'A', 'xref_src_db': 'PDBe'}, {'xref_id': '5Z1R', 'xref_name': 'A', 'xref_src_db': 'PDBe'}, {'xref_id': '6SAJ', 'xref_name': 'A', 'xref_src_db': 'PDBe'}, {'xref_id': '5HQ7', 'xref_name': 'A', 'xref_src_db': 'PDBe'}, {'xref_id': '5HQ6', 'xref_name': 'A', 'xref_src_db': 'PDBe'}, {'xref_id': '4X2I', 'xref_name': 'A', 'xref_src_db': 'PDBe'}, {'xref_id': '6CD4', 'xref_name': 'A', 'xref_src_db': 'PDBe'}, {'xref_id': '4PCE', 'xref_name': 'A', 'xref_src_db': 'PDBe'}, {'xref_id': '5CFW', 'xref_name': 'A', 'xref_src_db': 'PDBe'}, {'xref_id': '6CD5', 'xref_name': 'A', 'xref_src_db': 'PDBe'}, {'xref_id': '5HQ5', 'xref_name': 'A', 'xref_src_db': 'PDBe'}, {'xref_id': '5YQX', 'xref_name': 'A', 'xref_src_db': 'PDBe'}, {'xref_id': '4ZW1', 'xref_name': 'A', 'xref_src_db': 'PDBe'}, {'xref_id': '3ZYU', 'xref_name': 'A', 'xref_src_db': 'PDBe'}, {'xref_id': 'O60885', 'xref_name': None, 'xref_src_db': 'IntAct'}, {'xref_id': 'IPR031354', 'xref_name': 'BRD4_CDT.', 'xref_src_db': 'InterPro'}, {'xref_id': 'IPR036427', 'xref_name': 'Bromodomain-like_sf.', 'xref_src_db': 'InterPro'}, {'xref_id': 'IPR043509', 'xref_name': 'Bromo_Brdt_II.', 'xref_src_db': 'InterPro'}, {'xref_id': 'IPR027353', 'xref_name': 'NET_dom.', 'xref_src_db': 'InterPro'}, {'xref_id': 'IPR043508', 'xref_name': 'Bromo_Brdt_I.', 'xref_src_db': 'InterPro'}, {'xref_id': 'IPR001487', 'xref_name': 'Bromodomain.', 'xref_src_db': 'InterPro'}, {'xref_id': 'IPR018359', 'xref_name': 'Bromodomain_CS.', 'xref_src_db': 'InterPro'}, {'xref_id': 'IPR038336', 'xref_name': 'NET_sf.', 'xref_src_db': 'InterPro'}, {'xref_id': 'PF00439', 'xref_name': 'Bromodomain', 'xref_src_db': 'Pfam'}, {'xref_id': 'PF17035', 'xref_name': 'BET', 'xref_src_db': 'Pfam'}, {'xref_id': 'PF17105', 'xref_name': 'BRD4_CDT', 'xref_src_db': 'Pfam'}, {'xref_id': 'R-HSA-9679191', 'xref_name': 'Potential therapeutics for SARS.', 'xref_src_db': 'Reactome'}, {'xref_id': '1945', 'xref_name': None, 'xref_src_db': 'GuideToPHARMACOLOGY'}, {'xref_id': 'ENSG00000141867', 'xref_name': None, 'xref_src_db': 'EnsemblGene'}, {'xref_id': 'GO:0006974', 'xref_name': 'cellular response to DNA damage stimulus', 'xref_src_db': 'GoProcess'}, {'xref_id': 'GO:0006325', 'xref_name': 'chromatin organization', 'xref_src_db': 'GoProcess'}, {'xref_id': 'GO:0005694', 'xref_name': 'chromosome', 'xref_src_db': 'GoComponent'}, {'xref_id': 'GO:0000083', 'xref_name': 'regulation of transcription involved in G1/S transition of mitotic cell cycle', 'xref_src_db': 'GoProcess'}, {'xref_id': 'GO:0032968', 'xref_name': 'positive regulation of transcription elongation from RNA polymerase II promoter', 'xref_src_db': 'GoProcess'}, {'xref_id': 'GO:0010971', 'xref_name': 'positive regulation of G2/M transition of mitotic cell cycle', 'xref_src_db': 'GoProcess'}, {'xref_id': 'GO:0008353', 'xref_name': 'RNA polymerase II CTD heptapeptide repeat kinase activity', 'xref_src_db': 'GoFunction'}, {'xref_id': 'GO:0000794', 'xref_name': 'condensed nuclear chromosome', 'xref_src_db': 'GoComponent'}, {'xref_id': 'GO:0099122', 'xref_name': 'RNA polymerase II C-terminal domain binding', 'xref_src_db': 'GoFunction'}, {'xref_id': 'GO:0005654', 'xref_name': 'nucleoplasm', 'xref_src_db': 'GoComponent'}, {'xref_id': 'GO:0005515', 'xref_name': 'protein binding', 'xref_src_db': 'GoFunction'}, {'xref_id': 'GO:0005634', 'xref_name': 'nucleus', 'xref_src_db': 'GoComponent'}, {'xref_id': 'GO:0006468', 'xref_name': 'protein phosphorylation', 'xref_src_db': 'GoProcess'}, {'xref_id': 'GO:0019899', 'xref_name': 'enzyme binding', 'xref_src_db': 'GoFunction'}, {'xref_id': 'GO:0003713', 'xref_name': 'transcription coactivator activity', 'xref_src_db': 'GoFunction'}, {'xref_id': 'GO:2001255', 'xref_name': 'positive regulation of histone H3-K36 trimethylation', 'xref_src_db': 'GoProcess'}, {'xref_id': 'GO:0045893', 'xref_name': 'positive regulation of transcription, DNA-templated', 'xref_src_db': 'GoProcess'}, {'xref_id': 'GO:0002039', 'xref_name': 'p53 binding', 'xref_src_db': 'GoFunction'}, {'xref_id': 'GO:0003682', 'xref_name': 'chromatin binding', 'xref_src_db': 'GoFunction'}, {'xref_id': 'GO:0003712', 'xref_name': 'transcription coregulator activity', 'xref_src_db': 'GoFunction'}, {'xref_id': 'GO:0106140', 'xref_name': 'P-TEFb complex binding', 'xref_src_db': 'GoFunction'}, {'xref_id': 'GO:0050727', 'xref_name': 'regulation of inflammatory response', 'xref_src_db': 'GoProcess'}, {'xref_id': 'GO:0045944', 'xref_name': 'positive regulation of transcription by RNA polymerase II', 'xref_src_db': 'GoProcess'}, {'xref_id': 'GO:0043123', 'xref_name': 'positive regulation of I-kappaB kinase/NF-kappaB signaling', 'xref_src_db': 'GoProcess'}, {'xref_id': 'GO:0070577', 'xref_name': 'lysine-acetylated histone binding', 'xref_src_db': 'GoFunction'}, {'xref_id': 'GO:1901407', 'xref_name': 'regulation of phosphorylation of RNA polymerase II C-terminal domain', 'xref_src_db': 'GoProcess'}, {'xref_id': 'GO:0043922', 'xref_name': 'negative regulation by host of viral transcription', 'xref_src_db': 'GoProcess'}, {'xref_id': 'GO:0006338', 'xref_name': 'chromatin remodeling', 'xref_src_db': 'GoProcess'}, {'xref_id': 'GO:2000002', 'xref_name': 'negative regulation of DNA damage checkpoint', 'xref_src_db': 'GoProcess'}]}], 'target_type': 'SINGLE PROTEIN', 'tax_id': 9606}, {'cross_references': [], 'organism': 'Mus musculus', 'pref_name': 'Bromodomain-containing protein 4', 'species_group_flag': False, 'target_chembl_id': 'CHEMBL3085619', 'target_components': [{'accession': 'Q9ESU6', 'component_description': 'Bromodomain-containing protein 4', 'component_id': 8253, 'component_type': 'PROTEIN', 'relationship': 'SINGLE PROTEIN', 'target_component_synonyms': [{'component_synonym': 'Brd4', 'syn_type': 'GENE_SYMBOL'}, {'component_synonym': 'Bromodomain-containing protein 4', 'syn_type': 'UNIPROT'}, {'component_synonym': 'Mcap', 'syn_type': 'GENE_SYMBOL_OTHER'}, {'component_synonym': 'MCAP', 'syn_type': 'UNIPROT'}, {'component_synonym': 'Mitotic chromosome-associated protein', 'syn_type': 'UNIPROT'}], 'target_component_xrefs': [{'xref_id': 'Q9ESU6', 'xref_name': None, 'xref_src_db': 'UniProt'}, {'xref_id': 'B0V2V7', 'xref_name': None, 'xref_src_db': 'UniProt'}, {'xref_id': 'Q8VHF7', 'xref_name': None, 'xref_src_db': 'UniProt'}, {'xref_id': 'Q8VHF8', 'xref_name': None, 'xref_src_db': 'UniProt'}, {'xref_id': 'Q9ESU6', 'xref_name': None, 'xref_src_db': 'ExpressionAtlas'}, {'xref_id': '3JVJ', 'xref_name': 'A', 'xref_src_db': 'PDBe'}, {'xref_id': '3JVK', 'xref_name': 'A', 'xref_src_db': 'PDBe'}, {'xref_id': '2DWW', 'xref_name': 'A', 'xref_src_db': 'PDBe'}, {'xref_id': '3JVL', 'xref_name': 'A', 'xref_src_db': 'PDBe'}, {'xref_id': '3JVM', 'xref_name': 'A', 'xref_src_db': 'PDBe'}, {'xref_id': '3MUK', 'xref_name': 'A', 'xref_src_db': 'PDBe'}, {'xref_id': '3MUL', 'xref_name': 'A', 'xref_src_db': 'PDBe'}, {'xref_id': 'Q9ESU6', 'xref_name': None, 'xref_src_db': 'IntAct'}, {'xref_id': 'IPR031354', 'xref_name': 'BRD4_CDT.', 'xref_src_db': 'InterPro'}, {'xref_id': 'IPR036427', 'xref_name': 'Bromodomain-like_sf.', 'xref_src_db': 'InterPro'}, {'xref_id': 'IPR043509', 'xref_name': 'Bromo_Brdt_II.', 'xref_src_db': 'InterPro'}, {'xref_id': 'IPR027353', 'xref_name': 'NET_dom.', 'xref_src_db': 'InterPro'}, {'xref_id': 'IPR043508', 'xref_name': 'Bromo_Brdt_I.', 'xref_src_db': 'InterPro'}, {'xref_id': 'IPR001487', 'xref_name': 'Bromodomain.', 'xref_src_db': 'InterPro'}, {'xref_id': 'IPR018359', 'xref_name': 'Bromodomain_CS.', 'xref_src_db': 'InterPro'}, {'xref_id': 'IPR038336', 'xref_name': 'NET_sf.', 'xref_src_db': 'InterPro'}, {'xref_id': 'PF00439', 'xref_name': 'Bromodomain', 'xref_src_db': 'Pfam'}, {'xref_id': 'PF17035', 'xref_name': 'BET', 'xref_src_db': 'Pfam'}, {'xref_id': 'PF17105', 'xref_name': 'BRD4_CDT', 'xref_src_db': 'Pfam'}, {'xref_id': 'GO:0032968', 'xref_name': 'positive regulation of transcription elongation from RNA polymerase II promoter', 'xref_src_db': 'GoProcess'}, {'xref_id': 'GO:0002039', 'xref_name': 'p53 binding', 'xref_src_db': 'GoFunction'}, {'xref_id': 'GO:0003712', 'xref_name': 'transcription coregulator activity', 'xref_src_db': 'GoFunction'}, {'xref_id': 'GO:0050727', 'xref_name': 'regulation of inflammatory response', 'xref_src_db': 'GoProcess'}, {'xref_id': 'GO:0045944', 'xref_name': 'positive regulation of transcription by RNA polymerase II', 'xref_src_db': 'GoProcess'}, {'xref_id': 'GO:0043123', 'xref_name': 'positive regulation of I-kappaB kinase/NF-kappaB signaling', 'xref_src_db': 'GoProcess'}, {'xref_id': 'GO:0070577', 'xref_name': 'lysine-acetylated histone binding', 'xref_src_db': 'GoFunction'}, {'xref_id': 'GO:1901407', 'xref_name': 'regulation of phosphorylation of RNA polymerase II C-terminal domain', 'xref_src_db': 'GoProcess'}, {'xref_id': 'GO:0005634', 'xref_name': 'nucleus', 'xref_src_db': 'GoComponent'}, {'xref_id': 'GO:0006325', 'xref_name': 'chromatin organization', 'xref_src_db': 'GoProcess'}, {'xref_id': 'GO:0005694', 'xref_name': 'chromosome', 'xref_src_db': 'GoComponent'}, {'xref_id': 'GO:0005515', 'xref_name': 'protein binding', 'xref_src_db': 'GoFunction'}, {'xref_id': 'GO:0001833', 'xref_name': 'inner cell mass cell proliferation', 'xref_src_db': 'GoProcess'}, {'xref_id': 'GO:0019899', 'xref_name': 'enzyme binding', 'xref_src_db': 'GoFunction'}, {'xref_id': 'GO:0000083', 'xref_name': 'regulation of transcription involved in G1/S transition of mitotic cell cycle', 'xref_src_db': 'GoProcess'}, {'xref_id': 'GO:0000785', 'xref_name': 'chromatin', 'xref_src_db': 'GoComponent'}, {'xref_id': 'GO:0005654', 'xref_name': 'nucleoplasm', 'xref_src_db': 'GoComponent'}, {'xref_id': 'GO:0007059', 'xref_name': 'chromosome segregation', 'xref_src_db': 'GoProcess'}, {'xref_id': 'GO:0006974', 'xref_name': 'cellular response to DNA damage stimulus', 'xref_src_db': 'GoProcess'}, {'xref_id': 'GO:0010971', 'xref_name': 'positive regulation of G2/M transition of mitotic cell cycle', 'xref_src_db': 'GoProcess'}, {'xref_id': 'GO:0006468', 'xref_name': 'protein phosphorylation', 'xref_src_db': 'GoProcess'}, {'xref_id': 'GO:0006338', 'xref_name': 'chromatin remodeling', 'xref_src_db': 'GoProcess'}, {'xref_id': 'GO:0034211', 'xref_name': 'GTP-dependent protein kinase activity', 'xref_src_db': 'GoFunction'}, {'xref_id': 'GO:0008353', 'xref_name': 'RNA polymerase II CTD heptapeptide repeat kinase activity', 'xref_src_db': 'GoFunction'}, {'xref_id': 'GO:0003677', 'xref_name': 'DNA binding', 'xref_src_db': 'GoFunction'}, {'xref_id': 'GO:0003682', 'xref_name': 'chromatin binding', 'xref_src_db': 'GoFunction'}, {'xref_id': 'GO:0003713', 'xref_name': 'transcription coactivator activity', 'xref_src_db': 'GoFunction'}, {'xref_id': 'GO:0005730', 'xref_name': 'nucleolus', 'xref_src_db': 'GoComponent'}, {'xref_id': 'GO:0106140', 'xref_name': 'P-TEFb complex binding', 'xref_src_db': 'GoFunction'}, {'xref_id': 'GO:0000794', 'xref_name': 'condensed nuclear chromosome', 'xref_src_db': 'GoComponent'}, {'xref_id': 'GO:2001255', 'xref_name': 'positive regulation of histone H3-K36 trimethylation', 'xref_src_db': 'GoProcess'}, {'xref_id': 'GO:0008024', 'xref_name': 'cyclin/CDK positive transcription elongation factor complex', 'xref_src_db': 'GoComponent'}, {'xref_id': 'GO:0046777', 'xref_name': 'protein autophosphorylation', 'xref_src_db': 'GoProcess'}, {'xref_id': 'GO:0045893', 'xref_name': 'positive regulation of transcription, DNA-templated', 'xref_src_db': 'GoProcess'}, {'xref_id': 'GO:0044154', 'xref_name': 'histone H3-K14 acetylation', 'xref_src_db': 'GoProcess'}, {'xref_id': 'GO:0043983', 'xref_name': 'histone H4-K12 acetylation', 'xref_src_db': 'GoProcess'}, {'xref_id': 'GO:0043922', 'xref_name': 'negative regulation by host of viral transcription', 'xref_src_db': 'GoProcess'}, {'xref_id': 'GO:0099122', 'xref_name': 'RNA polymerase II C-terminal domain binding', 'xref_src_db': 'GoFunction'}, {'xref_id': 'GO:0043388', 'xref_name': 'positive regulation of DNA binding', 'xref_src_db': 'GoProcess'}, {'xref_id': 'GO:2000002', 'xref_name': 'negative regulation of DNA damage checkpoint', 'xref_src_db': 'GoProcess'}]}], 'target_type': 'SINGLE PROTEIN', 'tax_id': 10090}, {'cross_references': [], 'organism': 'Homo sapiens', 'pref_name': 'BRD4/HDAC1', 'species_group_flag': False, 'target_chembl_id': 'CHEMBL4106143', 'target_components': [{'accession': 'Q13547', 'component_description': 'Histone deacetylase 1', 'component_id': 107, 'component_type': 'PROTEIN', 'relationship': 'PROTEIN SUBUNIT', 'target_component_synonyms': [{'component_synonym': '3.5.1.98', 'syn_type': 'EC_NUMBER'}, {'component_synonym': 'HD1', 'syn_type': 'UNIPROT'}, {'component_synonym': 'HDAC1', 'syn_type': 'GENE_SYMBOL'}, {'component_synonym': 'Histone deacetylase 1', 'syn_type': 'UNIPROT'}, {'component_synonym': 'RPD3L1', 'syn_type': 'GENE_SYMBOL_OTHER'}], 'target_component_xrefs': [{'xref_id': 'PA29226', 'xref_name': 'histone deacetylase 1', 'xref_src_db': 'PharmGKB'}, {'xref_id': 'Q13547', 'xref_name': 'Tclin', 'xref_src_db': 'Pharos'}, {'xref_id': 'Q13547', 'xref_name': None, 'xref_src_db': 'UniProt'}, {'xref_id': 'Q92534', 'xref_name': None, 'xref_src_db': 'UniProt'}, {'xref_id': 'Q13547', 'xref_name': None, 'xref_src_db': 'ExpressionAtlas'}, {'xref_id': '4BKX', 'xref_name': 'A', 'xref_src_db': 'PDBe'}, {'xref_id': '5ICN', 'xref_name': 'A', 'xref_src_db': 'PDBe'}, {'xref_id': 'Q13547', 'xref_name': None, 'xref_src_db': 'IntAct'}, {'xref_id': 'IPR003084', 'xref_name': 'His_deacetylse_1.', 'xref_src_db': 'InterPro'}, {'xref_id': 'IPR023801', 'xref_name': 'His_deacetylse_dom.', 'xref_src_db': 'InterPro'}, {'xref_id': 'IPR037138', 'xref_name': 'His_deacetylse_dom_sf.', 'xref_src_db': 'InterPro'}, {'xref_id': 'IPR023696', 'xref_name': 'Ureohydrolase_dom_sf.', 'xref_src_db': 'InterPro'}, {'xref_id': 'IPR000286', 'xref_name': 'His_deacetylse.', 'xref_src_db': 'InterPro'}, {'xref_id': 'PF00850', 'xref_name': 'Hist_deacetyl', 'xref_src_db': 'Pfam'}, {'xref_id': 'R-HSA-1538133', 'xref_name': 'G0 and Early G1.', 'xref_src_db': 'Reactome'}, {'xref_id': 'R-HSA-427413', 'xref_name': 'NoRC negatively regulates rRNA expression.', 'xref_src_db': 'Reactome'}, {'xref_id': 'R-HSA-4641265', 'xref_name': 'Repression of WNT target genes.', 'xref_src_db': 'Reactome'}, {'xref_id': 'R-HSA-983231', 'xref_name': 'Factors involved in megakaryocyte development and platelet production.', 'xref_src_db': 'Reactome'}, {'xref_id': 'R-HSA-6804758', 'xref_name': 'Regulation of TP53 Activity through Acetylation.', 'xref_src_db': 'Reactome'}, {'xref_id': 'R-HSA-2894862', 'xref_name': 'Constitutive Signaling by NOTCH1 HD+PEST Domain Mutants.', 'xref_src_db': 'Reactome'}, {'xref_id': 'R-HSA-8936459', 'xref_name': 'RUNX1 regulates genes involved in megakaryocyte differentiation and platelet function.', 'xref_src_db': 'Reactome'}, {'xref_id': 'R-HSA-1362300', 'xref_name': 'Transcription of E2F targets under negative control by p107 (RBL1) and p130 (RBL2) in complex with HDAC1.', 'xref_src_db': 'Reactome'}, {'xref_id': 'R-HSA-8943724', 'xref_name': 'Regulation of PTEN gene transcription.', 'xref_src_db': 'Reactome'}, {'xref_id': 'R-HSA-2173796', 'xref_name': 'SMAD2/SMAD3:SMAD4 heterotrimer regulates transcription.', 'xref_src_db': 'Reactome'}, {'xref_id': 'R-HSA-2173795', 'xref_name': 'Downregulation of SMAD2/3:SMAD4 transcriptional activity.', 'xref_src_db': 'Reactome'}, {'xref_id': 'R-HSA-2122947', 'xref_name': 'NOTCH1 Intracellular Domain Regulates Transcription.', 'xref_src_db': 'Reactome'}, {'xref_id': 'R-HSA-2644606', 'xref_name': 'Constitutive Signaling by NOTCH1 PEST Domain Mutants.', 'xref_src_db': 'Reactome'}, {'xref_id': 'R-HSA-9022702', 'xref_name': 'MECP2 regulates transcription of neuronal ligands.', 'xref_src_db': 'Reactome'}, {'xref_id': 'R-HSA-69205', 'xref_name': 'G1/S-Specific Transcription.', 'xref_src_db': 'Reactome'}, {'xref_id': 'R-HSA-427389', 'xref_name': 'ERCC6 (CSB) and EHMT2 (G9a) positively regulate rRNA expression.', 'xref_src_db': 'Reactome'}, {'xref_id': 'R-HSA-9022699', 'xref_name': 'MECP2 regulates neuronal receptors and channels.', 'xref_src_db': 'Reactome'}, {'xref_id': 'R-HSA-3769402', 'xref_name': 'Deactivation of the beta-catenin transactivating complex.', 'xref_src_db': 'Reactome'}, {'xref_id': 'R-HSA-9022692', 'xref_name': 'Regulation of MECP2 expression and activity.', 'xref_src_db': 'Reactome'}, {'xref_id': 'R-HSA-9679191', 'xref_name': 'Potential therapeutics for SARS.', 'xref_src_db': 'Reactome'}, {'xref_id': 'R-HSA-3214815', 'xref_name': 'HDACs deacetylate histones.', 'xref_src_db': 'Reactome'}, {'xref_id': 'R-HSA-350054', 'xref_name': 'Notch-HLH transcription pathway.', 'xref_src_db': 'Reactome'}, {'xref_id': 'R-HSA-4551638', 'xref_name': 'SUMOylation of chromatin organization proteins.', 'xref_src_db': 'Reactome'}, {'xref_id': 'R-HSA-73762', 'xref_name': 'RNA Polymerase I Transcription Initiation.', 'xref_src_db': 'Reactome'}, {'xref_id': 'R-HSA-9018519', 'xref_name': 'Estrogen-dependent gene expression.', 'xref_src_db': 'Reactome'}, {'xref_id': 'R-HSA-1362277', 'xref_name': 'Transcription of E2F targets under negative control by DREAM complex.', 'xref_src_db': 'Reactome'}, {'xref_id': 'R-HSA-201722', 'xref_name': 'Formation of the beta-catenin:TCF transactivating complex.', 'xref_src_db': 'Reactome'}, {'xref_id': 'R-HSA-193670', 'xref_name': 'p75NTR negatively regulates cell cycle via SC1.', 'xref_src_db': 'Reactome'}, {'xref_id': 'R-HSA-9022538', 'xref_name': 'Loss of MECP2 binding ability to 5mC-DNA.', 'xref_src_db': 'Reactome'}, {'xref_id': 'R-HSA-9615017', 'xref_name': 'FOXO-mediated transcription of oxidative stress, metabolic and neuronal genes.', 'xref_src_db': 'Reactome'}, {'xref_id': '2658', 'xref_name': None, 'xref_src_db': 'GuideToPHARMACOLOGY'}, {'xref_id': 'ENSG00000116478', 'xref_name': None, 'xref_src_db': 'EnsemblGene'}, {'xref_id': 'GO:0006357', 'xref_name': 'regulation of transcription by RNA polymerase II', 'xref_src_db': 'GoProcess'}, {'xref_id': 'GO:0000979', 'xref_name': 'RNA polymerase II core promoter sequence-specific DNA binding', 'xref_src_db': 'GoFunction'}, {'xref_id': 'GO:0052548', 'xref_name': 'regulation of endopeptidase activity', 'xref_src_db': 'GoProcess'}, {'xref_id': 'GO:1900221', 'xref_name': 'regulation of amyloid-beta clearance', 'xref_src_db': 'GoProcess'}, {'xref_id': 'GO:0005515', 'xref_name': 'protein binding', 'xref_src_db': 'GoFunction'}, {'xref_id': 'GO:0000122', 'xref_name': 'negative regulation of transcription by RNA polymerase II', 'xref_src_db': 'GoProcess'}, {'xref_id': 'GO:0000785', 'xref_name': 'chromatin', 'xref_src_db': 'GoComponent'}, {'xref_id': 'GO:0005634', 'xref_name': 'nucleus', 'xref_src_db': 'GoComponent'}, {'xref_id': 'GO:0140297', 'xref_name': 'DNA-binding transcription factor binding', 'xref_src_db': 'GoFunction'}, {'xref_id': 'GO:0061629', 'xref_name': 'RNA polymerase II-specific DNA-binding transcription factor binding', 'xref_src_db': 'GoFunction'}, {'xref_id': 'GO:0090090', 'xref_name': 'negative regulation of canonical Wnt signaling pathway', 'xref_src_db': 'GoProcess'}, {'xref_id': 'GO:0010629', 'xref_name': 'negative regulation of gene expression', 'xref_src_db': 'GoProcess'}, {'xref_id': 'GO:0004407', 'xref_name': 'histone deacetylase activity', 'xref_src_db': 'GoFunction'}, {'xref_id': 'GO:0000118', 'xref_name': 'histone deacetylase complex', 'xref_src_db': 'GoComponent'}, {'xref_id': 'GO:0045944', 'xref_name': 'positive regulation of transcription by RNA polymerase II', 'xref_src_db': 'GoProcess'}, {'xref_id': 'GO:0070933', 'xref_name': 'histone H4 deacetylation', 'xref_src_db': 'GoProcess'}, {'xref_id': 'GO:0070932', 'xref_name': 'histone H3 deacetylation', 'xref_src_db': 'GoProcess'}, {'xref_id': 'GO:0008134', 'xref_name': 'transcription factor binding', 'xref_src_db': 'GoFunction'}, {'xref_id': 'GO:0016575', 'xref_name': 'histone deacetylation', 'xref_src_db': 'GoProcess'}, {'xref_id': 'GO:0019213', 'xref_name': 'deacetylase activity', 'xref_src_db': 'GoFunction'}, {'xref_id': 'GO:0032922', 'xref_name': 'circadian regulation of gene expression', 'xref_src_db': 'GoProcess'}, {'xref_id': 'GO:0016581', 'xref_name': 'NuRD complex', 'xref_src_db': 'GoComponent'}, {'xref_id': 'GO:0033558', 'xref_name': 'protein deacetylase activity', 'xref_src_db': 'GoFunction'}, {'xref_id': 'GO:0045892', 'xref_name': 'negative regulation of transcription, DNA-templated', 'xref_src_db': 'GoProcess'}, {'xref_id': 'GO:0043066', 'xref_name': 'negative regulation of apoptotic process', 'xref_src_db': 'GoProcess'}, {'xref_id': 'GO:0051059', 'xref_name': 'NF-kappaB binding', 'xref_src_db': 'GoFunction'}, {'xref_id': 'GO:0048511', 'xref_name': 'rhythmic process', 'xref_src_db': 'GoProcess'}, {'xref_id': 'GO:0016787', 'xref_name': 'hydrolase activity', 'xref_src_db': 'GoFunction'}, {'xref_id': 'GO:0006325', 'xref_name': 'chromatin organization', 'xref_src_db': 'GoProcess'}, {'xref_id': 'GO:0032041', 'xref_name': 'NAD-dependent histone deacetylase activity (H3-K14 specific)', 'xref_src_db': 'GoFunction'}, {'xref_id': 'GO:0047485', 'xref_name': 'protein N-terminus binding', 'xref_src_db': 'GoFunction'}, {'xref_id': 'GO:0005654', 'xref_name': 'nucleoplasm', 'xref_src_db': 'GoComponent'}, {'xref_id': 'GO:0030182', 'xref_name': 'neuron differentiation', 'xref_src_db': 'GoProcess'}, {'xref_id': 'GO:0021766', 'xref_name': 'hippocampus development', 'xref_src_db': 'GoProcess'}, {'xref_id': 'GO:0001975', 'xref_name': 'response to amphetamine', 'xref_src_db': 'GoProcess'}, {'xref_id': 'GO:0048471', 'xref_name': 'perinuclear region of cytoplasm', 'xref_src_db': 'GoComponent'}, {'xref_id': 'GO:0032760', 'xref_name': 'positive regulation of tumor necrosis factor production', 'xref_src_db': 'GoProcess'}, {'xref_id': 'GO:0032732', 'xref_name': 'positive regulation of interleukin-1 production', 'xref_src_db': 'GoProcess'}, {'xref_id': 'GO:0032496', 'xref_name': 'response to lipopolysaccharide', 'xref_src_db': 'GoProcess'}, {'xref_id': 'GO:0043005', 'xref_name': 'neuron projection', 'xref_src_db': 'GoComponent'}, {'xref_id': 'GO:0031000', 'xref_name': 'response to caffeine', 'xref_src_db': 'GoProcess'}, {'xref_id': 'GO:0008285', 'xref_name': 'negative regulation of cell population proliferation', 'xref_src_db': 'GoProcess'}, {'xref_id': 'GO:0008284', 'xref_name': 'positive regulation of cell population proliferation', 'xref_src_db': 'GoProcess'}, {'xref_id': 'GO:0007623', 'xref_name': 'circadian rhythm', 'xref_src_db': 'GoProcess'}, {'xref_id': 'GO:0007492', 'xref_name': 'endoderm development', 'xref_src_db': 'GoProcess'}, {'xref_id': 'GO:0009913', 'xref_name': 'epidermal cell differentiation', 'xref_src_db': 'GoProcess'}, {'xref_id': 'GO:0000976', 'xref_name': 'transcription cis-regulatory region binding', 'xref_src_db': 'GoFunction'}, {'xref_id': 'GO:0035851', 'xref_name': 'Krueppel-associated box domain binding', 'xref_src_db': 'GoFunction'}, {'xref_id': 'GO:0003677', 'xref_name': 'DNA binding', 'xref_src_db': 'GoFunction'}, {'xref_id': 'GO:0003682', 'xref_name': 'chromatin binding', 'xref_src_db': 'GoFunction'}, {'xref_id': 'GO:0003714', 'xref_name': 'transcription corepressor activity', 'xref_src_db': 'GoFunction'}, {'xref_id': 'GO:0000792', 'xref_name': 'heterochromatin', 'xref_src_db': 'GoComponent'}, {'xref_id': 'GO:1990841', 'xref_name': 'promoter-specific chromatin binding', 'xref_src_db': 'GoFunction'}, {'xref_id': 'GO:2001243', 'xref_name': 'negative regulation of intrinsic apoptotic signaling pathway', 'xref_src_db': 'GoProcess'}, {'xref_id': 'GO:0043025', 'xref_name': 'neuronal cell body', 'xref_src_db': 'GoComponent'}, {'xref_id': 'GO:2000757', 'xref_name': 'negative regulation of peptidyl-lysine acetylation', 'xref_src_db': 'GoProcess'}, {'xref_id': 'GO:2000676', 'xref_name': 'positive regulation of type B pancreatic cell apoptotic process', 'xref_src_db': 'GoProcess'}, {'xref_id': 'GO:0005667', 'xref_name': 'transcription regulator complex', 'xref_src_db': 'GoComponent'}, {'xref_id': 'GO:2000343', 'xref_name': 'positive regulation of chemokine (C-X-C motif) ligand 2 production', 'xref_src_db': 'GoProcess'}, {'xref_id': 'GO:0017053', 'xref_name': 'transcription repressor complex', 'xref_src_db': 'GoComponent'}, {'xref_id': 'GO:0044877', 'xref_name': 'protein-containing complex binding', 'xref_src_db': 'GoFunction'}, {'xref_id': 'GO:0032991', 'xref_name': 'protein-containing complex', 'xref_src_db': 'GoComponent'}, {'xref_id': 'GO:0061198', 'xref_name': 'fungiform papilla formation', 'xref_src_db': 'GoProcess'}, {'xref_id': 'GO:0061029', 'xref_name': 'eyelid development in camera-type eye', 'xref_src_db': 'GoProcess'}, {'xref_id': 'GO:0060789', 'xref_name': 'hair follicle placode formation', 'xref_src_db': 'GoProcess'}, {'xref_id': 'GO:0048714', 'xref_name': 'positive regulation of oligodendrocyte differentiation', 'xref_src_db': 'GoProcess'}, {'xref_id': 'GO:0055093', 'xref_name': 'response to hyperoxia', 'xref_src_db': 'GoProcess'}, {'xref_id': 'GO:0046676', 'xref_name': 'negative regulation of insulin secretion', 'xref_src_db': 'GoProcess'}, {'xref_id': 'GO:0070888', 'xref_name': 'E-box binding', 'xref_src_db': 'GoFunction'}, {'xref_id': 'GO:0043524', 'xref_name': 'negative regulation of neuron apoptotic process', 'xref_src_db': 'GoProcess'}, {'xref_id': 'GO:0043124', 'xref_name': 'negative regulation of I-kappaB kinase/NF-kappaB signaling', 'xref_src_db': 'GoProcess'}, {'xref_id': 'GO:0042733', 'xref_name': 'embryonic digit morphogenesis', 'xref_src_db': 'GoProcess'}, {'xref_id': 'GO:0042531', 'xref_name': 'positive regulation of tyrosine phosphorylation of STAT protein', 'xref_src_db': 'GoProcess'}, {'xref_id': 'GO:0042493', 'xref_name': 'response to drug', 'xref_src_db': 'GoProcess'}, {'xref_id': 'GO:0042475', 'xref_name': 'odontogenesis of dentin-containing tooth', 'xref_src_db': 'GoProcess'}, {'xref_id': 'GO:0071356', 'xref_name': 'cellular response to tumor necrosis factor', 'xref_src_db': 'GoProcess'}, {'xref_id': 'GO:0034599', 'xref_name': 'cellular response to oxidative stress', 'xref_src_db': 'GoProcess'}, {'xref_id': 'GO:0010832', 'xref_name': 'negative regulation of myotube differentiation', 'xref_src_db': 'GoProcess'}, {'xref_id': 'GO:0006346', 'xref_name': 'DNA methylation-dependent heterochromatin assembly', 'xref_src_db': 'GoProcess'}, {'xref_id': 'GO:0006338', 'xref_name': 'chromatin remodeling', 'xref_src_db': 'GoProcess'}, {'xref_id': 'GO:0042826', 'xref_name': 'histone deacetylase binding', 'xref_src_db': 'GoFunction'}, {'xref_id': 'GO:2000273', 'xref_name': 'positive regulation of signaling receptor activity', 'xref_src_db': 'GoProcess'}, {'xref_id': 'GO:0016580', 'xref_name': 'Sin3 complex', 'xref_src_db': 'GoComponent'}, {'xref_id': 'GO:0060766', 'xref_name': 'negative regulation of androgen receptor signaling pathway', 'xref_src_db': 'GoProcess'}, {'xref_id': 'GO:0045893', 'xref_name': 'positive regulation of transcription, DNA-templated', 'xref_src_db': 'GoProcess'}, {'xref_id': 'GO:0006476', 'xref_name': 'protein deacetylation', 'xref_src_db': 'GoProcess'}, {'xref_id': 'GO:0001046', 'xref_name': 'core promoter sequence-specific DNA binding', 'xref_src_db': 'GoFunction'}, {'xref_id': 'GO:0002039', 'xref_name': 'p53 binding', 'xref_src_db': 'GoFunction'}, {'xref_id': 'GO:0019899', 'xref_name': 'enzyme binding', 'xref_src_db': 'GoFunction'}, {'xref_id': 'GO:0005737', 'xref_name': 'cytoplasm', 'xref_src_db': 'GoComponent'}, {'xref_id': 'GO:0005829', 'xref_name': 'cytosol', 'xref_src_db': 'GoComponent'}, {'xref_id': 'GO:0031492', 'xref_name': 'nucleosomal DNA binding', 'xref_src_db': 'GoFunction'}, {'xref_id': 'GO:0000978', 'xref_name': 'RNA polymerase II cis-regulatory region sequence-specific DNA binding', 'xref_src_db': 'GoFunction'}, {'xref_id': 'GO:0043922', 'xref_name': 'negative regulation by host of viral transcription', 'xref_src_db': 'GoProcess'}, {'xref_id': 'GO:0043044', 'xref_name': 'ATP-dependent chromatin remodeling', 'xref_src_db': 'GoProcess'}]}, {'accession': 'O60885', 'component_description': 'Bromodomain-containing protein 4', 'component_id': 5501, 'component_type': 'PROTEIN', 'relationship': 'PROTEIN SUBUNIT', 'target_component_synonyms': [{'component_synonym': 'BRD4', 'syn_type': 'GENE_SYMBOL'}, {'component_synonym': 'Bromodomain-containing protein 4', 'syn_type': 'UNIPROT'}, {'component_synonym': 'HUNK1', 'syn_type': 'GENE_SYMBOL_OTHER'}, {'component_synonym': 'Protein HUNK1', 'syn_type': 'UNIPROT'}], 'target_component_xrefs': [{'xref_id': 'BRD4', 'xref_name': 'BRD4', 'xref_src_db': 'TIMBAL'}, {'xref_id': 'PA25416', 'xref_name': 'bromodomain containing 4', 'xref_src_db': 'PharmGKB'}, {'xref_id': 'O60885', 'xref_name': 'Tchem', 'xref_src_db': 'Pharos'}, {'xref_id': 'O60885', 'xref_name': None, 'xref_src_db': 'UniProt'}, {'xref_id': 'O60433', 'xref_name': None, 'xref_src_db': 'UniProt'}, {'xref_id': 'Q4G0X8', 'xref_name': None, 'xref_src_db': 'UniProt'}, {'xref_id': 'Q86YS8', 'xref_name': None, 'xref_src_db': 'UniProt'}, {'xref_id': 'Q96PD3', 'xref_name': None, 'xref_src_db': 'UniProt'}, {'xref_id': 'O60885', 'xref_name': None, 'xref_src_db': 'ExpressionAtlas'}, {'xref_id': '5AD3', 'xref_name': 'A', 'xref_src_db': 'PDBe'}, {'xref_id': '5AD2', 'xref_name': 'A', 'xref_src_db': 'PDBe'}, {'xref_id': '6VIZ', 'xref_name': 'A', 'xref_src_db': 'PDBe'}, {'xref_id': '5TI3', 'xref_name': 'A', 'xref_src_db': 'PDBe'}, {'xref_id': '5TI2', 'xref_name': 'A', 'xref_src_db': 'PDBe'}, {'xref_id': '5TI5', 'xref_name': 'A', 'xref_src_db': 'PDBe'}, {'xref_id': '5TI4', 'xref_name': 'A', 'xref_src_db': 'PDBe'}, {'xref_id': '5TI7', 'xref_name': 'A', 'xref_src_db': 'PDBe'}, {'xref_id': '5TI6', 'xref_name': 'A', 'xref_src_db': 'PDBe'}, {'xref_id': '5Y1Y', 'xref_name': 'A', 'xref_src_db': 'PDBe'}, {'xref_id': '6VIX', 'xref_name': 'A', 'xref_src_db': 'PDBe'}, {'xref_id': '6VIW', 'xref_name': 'A', 'xref_src_db': 'PDBe'}, {'xref_id': '4PCI', 'xref_name': 'A', 'xref_src_db': 'PDBe'}, {'xref_id': '6HOV', 'xref_name': 'A', 'xref_src_db': 'PDBe'}, {'xref_id': '4CL9', 'xref_name': 'A', 'xref_src_db': 'PDBe'}, {'xref_id': '5H21', 'xref_name': 'A', 'xref_src_db': 'PDBe'}, {'xref_id': '5ULA', 'xref_name': 'A', 'xref_src_db': 'PDBe'}, {'xref_id': '6SE4', 'xref_name': 'A', 'xref_src_db': 'PDBe'}, {'xref_id': '5ACY', 'xref_name': 'A', 'xref_src_db': 'PDBe'}, {'xref_id': '4BJX', 'xref_name': 'A', 'xref_src_db': 'PDBe'}, {'xref_id': '5VOM', 'xref_name': 'A', 'xref_src_db': 'PDBe'}, {'xref_id': '5JWM', 'xref_name': 'A', 'xref_src_db': 'PDBe'}, {'xref_id': '4Z93', 'xref_name': 'A', 'xref_src_db': 'PDBe'}, {'xref_id': '6YQO', 'xref_name': 'A', 'xref_src_db': 'PDBe'}, {'xref_id': '6YQN', 'xref_name': 'A', 'xref_src_db': 'PDBe'}, {'xref_id': '6YQP', 'xref_name': 'A', 'xref_src_db': 'PDBe'}, {'xref_id': '5Z5U', 'xref_name': 'A', 'xref_src_db': 'PDBe'}, {'xref_id': '4CLB', 'xref_name': 'A', 'xref_src_db': 'PDBe'}, {'xref_id': '5Z5T', 'xref_name': 'A', 'xref_src_db': 'PDBe'}, {'xref_id': '5Z5V', 'xref_name': 'A', 'xref_src_db': 'PDBe'}, {'xref_id': '5DLX', 'xref_name': 'A', 'xref_src_db': 'PDBe'}, {'xref_id': '5DLZ', 'xref_name': 'A', 'xref_src_db': 'PDBe'}, {'xref_id': '4DON', 'xref_name': 'A', 'xref_src_db': 'PDBe'}, {'xref_id': '6FNX', 'xref_name': 'A', 'xref_src_db': 'PDBe'}, {'xref_id': '5Z90', 'xref_name': 'A', 'xref_src_db': 'PDBe'}, {'xref_id': '5Z8R', 'xref_name': 'A', 'xref_src_db': 'PDBe'}, {'xref_id': '5Z8G', 'xref_name': 'A', 'xref_src_db': 'PDBe'}, {'xref_id': '6FO5', 'xref_name': 'A', 'xref_src_db': 'PDBe'}, {'xref_id': '4F3I', 'xref_name': 'A', 'xref_src_db': 'PDBe'}, {'xref_id': '4HXL', 'xref_name': 'A', 'xref_src_db': 'PDBe'}, {'xref_id': '4HXM', 'xref_name': 'A', 'xref_src_db': 'PDBe'}, {'xref_id': '4HXN', 'xref_name': 'A', 'xref_src_db': 'PDBe'}, {'xref_id': '4HXO', 'xref_name': 'A', 'xref_src_db': 'PDBe'}, {'xref_id': '4HXP', 'xref_name': 'A', 'xref_src_db': 'PDBe'}, {'xref_id': '4HXR', 'xref_name': 'A', 'xref_src_db': 'PDBe'}, {'xref_id': '4HXS', 'xref_name': 'A', 'xref_src_db': 'PDBe'}, {'xref_id': '6DJC', 'xref_name': 'A', 'xref_src_db': 'PDBe'}, {'xref_id': '4HXK', 'xref_name': 'A', 'xref_src_db': 'PDBe'}, {'xref_id': '3U5K', 'xref_name': 'A', 'xref_src_db': 'PDBe'}, {'xref_id': '3U5L', 'xref_name': 'A', 'xref_src_db': 'PDBe'}, {'xref_id': '6CIY', 'xref_name': 'A', 'xref_src_db': 'PDBe'}, {'xref_id': '4OGI', 'xref_name': 'A', 'xref_src_db': 'PDBe'}, {'xref_id': '4OGJ', 'xref_name': 'A', 'xref_src_db': 'PDBe'}, {'xref_id': '6G0P', 'xref_name': 'A', 'xref_src_db': 'PDBe'}, {'xref_id': '6G0O', 'xref_name': 'A', 'xref_src_db': 'PDBe'}, {'xref_id': '6G0R', 'xref_name': 'A', 'xref_src_db': 'PDBe'}, {'xref_id': '6G0Q', 'xref_name': 'A', 'xref_src_db': 'PDBe'}, {'xref_id': '6CJ2', 'xref_name': 'A', 'xref_src_db': 'PDBe'}, {'xref_id': '5I88', 'xref_name': 'A', 'xref_src_db': 'PDBe'}, {'xref_id': '6CJ1', 'xref_name': 'A', 'xref_src_db': 'PDBe'}, {'xref_id': '6DL2', 'xref_name': 'A', 'xref_src_db': 'PDBe'}, {'xref_id': '6G0S', 'xref_name': 'A', 'xref_src_db': 'PDBe'}, {'xref_id': '5Z9K', 'xref_name': 'A', 'xref_src_db': 'PDBe'}, {'xref_id': '6CIS', 'xref_name': 'A', 'xref_src_db': 'PDBe'}, {'xref_id': '3U5J', 'xref_name': 'A', 'xref_src_db': 'PDBe'}, {'xref_id': '6G0H', 'xref_name': 'A', 'xref_src_db': 'PDBe'}, {'xref_id': '6ULV', 'xref_name': 'A', 'xref_src_db': 'PDBe'}, {'xref_id': '6G0G', 'xref_name': 'A', 'xref_src_db': 'PDBe'}, {'xref_id': '4XYA', 'xref_name': 'A', 'xref_src_db': 'PDBe'}, {'xref_id': '5I80', 'xref_name': 'A', 'xref_src_db': 'PDBe'}, {'xref_id': '5UOO', 'xref_name': 'A', 'xref_src_db': 'PDBe'}, {'xref_id': '4XY9', 'xref_name': 'A', 'xref_src_db': 'PDBe'}, {'xref_id': '6G0D', 'xref_name': 'A', 'xref_src_db': 'PDBe'}, {'xref_id': '5Z8Z', 'xref_name': 'A', 'xref_src_db': 'PDBe'}, {'xref_id': '6G0F', 'xref_name': 'A', 'xref_src_db': 'PDBe'}, {'xref_id': '6G0E', 'xref_name': 'A', 'xref_src_db': 'PDBe'}, {'xref_id': '6ULS', 'xref_name': 'A', 'xref_src_db': 'PDBe'}, {'xref_id': '6Z7L', 'xref_name': 'A', 'xref_src_db': 'PDBe'}, {'xref_id': '6Z7M', 'xref_name': 'A', 'xref_src_db': 'PDBe'}, {'xref_id': '5Y94', 'xref_name': 'A', 'xref_src_db': 'PDBe'}, {'xref_id': '5Y93', 'xref_name': 'A', 'xref_src_db': 'PDBe'}, {'xref_id': '5E0R', 'xref_name': 'A', 'xref_src_db': 'PDBe'}, {'xref_id': '6Z7G', 'xref_name': 'A', 'xref_src_db': 'PDBe'}, {'xref_id': '6AFR', 'xref_name': 'A', 'xref_src_db': 'PDBe'}, {'xref_id': '5Y8C', 'xref_name': 'A', 'xref_src_db': 'PDBe'}, {'xref_id': '3UVW', 'xref_name': 'A', 'xref_src_db': 'PDBe'}, {'xref_id': '3UVX', 'xref_name': 'A', 'xref_src_db': 'PDBe'}, {'xref_id': '3UW9', 'xref_name': 'A', 'xref_src_db': 'PDBe'}, {'xref_id': '3UVY', 'xref_name': 'A', 'xref_src_db': 'PDBe'}, {'xref_id': '6SIS', 'xref_name': 'A', 'xref_src_db': 'PDBe'}, {'xref_id': '6XV3', 'xref_name': 'A', 'xref_src_db': 'PDBe'}, {'xref_id': '6CKS', 'xref_name': 'A', 'xref_src_db': 'PDBe'}, {'xref_id': '6CKR', 'xref_name': 'A', 'xref_src_db': 'PDBe'}, {'xref_id': '6DMJ', 'xref_name': 'A', 'xref_src_db': 'PDBe'}, {'xref_id': '6DML', 'xref_name': 'A', 'xref_src_db': 'PDBe'}, {'xref_id': '5Y8W', 'xref_name': 'A', 'xref_src_db': 'PDBe'}, {'xref_id': '5W55', 'xref_name': 'A', 'xref_src_db': 'PDBe'}, {'xref_id': '5WUU', 'xref_name': 'A', 'xref_src_db': 'PDBe'}, {'xref_id': '5Y8Y', 'xref_name': 'A', 'xref_src_db': 'PDBe'}, {'xref_id': '5Y8Z', 'xref_name': 'A', 'xref_src_db': 'PDBe'}, {'xref_id': '6V1L', 'xref_name': 'A', 'xref_src_db': 'PDBe'}, {'xref_id': '6V1K', 'xref_name': 'A', 'xref_src_db': 'PDBe'}, {'xref_id': '5U2C', 'xref_name': 'A', 'xref_src_db': 'PDBe'}, {'xref_id': '5CP5', 'xref_name': 'A', 'xref_src_db': 'PDBe'}, {'xref_id': '5U2E', 'xref_name': 'A', 'xref_src_db': 'PDBe'}, {'xref_id': '6I7Y', 'xref_name': 'A', 'xref_src_db': 'PDBe'}, {'xref_id': '5U2F', 'xref_name': 'A', 'xref_src_db': 'PDBe'}, {'xref_id': '6I7X', 'xref_name': 'A', 'xref_src_db': 'PDBe'}, {'xref_id': '5COI', 'xref_name': 'A', 'xref_src_db': 'PDBe'}, {'xref_id': '6XVC', 'xref_name': 'A', 'xref_src_db': 'PDBe'}, {'xref_id': '4MEN', 'xref_name': 'A', 'xref_src_db': 'PDBe'}, {'xref_id': '6XV7', 'xref_name': 'A', 'xref_src_db': 'PDBe'}, {'xref_id': '4MEO', 'xref_name': 'A', 'xref_src_db': 'PDBe'}, {'xref_id': '5D0C', 'xref_name': 'A', 'xref_src_db': 'PDBe'}, {'xref_id': '4MEP', 'xref_name': 'A', 'xref_src_db': 'PDBe'}, {'xref_id': '6DNE', 'xref_name': 'A', 'xref_src_db': 'PDBe'}, {'xref_id': '6V0U', 'xref_name': 'A', 'xref_src_db': 'PDBe'}, {'xref_id': '4MEQ', 'xref_name': 'A', 'xref_src_db': 'PDBe'}, {'xref_id': '6XUZ', 'xref_name': 'A', 'xref_src_db': 'PDBe'}, {'xref_id': '5U28', 'xref_name': 'A', 'xref_src_db': 'PDBe'}, {'xref_id': '3SVF', 'xref_name': 'A', 'xref_src_db': 'PDBe'}, {'xref_id': '5D24', 'xref_name': 'A', 'xref_src_db': 'PDBe'}, {'xref_id': '3SVG', 'xref_name': 'A', 'xref_src_db': 'PDBe'}, {'xref_id': '6FT4', 'xref_name': 'A', 'xref_src_db': 'PDBe'}, {'xref_id': '5D26', 'xref_name': 'A', 'xref_src_db': 'PDBe'}, {'xref_id': '6U0D', 'xref_name': 'A', 'xref_src_db': 'PDBe'}, {'xref_id': '5D25', 'xref_name': 'A', 'xref_src_db': 'PDBe'}, {'xref_id': '5F5Z', 'xref_name': 'A', 'xref_src_db': 'PDBe'}, {'xref_id': '6FSY', 'xref_name': 'A', 'xref_src_db': 'PDBe'}, {'xref_id': '5F60', 'xref_name': 'A', 'xref_src_db': 'PDBe'}, {'xref_id': '2NNU', 'xref_name': 'A', 'xref_src_db': 'PDBe'}, {'xref_id': '5F62', 'xref_name': 'A', 'xref_src_db': 'PDBe'}, {'xref_id': '5F61', 'xref_name': 'A', 'xref_src_db': 'PDBe'}, {'xref_id': '6FT3', 'xref_name': 'A', 'xref_src_db': 'PDBe'}, {'xref_id': '5F63', 'xref_name': 'A', 'xref_src_db': 'PDBe'}, {'xref_id': '5CPE', 'xref_name': 'A', 'xref_src_db': 'PDBe'}, {'xref_id': '6V1U', 'xref_name': 'A', 'xref_src_db': 'PDBe'}, {'xref_id': '6AJX', 'xref_name': 'A', 'xref_src_db': 'PDBe'}, {'xref_id': '6AJW', 'xref_name': 'A', 'xref_src_db': 'PDBe'}, {'xref_id': '6AJY', 'xref_name': 'A', 'xref_src_db': 'PDBe'}, {'xref_id': '5CQT', 'xref_name': 'A', 'xref_src_db': 'PDBe'}, {'xref_id': '6AJV', 'xref_name': 'A', 'xref_src_db': 'PDBe'}, {'xref_id': '6MAU', 'xref_name': 'A', 'xref_src_db': 'PDBe'}, {'xref_id': '6X7B', 'xref_name': 'A', 'xref_src_db': 'PDBe'}, {'xref_id': '2YEL', 'xref_name': 'A', 'xref_src_db': 'PDBe'}, {'xref_id': '6X7D', 'xref_name': 'A', 'xref_src_db': 'PDBe'}, {'xref_id': '2YEM', 'xref_name': 'A', 'xref_src_db': 'PDBe'}, {'xref_id': '6X7C', 'xref_name': 'A', 'xref_src_db': 'PDBe'}, {'xref_id': '5V67', 'xref_name': 'A', 'xref_src_db': 'PDBe'}, {'xref_id': '4ZC9', 'xref_name': 'A', 'xref_src_db': 'PDBe'}, {'xref_id': '5UVS', 'xref_name': 'A', 'xref_src_db': 'PDBe'}, {'xref_id': '4QR3', 'xref_name': 'A', 'xref_src_db': 'PDBe'}, {'xref_id': '5UVU', 'xref_name': 'A', 'xref_src_db': 'PDBe'}, {'xref_id': '4QR4', 'xref_name': 'A', 'xref_src_db': 'PDBe'}, {'xref_id': '5UVT', 'xref_name': 'A', 'xref_src_db': 'PDBe'}, {'xref_id': '6VUF', 'xref_name': 'A', 'xref_src_db': 'PDBe'}, {'xref_id': '5D3T', 'xref_name': 'A', 'xref_src_db': 'PDBe'}, {'xref_id': '2OSS', 'xref_name': 'A', 'xref_src_db': 'PDBe'}, {'xref_id': '5CS8', 'xref_name': 'A', 'xref_src_db': 'PDBe'}, {'xref_id': '6BN7', 'xref_name': 'A', 'xref_src_db': 'PDBe'}, {'xref_id': '6VUJ', 'xref_name': 'A', 'xref_src_db': 'PDBe'}, {'xref_id': '6BN9', 'xref_name': 'A', 'xref_src_db': 'PDBe'}, {'xref_id': '5CRZ', 'xref_name': 'A', 'xref_src_db': 'PDBe'}, {'xref_id': '6BN8', 'xref_name': 'A', 'xref_src_db': 'PDBe'}, {'xref_id': '5CRM', 'xref_name': 'A', 'xref_src_db': 'PDBe'}, {'xref_id': '5D3L', 'xref_name': 'A', 'xref_src_db': 'PDBe'}, {'xref_id': '6TPZ', 'xref_name': 'A', 'xref_src_db': 'PDBe'}, {'xref_id': '5D3N', 'xref_name': 'A', 'xref_src_db': 'PDBe'}, {'xref_id': '4UYD', 'xref_name': 'A', 'xref_src_db': 'PDBe'}, {'xref_id': '6VUB', 'xref_name': 'A', 'xref_src_db': 'PDBe'}, {'xref_id': '5D3P', 'xref_name': 'A', 'xref_src_db': 'PDBe'}, {'xref_id': '4E96', 'xref_name': 'A', 'xref_src_db': 'PDBe'}, {'xref_id': '5D3S', 'xref_name': 'A', 'xref_src_db': 'PDBe'}, {'xref_id': '5D3R', 'xref_name': 'A', 'xref_src_db': 'PDBe'}, {'xref_id': '6VUC', 'xref_name': 'A', 'xref_src_db': 'PDBe'}, {'xref_id': '5T35', 'xref_name': 'A', 'xref_src_db': 'PDBe'}, {'xref_id': '6WW8', 'xref_name': 'A', 'xref_src_db': 'PDBe'}, {'xref_id': '5D3H', 'xref_name': 'A', 'xref_src_db': 'PDBe'}, {'xref_id': '6TPY', 'xref_name': 'A', 'xref_src_db': 'PDBe'}, {'xref_id': '5D3J', 'xref_name': 'A', 'xref_src_db': 'PDBe'}, {'xref_id': '6TPX', 'xref_name': 'A', 'xref_src_db': 'PDBe'}, {'xref_id': '6E4A', 'xref_name': 'A', 'xref_src_db': 'PDBe'}, {'xref_id': '4C67', 'xref_name': 'A', 'xref_src_db': 'PDBe'}, {'xref_id': '4C66', 'xref_name': 'A', 'xref_src_db': 'PDBe'}, {'xref_id': '4QR5', 'xref_name': 'A', 'xref_src_db': 'PDBe'}, {'xref_id': '5UVW', 'xref_name': 'A', 'xref_src_db': 'PDBe'}, {'xref_id': '5UVV', 'xref_name': 'A', 'xref_src_db': 'PDBe'}, {'xref_id': '6BNB', 'xref_name': 'A', 'xref_src_db': 'PDBe'}, {'xref_id': '5UVY', 'xref_name': 'A', 'xref_src_db': 'PDBe'}, {'xref_id': '5UVX', 'xref_name': 'A', 'xref_src_db': 'PDBe'}, {'xref_id': '5UVZ', 'xref_name': 'A', 'xref_src_db': 'PDBe'}, {'xref_id': '2OUO', 'xref_name': 'A', 'xref_src_db': 'PDBe'}, {'xref_id': '5KDH', 'xref_name': 'A', 'xref_src_db': 'PDBe'}, {'xref_id': '5VZS', 'xref_name': 'A', 'xref_src_db': 'PDBe'}, {'xref_id': '6BOY', 'xref_name': 'A', 'xref_src_db': 'PDBe'}, {'xref_id': '5DW2', 'xref_name': 'A', 'xref_src_db': 'PDBe'}, {'xref_id': '7AJN', 'xref_name': 'A', 'xref_src_db': 'PDBe'}, {'xref_id': '5CTL', 'xref_name': 'A', 'xref_src_db': 'PDBe'}, {'xref_id': '4PS5', 'xref_name': 'A', 'xref_src_db': 'PDBe'}, {'xref_id': '6UVJ', 'xref_name': 'A', 'xref_src_db': 'PDBe'}, {'xref_id': '6UVM', 'xref_name': 'A', 'xref_src_db': 'PDBe'}, {'xref_id': '4BW1', 'xref_name': 'A', 'xref_src_db': 'PDBe'}, {'xref_id': '4BW2', 'xref_name': 'A', 'xref_src_db': 'PDBe'}, {'xref_id': '4BW3', 'xref_name': 'A', 'xref_src_db': 'PDBe'}, {'xref_id': '5DX4', 'xref_name': 'A', 'xref_src_db': 'PDBe'}, {'xref_id': '4BW4', 'xref_name': 'A', 'xref_src_db': 'PDBe'}, {'xref_id': '5BT4', 'xref_name': 'A', 'xref_src_db': 'PDBe'}, {'xref_id': '6U72', 'xref_name': 'A', 'xref_src_db': 'PDBe'}, {'xref_id': '6UWU', 'xref_name': 'A', 'xref_src_db': 'PDBe'}, {'xref_id': '6U74', 'xref_name': 'A', 'xref_src_db': 'PDBe'}, {'xref_id': '6U6L', 'xref_name': 'A', 'xref_src_db': 'PDBe'}, {'xref_id': '6U6K', 'xref_name': 'A', 'xref_src_db': 'PDBe'}, {'xref_id': '3P5O', 'xref_name': 'A', 'xref_src_db': 'PDBe'}, {'xref_id': '4HBV', 'xref_name': 'A', 'xref_src_db': 'PDBe'}, {'xref_id': '4HBW', 'xref_name': 'A', 'xref_src_db': 'PDBe'}, {'xref_id': '4HBX', 'xref_name': 'A', 'xref_src_db': 'PDBe'}, {'xref_id': '4HBY', 'xref_name': 'A', 'xref_src_db': 'PDBe'}, {'xref_id': '6DUV', 'xref_name': 'A', 'xref_src_db': 'PDBe'}, {'xref_id': '6S25', 'xref_name': 'A', 'xref_src_db': 'PDBe'}, {'xref_id': '5LJ2', 'xref_name': 'A', 'xref_src_db': 'PDBe'}, {'xref_id': '5LJ1', 'xref_name': 'A', 'xref_src_db': 'PDBe'}, {'xref_id': '6ZB3', 'xref_name': 'A', 'xref_src_db': 'PDBe'}, {'xref_id': '6MH1', 'xref_name': 'A', 'xref_src_db': 'PDBe'}, {'xref_id': '6UWX', 'xref_name': 'A', 'xref_src_db': 'PDBe'}, {'xref_id': '6MH7', 'xref_name': 'A', 'xref_src_db': 'PDBe'}, {'xref_id': '6KEI', 'xref_name': 'A', 'xref_src_db': 'PDBe'}, {'xref_id': '6KEH', 'xref_name': 'A', 'xref_src_db': 'PDBe'}, {'xref_id': '5KHM', 'xref_name': 'A', 'xref_src_db': 'PDBe'}, {'xref_id': '6KEK', 'xref_name': 'A', 'xref_src_db': 'PDBe'}, {'xref_id': '6KEJ', 'xref_name': 'A', 'xref_src_db': 'PDBe'}, {'xref_id': '5NNF', 'xref_name': 'A', 'xref_src_db': 'PDBe'}, {'xref_id': '5NNE', 'xref_name': 'A', 'xref_src_db': 'PDBe'}, {'xref_id': '6U8I', 'xref_name': 'A', 'xref_src_db': 'PDBe'}, {'xref_id': '6KEC', 'xref_name': 'A', 'xref_src_db': 'PDBe'}, {'xref_id': '5NNG', 'xref_name': 'A', 'xref_src_db': 'PDBe'}, {'xref_id': '5MLI', 'xref_name': 'A', 'xref_src_db': 'PDBe'}, {'xref_id': '6KEE', 'xref_name': 'A', 'xref_src_db': 'PDBe'}, {'xref_id': '6KED', 'xref_name': 'A', 'xref_src_db': 'PDBe'}, {'xref_id': '6U8M', 'xref_name': 'A', 'xref_src_db': 'PDBe'}, {'xref_id': '4NQM', 'xref_name': 'A', 'xref_src_db': 'PDBe'}, {'xref_id': '6KEG', 'xref_name': 'A', 'xref_src_db': 'PDBe'}, {'xref_id': '6KEF', 'xref_name': 'A', 'xref_src_db': 'PDBe'}, {'xref_id': '6LG9', 'xref_name': 'A', 'xref_src_db': 'PDBe'}, {'xref_id': '6S4B', 'xref_name': 'A', 'xref_src_db': 'PDBe'}, {'xref_id': '5NND', 'xref_name': 'A', 'xref_src_db': 'PDBe'}, {'xref_id': '5CY9', 'xref_name': 'A', 'xref_src_db': 'PDBe'}, {'xref_id': '5NNC', 'xref_name': 'A', 'xref_src_db': 'PDBe'}, {'xref_id': '6U8G', 'xref_name': 'A', 'xref_src_db': 'PDBe'}, {'xref_id': '6LG4', 'xref_name': 'A', 'xref_src_db': 'PDBe'}, {'xref_id': '6LG6', 'xref_name': 'A', 'xref_src_db': 'PDBe'}, {'xref_id': '6LG5', 'xref_name': 'A', 'xref_src_db': 'PDBe'}, {'xref_id': '5MKZ', 'xref_name': 'A', 'xref_src_db': 'PDBe'}, {'xref_id': '6LG8', 'xref_name': 'A', 'xref_src_db': 'PDBe'}, {'xref_id': '6LG7', 'xref_name': 'A', 'xref_src_db': 'PDBe'}, {'xref_id': '5HCL', 'xref_name': 'A', 'xref_src_db': 'PDBe'}, {'xref_id': '5KJ0', 'xref_name': 'A', 'xref_src_db': 'PDBe'}, {'xref_id': '6P05', 'xref_name': 'A', 'xref_src_db': 'PDBe'}, {'xref_id': '4YH3', 'xref_name': 'A', 'xref_src_db': 'PDBe'}, {'xref_id': '4YH4', 'xref_name': 'A', 'xref_src_db': 'PDBe'}, {'xref_id': '5WA5', 'xref_name': 'A', 'xref_src_db': 'PDBe'}, {'xref_id': '6ZCI', 'xref_name': 'A', 'xref_src_db': 'PDBe'}, {'xref_id': '4NR8', 'xref_name': 'A', 'xref_src_db': 'PDBe'}, {'xref_id': '4MR3', 'xref_name': 'A', 'xref_src_db': 'PDBe'}, {'xref_id': '4MR4', 'xref_name': 'A', 'xref_src_db': 'PDBe'}, {'xref_id': '6LIM', 'xref_name': 'A', 'xref_src_db': 'PDBe'}, {'xref_id': '6S6K', 'xref_name': 'A', 'xref_src_db': 'PDBe'}, {'xref_id': '6LIH', 'xref_name': 'A', 'xref_src_db': 'PDBe'}, {'xref_id': '6SWN', 'xref_name': 'A', 'xref_src_db': 'PDBe'}, {'xref_id': '6SWQ', 'xref_name': 'A', 'xref_src_db': 'PDBe'}, {'xref_id': '5A5S', 'xref_name': 'A', 'xref_src_db': 'PDBe'}, {'xref_id': '5IGK', 'xref_name': 'A', 'xref_src_db': 'PDBe'}, {'xref_id': '6PRT', 'xref_name': 'A', 'xref_src_db': 'PDBe'}, {'xref_id': '4QZS', 'xref_name': 'A', 'xref_src_db': 'PDBe'}, {'xref_id': '6ZF9', 'xref_name': 'A', 'xref_src_db': 'PDBe'}, {'xref_id': '6C7R', 'xref_name': 'A', 'xref_src_db': 'PDBe'}, {'xref_id': '6ZEL', 'xref_name': 'A', 'xref_src_db': 'PDBe'}, {'xref_id': '4A9L', 'xref_name': 'A', 'xref_src_db': 'PDBe'}, {'xref_id': '6ZED', 'xref_name': 'A', 'xref_src_db': 'PDBe'}, {'xref_id': '6C7Q', 'xref_name': 'A', 'xref_src_db': 'PDBe'}, {'xref_id': '4O74', 'xref_name': 'A', 'xref_src_db': 'PDBe'}, {'xref_id': '4O75', 'xref_name': 'A', 'xref_src_db': 'PDBe'}, {'xref_id': '4O76', 'xref_name': 'A', 'xref_src_db': 'PDBe'}, {'xref_id': '4O77', 'xref_name': 'A', 'xref_src_db': 'PDBe'}, {'xref_id': '4LR6', 'xref_name': 'A', 'xref_src_db': 'PDBe'}, {'xref_id': '4O78', 'xref_name': 'A', 'xref_src_db': 'PDBe'}, {'xref_id': '4O70', 'xref_name': 'A', 'xref_src_db': 'PDBe'}, {'xref_id': '4O71', 'xref_name': 'A', 'xref_src_db': 'PDBe'}, {'xref_id': '4O72', 'xref_name': 'A', 'xref_src_db': 'PDBe'}, {'xref_id': '4NUC', 'xref_name': 'A', 'xref_src_db': 'PDBe'}, {'xref_id': '5A85', 'xref_name': 'A', 'xref_src_db': 'PDBe'}, {'xref_id': '6PSB', 'xref_name': 'A', 'xref_src_db': 'PDBe'}, {'xref_id': '4NUD', 'xref_name': 'A', 'xref_src_db': 'PDBe'}, {'xref_id': '4NUE', 'xref_name': 'A', 'xref_src_db': 'PDBe'}, {'xref_id': '6RWJ', 'xref_name': 'A', 'xref_src_db': 'PDBe'}, {'xref_id': '6Q3Y', 'xref_name': 'A', 'xref_src_db': 'PDBe'}, {'xref_id': '6PS9', 'xref_name': 'A', 'xref_src_db': 'PDBe'}, {'xref_id': '6Q3Z', 'xref_name': 'A', 'xref_src_db': 'PDBe'}, {'xref_id': '6HDQ', 'xref_name': 'A', 'xref_src_db': 'PDBe'}, {'xref_id': '6JI4', 'xref_name': 'A', 'xref_src_db': 'PDBe'}, {'xref_id': '6JI3', 'xref_name': 'A', 'xref_src_db': 'PDBe'}, {'xref_id': '5N2M', 'xref_name': 'A', 'xref_src_db': 'PDBe'}, {'xref_id': '6CZV', 'xref_name': 'A', 'xref_src_db': 'PDBe'}, {'xref_id': '4O7E', 'xref_name': 'A', 'xref_src_db': 'PDBe'}, {'xref_id': '6CZU', 'xref_name': 'A', 'xref_src_db': 'PDBe'}, {'xref_id': '4O7F', 'xref_name': 'A', 'xref_src_db': 'PDBe'}, {'xref_id': '4LRG', 'xref_name': 'A', 'xref_src_db': 'PDBe'}, {'xref_id': '5VBP', 'xref_name': 'A', 'xref_src_db': 'PDBe'}, {'xref_id': '5VBO', 'xref_name': 'A', 'xref_src_db': 'PDBe'}, {'xref_id': '4O7A', 'xref_name': 'A', 'xref_src_db': 'PDBe'}, {'xref_id': '4O7B', 'xref_name': 'A', 'xref_src_db': 'PDBe'}, {'xref_id': '5FBX', 'xref_name': 'A', 'xref_src_db': 'PDBe'}, {'xref_id': '4O7C', 'xref_name': 'A', 'xref_src_db': 'PDBe'}, {'xref_id': '6JJ3', 'xref_name': 'A', 'xref_src_db': 'PDBe'}, {'xref_id': '6JJ5', 'xref_name': 'A', 'xref_src_db': 'PDBe'}, {'xref_id': '4WHW', 'xref_name': 'A', 'xref_src_db': 'PDBe'}, {'xref_id': '3MXF', 'xref_name': 'A', 'xref_src_db': 'PDBe'}, {'xref_id': '6JI5', 'xref_name': 'A', 'xref_src_db': 'PDBe'}, {'xref_id': '5OVB', 'xref_name': 'A', 'xref_src_db': 'PDBe'}, {'xref_id': '5OWW', 'xref_name': 'A', 'xref_src_db': 'PDBe'}, {'xref_id': '5M39', 'xref_name': 'A', 'xref_src_db': 'PDBe'}, {'xref_id': '4WIV', 'xref_name': 'A', 'xref_src_db': 'PDBe'}, {'xref_id': '5OWM', 'xref_name': 'A', 'xref_src_db': 'PDBe'}, {'xref_id': '5XHY', 'xref_name': 'A', 'xref_src_db': 'PDBe'}, {'xref_id': '5XI3', 'xref_name': 'A', 'xref_src_db': 'PDBe'}, {'xref_id': '5XI2', 'xref_name': 'A', 'xref_src_db': 'PDBe'}, {'xref_id': '6JJB', 'xref_name': 'A', 'xref_src_db': 'PDBe'}, {'xref_id': '5XI4', 'xref_name': 'A', 'xref_src_db': 'PDBe'}, {'xref_id': '6JJ6', 'xref_name': 'A', 'xref_src_db': 'PDBe'}, {'xref_id': '4IOR', 'xref_name': 'A', 'xref_src_db': 'PDBe'}, {'xref_id': '4J0R', 'xref_name': 'A', 'xref_src_db': 'PDBe'}, {'xref_id': '4J0S', 'xref_name': 'A', 'xref_src_db': 'PDBe'}, {'xref_id': '4IOO', 'xref_name': 'A', 'xref_src_db': 'PDBe'}, {'xref_id': '4IOQ', 'xref_name': 'A', 'xref_src_db': 'PDBe'}, {'xref_id': '5LRQ', 'xref_name': 'A', 'xref_src_db': 'PDBe'}, {'xref_id': '5M3A', 'xref_name': 'A', 'xref_src_db': 'PDBe'}, {'xref_id': '5O97', 'xref_name': 'A', 'xref_src_db': 'PDBe'}, {'xref_id': '6KO2', 'xref_name': 'A', 'xref_src_db': 'PDBe'}, {'xref_id': '6YIN', 'xref_name': 'A', 'xref_src_db': 'PDBe'}, {'xref_id': '5HLS', 'xref_name': 'A', 'xref_src_db': 'PDBe'}, {'xref_id': '5UEV', 'xref_name': 'A', 'xref_src_db': 'PDBe'}, {'xref_id': '5UEU', 'xref_name': 'A', 'xref_src_db': 'PDBe'}, {'xref_id': '4KV1', 'xref_name': 'A', 'xref_src_db': 'PDBe'}, {'xref_id': '5UEX', 'xref_name': 'A', 'xref_src_db': 'PDBe'}, {'xref_id': '5UEZ', 'xref_name': 'A', 'xref_src_db': 'PDBe'}, {'xref_id': '4KV4', 'xref_name': 'A', 'xref_src_db': 'PDBe'}, {'xref_id': '5UEY', 'xref_name': 'A', 'xref_src_db': 'PDBe'}, {'xref_id': '5HM0', 'xref_name': 'A', 'xref_src_db': 'PDBe'}, {'xref_id': '4Z1S', 'xref_name': 'A', 'xref_src_db': 'PDBe'}, {'xref_id': '5UEP', 'xref_name': 'A', 'xref_src_db': 'PDBe'}, {'xref_id': '5UEO', 'xref_name': 'A', 'xref_src_db': 'PDBe'}, {'xref_id': '5UF0', 'xref_name': 'A', 'xref_src_db': 'PDBe'}, {'xref_id': '5UER', 'xref_name': 'A', 'xref_src_db': 'PDBe'}, {'xref_id': '5UEQ', 'xref_name': 'A', 'xref_src_db': 'PDBe'}, {'xref_id': '5UET', 'xref_name': 'A', 'xref_src_db': 'PDBe'}, {'xref_id': '5UES', 'xref_name': 'A', 'xref_src_db': 'PDBe'}, {'xref_id': '4Z1Q', 'xref_name': 'A', 'xref_src_db': 'PDBe'}, {'xref_id': '5EGU', 'xref_name': 'A', 'xref_src_db': 'PDBe'}, {'xref_id': '4UIX', 'xref_name': 'A', 'xref_src_db': 'PDBe'}, {'xref_id': '4UIY', 'xref_name': 'A', 'xref_src_db': 'PDBe'}, {'xref_id': '4UIZ', 'xref_name': 'A', 'xref_src_db': 'PDBe'}, {'xref_id': '6WGX', 'xref_name': 'A', 'xref_src_db': 'PDBe'}, {'xref_id': '4CFK', 'xref_name': 'A', 'xref_src_db': 'PDBe'}, {'xref_id': '4CFL', 'xref_name': 'A', 'xref_src_db': 'PDBe'}, {'xref_id': '5LUU', 'xref_name': 'A', 'xref_src_db': 'PDBe'}, {'xref_id': '4J3I', 'xref_name': 'A', 'xref_src_db': 'PDBe'}, {'xref_id': '4QB3', 'xref_name': 'A', 'xref_src_db': 'PDBe'}, {'xref_id': '6FFD', 'xref_name': 'A', 'xref_src_db': 'PDBe'}, {'xref_id': '5EI4', 'xref_name': 'A', 'xref_src_db': 'PDBe'}, {'xref_id': '4LYS', 'xref_name': 'A', 'xref_src_db': 'PDBe'}, {'xref_id': '5KU3', 'xref_name': 'A', 'xref_src_db': 'PDBe'}, {'xref_id': '4LYW', 'xref_name': 'A', 'xref_src_db': 'PDBe'}, {'xref_id': '6IN1', 'xref_name': 'A', 'xref_src_db': 'PDBe'}, {'xref_id': '4LYI', 'xref_name': 'A', 'xref_src_db': 'PDBe'}, {'xref_id': '5YOV', 'xref_name': 'A', 'xref_src_db': 'PDBe'}, {'xref_id': '5YOU', 'xref_name': 'A', 'xref_src_db': 'PDBe'}, {'xref_id': '6SA3', 'xref_name': 'A', 'xref_src_db': 'PDBe'}, {'xref_id': '6SA2', 'xref_name': 'A', 'xref_src_db': 'PDBe'}, {'xref_id': '7A9U', 'xref_name': 'A', 'xref_src_db': 'PDBe'}, {'xref_id': '5WMD', 'xref_name': 'A', 'xref_src_db': 'PDBe'}, {'xref_id': '5EIS', 'xref_name': 'A', 'xref_src_db': 'PDBe'}, {'xref_id': '5WMG', 'xref_name': 'A', 'xref_src_db': 'PDBe'}, {'xref_id': '4LZR', 'xref_name': 'A', 'xref_src_db': 'PDBe'}, {'xref_id': '4LZS', 'xref_name': 'A', 'xref_src_db': 'PDBe'}, {'xref_id': '6SB8', 'xref_name': 'A', 'xref_src_db': 'PDBe'}, {'xref_id': '5WMA', 'xref_name': 'A', 'xref_src_db': 'PDBe'}, {'xref_id': '5Z1T', 'xref_name': 'A', 'xref_src_db': 'PDBe'}, {'xref_id': '4GPJ', 'xref_name': 'A', 'xref_src_db': 'PDBe'}, {'xref_id': '6SAH', 'xref_name': 'A', 'xref_src_db': 'PDBe'}, {'xref_id': '5Z1S', 'xref_name': 'A', 'xref_src_db': 'PDBe'}, {'xref_id': '5Z1R', 'xref_name': 'A', 'xref_src_db': 'PDBe'}, {'xref_id': '6SAJ', 'xref_name': 'A', 'xref_src_db': 'PDBe'}, {'xref_id': '5HQ7', 'xref_name': 'A', 'xref_src_db': 'PDBe'}, {'xref_id': '5HQ6', 'xref_name': 'A', 'xref_src_db': 'PDBe'}, {'xref_id': '4X2I', 'xref_name': 'A', 'xref_src_db': 'PDBe'}, {'xref_id': '6CD4', 'xref_name': 'A', 'xref_src_db': 'PDBe'}, {'xref_id': '4PCE', 'xref_name': 'A', 'xref_src_db': 'PDBe'}, {'xref_id': '5CFW', 'xref_name': 'A', 'xref_src_db': 'PDBe'}, {'xref_id': '6CD5', 'xref_name': 'A', 'xref_src_db': 'PDBe'}, {'xref_id': '5HQ5', 'xref_name': 'A', 'xref_src_db': 'PDBe'}, {'xref_id': '5YQX', 'xref_name': 'A', 'xref_src_db': 'PDBe'}, {'xref_id': '4ZW1', 'xref_name': 'A', 'xref_src_db': 'PDBe'}, {'xref_id': '3ZYU', 'xref_name': 'A', 'xref_src_db': 'PDBe'}, {'xref_id': 'O60885', 'xref_name': None, 'xref_src_db': 'IntAct'}, {'xref_id': 'IPR031354', 'xref_name': 'BRD4_CDT.', 'xref_src_db': 'InterPro'}, {'xref_id': 'IPR036427', 'xref_name': 'Bromodomain-like_sf.', 'xref_src_db': 'InterPro'}, {'xref_id': 'IPR043509', 'xref_name': 'Bromo_Brdt_II.', 'xref_src_db': 'InterPro'}, {'xref_id': 'IPR027353', 'xref_name': 'NET_dom.', 'xref_src_db': 'InterPro'}, {'xref_id': 'IPR043508', 'xref_name': 'Bromo_Brdt_I.', 'xref_src_db': 'InterPro'}, {'xref_id': 'IPR001487', 'xref_name': 'Bromodomain.', 'xref_src_db': 'InterPro'}, {'xref_id': 'IPR018359', 'xref_name': 'Bromodomain_CS.', 'xref_src_db': 'InterPro'}, {'xref_id': 'IPR038336', 'xref_name': 'NET_sf.', 'xref_src_db': 'InterPro'}, {'xref_id': 'PF00439', 'xref_name': 'Bromodomain', 'xref_src_db': 'Pfam'}, {'xref_id': 'PF17035', 'xref_name': 'BET', 'xref_src_db': 'Pfam'}, {'xref_id': 'PF17105', 'xref_name': 'BRD4_CDT', 'xref_src_db': 'Pfam'}, {'xref_id': 'R-HSA-9679191', 'xref_name': 'Potential therapeutics for SARS.', 'xref_src_db': 'Reactome'}, {'xref_id': '1945', 'xref_name': None, 'xref_src_db': 'GuideToPHARMACOLOGY'}, {'xref_id': 'ENSG00000141867', 'xref_name': None, 'xref_src_db': 'EnsemblGene'}, {'xref_id': 'GO:0006974', 'xref_name': 'cellular response to DNA damage stimulus', 'xref_src_db': 'GoProcess'}, {'xref_id': 'GO:0006325', 'xref_name': 'chromatin organization', 'xref_src_db': 'GoProcess'}, {'xref_id': 'GO:0005694', 'xref_name': 'chromosome', 'xref_src_db': 'GoComponent'}, {'xref_id': 'GO:0000083', 'xref_name': 'regulation of transcription involved in G1/S transition of mitotic cell cycle', 'xref_src_db': 'GoProcess'}, {'xref_id': 'GO:0032968', 'xref_name': 'positive regulation of transcription elongation from RNA polymerase II promoter', 'xref_src_db': 'GoProcess'}, {'xref_id': 'GO:0010971', 'xref_name': 'positive regulation of G2/M transition of mitotic cell cycle', 'xref_src_db': 'GoProcess'}, {'xref_id': 'GO:0008353', 'xref_name': 'RNA polymerase II CTD heptapeptide repeat kinase activity', 'xref_src_db': 'GoFunction'}, {'xref_id': 'GO:0000794', 'xref_name': 'condensed nuclear chromosome', 'xref_src_db': 'GoComponent'}, {'xref_id': 'GO:0099122', 'xref_name': 'RNA polymerase II C-terminal domain binding', 'xref_src_db': 'GoFunction'}, {'xref_id': 'GO:0005654', 'xref_name': 'nucleoplasm', 'xref_src_db': 'GoComponent'}, {'xref_id': 'GO:0005515', 'xref_name': 'protein binding', 'xref_src_db': 'GoFunction'}, {'xref_id': 'GO:0005634', 'xref_name': 'nucleus', 'xref_src_db': 'GoComponent'}, {'xref_id': 'GO:0006468', 'xref_name': 'protein phosphorylation', 'xref_src_db': 'GoProcess'}, {'xref_id': 'GO:0019899', 'xref_name': 'enzyme binding', 'xref_src_db': 'GoFunction'}, {'xref_id': 'GO:0003713', 'xref_name': 'transcription coactivator activity', 'xref_src_db': 'GoFunction'}, {'xref_id': 'GO:2001255', 'xref_name': 'positive regulation of histone H3-K36 trimethylation', 'xref_src_db': 'GoProcess'}, {'xref_id': 'GO:0045893', 'xref_name': 'positive regulation of transcription, DNA-templated', 'xref_src_db': 'GoProcess'}, {'xref_id': 'GO:0002039', 'xref_name': 'p53 binding', 'xref_src_db': 'GoFunction'}, {'xref_id': 'GO:0003682', 'xref_name': 'chromatin binding', 'xref_src_db': 'GoFunction'}, {'xref_id': 'GO:0003712', 'xref_name': 'transcription coregulator activity', 'xref_src_db': 'GoFunction'}, {'xref_id': 'GO:0106140', 'xref_name': 'P-TEFb complex binding', 'xref_src_db': 'GoFunction'}, {'xref_id': 'GO:0050727', 'xref_name': 'regulation of inflammatory response', 'xref_src_db': 'GoProcess'}, {'xref_id': 'GO:0045944', 'xref_name': 'positive regulation of transcription by RNA polymerase II', 'xref_src_db': 'GoProcess'}, {'xref_id': 'GO:0043123', 'xref_name': 'positive regulation of I-kappaB kinase/NF-kappaB signaling', 'xref_src_db': 'GoProcess'}, {'xref_id': 'GO:0070577', 'xref_name': 'lysine-acetylated histone binding', 'xref_src_db': 'GoFunction'}, {'xref_id': 'GO:1901407', 'xref_name': 'regulation of phosphorylation of RNA polymerase II C-terminal domain', 'xref_src_db': 'GoProcess'}, {'xref_id': 'GO:0043922', 'xref_name': 'negative regulation by host of viral transcription', 'xref_src_db': 'GoProcess'}, {'xref_id': 'GO:0006338', 'xref_name': 'chromatin remodeling', 'xref_src_db': 'GoProcess'}, {'xref_id': 'GO:2000002', 'xref_name': 'negative regulation of DNA damage checkpoint', 'xref_src_db': 'GoProcess'}]}], 'target_type': 'PROTEIN COMPLEX', 'tax_id': 9606}, {'cross_references': [], 'organism': 'Homo sapiens', 'pref_name': 'Cereblon/Cullin-4A/Bromodomain-containing protein 4', 'species_group_flag': False, 'target_chembl_id': 'CHEMBL4296133', 'target_components': [{'accession': 'O60885', 'component_description': 'Bromodomain-containing protein 4', 'component_id': 5501, 'component_type': 'PROTEIN', 'relationship': 'INTERACTING PROTEIN', 'target_component_synonyms': [{'component_synonym': 'BRD4', 'syn_type': 'GENE_SYMBOL'}, {'component_synonym': 'Bromodomain-containing protein 4', 'syn_type': 'UNIPROT'}, {'component_synonym': 'HUNK1', 'syn_type': 'GENE_SYMBOL_OTHER'}, {'component_synonym': 'Protein HUNK1', 'syn_type': 'UNIPROT'}], 'target_component_xrefs': [{'xref_id': 'BRD4', 'xref_name': 'BRD4', 'xref_src_db': 'TIMBAL'}, {'xref_id': 'PA25416', 'xref_name': 'bromodomain containing 4', 'xref_src_db': 'PharmGKB'}, {'xref_id': 'O60885', 'xref_name': 'Tchem', 'xref_src_db': 'Pharos'}, {'xref_id': 'O60885', 'xref_name': None, 'xref_src_db': 'UniProt'}, {'xref_id': 'O60433', 'xref_name': None, 'xref_src_db': 'UniProt'}, {'xref_id': 'Q4G0X8', 'xref_name': None, 'xref_src_db': 'UniProt'}, {'xref_id': 'Q86YS8', 'xref_name': None, 'xref_src_db': 'UniProt'}, {'xref_id': 'Q96PD3', 'xref_name': None, 'xref_src_db': 'UniProt'}, {'xref_id': 'O60885', 'xref_name': None, 'xref_src_db': 'ExpressionAtlas'}, {'xref_id': '5AD3', 'xref_name': 'A', 'xref_src_db': 'PDBe'}, {'xref_id': '5AD2', 'xref_name': 'A', 'xref_src_db': 'PDBe'}, {'xref_id': '6VIZ', 'xref_name': 'A', 'xref_src_db': 'PDBe'}, {'xref_id': '5TI3', 'xref_name': 'A', 'xref_src_db': 'PDBe'}, {'xref_id': '5TI2', 'xref_name': 'A', 'xref_src_db': 'PDBe'}, {'xref_id': '5TI5', 'xref_name': 'A', 'xref_src_db': 'PDBe'}, {'xref_id': '5TI4', 'xref_name': 'A', 'xref_src_db': 'PDBe'}, {'xref_id': '5TI7', 'xref_name': 'A', 'xref_src_db': 'PDBe'}, {'xref_id': '5TI6', 'xref_name': 'A', 'xref_src_db': 'PDBe'}, {'xref_id': '5Y1Y', 'xref_name': 'A', 'xref_src_db': 'PDBe'}, {'xref_id': '6VIX', 'xref_name': 'A', 'xref_src_db': 'PDBe'}, {'xref_id': '6VIW', 'xref_name': 'A', 'xref_src_db': 'PDBe'}, {'xref_id': '4PCI', 'xref_name': 'A', 'xref_src_db': 'PDBe'}, {'xref_id': '6HOV', 'xref_name': 'A', 'xref_src_db': 'PDBe'}, {'xref_id': '4CL9', 'xref_name': 'A', 'xref_src_db': 'PDBe'}, {'xref_id': '5H21', 'xref_name': 'A', 'xref_src_db': 'PDBe'}, {'xref_id': '5ULA', 'xref_name': 'A', 'xref_src_db': 'PDBe'}, {'xref_id': '6SE4', 'xref_name': 'A', 'xref_src_db': 'PDBe'}, {'xref_id': '5ACY', 'xref_name': 'A', 'xref_src_db': 'PDBe'}, {'xref_id': '4BJX', 'xref_name': 'A', 'xref_src_db': 'PDBe'}, {'xref_id': '5VOM', 'xref_name': 'A', 'xref_src_db': 'PDBe'}, {'xref_id': '5JWM', 'xref_name': 'A', 'xref_src_db': 'PDBe'}, {'xref_id': '4Z93', 'xref_name': 'A', 'xref_src_db': 'PDBe'}, {'xref_id': '6YQO', 'xref_name': 'A', 'xref_src_db': 'PDBe'}, {'xref_id': '6YQN', 'xref_name': 'A', 'xref_src_db': 'PDBe'}, {'xref_id': '6YQP', 'xref_name': 'A', 'xref_src_db': 'PDBe'}, {'xref_id': '5Z5U', 'xref_name': 'A', 'xref_src_db': 'PDBe'}, {'xref_id': '4CLB', 'xref_name': 'A', 'xref_src_db': 'PDBe'}, {'xref_id': '5Z5T', 'xref_name': 'A', 'xref_src_db': 'PDBe'}, {'xref_id': '5Z5V', 'xref_name': 'A', 'xref_src_db': 'PDBe'}, {'xref_id': '5DLX', 'xref_name': 'A', 'xref_src_db': 'PDBe'}, {'xref_id': '5DLZ', 'xref_name': 'A', 'xref_src_db': 'PDBe'}, {'xref_id': '4DON', 'xref_name': 'A', 'xref_src_db': 'PDBe'}, {'xref_id': '6FNX', 'xref_name': 'A', 'xref_src_db': 'PDBe'}, {'xref_id': '5Z90', 'xref_name': 'A', 'xref_src_db': 'PDBe'}, {'xref_id': '5Z8R', 'xref_name': 'A', 'xref_src_db': 'PDBe'}, {'xref_id': '5Z8G', 'xref_name': 'A', 'xref_src_db': 'PDBe'}, {'xref_id': '6FO5', 'xref_name': 'A', 'xref_src_db': 'PDBe'}, {'xref_id': '4F3I', 'xref_name': 'A', 'xref_src_db': 'PDBe'}, {'xref_id': '4HXL', 'xref_name': 'A', 'xref_src_db': 'PDBe'}, {'xref_id': '4HXM', 'xref_name': 'A', 'xref_src_db': 'PDBe'}, {'xref_id': '4HXN', 'xref_name': 'A', 'xref_src_db': 'PDBe'}, {'xref_id': '4HXO', 'xref_name': 'A', 'xref_src_db': 'PDBe'}, {'xref_id': '4HXP', 'xref_name': 'A', 'xref_src_db': 'PDBe'}, {'xref_id': '4HXR', 'xref_name': 'A', 'xref_src_db': 'PDBe'}, {'xref_id': '4HXS', 'xref_name': 'A', 'xref_src_db': 'PDBe'}, {'xref_id': '6DJC', 'xref_name': 'A', 'xref_src_db': 'PDBe'}, {'xref_id': '4HXK', 'xref_name': 'A', 'xref_src_db': 'PDBe'}, {'xref_id': '3U5K', 'xref_name': 'A', 'xref_src_db': 'PDBe'}, {'xref_id': '3U5L', 'xref_name': 'A', 'xref_src_db': 'PDBe'}, {'xref_id': '6CIY', 'xref_name': 'A', 'xref_src_db': 'PDBe'}, {'xref_id': '4OGI', 'xref_name': 'A', 'xref_src_db': 'PDBe'}, {'xref_id': '4OGJ', 'xref_name': 'A', 'xref_src_db': 'PDBe'}, {'xref_id': '6G0P', 'xref_name': 'A', 'xref_src_db': 'PDBe'}, {'xref_id': '6G0O', 'xref_name': 'A', 'xref_src_db': 'PDBe'}, {'xref_id': '6G0R', 'xref_name': 'A', 'xref_src_db': 'PDBe'}, {'xref_id': '6G0Q', 'xref_name': 'A', 'xref_src_db': 'PDBe'}, {'xref_id': '6CJ2', 'xref_name': 'A', 'xref_src_db': 'PDBe'}, {'xref_id': '5I88', 'xref_name': 'A', 'xref_src_db': 'PDBe'}, {'xref_id': '6CJ1', 'xref_name': 'A', 'xref_src_db': 'PDBe'}, {'xref_id': '6DL2', 'xref_name': 'A', 'xref_src_db': 'PDBe'}, {'xref_id': '6G0S', 'xref_name': 'A', 'xref_src_db': 'PDBe'}, {'xref_id': '5Z9K', 'xref_name': 'A', 'xref_src_db': 'PDBe'}, {'xref_id': '6CIS', 'xref_name': 'A', 'xref_src_db': 'PDBe'}, {'xref_id': '3U5J', 'xref_name': 'A', 'xref_src_db': 'PDBe'}, {'xref_id': '6G0H', 'xref_name': 'A', 'xref_src_db': 'PDBe'}, {'xref_id': '6ULV', 'xref_name': 'A', 'xref_src_db': 'PDBe'}, {'xref_id': '6G0G', 'xref_name': 'A', 'xref_src_db': 'PDBe'}, {'xref_id': '4XYA', 'xref_name': 'A', 'xref_src_db': 'PDBe'}, {'xref_id': '5I80', 'xref_name': 'A', 'xref_src_db': 'PDBe'}, {'xref_id': '5UOO', 'xref_name': 'A', 'xref_src_db': 'PDBe'}, {'xref_id': '4XY9', 'xref_name': 'A', 'xref_src_db': 'PDBe'}, {'xref_id': '6G0D', 'xref_name': 'A', 'xref_src_db': 'PDBe'}, {'xref_id': '5Z8Z', 'xref_name': 'A', 'xref_src_db': 'PDBe'}, {'xref_id': '6G0F', 'xref_name': 'A', 'xref_src_db': 'PDBe'}, {'xref_id': '6G0E', 'xref_name': 'A', 'xref_src_db': 'PDBe'}, {'xref_id': '6ULS', 'xref_name': 'A', 'xref_src_db': 'PDBe'}, {'xref_id': '6Z7L', 'xref_name': 'A', 'xref_src_db': 'PDBe'}, {'xref_id': '6Z7M', 'xref_name': 'A', 'xref_src_db': 'PDBe'}, {'xref_id': '5Y94', 'xref_name': 'A', 'xref_src_db': 'PDBe'}, {'xref_id': '5Y93', 'xref_name': 'A', 'xref_src_db': 'PDBe'}, {'xref_id': '5E0R', 'xref_name': 'A', 'xref_src_db': 'PDBe'}, {'xref_id': '6Z7G', 'xref_name': 'A', 'xref_src_db': 'PDBe'}, {'xref_id': '6AFR', 'xref_name': 'A', 'xref_src_db': 'PDBe'}, {'xref_id': '5Y8C', 'xref_name': 'A', 'xref_src_db': 'PDBe'}, {'xref_id': '3UVW', 'xref_name': 'A', 'xref_src_db': 'PDBe'}, {'xref_id': '3UVX', 'xref_name': 'A', 'xref_src_db': 'PDBe'}, {'xref_id': '3UW9', 'xref_name': 'A', 'xref_src_db': 'PDBe'}, {'xref_id': '3UVY', 'xref_name': 'A', 'xref_src_db': 'PDBe'}, {'xref_id': '6SIS', 'xref_name': 'A', 'xref_src_db': 'PDBe'}, {'xref_id': '6XV3', 'xref_name': 'A', 'xref_src_db': 'PDBe'}, {'xref_id': '6CKS', 'xref_name': 'A', 'xref_src_db': 'PDBe'}, {'xref_id': '6CKR', 'xref_name': 'A', 'xref_src_db': 'PDBe'}, {'xref_id': '6DMJ', 'xref_name': 'A', 'xref_src_db': 'PDBe'}, {'xref_id': '6DML', 'xref_name': 'A', 'xref_src_db': 'PDBe'}, {'xref_id': '5Y8W', 'xref_name': 'A', 'xref_src_db': 'PDBe'}, {'xref_id': '5W55', 'xref_name': 'A', 'xref_src_db': 'PDBe'}, {'xref_id': '5WUU', 'xref_name': 'A', 'xref_src_db': 'PDBe'}, {'xref_id': '5Y8Y', 'xref_name': 'A', 'xref_src_db': 'PDBe'}, {'xref_id': '5Y8Z', 'xref_name': 'A', 'xref_src_db': 'PDBe'}, {'xref_id': '6V1L', 'xref_name': 'A', 'xref_src_db': 'PDBe'}, {'xref_id': '6V1K', 'xref_name': 'A', 'xref_src_db': 'PDBe'}, {'xref_id': '5U2C', 'xref_name': 'A', 'xref_src_db': 'PDBe'}, {'xref_id': '5CP5', 'xref_name': 'A', 'xref_src_db': 'PDBe'}, {'xref_id': '5U2E', 'xref_name': 'A', 'xref_src_db': 'PDBe'}, {'xref_id': '6I7Y', 'xref_name': 'A', 'xref_src_db': 'PDBe'}, {'xref_id': '5U2F', 'xref_name': 'A', 'xref_src_db': 'PDBe'}, {'xref_id': '6I7X', 'xref_name': 'A', 'xref_src_db': 'PDBe'}, {'xref_id': '5COI', 'xref_name': 'A', 'xref_src_db': 'PDBe'}, {'xref_id': '6XVC', 'xref_name': 'A', 'xref_src_db': 'PDBe'}, {'xref_id': '4MEN', 'xref_name': 'A', 'xref_src_db': 'PDBe'}, {'xref_id': '6XV7', 'xref_name': 'A', 'xref_src_db': 'PDBe'}, {'xref_id': '4MEO', 'xref_name': 'A', 'xref_src_db': 'PDBe'}, {'xref_id': '5D0C', 'xref_name': 'A', 'xref_src_db': 'PDBe'}, {'xref_id': '4MEP', 'xref_name': 'A', 'xref_src_db': 'PDBe'}, {'xref_id': '6DNE', 'xref_name': 'A', 'xref_src_db': 'PDBe'}, {'xref_id': '6V0U', 'xref_name': 'A', 'xref_src_db': 'PDBe'}, {'xref_id': '4MEQ', 'xref_name': 'A', 'xref_src_db': 'PDBe'}, {'xref_id': '6XUZ', 'xref_name': 'A', 'xref_src_db': 'PDBe'}, {'xref_id': '5U28', 'xref_name': 'A', 'xref_src_db': 'PDBe'}, {'xref_id': '3SVF', 'xref_name': 'A', 'xref_src_db': 'PDBe'}, {'xref_id': '5D24', 'xref_name': 'A', 'xref_src_db': 'PDBe'}, {'xref_id': '3SVG', 'xref_name': 'A', 'xref_src_db': 'PDBe'}, {'xref_id': '6FT4', 'xref_name': 'A', 'xref_src_db': 'PDBe'}, {'xref_id': '5D26', 'xref_name': 'A', 'xref_src_db': 'PDBe'}, {'xref_id': '6U0D', 'xref_name': 'A', 'xref_src_db': 'PDBe'}, {'xref_id': '5D25', 'xref_name': 'A', 'xref_src_db': 'PDBe'}, {'xref_id': '5F5Z', 'xref_name': 'A', 'xref_src_db': 'PDBe'}, {'xref_id': '6FSY', 'xref_name': 'A', 'xref_src_db': 'PDBe'}, {'xref_id': '5F60', 'xref_name': 'A', 'xref_src_db': 'PDBe'}, {'xref_id': '2NNU', 'xref_name': 'A', 'xref_src_db': 'PDBe'}, {'xref_id': '5F62', 'xref_name': 'A', 'xref_src_db': 'PDBe'}, {'xref_id': '5F61', 'xref_name': 'A', 'xref_src_db': 'PDBe'}, {'xref_id': '6FT3', 'xref_name': 'A', 'xref_src_db': 'PDBe'}, {'xref_id': '5F63', 'xref_name': 'A', 'xref_src_db': 'PDBe'}, {'xref_id': '5CPE', 'xref_name': 'A', 'xref_src_db': 'PDBe'}, {'xref_id': '6V1U', 'xref_name': 'A', 'xref_src_db': 'PDBe'}, {'xref_id': '6AJX', 'xref_name': 'A', 'xref_src_db': 'PDBe'}, {'xref_id': '6AJW', 'xref_name': 'A', 'xref_src_db': 'PDBe'}, {'xref_id': '6AJY', 'xref_name': 'A', 'xref_src_db': 'PDBe'}, {'xref_id': '5CQT', 'xref_name': 'A', 'xref_src_db': 'PDBe'}, {'xref_id': '6AJV', 'xref_name': 'A', 'xref_src_db': 'PDBe'}, {'xref_id': '6MAU', 'xref_name': 'A', 'xref_src_db': 'PDBe'}, {'xref_id': '6X7B', 'xref_name': 'A', 'xref_src_db': 'PDBe'}, {'xref_id': '2YEL', 'xref_name': 'A', 'xref_src_db': 'PDBe'}, {'xref_id': '6X7D', 'xref_name': 'A', 'xref_src_db': 'PDBe'}, {'xref_id': '2YEM', 'xref_name': 'A', 'xref_src_db': 'PDBe'}, {'xref_id': '6X7C', 'xref_name': 'A', 'xref_src_db': 'PDBe'}, {'xref_id': '5V67', 'xref_name': 'A', 'xref_src_db': 'PDBe'}, {'xref_id': '4ZC9', 'xref_name': 'A', 'xref_src_db': 'PDBe'}, {'xref_id': '5UVS', 'xref_name': 'A', 'xref_src_db': 'PDBe'}, {'xref_id': '4QR3', 'xref_name': 'A', 'xref_src_db': 'PDBe'}, {'xref_id': '5UVU', 'xref_name': 'A', 'xref_src_db': 'PDBe'}, {'xref_id': '4QR4', 'xref_name': 'A', 'xref_src_db': 'PDBe'}, {'xref_id': '5UVT', 'xref_name': 'A', 'xref_src_db': 'PDBe'}, {'xref_id': '6VUF', 'xref_name': 'A', 'xref_src_db': 'PDBe'}, {'xref_id': '5D3T', 'xref_name': 'A', 'xref_src_db': 'PDBe'}, {'xref_id': '2OSS', 'xref_name': 'A', 'xref_src_db': 'PDBe'}, {'xref_id': '5CS8', 'xref_name': 'A', 'xref_src_db': 'PDBe'}, {'xref_id': '6BN7', 'xref_name': 'A', 'xref_src_db': 'PDBe'}, {'xref_id': '6VUJ', 'xref_name': 'A', 'xref_src_db': 'PDBe'}, {'xref_id': '6BN9', 'xref_name': 'A', 'xref_src_db': 'PDBe'}, {'xref_id': '5CRZ', 'xref_name': 'A', 'xref_src_db': 'PDBe'}, {'xref_id': '6BN8', 'xref_name': 'A', 'xref_src_db': 'PDBe'}, {'xref_id': '5CRM', 'xref_name': 'A', 'xref_src_db': 'PDBe'}, {'xref_id': '5D3L', 'xref_name': 'A', 'xref_src_db': 'PDBe'}, {'xref_id': '6TPZ', 'xref_name': 'A', 'xref_src_db': 'PDBe'}, {'xref_id': '5D3N', 'xref_name': 'A', 'xref_src_db': 'PDBe'}, {'xref_id': '4UYD', 'xref_name': 'A', 'xref_src_db': 'PDBe'}, {'xref_id': '6VUB', 'xref_name': 'A', 'xref_src_db': 'PDBe'}, {'xref_id': '5D3P', 'xref_name': 'A', 'xref_src_db': 'PDBe'}, {'xref_id': '4E96', 'xref_name': 'A', 'xref_src_db': 'PDBe'}, {'xref_id': '5D3S', 'xref_name': 'A', 'xref_src_db': 'PDBe'}, {'xref_id': '5D3R', 'xref_name': 'A', 'xref_src_db': 'PDBe'}, {'xref_id': '6VUC', 'xref_name': 'A', 'xref_src_db': 'PDBe'}, {'xref_id': '5T35', 'xref_name': 'A', 'xref_src_db': 'PDBe'}, {'xref_id': '6WW8', 'xref_name': 'A', 'xref_src_db': 'PDBe'}, {'xref_id': '5D3H', 'xref_name': 'A', 'xref_src_db': 'PDBe'}, {'xref_id': '6TPY', 'xref_name': 'A', 'xref_src_db': 'PDBe'}, {'xref_id': '5D3J', 'xref_name': 'A', 'xref_src_db': 'PDBe'}, {'xref_id': '6TPX', 'xref_name': 'A', 'xref_src_db': 'PDBe'}, {'xref_id': '6E4A', 'xref_name': 'A', 'xref_src_db': 'PDBe'}, {'xref_id': '4C67', 'xref_name': 'A', 'xref_src_db': 'PDBe'}, {'xref_id': '4C66', 'xref_name': 'A', 'xref_src_db': 'PDBe'}, {'xref_id': '4QR5', 'xref_name': 'A', 'xref_src_db': 'PDBe'}, {'xref_id': '5UVW', 'xref_name': 'A', 'xref_src_db': 'PDBe'}, {'xref_id': '5UVV', 'xref_name': 'A', 'xref_src_db': 'PDBe'}, {'xref_id': '6BNB', 'xref_name': 'A', 'xref_src_db': 'PDBe'}, {'xref_id': '5UVY', 'xref_name': 'A', 'xref_src_db': 'PDBe'}, {'xref_id': '5UVX', 'xref_name': 'A', 'xref_src_db': 'PDBe'}, {'xref_id': '5UVZ', 'xref_name': 'A', 'xref_src_db': 'PDBe'}, {'xref_id': '2OUO', 'xref_name': 'A', 'xref_src_db': 'PDBe'}, {'xref_id': '5KDH', 'xref_name': 'A', 'xref_src_db': 'PDBe'}, {'xref_id': '5VZS', 'xref_name': 'A', 'xref_src_db': 'PDBe'}, {'xref_id': '6BOY', 'xref_name': 'A', 'xref_src_db': 'PDBe'}, {'xref_id': '5DW2', 'xref_name': 'A', 'xref_src_db': 'PDBe'}, {'xref_id': '7AJN', 'xref_name': 'A', 'xref_src_db': 'PDBe'}, {'xref_id': '5CTL', 'xref_name': 'A', 'xref_src_db': 'PDBe'}, {'xref_id': '4PS5', 'xref_name': 'A', 'xref_src_db': 'PDBe'}, {'xref_id': '6UVJ', 'xref_name': 'A', 'xref_src_db': 'PDBe'}, {'xref_id': '6UVM', 'xref_name': 'A', 'xref_src_db': 'PDBe'}, {'xref_id': '4BW1', 'xref_name': 'A', 'xref_src_db': 'PDBe'}, {'xref_id': '4BW2', 'xref_name': 'A', 'xref_src_db': 'PDBe'}, {'xref_id': '4BW3', 'xref_name': 'A', 'xref_src_db': 'PDBe'}, {'xref_id': '5DX4', 'xref_name': 'A', 'xref_src_db': 'PDBe'}, {'xref_id': '4BW4', 'xref_name': 'A', 'xref_src_db': 'PDBe'}, {'xref_id': '5BT4', 'xref_name': 'A', 'xref_src_db': 'PDBe'}, {'xref_id': '6U72', 'xref_name': 'A', 'xref_src_db': 'PDBe'}, {'xref_id': '6UWU', 'xref_name': 'A', 'xref_src_db': 'PDBe'}, {'xref_id': '6U74', 'xref_name': 'A', 'xref_src_db': 'PDBe'}, {'xref_id': '6U6L', 'xref_name': 'A', 'xref_src_db': 'PDBe'}, {'xref_id': '6U6K', 'xref_name': 'A', 'xref_src_db': 'PDBe'}, {'xref_id': '3P5O', 'xref_name': 'A', 'xref_src_db': 'PDBe'}, {'xref_id': '4HBV', 'xref_name': 'A', 'xref_src_db': 'PDBe'}, {'xref_id': '4HBW', 'xref_name': 'A', 'xref_src_db': 'PDBe'}, {'xref_id': '4HBX', 'xref_name': 'A', 'xref_src_db': 'PDBe'}, {'xref_id': '4HBY', 'xref_name': 'A', 'xref_src_db': 'PDBe'}, {'xref_id': '6DUV', 'xref_name': 'A', 'xref_src_db': 'PDBe'}, {'xref_id': '6S25', 'xref_name': 'A', 'xref_src_db': 'PDBe'}, {'xref_id': '5LJ2', 'xref_name': 'A', 'xref_src_db': 'PDBe'}, {'xref_id': '5LJ1', 'xref_name': 'A', 'xref_src_db': 'PDBe'}, {'xref_id': '6ZB3', 'xref_name': 'A', 'xref_src_db': 'PDBe'}, {'xref_id': '6MH1', 'xref_name': 'A', 'xref_src_db': 'PDBe'}, {'xref_id': '6UWX', 'xref_name': 'A', 'xref_src_db': 'PDBe'}, {'xref_id': '6MH7', 'xref_name': 'A', 'xref_src_db': 'PDBe'}, {'xref_id': '6KEI', 'xref_name': 'A', 'xref_src_db': 'PDBe'}, {'xref_id': '6KEH', 'xref_name': 'A', 'xref_src_db': 'PDBe'}, {'xref_id': '5KHM', 'xref_name': 'A', 'xref_src_db': 'PDBe'}, {'xref_id': '6KEK', 'xref_name': 'A', 'xref_src_db': 'PDBe'}, {'xref_id': '6KEJ', 'xref_name': 'A', 'xref_src_db': 'PDBe'}, {'xref_id': '5NNF', 'xref_name': 'A', 'xref_src_db': 'PDBe'}, {'xref_id': '5NNE', 'xref_name': 'A', 'xref_src_db': 'PDBe'}, {'xref_id': '6U8I', 'xref_name': 'A', 'xref_src_db': 'PDBe'}, {'xref_id': '6KEC', 'xref_name': 'A', 'xref_src_db': 'PDBe'}, {'xref_id': '5NNG', 'xref_name': 'A', 'xref_src_db': 'PDBe'}, {'xref_id': '5MLI', 'xref_name': 'A', 'xref_src_db': 'PDBe'}, {'xref_id': '6KEE', 'xref_name': 'A', 'xref_src_db': 'PDBe'}, {'xref_id': '6KED', 'xref_name': 'A', 'xref_src_db': 'PDBe'}, {'xref_id': '6U8M', 'xref_name': 'A', 'xref_src_db': 'PDBe'}, {'xref_id': '4NQM', 'xref_name': 'A', 'xref_src_db': 'PDBe'}, {'xref_id': '6KEG', 'xref_name': 'A', 'xref_src_db': 'PDBe'}, {'xref_id': '6KEF', 'xref_name': 'A', 'xref_src_db': 'PDBe'}, {'xref_id': '6LG9', 'xref_name': 'A', 'xref_src_db': 'PDBe'}, {'xref_id': '6S4B', 'xref_name': 'A', 'xref_src_db': 'PDBe'}, {'xref_id': '5NND', 'xref_name': 'A', 'xref_src_db': 'PDBe'}, {'xref_id': '5CY9', 'xref_name': 'A', 'xref_src_db': 'PDBe'}, {'xref_id': '5NNC', 'xref_name': 'A', 'xref_src_db': 'PDBe'}, {'xref_id': '6U8G', 'xref_name': 'A', 'xref_src_db': 'PDBe'}, {'xref_id': '6LG4', 'xref_name': 'A', 'xref_src_db': 'PDBe'}, {'xref_id': '6LG6', 'xref_name': 'A', 'xref_src_db': 'PDBe'}, {'xref_id': '6LG5', 'xref_name': 'A', 'xref_src_db': 'PDBe'}, {'xref_id': '5MKZ', 'xref_name': 'A', 'xref_src_db': 'PDBe'}, {'xref_id': '6LG8', 'xref_name': 'A', 'xref_src_db': 'PDBe'}, {'xref_id': '6LG7', 'xref_name': 'A', 'xref_src_db': 'PDBe'}, {'xref_id': '5HCL', 'xref_name': 'A', 'xref_src_db': 'PDBe'}, {'xref_id': '5KJ0', 'xref_name': 'A', 'xref_src_db': 'PDBe'}, {'xref_id': '6P05', 'xref_name': 'A', 'xref_src_db': 'PDBe'}, {'xref_id': '4YH3', 'xref_name': 'A', 'xref_src_db': 'PDBe'}, {'xref_id': '4YH4', 'xref_name': 'A', 'xref_src_db': 'PDBe'}, {'xref_id': '5WA5', 'xref_name': 'A', 'xref_src_db': 'PDBe'}, {'xref_id': '6ZCI', 'xref_name': 'A', 'xref_src_db': 'PDBe'}, {'xref_id': '4NR8', 'xref_name': 'A', 'xref_src_db': 'PDBe'}, {'xref_id': '4MR3', 'xref_name': 'A', 'xref_src_db': 'PDBe'}, {'xref_id': '4MR4', 'xref_name': 'A', 'xref_src_db': 'PDBe'}, {'xref_id': '6LIM', 'xref_name': 'A', 'xref_src_db': 'PDBe'}, {'xref_id': '6S6K', 'xref_name': 'A', 'xref_src_db': 'PDBe'}, {'xref_id': '6LIH', 'xref_name': 'A', 'xref_src_db': 'PDBe'}, {'xref_id': '6SWN', 'xref_name': 'A', 'xref_src_db': 'PDBe'}, {'xref_id': '6SWQ', 'xref_name': 'A', 'xref_src_db': 'PDBe'}, {'xref_id': '5A5S', 'xref_name': 'A', 'xref_src_db': 'PDBe'}, {'xref_id': '5IGK', 'xref_name': 'A', 'xref_src_db': 'PDBe'}, {'xref_id': '6PRT', 'xref_name': 'A', 'xref_src_db': 'PDBe'}, {'xref_id': '4QZS', 'xref_name': 'A', 'xref_src_db': 'PDBe'}, {'xref_id': '6ZF9', 'xref_name': 'A', 'xref_src_db': 'PDBe'}, {'xref_id': '6C7R', 'xref_name': 'A', 'xref_src_db': 'PDBe'}, {'xref_id': '6ZEL', 'xref_name': 'A', 'xref_src_db': 'PDBe'}, {'xref_id': '4A9L', 'xref_name': 'A', 'xref_src_db': 'PDBe'}, {'xref_id': '6ZED', 'xref_name': 'A', 'xref_src_db': 'PDBe'}, {'xref_id': '6C7Q', 'xref_name': 'A', 'xref_src_db': 'PDBe'}, {'xref_id': '4O74', 'xref_name': 'A', 'xref_src_db': 'PDBe'}, {'xref_id': '4O75', 'xref_name': 'A', 'xref_src_db': 'PDBe'}, {'xref_id': '4O76', 'xref_name': 'A', 'xref_src_db': 'PDBe'}, {'xref_id': '4O77', 'xref_name': 'A', 'xref_src_db': 'PDBe'}, {'xref_id': '4LR6', 'xref_name': 'A', 'xref_src_db': 'PDBe'}, {'xref_id': '4O78', 'xref_name': 'A', 'xref_src_db': 'PDBe'}, {'xref_id': '4O70', 'xref_name': 'A', 'xref_src_db': 'PDBe'}, {'xref_id': '4O71', 'xref_name': 'A', 'xref_src_db': 'PDBe'}, {'xref_id': '4O72', 'xref_name': 'A', 'xref_src_db': 'PDBe'}, {'xref_id': '4NUC', 'xref_name': 'A', 'xref_src_db': 'PDBe'}, {'xref_id': '5A85', 'xref_name': 'A', 'xref_src_db': 'PDBe'}, {'xref_id': '6PSB', 'xref_name': 'A', 'xref_src_db': 'PDBe'}, {'xref_id': '4NUD', 'xref_name': 'A', 'xref_src_db': 'PDBe'}, {'xref_id': '4NUE', 'xref_name': 'A', 'xref_src_db': 'PDBe'}, {'xref_id': '6RWJ', 'xref_name': 'A', 'xref_src_db': 'PDBe'}, {'xref_id': '6Q3Y', 'xref_name': 'A', 'xref_src_db': 'PDBe'}, {'xref_id': '6PS9', 'xref_name': 'A', 'xref_src_db': 'PDBe'}, {'xref_id': '6Q3Z', 'xref_name': 'A', 'xref_src_db': 'PDBe'}, {'xref_id': '6HDQ', 'xref_name': 'A', 'xref_src_db': 'PDBe'}, {'xref_id': '6JI4', 'xref_name': 'A', 'xref_src_db': 'PDBe'}, {'xref_id': '6JI3', 'xref_name': 'A', 'xref_src_db': 'PDBe'}, {'xref_id': '5N2M', 'xref_name': 'A', 'xref_src_db': 'PDBe'}, {'xref_id': '6CZV', 'xref_name': 'A', 'xref_src_db': 'PDBe'}, {'xref_id': '4O7E', 'xref_name': 'A', 'xref_src_db': 'PDBe'}, {'xref_id': '6CZU', 'xref_name': 'A', 'xref_src_db': 'PDBe'}, {'xref_id': '4O7F', 'xref_name': 'A', 'xref_src_db': 'PDBe'}, {'xref_id': '4LRG', 'xref_name': 'A', 'xref_src_db': 'PDBe'}, {'xref_id': '5VBP', 'xref_name': 'A', 'xref_src_db': 'PDBe'}, {'xref_id': '5VBO', 'xref_name': 'A', 'xref_src_db': 'PDBe'}, {'xref_id': '4O7A', 'xref_name': 'A', 'xref_src_db': 'PDBe'}, {'xref_id': '4O7B', 'xref_name': 'A', 'xref_src_db': 'PDBe'}, {'xref_id': '5FBX', 'xref_name': 'A', 'xref_src_db': 'PDBe'}, {'xref_id': '4O7C', 'xref_name': 'A', 'xref_src_db': 'PDBe'}, {'xref_id': '6JJ3', 'xref_name': 'A', 'xref_src_db': 'PDBe'}, {'xref_id': '6JJ5', 'xref_name': 'A', 'xref_src_db': 'PDBe'}, {'xref_id': '4WHW', 'xref_name': 'A', 'xref_src_db': 'PDBe'}, {'xref_id': '3MXF', 'xref_name': 'A', 'xref_src_db': 'PDBe'}, {'xref_id': '6JI5', 'xref_name': 'A', 'xref_src_db': 'PDBe'}, {'xref_id': '5OVB', 'xref_name': 'A', 'xref_src_db': 'PDBe'}, {'xref_id': '5OWW', 'xref_name': 'A', 'xref_src_db': 'PDBe'}, {'xref_id': '5M39', 'xref_name': 'A', 'xref_src_db': 'PDBe'}, {'xref_id': '4WIV', 'xref_name': 'A', 'xref_src_db': 'PDBe'}, {'xref_id': '5OWM', 'xref_name': 'A', 'xref_src_db': 'PDBe'}, {'xref_id': '5XHY', 'xref_name': 'A', 'xref_src_db': 'PDBe'}, {'xref_id': '5XI3', 'xref_name': 'A', 'xref_src_db': 'PDBe'}, {'xref_id': '5XI2', 'xref_name': 'A', 'xref_src_db': 'PDBe'}, {'xref_id': '6JJB', 'xref_name': 'A', 'xref_src_db': 'PDBe'}, {'xref_id': '5XI4', 'xref_name': 'A', 'xref_src_db': 'PDBe'}, {'xref_id': '6JJ6', 'xref_name': 'A', 'xref_src_db': 'PDBe'}, {'xref_id': '4IOR', 'xref_name': 'A', 'xref_src_db': 'PDBe'}, {'xref_id': '4J0R', 'xref_name': 'A', 'xref_src_db': 'PDBe'}, {'xref_id': '4J0S', 'xref_name': 'A', 'xref_src_db': 'PDBe'}, {'xref_id': '4IOO', 'xref_name': 'A', 'xref_src_db': 'PDBe'}, {'xref_id': '4IOQ', 'xref_name': 'A', 'xref_src_db': 'PDBe'}, {'xref_id': '5LRQ', 'xref_name': 'A', 'xref_src_db': 'PDBe'}, {'xref_id': '5M3A', 'xref_name': 'A', 'xref_src_db': 'PDBe'}, {'xref_id': '5O97', 'xref_name': 'A', 'xref_src_db': 'PDBe'}, {'xref_id': '6KO2', 'xref_name': 'A', 'xref_src_db': 'PDBe'}, {'xref_id': '6YIN', 'xref_name': 'A', 'xref_src_db': 'PDBe'}, {'xref_id': '5HLS', 'xref_name': 'A', 'xref_src_db': 'PDBe'}, {'xref_id': '5UEV', 'xref_name': 'A', 'xref_src_db': 'PDBe'}, {'xref_id': '5UEU', 'xref_name': 'A', 'xref_src_db': 'PDBe'}, {'xref_id': '4KV1', 'xref_name': 'A', 'xref_src_db': 'PDBe'}, {'xref_id': '5UEX', 'xref_name': 'A', 'xref_src_db': 'PDBe'}, {'xref_id': '5UEZ', 'xref_name': 'A', 'xref_src_db': 'PDBe'}, {'xref_id': '4KV4', 'xref_name': 'A', 'xref_src_db': 'PDBe'}, {'xref_id': '5UEY', 'xref_name': 'A', 'xref_src_db': 'PDBe'}, {'xref_id': '5HM0', 'xref_name': 'A', 'xref_src_db': 'PDBe'}, {'xref_id': '4Z1S', 'xref_name': 'A', 'xref_src_db': 'PDBe'}, {'xref_id': '5UEP', 'xref_name': 'A', 'xref_src_db': 'PDBe'}, {'xref_id': '5UEO', 'xref_name': 'A', 'xref_src_db': 'PDBe'}, {'xref_id': '5UF0', 'xref_name': 'A', 'xref_src_db': 'PDBe'}, {'xref_id': '5UER', 'xref_name': 'A', 'xref_src_db': 'PDBe'}, {'xref_id': '5UEQ', 'xref_name': 'A', 'xref_src_db': 'PDBe'}, {'xref_id': '5UET', 'xref_name': 'A', 'xref_src_db': 'PDBe'}, {'xref_id': '5UES', 'xref_name': 'A', 'xref_src_db': 'PDBe'}, {'xref_id': '4Z1Q', 'xref_name': 'A', 'xref_src_db': 'PDBe'}, {'xref_id': '5EGU', 'xref_name': 'A', 'xref_src_db': 'PDBe'}, {'xref_id': '4UIX', 'xref_name': 'A', 'xref_src_db': 'PDBe'}, {'xref_id': '4UIY', 'xref_name': 'A', 'xref_src_db': 'PDBe'}, {'xref_id': '4UIZ', 'xref_name': 'A', 'xref_src_db': 'PDBe'}, {'xref_id': '6WGX', 'xref_name': 'A', 'xref_src_db': 'PDBe'}, {'xref_id': '4CFK', 'xref_name': 'A', 'xref_src_db': 'PDBe'}, {'xref_id': '4CFL', 'xref_name': 'A', 'xref_src_db': 'PDBe'}, {'xref_id': '5LUU', 'xref_name': 'A', 'xref_src_db': 'PDBe'}, {'xref_id': '4J3I', 'xref_name': 'A', 'xref_src_db': 'PDBe'}, {'xref_id': '4QB3', 'xref_name': 'A', 'xref_src_db': 'PDBe'}, {'xref_id': '6FFD', 'xref_name': 'A', 'xref_src_db': 'PDBe'}, {'xref_id': '5EI4', 'xref_name': 'A', 'xref_src_db': 'PDBe'}, {'xref_id': '4LYS', 'xref_name': 'A', 'xref_src_db': 'PDBe'}, {'xref_id': '5KU3', 'xref_name': 'A', 'xref_src_db': 'PDBe'}, {'xref_id': '4LYW', 'xref_name': 'A', 'xref_src_db': 'PDBe'}, {'xref_id': '6IN1', 'xref_name': 'A', 'xref_src_db': 'PDBe'}, {'xref_id': '4LYI', 'xref_name': 'A', 'xref_src_db': 'PDBe'}, {'xref_id': '5YOV', 'xref_name': 'A', 'xref_src_db': 'PDBe'}, {'xref_id': '5YOU', 'xref_name': 'A', 'xref_src_db': 'PDBe'}, {'xref_id': '6SA3', 'xref_name': 'A', 'xref_src_db': 'PDBe'}, {'xref_id': '6SA2', 'xref_name': 'A', 'xref_src_db': 'PDBe'}, {'xref_id': '7A9U', 'xref_name': 'A', 'xref_src_db': 'PDBe'}, {'xref_id': '5WMD', 'xref_name': 'A', 'xref_src_db': 'PDBe'}, {'xref_id': '5EIS', 'xref_name': 'A', 'xref_src_db': 'PDBe'}, {'xref_id': '5WMG', 'xref_name': 'A', 'xref_src_db': 'PDBe'}, {'xref_id': '4LZR', 'xref_name': 'A', 'xref_src_db': 'PDBe'}, {'xref_id': '4LZS', 'xref_name': 'A', 'xref_src_db': 'PDBe'}, {'xref_id': '6SB8', 'xref_name': 'A', 'xref_src_db': 'PDBe'}, {'xref_id': '5WMA', 'xref_name': 'A', 'xref_src_db': 'PDBe'}, {'xref_id': '5Z1T', 'xref_name': 'A', 'xref_src_db': 'PDBe'}, {'xref_id': '4GPJ', 'xref_name': 'A', 'xref_src_db': 'PDBe'}, {'xref_id': '6SAH', 'xref_name': 'A', 'xref_src_db': 'PDBe'}, {'xref_id': '5Z1S', 'xref_name': 'A', 'xref_src_db': 'PDBe'}, {'xref_id': '5Z1R', 'xref_name': 'A', 'xref_src_db': 'PDBe'}, {'xref_id': '6SAJ', 'xref_name': 'A', 'xref_src_db': 'PDBe'}, {'xref_id': '5HQ7', 'xref_name': 'A', 'xref_src_db': 'PDBe'}, {'xref_id': '5HQ6', 'xref_name': 'A', 'xref_src_db': 'PDBe'}, {'xref_id': '4X2I', 'xref_name': 'A', 'xref_src_db': 'PDBe'}, {'xref_id': '6CD4', 'xref_name': 'A', 'xref_src_db': 'PDBe'}, {'xref_id': '4PCE', 'xref_name': 'A', 'xref_src_db': 'PDBe'}, {'xref_id': '5CFW', 'xref_name': 'A', 'xref_src_db': 'PDBe'}, {'xref_id': '6CD5', 'xref_name': 'A', 'xref_src_db': 'PDBe'}, {'xref_id': '5HQ5', 'xref_name': 'A', 'xref_src_db': 'PDBe'}, {'xref_id': '5YQX', 'xref_name': 'A', 'xref_src_db': 'PDBe'}, {'xref_id': '4ZW1', 'xref_name': 'A', 'xref_src_db': 'PDBe'}, {'xref_id': '3ZYU', 'xref_name': 'A', 'xref_src_db': 'PDBe'}, {'xref_id': 'O60885', 'xref_name': None, 'xref_src_db': 'IntAct'}, {'xref_id': 'IPR031354', 'xref_name': 'BRD4_CDT.', 'xref_src_db': 'InterPro'}, {'xref_id': 'IPR036427', 'xref_name': 'Bromodomain-like_sf.', 'xref_src_db': 'InterPro'}, {'xref_id': 'IPR043509', 'xref_name': 'Bromo_Brdt_II.', 'xref_src_db': 'InterPro'}, {'xref_id': 'IPR027353', 'xref_name': 'NET_dom.', 'xref_src_db': 'InterPro'}, {'xref_id': 'IPR043508', 'xref_name': 'Bromo_Brdt_I.', 'xref_src_db': 'InterPro'}, {'xref_id': 'IPR001487', 'xref_name': 'Bromodomain.', 'xref_src_db': 'InterPro'}, {'xref_id': 'IPR018359', 'xref_name': 'Bromodomain_CS.', 'xref_src_db': 'InterPro'}, {'xref_id': 'IPR038336', 'xref_name': 'NET_sf.', 'xref_src_db': 'InterPro'}, {'xref_id': 'PF00439', 'xref_name': 'Bromodomain', 'xref_src_db': 'Pfam'}, {'xref_id': 'PF17035', 'xref_name': 'BET', 'xref_src_db': 'Pfam'}, {'xref_id': 'PF17105', 'xref_name': 'BRD4_CDT', 'xref_src_db': 'Pfam'}, {'xref_id': 'R-HSA-9679191', 'xref_name': 'Potential therapeutics for SARS.', 'xref_src_db': 'Reactome'}, {'xref_id': '1945', 'xref_name': None, 'xref_src_db': 'GuideToPHARMACOLOGY'}, {'xref_id': 'ENSG00000141867', 'xref_name': None, 'xref_src_db': 'EnsemblGene'}, {'xref_id': 'GO:0006974', 'xref_name': 'cellular response to DNA damage stimulus', 'xref_src_db': 'GoProcess'}, {'xref_id': 'GO:0006325', 'xref_name': 'chromatin organization', 'xref_src_db': 'GoProcess'}, {'xref_id': 'GO:0005694', 'xref_name': 'chromosome', 'xref_src_db': 'GoComponent'}, {'xref_id': 'GO:0000083', 'xref_name': 'regulation of transcription involved in G1/S transition of mitotic cell cycle', 'xref_src_db': 'GoProcess'}, {'xref_id': 'GO:0032968', 'xref_name': 'positive regulation of transcription elongation from RNA polymerase II promoter', 'xref_src_db': 'GoProcess'}, {'xref_id': 'GO:0010971', 'xref_name': 'positive regulation of G2/M transition of mitotic cell cycle', 'xref_src_db': 'GoProcess'}, {'xref_id': 'GO:0008353', 'xref_name': 'RNA polymerase II CTD heptapeptide repeat kinase activity', 'xref_src_db': 'GoFunction'}, {'xref_id': 'GO:0000794', 'xref_name': 'condensed nuclear chromosome', 'xref_src_db': 'GoComponent'}, {'xref_id': 'GO:0099122', 'xref_name': 'RNA polymerase II C-terminal domain binding', 'xref_src_db': 'GoFunction'}, {'xref_id': 'GO:0005654', 'xref_name': 'nucleoplasm', 'xref_src_db': 'GoComponent'}, {'xref_id': 'GO:0005515', 'xref_name': 'protein binding', 'xref_src_db': 'GoFunction'}, {'xref_id': 'GO:0005634', 'xref_name': 'nucleus', 'xref_src_db': 'GoComponent'}, {'xref_id': 'GO:0006468', 'xref_name': 'protein phosphorylation', 'xref_src_db': 'GoProcess'}, {'xref_id': 'GO:0019899', 'xref_name': 'enzyme binding', 'xref_src_db': 'GoFunction'}, {'xref_id': 'GO:0003713', 'xref_name': 'transcription coactivator activity', 'xref_src_db': 'GoFunction'}, {'xref_id': 'GO:2001255', 'xref_name': 'positive regulation of histone H3-K36 trimethylation', 'xref_src_db': 'GoProcess'}, {'xref_id': 'GO:0045893', 'xref_name': 'positive regulation of transcription, DNA-templated', 'xref_src_db': 'GoProcess'}, {'xref_id': 'GO:0002039', 'xref_name': 'p53 binding', 'xref_src_db': 'GoFunction'}, {'xref_id': 'GO:0003682', 'xref_name': 'chromatin binding', 'xref_src_db': 'GoFunction'}, {'xref_id': 'GO:0003712', 'xref_name': 'transcription coregulator activity', 'xref_src_db': 'GoFunction'}, {'xref_id': 'GO:0106140', 'xref_name': 'P-TEFb complex binding', 'xref_src_db': 'GoFunction'}, {'xref_id': 'GO:0050727', 'xref_name': 'regulation of inflammatory response', 'xref_src_db': 'GoProcess'}, {'xref_id': 'GO:0045944', 'xref_name': 'positive regulation of transcription by RNA polymerase II', 'xref_src_db': 'GoProcess'}, {'xref_id': 'GO:0043123', 'xref_name': 'positive regulation of I-kappaB kinase/NF-kappaB signaling', 'xref_src_db': 'GoProcess'}, {'xref_id': 'GO:0070577', 'xref_name': 'lysine-acetylated histone binding', 'xref_src_db': 'GoFunction'}, {'xref_id': 'GO:1901407', 'xref_name': 'regulation of phosphorylation of RNA polymerase II C-terminal domain', 'xref_src_db': 'GoProcess'}, {'xref_id': 'GO:0043922', 'xref_name': 'negative regulation by host of viral transcription', 'xref_src_db': 'GoProcess'}, {'xref_id': 'GO:0006338', 'xref_name': 'chromatin remodeling', 'xref_src_db': 'GoProcess'}, {'xref_id': 'GO:2000002', 'xref_name': 'negative regulation of DNA damage checkpoint', 'xref_src_db': 'GoProcess'}]}, {'accession': 'Q96SW2', 'component_description': 'Protein cereblon', 'component_id': 16927, 'component_type': 'PROTEIN', 'relationship': 'INTERACTING PROTEIN', 'target_component_synonyms': [{'component_synonym': 'CRBN', 'syn_type': 'GENE_SYMBOL'}, {'component_synonym': 'Protein cereblon', 'syn_type': 'UNIPROT'}], 'target_component_xrefs': [{'xref_id': 'Q96SW2', 'xref_name': 'Tclin', 'xref_src_db': 'Pharos'}, {'xref_id': 'Q96SW2', 'xref_name': None, 'xref_src_db': 'UniProt'}, {'xref_id': 'B2R6H4', 'xref_name': None, 'xref_src_db': 'UniProt'}, {'xref_id': 'C9IZA9', 'xref_name': None, 'xref_src_db': 'UniProt'}, {'xref_id': 'C9JAH6', 'xref_name': None, 'xref_src_db': 'UniProt'}, {'xref_id': 'Q6AI62', 'xref_name': None, 'xref_src_db': 'UniProt'}, {'xref_id': 'Q6NVZ0', 'xref_name': None, 'xref_src_db': 'UniProt'}, {'xref_id': 'Q9UHW4', 'xref_name': None, 'xref_src_db': 'UniProt'}, {'xref_id': 'Q96SW2', 'xref_name': None, 'xref_src_db': 'ExpressionAtlas'}, {'xref_id': '4TZ4', 'xref_name': 'A', 'xref_src_db': 'PDBe'}, {'xref_id': '5HXB', 'xref_name': 'A', 'xref_src_db': 'PDBe'}, {'xref_id': '5V3O', 'xref_name': 'A', 'xref_src_db': 'PDBe'}, {'xref_id': '6UML', 'xref_name': 'A', 'xref_src_db': 'PDBe'}, {'xref_id': '4M91', 'xref_name': 'A', 'xref_src_db': 'PDBe'}, {'xref_id': '6XK9', 'xref_name': 'A', 'xref_src_db': 'PDBe'}, {'xref_id': '7BQV', 'xref_name': 'A', 'xref_src_db': 'PDBe'}, {'xref_id': '6BN7', 'xref_name': 'A', 'xref_src_db': 'PDBe'}, {'xref_id': '6BN9', 'xref_name': 'A', 'xref_src_db': 'PDBe'}, {'xref_id': '6BN8', 'xref_name': 'A', 'xref_src_db': 'PDBe'}, {'xref_id': '6BOY', 'xref_name': 'A', 'xref_src_db': 'PDBe'}, {'xref_id': '6H0G', 'xref_name': 'A', 'xref_src_db': 'PDBe'}, {'xref_id': '6H0F', 'xref_name': 'A', 'xref_src_db': 'PDBe'}, {'xref_id': '7BQU', 'xref_name': 'A', 'xref_src_db': 'PDBe'}, {'xref_id': '6BNB', 'xref_name': 'A', 'xref_src_db': 'PDBe'}, {'xref_id': '5FQD', 'xref_name': 'A', 'xref_src_db': 'PDBe'}, {'xref_id': 'Q96SW2', 'xref_name': None, 'xref_src_db': 'IntAct'}, {'xref_id': 'IPR015947', 'xref_name': 'PUA-like_sf.', 'xref_src_db': 'InterPro'}, {'xref_id': 'IPR004910', 'xref_name': 'Yippee/Mis18/Cereblon.', 'xref_src_db': 'InterPro'}, {'xref_id': 'IPR034750', 'xref_name': 'CULT.', 'xref_src_db': 'InterPro'}, {'xref_id': 'IPR003111', 'xref_name': 'Lon_substr-bd.', 'xref_src_db': 'InterPro'}, {'xref_id': 'PF02190', 'xref_name': 'LON_substr_bdg', 'xref_src_db': 'Pfam'}, {'xref_id': 'PF03226', 'xref_name': 'Yippee-Mis18', 'xref_src_db': 'Pfam'}, {'xref_id': 'R-HSA-9679191', 'xref_name': 'Potential therapeutics for SARS.', 'xref_src_db': 'Reactome'}, {'xref_id': '3086', 'xref_name': None, 'xref_src_db': 'GuideToPHARMACOLOGY'}, {'xref_id': 'ENSG00000113851', 'xref_name': None, 'xref_src_db': 'EnsemblGene'}, {'xref_id': 'GO:0031464', 'xref_name': 'Cul4A-RING E3 ubiquitin ligase complex', 'xref_src_db': 'GoComponent'}, {'xref_id': 'GO:0016567', 'xref_name': 'protein ubiquitination', 'xref_src_db': 'GoProcess'}, {'xref_id': 'GO:0005515', 'xref_name': 'protein binding', 'xref_src_db': 'GoFunction'}, {'xref_id': 'GO:0005634', 'xref_name': 'nucleus', 'xref_src_db': 'GoComponent'}, {'xref_id': 'GO:0005737', 'xref_name': 'cytoplasm', 'xref_src_db': 'GoComponent'}, {'xref_id': 'GO:0043161', 'xref_name': 'proteasome-mediated ubiquitin-dependent protein catabolic process', 'xref_src_db': 'GoProcess'}, {'xref_id': 'GO:0016020', 'xref_name': 'membrane', 'xref_src_db': 'GoComponent'}, {'xref_id': 'GO:0046872', 'xref_name': 'metal ion binding', 'xref_src_db': 'GoFunction'}, {'xref_id': 'GO:0005829', 'xref_name': 'cytosol', 'xref_src_db': 'GoComponent'}, {'xref_id': 'GO:1902607', 'xref_name': 'negative regulation of large conductance calcium-activated potassium channel activity', 'xref_src_db': 'GoProcess'}, {'xref_id': 'GO:0034766', 'xref_name': 'negative regulation of ion transmembrane transport', 'xref_src_db': 'GoProcess'}, {'xref_id': 'GO:0035641', 'xref_name': 'locomotory exploration behavior', 'xref_src_db': 'GoProcess'}, {'xref_id': 'GO:0044325', 'xref_name': 'transmembrane transporter binding', 'xref_src_db': 'GoFunction'}, {'xref_id': 'GO:0031333', 'xref_name': 'negative regulation of protein-containing complex assembly', 'xref_src_db': 'GoProcess'}, {'xref_id': 'GO:0031334', 'xref_name': 'positive regulation of protein-containing complex assembly', 'xref_src_db': 'GoProcess'}, {'xref_id': 'GO:0048471', 'xref_name': 'perinuclear region of cytoplasm', 'xref_src_db': 'GoComponent'}]}, {'accession': 'Q13619', 'component_description': 'Cullin-4A', 'component_id': 17087, 'component_type': 'PROTEIN', 'relationship': 'INTERACTING PROTEIN', 'target_component_synonyms': [{'component_synonym': 'CUL4A', 'syn_type': 'GENE_SYMBOL'}, {'component_synonym': 'CUL-4A', 'syn_type': 'UNIPROT'}, {'component_synonym': 'Cullin-4A', 'syn_type': 'UNIPROT'}], 'target_component_xrefs': [{'xref_id': 'Q13619', 'xref_name': 'Tbio', 'xref_src_db': 'Pharos'}, {'xref_id': 'Q13619', 'xref_name': None, 'xref_src_db': 'UniProt'}, {'xref_id': 'A2A2W2', 'xref_name': None, 'xref_src_db': 'UniProt'}, {'xref_id': 'O75834', 'xref_name': None, 'xref_src_db': 'UniProt'}, {'xref_id': 'Q589T6', 'xref_name': None, 'xref_src_db': 'UniProt'}, {'xref_id': 'Q5TC62', 'xref_name': None, 'xref_src_db': 'UniProt'}, {'xref_id': 'Q6UP08', 'xref_name': None, 'xref_src_db': 'UniProt'}, {'xref_id': 'Q9UP17', 'xref_name': None, 'xref_src_db': 'UniProt'}, {'xref_id': 'Q13619', 'xref_name': None, 'xref_src_db': 'ExpressionAtlas'}, {'xref_id': '4A0K', 'xref_name': 'A', 'xref_src_db': 'PDBe'}, {'xref_id': '2HYE', 'xref_name': 'A', 'xref_src_db': 'PDBe'}, {'xref_id': 'Q13619', 'xref_name': None, 'xref_src_db': 'IntAct'}, {'xref_id': 'IPR036317', 'xref_name': 'Cullin_homology_sf.', 'xref_src_db': 'InterPro'}, {'xref_id': 'IPR036390', 'xref_name': 'WH_DNA-bd_sf.', 'xref_src_db': 'InterPro'}, {'xref_id': 'IPR019559', 'xref_name': 'Cullin_neddylation_domain.', 'xref_src_db': 'InterPro'}, {'xref_id': 'IPR036388', 'xref_name': 'WH-like_DNA-bd_sf.', 'xref_src_db': 'InterPro'}, {'xref_id': 'IPR016157', 'xref_name': 'Cullin_CS.', 'xref_src_db': 'InterPro'}, {'xref_id': 'IPR001373', 'xref_name': 'Cullin_N.', 'xref_src_db': 'InterPro'}, {'xref_id': 'IPR016159', 'xref_name': 'Cullin_repeat-like_dom_sf.', 'xref_src_db': 'InterPro'}, {'xref_id': 'IPR016158', 'xref_name': 'Cullin_homology.', 'xref_src_db': 'InterPro'}, {'xref_id': 'PF00888', 'xref_name': 'Cullin', 'xref_src_db': 'Pfam'}, {'xref_id': 'PF10557', 'xref_name': 'Cullin_Nedd8', 'xref_src_db': 'Pfam'}, {'xref_id': 'R-HSA-5696400', 'xref_name': 'Dual Incision in GG-NER.', 'xref_src_db': 'Reactome'}, {'xref_id': 'R-HSA-6781827', 'xref_name': 'Transcription-Coupled Nucleotide Excision Repair (TC-NER).', 'xref_src_db': 'Reactome'}, {'xref_id': 'R-HSA-6782210', 'xref_name': 'Gap-filling DNA repair synthesis and ligation in TC-NER.', 'xref_src_db': 'Reactome'}, {'xref_id': 'R-HSA-110314', 'xref_name': 'Recognition of DNA damage by PCNA-containing replication complex.', 'xref_src_db': 'Reactome'}, {'xref_id': 'R-HSA-6782135', 'xref_name': 'Dual incision in TC-NER.', 'xref_src_db': 'Reactome'}, {'xref_id': 'R-HSA-8951664', 'xref_name': 'Neddylation.', 'xref_src_db': 'Reactome'}, {'xref_id': 'R-HSA-5696395', 'xref_name': 'Formation of Incision Complex in GG-NER.', 'xref_src_db': 'Reactome'}, {'xref_id': 'R-HSA-5696394', 'xref_name': 'DNA Damage Recognition in GG-NER.', 'xref_src_db': 'Reactome'}, {'xref_id': 'R-HSA-6781823', 'xref_name': 'Formation of TC-NER Pre-Incision Complex.', 'xref_src_db': 'Reactome'}, {'xref_id': 'ENSG00000139842', 'xref_name': None, 'xref_src_db': 'EnsemblGene'}, {'xref_id': 'GO:0006511', 'xref_name': 'ubiquitin-dependent protein catabolic process', 'xref_src_db': 'GoProcess'}, {'xref_id': 'GO:0031461', 'xref_name': 'cullin-RING ubiquitin ligase complex', 'xref_src_db': 'GoComponent'}, {'xref_id': 'GO:0048511', 'xref_name': 'rhythmic process', 'xref_src_db': 'GoProcess'}, {'xref_id': 'GO:0006974', 'xref_name': 'cellular response to DNA damage stimulus', 'xref_src_db': 'GoProcess'}, {'xref_id': 'GO:0006281', 'xref_name': 'DNA repair', 'xref_src_db': 'GoProcess'}, {'xref_id': 'GO:0000082', 'xref_name': 'G1/S transition of mitotic cell cycle', 'xref_src_db': 'GoProcess'}, {'xref_id': 'GO:0097193', 'xref_name': 'intrinsic apoptotic signaling pathway', 'xref_src_db': 'GoProcess'}, {'xref_id': 'GO:0005654', 'xref_name': 'nucleoplasm', 'xref_src_db': 'GoComponent'}, {'xref_id': 'GO:0005515', 'xref_name': 'protein binding', 'xref_src_db': 'GoFunction'}, {'xref_id': 'GO:0030097', 'xref_name': 'hemopoiesis', 'xref_src_db': 'GoProcess'}, {'xref_id': 'GO:0001701', 'xref_name': 'in utero embryonic development', 'xref_src_db': 'GoProcess'}, {'xref_id': 'GO:0030853', 'xref_name': 'negative regulation of granulocyte differentiation', 'xref_src_db': 'GoProcess'}, {'xref_id': 'GO:0008284', 'xref_name': 'positive regulation of cell population proliferation', 'xref_src_db': 'GoProcess'}, {'xref_id': 'GO:2000819', 'xref_name': 'regulation of nucleotide-excision repair', 'xref_src_db': 'GoProcess'}, {'xref_id': 'GO:0051246', 'xref_name': 'regulation of protein metabolic process', 'xref_src_db': 'GoProcess'}, {'xref_id': 'GO:0043161', 'xref_name': 'proteasome-mediated ubiquitin-dependent protein catabolic process', 'xref_src_db': 'GoProcess'}, {'xref_id': 'GO:0042254', 'xref_name': 'ribosome biogenesis', 'xref_src_db': 'GoProcess'}, {'xref_id': 'GO:0035019', 'xref_name': 'somatic stem cell population maintenance', 'xref_src_db': 'GoProcess'}, {'xref_id': 'GO:2000001', 'xref_name': 'regulation of DNA damage checkpoint', 'xref_src_db': 'GoProcess'}, {'xref_id': 'GO:1900087', 'xref_name': 'positive regulation of G1/S transition of mitotic cell cycle', 'xref_src_db': 'GoProcess'}, {'xref_id': 'GO:0016567', 'xref_name': 'protein ubiquitination', 'xref_src_db': 'GoProcess'}, {'xref_id': 'GO:0080008', 'xref_name': 'Cul4-RING E3 ubiquitin ligase complex', 'xref_src_db': 'GoComponent'}, {'xref_id': 'GO:0031146', 'xref_name': 'SCF-dependent proteasomal ubiquitin-dependent protein catabolic process', 'xref_src_db': 'GoProcess'}, {'xref_id': 'GO:0031625', 'xref_name': 'ubiquitin protein ligase binding', 'xref_src_db': 'GoFunction'}, {'xref_id': 'GO:0004842', 'xref_name': 'ubiquitin-protein transferase activity', 'xref_src_db': 'GoFunction'}, {'xref_id': 'GO:0031464', 'xref_name': 'Cul4A-RING E3 ubiquitin ligase complex', 'xref_src_db': 'GoComponent'}]}], 'target_type': 'PROTEIN-PROTEIN INTERACTION', 'tax_id': 9606}, '...(remaining elements truncated)...']"
      ]
     },
     "metadata": {},
     "execution_count": 33
    }
   ],
   "metadata": {}
  },
  {
   "cell_type": "code",
   "execution_count": null,
   "source": [],
   "outputs": [],
   "metadata": {}
  }
 ],
 "metadata": {
  "kernelspec": {
   "display_name": "Python 3 (ipykernel)",
   "language": "python",
   "name": "python3"
  },
  "language_info": {
   "codemirror_mode": {
    "name": "ipython",
    "version": 3
   },
   "file_extension": ".py",
   "mimetype": "text/x-python",
   "name": "python",
   "nbconvert_exporter": "python",
   "pygments_lexer": "ipython3",
   "version": "3.9.7"
  }
 },
 "nbformat": 4,
 "nbformat_minor": 5
}