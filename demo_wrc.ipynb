{
 "cells": [
  {
   "cell_type": "markdown",
   "metadata": {},
   "source": [
    "# chembl_webresource_client demo\n",
    "\n",
    "### ChEMBL Group, EMBL-EBI"
   ]
  },
  {
   "cell_type": "markdown",
   "metadata": {},
   "source": [
    "## Introduction\n",
    "\n",
    "This is the only official Python client library developed and supported by ChEMBL group.\n",
    "\n",
    "The library helps accessing ChEMBL data and cheminformatics tools from Python. You don't need to know how to write SQL. You don't need to know how to interact with REST APIs. You don't need to compile or install any cheminformatics frameworks. Results are cached.\n",
    "\n",
    "The client handles interaction with the HTTPS protocol and caches all results in the local file system for faster retrieval. Abstracting away all network-related tasks, the client provides the end user with a convenient interface, giving the impression of working with a local resource. Design is based on the Django QuerySet interface. The client also implements lazy evaluation of results, which means it will only evaluate a request for data when a value is required. This approach reduces number of network requests and increases performance.\n",
    "\n",
    "Please note that the code below attempts to balance clarity and brevity, and is not intended to be a template for production code: error checking, for example, should be much more thorough in practice. "
   ]
  },
  {
   "cell_type": "markdown",
   "metadata": {},
   "source": [
    "## Configuration and setup"
   ]
  },
  {
   "cell_type": "code",
   "execution_count": 1,
   "metadata": {},
   "outputs": [],
   "source": [
    "import logging\n",
    "from operator import itemgetter\n",
    "from IPython.display import Image, display"
   ]
  },
  {
   "cell_type": "code",
   "execution_count": 2,
   "metadata": {},
   "outputs": [],
   "source": [
    "# Python modules used for API access...\n",
    "from chembl_webresource_client.new_client import new_client"
   ]
  },
  {
   "cell_type": "markdown",
   "metadata": {},
   "source": [
    "## List of available resources\n",
    "It's easy to get a list of available resources by invoking:"
   ]
  },
  {
   "cell_type": "code",
   "execution_count": 3,
   "metadata": {},
   "outputs": [
    {
     "name": "stdout",
     "output_type": "stream",
     "text": [
      "['activity', 'activity_supplementary_data_by_activity', 'assay', 'assay_class', 'atc_class', 'binding_site', 'biotherapeutic', 'cell_line', 'chembl_id_lookup', 'compound_record', 'compound_structural_alert', 'description', 'document', 'document_similarity', 'document_term', 'drug', 'drug_indication', 'go_slim', 'image', 'mechanism', 'metabolism', 'molecule', 'molecule_form', 'official', 'organism', 'protein_class', 'similarity', 'source', 'substructure', 'target', 'target_component', 'target_prediction', 'target_relation', 'tissue', 'xref_source']\n",
      "35\n"
     ]
    }
   ],
   "source": [
    "available_resources = [resource for resource in dir(new_client) if not resource.startswith('_')]\n",
    "print(available_resources)\n",
    "print(len(available_resources))"
   ]
  },
  {
   "cell_type": "markdown",
   "metadata": {},
   "source": [
    "Which means there are 35 different types of resources available _via_ web services. In this notebook only the most important of these are covered."
   ]
  },
  {
   "cell_type": "markdown",
   "metadata": {},
   "source": [
    "## Molecules\n",
    "\n",
    "Molecule records may be retrieved in a number of ways, such as lookup of single molecules using various identifiers or searching for compounds _via_ substruture or similarity. "
   ]
  },
  {
   "cell_type": "code",
   "execution_count": 4,
   "metadata": {},
   "outputs": [
    {
     "name": "stdout",
     "output_type": "stream",
     "text": [
      "1879206 molecules available in ChEMBL\n"
     ]
    }
   ],
   "source": [
    "# Get a molecule-handler object for API access and check the connection to the database...\n",
    "molecule = new_client.molecule\n",
    "molecule.set_format('json')\n",
    "print(\"%s molecules available in ChEMBL\" % len(molecule.all()))"
   ]
  },
  {
   "cell_type": "markdown",
   "metadata": {},
   "source": [
    "### Getting a single molecule\n",
    "\n",
    "In order to retrieve a single molecule from the web services, you need to know its unique and unambiguous identifier. In case of molecule resource this can be one of three types:\n",
    "\n",
    " 1. ChEMBL_ID\n",
    " 2. InChI Key\n",
    " 3. Canonical SMILES (non-canonical SMILES will be covered later in this notebook)"
   ]
  },
  {
   "cell_type": "code",
   "execution_count": 5,
   "metadata": {},
   "outputs": [
    {
     "data": {
      "text/plain": [
       "True"
      ]
     },
     "execution_count": 5,
     "metadata": {},
     "output_type": "execute_result"
    }
   ],
   "source": [
    "# so this:\n",
    "# 1.\n",
    "m1 = molecule.get('CHEMBL25')\n",
    "# 2.\n",
    "m2 = molecule.get('BSYNRYMUTXBXSQ-UHFFFAOYSA-N')\n",
    "#\n",
    "m3 = molecule.get('CC(=O)Oc1ccccc1C(=O)O')\n",
    "# will return the same data:\n",
    "m1 == m2 == m3"
   ]
  },
  {
   "cell_type": "markdown",
   "metadata": {},
   "source": [
    "### ChEMBL ID\n",
    "\n",
    "All the main entities in the ChEMBL database have a ChEMBL ID. It is a stable identifier designed for straightforward lookup of data."
   ]
  },
  {
   "cell_type": "code",
   "execution_count": 6,
   "metadata": {},
   "outputs": [],
   "source": [
    "# Lapatinib, the bioactive component of the anti-cancer drug Tykerb\n",
    "chembl_id = \"CHEMBL554\" "
   ]
  },
  {
   "cell_type": "code",
   "execution_count": 7,
   "metadata": {},
   "outputs": [
    {
     "data": {
      "text/plain": [
       "{'atc_classifications': ['L01XE07'],\n",
       " 'availability_type': '1',\n",
       " 'biotherapeutic': None,\n",
       " 'black_box_warning': '1',\n",
       " 'chebi_par_id': 49603,\n",
       " 'chirality': '2',\n",
       " 'cross_references': [{'xref_id': 'lapatinib%20ditosylate',\n",
       "   'xref_name': 'lapatinib ditosylate',\n",
       "   'xref_src': 'DailyMed'},\n",
       "  {'xref_id': '103905567',\n",
       "   'xref_name': 'SID: 103905567',\n",
       "   'xref_src': 'PubChem'},\n",
       "  {'xref_id': '103905568',\n",
       "   'xref_name': 'SID: 103905568',\n",
       "   'xref_src': 'PubChem'},\n",
       "  {'xref_id': '144206058',\n",
       "   'xref_name': 'SID: 144206058',\n",
       "   'xref_src': 'PubChem'},\n",
       "  {'xref_id': '170465125',\n",
       "   'xref_name': 'SID: 170465125',\n",
       "   'xref_src': 'PubChem'},\n",
       "  {'xref_id': '50100107', 'xref_name': 'SID: 50100107', 'xref_src': 'PubChem'},\n",
       "  {'xref_id': 'Lapatinib', 'xref_name': None, 'xref_src': 'Wikipedia'}],\n",
       " 'dosed_ingredient': True,\n",
       " 'first_approval': 2007,\n",
       " 'first_in_class': '0',\n",
       " 'helm_notation': None,\n",
       " 'indication_class': None,\n",
       " 'inorganic_flag': '0',\n",
       " 'max_phase': 4,\n",
       " 'molecule_chembl_id': 'CHEMBL554',\n",
       " 'molecule_hierarchy': {'molecule_chembl_id': 'CHEMBL554',\n",
       "  'parent_chembl_id': 'CHEMBL554'},\n",
       " 'molecule_properties': {'acd_logd': '6.26',\n",
       "  'acd_logp': '6.3',\n",
       "  'acd_most_apka': None,\n",
       "  'acd_most_bpka': '6.34',\n",
       "  'alogp': '6.14',\n",
       "  'aromatic_rings': 5,\n",
       "  'full_molformula': 'C29H26ClFN4O4S',\n",
       "  'full_mwt': '581.07',\n",
       "  'hba': 8,\n",
       "  'hba_lipinski': 8,\n",
       "  'hbd': 2,\n",
       "  'hbd_lipinski': 2,\n",
       "  'heavy_atoms': 40,\n",
       "  'molecular_species': 'NEUTRAL',\n",
       "  'mw_freebase': '581.07',\n",
       "  'mw_monoisotopic': '580.1347',\n",
       "  'num_lipinski_ro5_violations': 2,\n",
       "  'num_ro5_violations': 2,\n",
       "  'psa': '106.35',\n",
       "  'qed_weighted': '0.18',\n",
       "  'ro3_pass': 'N',\n",
       "  'rtb': 11},\n",
       " 'molecule_structures': {'canonical_smiles': 'CS(=O)(=O)CCNCc1oc(cc1)c2ccc3ncnc(Nc4ccc(OCc5cccc(F)c5)c(Cl)c4)c3c2',\n",
       "  'standard_inchi': 'InChI=1S/C29H26ClFN4O4S/c1-40(36,37)12-11-32-16-23-7-10-27(39-23)20-5-8-26-24(14-20)29(34-18-33-26)35-22-6-9-28(25(30)15-22)38-17-19-3-2-4-21(31)13-19/h2-10,13-15,18,32H,11-12,16-17H2,1H3,(H,33,34,35)',\n",
       "  'standard_inchi_key': 'BCFGMOOMADDAQU-UHFFFAOYSA-N'},\n",
       " 'molecule_synonyms': [{'molecule_synonym': 'GW-2016',\n",
       "   'syn_type': 'RESEARCH_CODE',\n",
       "   'synonyms': 'GW-2016'},\n",
       "  {'molecule_synonym': 'GW-572016',\n",
       "   'syn_type': 'RESEARCH_CODE',\n",
       "   'synonyms': 'GW-572016'},\n",
       "  {'molecule_synonym': 'Lapatinib',\n",
       "   'syn_type': 'ATC',\n",
       "   'synonyms': 'LAPATINIB'},\n",
       "  {'molecule_synonym': 'Lapatinib',\n",
       "   'syn_type': 'BNF',\n",
       "   'synonyms': 'LAPATINIB'},\n",
       "  {'molecule_synonym': 'Lapatinib',\n",
       "   'syn_type': 'INN',\n",
       "   'synonyms': 'LAPATINIB'},\n",
       "  {'molecule_synonym': 'Lapatinib',\n",
       "   'syn_type': 'FDA',\n",
       "   'synonyms': 'Lapatinib'},\n",
       "  {'molecule_synonym': 'Tyverb',\n",
       "   'syn_type': 'TRADE_NAME',\n",
       "   'synonyms': 'TYVERB'}],\n",
       " 'molecule_type': 'Small molecule',\n",
       " 'natural_product': '0',\n",
       " 'oral': True,\n",
       " 'parenteral': False,\n",
       " 'polymer_flag': False,\n",
       " 'pref_name': 'LAPATINIB',\n",
       " 'prodrug': '0',\n",
       " 'structure_type': 'MOL',\n",
       " 'therapeutic_flag': True,\n",
       " 'topical': False,\n",
       " 'usan_stem': '-tinib',\n",
       " 'usan_stem_definition': 'tyrosine kinase inhibitors',\n",
       " 'usan_substem': '-tinib',\n",
       " 'usan_year': 2003,\n",
       " 'withdrawn_class': None,\n",
       " 'withdrawn_country': None,\n",
       " 'withdrawn_flag': False,\n",
       " 'withdrawn_reason': None,\n",
       " 'withdrawn_year': None}"
      ]
     },
     "execution_count": 7,
     "metadata": {},
     "output_type": "execute_result"
    }
   ],
   "source": [
    "# Get compound record using client...\n",
    "record_via_client = molecule.get(chembl_id)\n",
    "record_via_client"
   ]
  },
  {
   "cell_type": "markdown",
   "metadata": {},
   "source": [
    "### InChIKey\n",
    "\n",
    "Compound records may also be retrieved _via_ InChI Key lookup."
   ]
  },
  {
   "cell_type": "code",
   "execution_count": 8,
   "metadata": {},
   "outputs": [
    {
     "data": {
      "text/plain": [
       "{'atc_classifications': ['L01XE07'],\n",
       " 'availability_type': '1',\n",
       " 'biotherapeutic': None,\n",
       " 'black_box_warning': '1',\n",
       " 'chebi_par_id': 49603,\n",
       " 'chirality': '2',\n",
       " 'cross_references': [{'xref_id': 'lapatinib%20ditosylate',\n",
       "   'xref_name': 'lapatinib ditosylate',\n",
       "   'xref_src': 'DailyMed'},\n",
       "  {'xref_id': '103905567',\n",
       "   'xref_name': 'SID: 103905567',\n",
       "   'xref_src': 'PubChem'},\n",
       "  {'xref_id': '103905568',\n",
       "   'xref_name': 'SID: 103905568',\n",
       "   'xref_src': 'PubChem'},\n",
       "  {'xref_id': '144206058',\n",
       "   'xref_name': 'SID: 144206058',\n",
       "   'xref_src': 'PubChem'},\n",
       "  {'xref_id': '170465125',\n",
       "   'xref_name': 'SID: 170465125',\n",
       "   'xref_src': 'PubChem'},\n",
       "  {'xref_id': '50100107', 'xref_name': 'SID: 50100107', 'xref_src': 'PubChem'},\n",
       "  {'xref_id': 'Lapatinib', 'xref_name': None, 'xref_src': 'Wikipedia'}],\n",
       " 'dosed_ingredient': True,\n",
       " 'first_approval': 2007,\n",
       " 'first_in_class': '0',\n",
       " 'helm_notation': None,\n",
       " 'indication_class': None,\n",
       " 'inorganic_flag': '0',\n",
       " 'max_phase': 4,\n",
       " 'molecule_chembl_id': 'CHEMBL554',\n",
       " 'molecule_hierarchy': {'molecule_chembl_id': 'CHEMBL554',\n",
       "  'parent_chembl_id': 'CHEMBL554'},\n",
       " 'molecule_properties': {'acd_logd': '6.26',\n",
       "  'acd_logp': '6.3',\n",
       "  'acd_most_apka': None,\n",
       "  'acd_most_bpka': '6.34',\n",
       "  'alogp': '6.14',\n",
       "  'aromatic_rings': 5,\n",
       "  'full_molformula': 'C29H26ClFN4O4S',\n",
       "  'full_mwt': '581.07',\n",
       "  'hba': 8,\n",
       "  'hba_lipinski': 8,\n",
       "  'hbd': 2,\n",
       "  'hbd_lipinski': 2,\n",
       "  'heavy_atoms': 40,\n",
       "  'molecular_species': 'NEUTRAL',\n",
       "  'mw_freebase': '581.07',\n",
       "  'mw_monoisotopic': '580.1347',\n",
       "  'num_lipinski_ro5_violations': 2,\n",
       "  'num_ro5_violations': 2,\n",
       "  'psa': '106.35',\n",
       "  'qed_weighted': '0.18',\n",
       "  'ro3_pass': 'N',\n",
       "  'rtb': 11},\n",
       " 'molecule_structures': {'canonical_smiles': 'CS(=O)(=O)CCNCc1oc(cc1)c2ccc3ncnc(Nc4ccc(OCc5cccc(F)c5)c(Cl)c4)c3c2',\n",
       "  'standard_inchi': 'InChI=1S/C29H26ClFN4O4S/c1-40(36,37)12-11-32-16-23-7-10-27(39-23)20-5-8-26-24(14-20)29(34-18-33-26)35-22-6-9-28(25(30)15-22)38-17-19-3-2-4-21(31)13-19/h2-10,13-15,18,32H,11-12,16-17H2,1H3,(H,33,34,35)',\n",
       "  'standard_inchi_key': 'BCFGMOOMADDAQU-UHFFFAOYSA-N'},\n",
       " 'molecule_synonyms': [{'molecule_synonym': 'GW-2016',\n",
       "   'syn_type': 'RESEARCH_CODE',\n",
       "   'synonyms': 'GW-2016'},\n",
       "  {'molecule_synonym': 'GW-572016',\n",
       "   'syn_type': 'RESEARCH_CODE',\n",
       "   'synonyms': 'GW-572016'},\n",
       "  {'molecule_synonym': 'Lapatinib',\n",
       "   'syn_type': 'ATC',\n",
       "   'synonyms': 'LAPATINIB'},\n",
       "  {'molecule_synonym': 'Lapatinib',\n",
       "   'syn_type': 'BNF',\n",
       "   'synonyms': 'LAPATINIB'},\n",
       "  {'molecule_synonym': 'Lapatinib',\n",
       "   'syn_type': 'INN',\n",
       "   'synonyms': 'LAPATINIB'},\n",
       "  {'molecule_synonym': 'Lapatinib',\n",
       "   'syn_type': 'FDA',\n",
       "   'synonyms': 'Lapatinib'},\n",
       "  {'molecule_synonym': 'Tyverb',\n",
       "   'syn_type': 'TRADE_NAME',\n",
       "   'synonyms': 'TYVERB'}],\n",
       " 'molecule_type': 'Small molecule',\n",
       " 'natural_product': '0',\n",
       " 'oral': True,\n",
       " 'parenteral': False,\n",
       " 'polymer_flag': False,\n",
       " 'pref_name': 'LAPATINIB',\n",
       " 'prodrug': '0',\n",
       " 'structure_type': 'MOL',\n",
       " 'therapeutic_flag': True,\n",
       " 'topical': False,\n",
       " 'usan_stem': '-tinib',\n",
       " 'usan_stem_definition': 'tyrosine kinase inhibitors',\n",
       " 'usan_substem': '-tinib',\n",
       " 'usan_year': 2003,\n",
       " 'withdrawn_class': None,\n",
       " 'withdrawn_country': None,\n",
       " 'withdrawn_flag': False,\n",
       " 'withdrawn_reason': None,\n",
       " 'withdrawn_year': None}"
      ]
     },
     "execution_count": 8,
     "metadata": {},
     "output_type": "execute_result"
    }
   ],
   "source": [
    "# InChI Key for Lapatinib\n",
    "inchi_key = \"BCFGMOOMADDAQU-UHFFFAOYSA-N\"\n",
    "\n",
    "# getting molecule via client\n",
    "molecule.set_format('json')\n",
    "record_via_client = molecule.get(inchi_key)\n",
    "record_via_client"
   ]
  },
  {
   "cell_type": "markdown",
   "metadata": {},
   "source": [
    "### SMILES\n",
    "\n",
    "Compound records may also be retrieved _via_ SMILES lookup.\n",
    "\n",
    "The purpose of the `get` method is to return objects identified by their unique and unambiguous properties.\n",
    "This is why SMILES provided as arguments to the `get` method need to be canonical.\n",
    "But you can still search for molecules, using non-canonical SMILES - this functionaly will be covered later in this notebook."
   ]
  },
  {
   "cell_type": "code",
   "execution_count": 9,
   "metadata": {},
   "outputs": [
    {
     "data": {
      "text/plain": [
       "{'atc_classifications': ['L01XE07'],\n",
       " 'availability_type': '1',\n",
       " 'biotherapeutic': None,\n",
       " 'black_box_warning': '1',\n",
       " 'chebi_par_id': 49603,\n",
       " 'chirality': '2',\n",
       " 'cross_references': [{'xref_id': 'lapatinib%20ditosylate',\n",
       "   'xref_name': 'lapatinib ditosylate',\n",
       "   'xref_src': 'DailyMed'},\n",
       "  {'xref_id': '103905567',\n",
       "   'xref_name': 'SID: 103905567',\n",
       "   'xref_src': 'PubChem'},\n",
       "  {'xref_id': '103905568',\n",
       "   'xref_name': 'SID: 103905568',\n",
       "   'xref_src': 'PubChem'},\n",
       "  {'xref_id': '144206058',\n",
       "   'xref_name': 'SID: 144206058',\n",
       "   'xref_src': 'PubChem'},\n",
       "  {'xref_id': '170465125',\n",
       "   'xref_name': 'SID: 170465125',\n",
       "   'xref_src': 'PubChem'},\n",
       "  {'xref_id': '50100107', 'xref_name': 'SID: 50100107', 'xref_src': 'PubChem'},\n",
       "  {'xref_id': 'Lapatinib', 'xref_name': None, 'xref_src': 'Wikipedia'}],\n",
       " 'dosed_ingredient': True,\n",
       " 'first_approval': 2007,\n",
       " 'first_in_class': '0',\n",
       " 'helm_notation': None,\n",
       " 'indication_class': None,\n",
       " 'inorganic_flag': '0',\n",
       " 'max_phase': 4,\n",
       " 'molecule_chembl_id': 'CHEMBL554',\n",
       " 'molecule_hierarchy': {'molecule_chembl_id': 'CHEMBL554',\n",
       "  'parent_chembl_id': 'CHEMBL554'},\n",
       " 'molecule_properties': {'acd_logd': '6.26',\n",
       "  'acd_logp': '6.3',\n",
       "  'acd_most_apka': None,\n",
       "  'acd_most_bpka': '6.34',\n",
       "  'alogp': '6.14',\n",
       "  'aromatic_rings': 5,\n",
       "  'full_molformula': 'C29H26ClFN4O4S',\n",
       "  'full_mwt': '581.07',\n",
       "  'hba': 8,\n",
       "  'hba_lipinski': 8,\n",
       "  'hbd': 2,\n",
       "  'hbd_lipinski': 2,\n",
       "  'heavy_atoms': 40,\n",
       "  'molecular_species': 'NEUTRAL',\n",
       "  'mw_freebase': '581.07',\n",
       "  'mw_monoisotopic': '580.1347',\n",
       "  'num_lipinski_ro5_violations': 2,\n",
       "  'num_ro5_violations': 2,\n",
       "  'psa': '106.35',\n",
       "  'qed_weighted': '0.18',\n",
       "  'ro3_pass': 'N',\n",
       "  'rtb': 11},\n",
       " 'molecule_structures': {'canonical_smiles': 'CS(=O)(=O)CCNCc1oc(cc1)c2ccc3ncnc(Nc4ccc(OCc5cccc(F)c5)c(Cl)c4)c3c2',\n",
       "  'standard_inchi': 'InChI=1S/C29H26ClFN4O4S/c1-40(36,37)12-11-32-16-23-7-10-27(39-23)20-5-8-26-24(14-20)29(34-18-33-26)35-22-6-9-28(25(30)15-22)38-17-19-3-2-4-21(31)13-19/h2-10,13-15,18,32H,11-12,16-17H2,1H3,(H,33,34,35)',\n",
       "  'standard_inchi_key': 'BCFGMOOMADDAQU-UHFFFAOYSA-N'},\n",
       " 'molecule_synonyms': [{'molecule_synonym': 'GW-2016',\n",
       "   'syn_type': 'RESEARCH_CODE',\n",
       "   'synonyms': 'GW-2016'},\n",
       "  {'molecule_synonym': 'GW-572016',\n",
       "   'syn_type': 'RESEARCH_CODE',\n",
       "   'synonyms': 'GW-572016'},\n",
       "  {'molecule_synonym': 'Lapatinib',\n",
       "   'syn_type': 'ATC',\n",
       "   'synonyms': 'LAPATINIB'},\n",
       "  {'molecule_synonym': 'Lapatinib',\n",
       "   'syn_type': 'BNF',\n",
       "   'synonyms': 'LAPATINIB'},\n",
       "  {'molecule_synonym': 'Lapatinib',\n",
       "   'syn_type': 'INN',\n",
       "   'synonyms': 'LAPATINIB'},\n",
       "  {'molecule_synonym': 'Lapatinib',\n",
       "   'syn_type': 'FDA',\n",
       "   'synonyms': 'Lapatinib'},\n",
       "  {'molecule_synonym': 'Tyverb',\n",
       "   'syn_type': 'TRADE_NAME',\n",
       "   'synonyms': 'TYVERB'}],\n",
       " 'molecule_type': 'Small molecule',\n",
       " 'natural_product': '0',\n",
       " 'oral': True,\n",
       " 'parenteral': False,\n",
       " 'polymer_flag': False,\n",
       " 'pref_name': 'LAPATINIB',\n",
       " 'prodrug': '0',\n",
       " 'structure_type': 'MOL',\n",
       " 'therapeutic_flag': True,\n",
       " 'topical': False,\n",
       " 'usan_stem': '-tinib',\n",
       " 'usan_stem_definition': 'tyrosine kinase inhibitors',\n",
       " 'usan_substem': '-tinib',\n",
       " 'usan_year': 2003,\n",
       " 'withdrawn_class': None,\n",
       " 'withdrawn_country': None,\n",
       " 'withdrawn_flag': False,\n",
       " 'withdrawn_reason': None,\n",
       " 'withdrawn_year': None}"
      ]
     },
     "execution_count": 9,
     "metadata": {},
     "output_type": "execute_result"
    }
   ],
   "source": [
    "# Canonoical SMILES for Lapatinib\n",
    "canonical_smiles = \"CS(=O)(=O)CCNCc1oc(cc1)c2ccc3ncnc(Nc4ccc(OCc5cccc(F)c5)c(Cl)c4)c3c2\"\n",
    "\n",
    "# getting molecule via client\n",
    "molecule.set_format('json')\n",
    "record_via_client = molecule.get(canonical_smiles)\n",
    "record_via_client"
   ]
  },
  {
   "cell_type": "markdown",
   "metadata": {},
   "source": [
    "### Batch queries\n",
    "\n",
    "Multiple records may be requested at once. The `get` method can accept a list of homogenous identifiers."
   ]
  },
  {
   "cell_type": "code",
   "execution_count": 10,
   "metadata": {},
   "outputs": [
    {
     "data": {
      "text/plain": [
       "True"
      ]
     },
     "execution_count": 10,
     "metadata": {},
     "output_type": "execute_result"
    }
   ],
   "source": [
    "records1 = molecule.get(['CHEMBL6498', 'CHEMBL6499', 'CHEMBL6505'])\n",
    "records2 = molecule.get(['XSQLHVPPXBBUPP-UHFFFAOYSA-N', 'JXHVRXRRSSBGPY-UHFFFAOYSA-N', 'TUHYVXGNMOGVMR-GASGPIRDSA-N'])\n",
    "records3 = molecule.get(['CNC(=O)c1ccc(cc1)N(CC#C)Cc2ccc3nc(C)nc(O)c3c2',\n",
    "            'Cc1cc2SC(C)(C)CC(C)(C)c2cc1\\\\N=C(/S)\\\\Nc3ccc(cc3)S(=O)(=O)N',\n",
    "            'CC(C)C[C@H](NC(=O)[C@@H](NC(=O)[C@H](Cc1c[nH]c2ccccc12)NC(=O)[C@H]3CCCN3C(=O)C(CCCCN)CCCCN)C(C)(C)C)C(=O)O'])\n",
    "records1 == records2 == records3"
   ]
  },
  {
   "cell_type": "markdown",
   "metadata": {},
   "source": [
    "Please note that the length of url can't be more than 4000 characters. This is why url-based approach should not be used for a very long lists of identifiers. Also `molecule.get` call needs to be modified slightly in that case."
   ]
  },
  {
   "cell_type": "code",
   "execution_count": 11,
   "metadata": {},
   "outputs": [
    {
     "data": {
      "text/plain": [
       "170"
      ]
     },
     "execution_count": 11,
     "metadata": {},
     "output_type": "execute_result"
    }
   ],
   "source": [
    "# Generate a list of 300 ChEMBL IDs (N.B. not all will be valid)...\n",
    "chembl_ids = ['CHEMBL{}'.format(x) for x in range(1, 301)]\n",
    "\n",
    "# Get compound records, note `molecule_chembl_id` named parameter.\n",
    "# Named parameters should always be used for longer lists\n",
    "records = molecule.get(molecule_chembl_id=chembl_ids)\n",
    "len(records)"
   ]
  },
  {
   "cell_type": "markdown",
   "metadata": {},
   "source": [
    "Note that we expect to see a number that is less than 300. This is because for some identifiers in range `(CHEMBL1, ..., CHEMBL300)` there are no molecule mapped to them."
   ]
  },
  {
   "cell_type": "markdown",
   "metadata": {},
   "source": [
    "### Filtering\n",
    "All resources available through ChEMBL web services can be filtered.\n",
    "Some examples of filtering applied to molecules:\n",
    "\n",
    "1. Get all approved drugs\n",
    "2. Get all molecules in ChEMBL with no Rule-of-Five violations\n",
    "3. Get all biotherapeutic molecules\n",
    "4. Return molecules with molecular weight <= 300\n",
    "5. Return molecules with molecular weight <= 300 AND pref_name ends with -nib"
   ]
  },
  {
   "cell_type": "code",
   "execution_count": 12,
   "metadata": {},
   "outputs": [],
   "source": [
    "# 1. Get all approved drugs\n",
    "approved_drugs = molecule.filter(max_phase=4)\n",
    "\n",
    "# 2. Get all molecules in ChEMBL with no Rule-of-Five violations\n",
    "no_violations = molecule.filter(molecule_properties__num_ro5_violations=0)\n",
    "\n",
    "# 3. Get all biotherapeutic molecules\n",
    "biotherapeutics = molecule.filter(biotherapeutic__isnull=False)\n",
    "\n",
    "# 4. Return molecules with molecular weight <= 300\n",
    "light_molecules = molecule.filter(molecule_properties__mw_freebase__lte=300)\n",
    "\n",
    "# 5. Return molecules with molecular weight <= 300 AND pref_name ends with nib\n",
    "light_nib_molecules = molecule.filter(molecule_properties__mw_freebase__lte=300).filter(pref_name__iendswith=\"nib\")"
   ]
  },
  {
   "cell_type": "markdown",
   "metadata": {},
   "source": [
    "With the client-generated results, we no not have to worry about pagination:"
   ]
  },
  {
   "cell_type": "code",
   "execution_count": 13,
   "metadata": {},
   "outputs": [
    {
     "name": "stdout",
     "output_type": "stream",
     "text": [
      "3811\n",
      "{'atc_classifications': ['L01XX19'], 'availability_type': '1', 'biotherapeutic': None, 'black_box_warning': '1', 'chebi_par_id': 80630, 'chirality': '1', 'cross_references': [{'xref_id': 'irinotecan%20hydrochloride', 'xref_name': 'irinotecan hydrochloride', 'xref_src': 'DailyMed'}, {'xref_id': '124893595', 'xref_name': 'SID: 124893595', 'xref_src': 'PubChem'}, {'xref_id': 'Irinotecan', 'xref_name': None, 'xref_src': 'Wikipedia'}], 'dosed_ingredient': True, 'first_approval': 1996, 'first_in_class': '0', 'helm_notation': None, 'indication_class': 'Antineoplastic (DNA topoisomerase I Inhibitor)', 'inorganic_flag': '0', 'max_phase': 4, 'molecule_chembl_id': 'CHEMBL481', 'molecule_hierarchy': {'molecule_chembl_id': 'CHEMBL481', 'parent_chembl_id': 'CHEMBL481'}, 'molecule_properties': {'acd_logd': '2.08', 'acd_logp': '3.73', 'acd_most_apka': '11.2', 'acd_most_bpka': '9.33', 'alogp': '4.09', 'aromatic_rings': 3, 'full_molformula': 'C33H38N4O6', 'full_mwt': '586.69', 'hba': 9, 'hba_lipinski': 10, 'hbd': 1, 'hbd_lipinski': 1, 'heavy_atoms': 43, 'molecular_species': 'BASE', 'mw_freebase': '586.69', 'mw_monoisotopic': '586.2791', 'num_lipinski_ro5_violations': 1, 'num_ro5_violations': 1, 'psa': '114.2', 'qed_weighted': '0.36', 'ro3_pass': 'N', 'rtb': 4}, 'molecule_structures': {'canonical_smiles': 'CCc1c2CN3C(=O)C4=C(C=C3c2nc5ccc(OC(=O)N6CCC(CC6)N7CCCCC7)cc15)[C@@](O)(CC)C(=O)OC4', 'standard_inchi': 'InChI=1S/C33H38N4O6/c1-3-22-23-16-21(43-32(40)36-14-10-20(11-15-36)35-12-6-5-7-13-35)8-9-27(23)34-29-24(22)18-37-28(29)17-26-25(30(37)38)19-42-31(39)33(26,41)4-2/h8-9,16-17,20,41H,3-7,10-15,18-19H2,1-2H3/t33-/m0/s1', 'standard_inchi_key': 'UWKQSNNFCGGAFS-XIFFEERXSA-N'}, 'molecule_synonyms': [{'molecule_synonym': 'Camptosar', 'syn_type': 'OTHER', 'synonyms': 'Camptosar'}, {'molecule_synonym': 'Irinotecan', 'syn_type': 'ATC', 'synonyms': 'IRINOTECAN'}, {'molecule_synonym': 'Irinotecan', 'syn_type': 'BAN', 'synonyms': 'IRINOTECAN'}, {'molecule_synonym': 'Irinotecan', 'syn_type': 'INN', 'synonyms': 'IRINOTECAN'}, {'molecule_synonym': 'Irinotecan', 'syn_type': 'FDA', 'synonyms': 'Irinotecan'}], 'molecule_type': 'Small molecule', 'natural_product': '1', 'oral': False, 'parenteral': True, 'polymer_flag': False, 'pref_name': 'IRINOTECAN', 'prodrug': '1', 'structure_type': 'MOL', 'therapeutic_flag': True, 'topical': False, 'usan_stem': '-tecan', 'usan_stem_definition': 'antineoplastics (camptothecine derivatives)', 'usan_substem': '-tecan', 'usan_year': 1995, 'withdrawn_class': None, 'withdrawn_country': None, 'withdrawn_flag': False, 'withdrawn_reason': None, 'withdrawn_year': None}\n",
      "[{'atc_classifications': ['C02CA01'], 'availability_type': '1', 'biotherapeutic': None, 'black_box_warning': '0', 'chebi_par_id': 8364, 'chirality': '2', 'cross_references': [{'xref_id': 'prazosin%20hydrochloride', 'xref_name': 'prazosin hydrochloride', 'xref_src': 'DailyMed'}, {'xref_id': '11112649', 'xref_name': 'SID: 11112649', 'xref_src': 'PubChem'}, {'xref_id': '11112650', 'xref_name': 'SID: 11112650', 'xref_src': 'PubChem'}, {'xref_id': '11113367', 'xref_name': 'SID: 11113367', 'xref_src': 'PubChem'}, {'xref_id': '124882482', 'xref_name': 'SID: 124882482', 'xref_src': 'PubChem'}, {'xref_id': '124882484', 'xref_name': 'SID: 124882484', 'xref_src': 'PubChem'}, {'xref_id': '124882486', 'xref_name': 'SID: 124882486', 'xref_src': 'PubChem'}, {'xref_id': '124882487', 'xref_name': 'SID: 124882487', 'xref_src': 'PubChem'}, {'xref_id': '144207195', 'xref_name': 'SID: 144207195', 'xref_src': 'PubChem'}, {'xref_id': '170465415', 'xref_name': 'SID: 170465415', 'xref_src': 'PubChem'}, {'xref_id': '26751613', 'xref_name': 'SID: 26751613', 'xref_src': 'PubChem'}, {'xref_id': '26751614', 'xref_name': 'SID: 26751614', 'xref_src': 'PubChem'}, {'xref_id': '50100502', 'xref_name': 'SID: 50100502', 'xref_src': 'PubChem'}, {'xref_id': '50104272', 'xref_name': 'SID: 50104272', 'xref_src': 'PubChem'}, {'xref_id': '50104273', 'xref_name': 'SID: 50104273', 'xref_src': 'PubChem'}, {'xref_id': '50104274', 'xref_name': 'SID: 50104274', 'xref_src': 'PubChem'}, {'xref_id': '50104275', 'xref_name': 'SID: 50104275', 'xref_src': 'PubChem'}, {'xref_id': '90340959', 'xref_name': 'SID: 90340959', 'xref_src': 'PubChem'}, {'xref_id': 'Prazosin', 'xref_name': None, 'xref_src': 'Wikipedia'}], 'dosed_ingredient': True, 'first_approval': 1976, 'first_in_class': '0', 'helm_notation': None, 'indication_class': 'Antihypertensive', 'inorganic_flag': '0', 'max_phase': 4, 'molecule_chembl_id': 'CHEMBL2', 'molecule_hierarchy': {'molecule_chembl_id': 'CHEMBL2', 'parent_chembl_id': 'CHEMBL2'}, 'molecule_properties': {'acd_logd': '2.08', 'acd_logp': '2.14', 'acd_most_apka': None, 'acd_most_bpka': '6.52', 'alogp': '1.78', 'aromatic_rings': 3, 'full_molformula': 'C19H21N5O4', 'full_mwt': '383.41', 'hba': 8, 'hba_lipinski': 9, 'hbd': 1, 'hbd_lipinski': 2, 'heavy_atoms': 28, 'molecular_species': 'NEUTRAL', 'mw_freebase': '383.41', 'mw_monoisotopic': '383.1594', 'num_lipinski_ro5_violations': 0, 'num_ro5_violations': 0, 'psa': '106.95', 'qed_weighted': '0.73', 'ro3_pass': 'N', 'rtb': 4}, 'molecule_structures': {'canonical_smiles': 'COc1cc2nc(nc(N)c2cc1OC)N3CCN(CC3)C(=O)c4occc4', 'standard_inchi': 'InChI=1S/C19H21N5O4/c1-26-15-10-12-13(11-16(15)27-2)21-19(22-17(12)20)24-7-5-23(6-8-24)18(25)14-4-3-9-28-14/h3-4,9-11H,5-8H2,1-2H3,(H2,20,21,22)', 'standard_inchi_key': 'IENZQIKPVFGBNW-UHFFFAOYSA-N'}, 'molecule_synonyms': [{'molecule_synonym': 'CP-12299', 'syn_type': 'RESEARCH_CODE', 'synonyms': 'CP-12299'}, {'molecule_synonym': 'Prazosin', 'syn_type': 'ATC', 'synonyms': 'PRAZOSIN'}, {'molecule_synonym': 'Prazosin', 'syn_type': 'BAN', 'synonyms': 'PRAZOSIN'}, {'molecule_synonym': 'Prazosin', 'syn_type': 'INN', 'synonyms': 'PRAZOSIN'}, {'molecule_synonym': 'Prazosin', 'syn_type': 'FDA', 'synonyms': 'Prazosin'}], 'molecule_type': 'Small molecule', 'natural_product': '0', 'oral': True, 'parenteral': False, 'polymer_flag': False, 'pref_name': 'PRAZOSIN', 'prodrug': '0', 'structure_type': 'MOL', 'therapeutic_flag': True, 'topical': False, 'usan_stem': '-azosin', 'usan_stem_definition': 'antihypertensives (prazosin type)', 'usan_substem': '-azosin', 'usan_year': 1968, 'withdrawn_class': None, 'withdrawn_country': None, 'withdrawn_flag': False, 'withdrawn_reason': None, 'withdrawn_year': None}, {'atc_classifications': ['N07BA01'], 'availability_type': '2', 'biotherapeutic': None, 'black_box_warning': '0', 'chebi_par_id': 17688, 'chirality': '1', 'cross_references': [{'xref_id': 'nicotine', 'xref_name': 'nicotine', 'xref_src': 'DailyMed'}, {'xref_id': 'nicotine%20polacrilex', 'xref_name': 'nicotine polacrilex', 'xref_src': 'DailyMed'}, {'xref_id': '144209012', 'xref_name': 'SID: 144209012', 'xref_src': 'PubChem'}, {'xref_id': '144210494', 'xref_name': 'SID: 144210494', 'xref_src': 'PubChem'}, {'xref_id': '17389805', 'xref_name': 'SID: 17389805', 'xref_src': 'PubChem'}, {'xref_id': '26752744', 'xref_name': 'SID: 26752744', 'xref_src': 'PubChem'}, {'xref_id': '26752745', 'xref_name': 'SID: 26752745', 'xref_src': 'PubChem'}, {'xref_id': '26752746', 'xref_name': 'SID: 26752746', 'xref_src': 'PubChem'}, {'xref_id': '50105392', 'xref_name': 'SID: 50105392', 'xref_src': 'PubChem'}, {'xref_id': '50105393', 'xref_name': 'SID: 50105393', 'xref_src': 'PubChem'}, {'xref_id': '56314824', 'xref_name': 'SID: 56314824', 'xref_src': 'PubChem'}, {'xref_id': '90341453', 'xref_name': 'SID: 90341453', 'xref_src': 'PubChem'}, {'xref_id': 'Nicotine', 'xref_name': None, 'xref_src': 'Wikipedia'}], 'dosed_ingredient': True, 'first_approval': 1984, 'first_in_class': '0', 'helm_notation': None, 'indication_class': 'Smoking Cessation Adjunct', 'inorganic_flag': '0', 'max_phase': 4, 'molecule_chembl_id': 'CHEMBL3', 'molecule_hierarchy': {'molecule_chembl_id': 'CHEMBL3', 'parent_chembl_id': 'CHEMBL3'}, 'molecule_properties': {'acd_logd': '-0.62', 'acd_logp': '0.57', 'acd_most_apka': None, 'acd_most_bpka': '8', 'alogp': '1.85', 'aromatic_rings': 1, 'full_molformula': 'C10H14N2', 'full_mwt': '162.24', 'hba': 2, 'hba_lipinski': 2, 'hbd': 0, 'hbd_lipinski': 0, 'heavy_atoms': 12, 'molecular_species': 'NEUTRAL', 'mw_freebase': '162.24', 'mw_monoisotopic': '162.1157', 'num_lipinski_ro5_violations': 0, 'num_ro5_violations': 0, 'psa': '16.13', 'qed_weighted': '0.63', 'ro3_pass': 'Y', 'rtb': 1}, 'molecule_structures': {'canonical_smiles': 'CN1CCC[C@H]1c2cccnc2', 'standard_inchi': 'InChI=1S/C10H14N2/c1-12-7-3-5-10(12)9-4-2-6-11-8-9/h2,4,6,8,10H,3,5,7H2,1H3/t10-/m0/s1', 'standard_inchi_key': 'SNICXCGAKADSCV-JTQLQIEISA-N'}, 'molecule_synonyms': [{'molecule_synonym': 'Habitrol', 'syn_type': 'TRADE_NAME', 'synonyms': 'HABITROL'}, {'molecule_synonym': 'Nicabate', 'syn_type': 'TRADE_NAME', 'synonyms': 'NICABATE'}, {'molecule_synonym': 'Nicoderm', 'syn_type': 'TRADE_NAME', 'synonyms': 'NICODERM'}, {'molecule_synonym': 'Nicoderm CQ', 'syn_type': 'TRADE_NAME', 'synonyms': 'NICODERM CQ'}, {'molecule_synonym': 'Nicopass', 'syn_type': 'TRADE_NAME', 'synonyms': 'NICOPASS'}, {'molecule_synonym': 'Nicopatch', 'syn_type': 'TRADE_NAME', 'synonyms': 'NICOPATCH'}, {'molecule_synonym': 'Nicorette Invisi', 'syn_type': 'TRADE_NAME', 'synonyms': 'NICORETTE INVISI'}, {'molecule_synonym': 'Nicotine', 'syn_type': 'ATC', 'synonyms': 'NICOTINE'}, {'molecule_synonym': 'Nicotine', 'syn_type': 'BNF', 'synonyms': 'NICOTINE'}, {'molecule_synonym': 'Nicotine', 'syn_type': 'FDA', 'synonyms': 'NICOTINE'}, {'molecule_synonym': 'Nicotine', 'syn_type': 'MERCK_INDEX', 'synonyms': 'NICOTINE'}, {'molecule_synonym': 'Nicotine', 'syn_type': 'TRADE_NAME', 'synonyms': 'NICOTINE'}, {'molecule_synonym': 'Nicotine', 'syn_type': 'USP', 'synonyms': 'NICOTINE'}, {'molecule_synonym': 'Nicotinell Classic', 'syn_type': 'TRADE_NAME', 'synonyms': 'NICOTINELL CLASSIC'}, {'molecule_synonym': 'Nicotinell Support', 'syn_type': 'TRADE_NAME', 'synonyms': 'NICOTINELL SUPPORT'}, {'molecule_synonym': 'Nicotinell TTS 10', 'syn_type': 'TRADE_NAME', 'synonyms': 'NICOTINELL TTS 10'}, {'molecule_synonym': 'Nicotinell TTS 20', 'syn_type': 'TRADE_NAME', 'synonyms': 'NICOTINELL TTS 20'}, {'molecule_synonym': 'Nicotinell TTS 30', 'syn_type': 'TRADE_NAME', 'synonyms': 'NICOTINELL TTS 30'}, {'molecule_synonym': 'Nicotrol', 'syn_type': 'TRADE_NAME', 'synonyms': 'NICOTROL'}, {'molecule_synonym': 'Niquitin', 'syn_type': 'TRADE_NAME', 'synonyms': 'NIQUITIN'}, {'molecule_synonym': 'NiQuitin Clr', 'syn_type': 'TRADE_NAME', 'synonyms': 'NIQUITIN CLR'}, {'molecule_synonym': 'NiQuitin Minis Cherry', 'syn_type': 'TRADE_NAME', 'synonyms': 'NIQUITIN MINIS CHERRY'}, {'molecule_synonym': 'NiQuitin Minis Mint', 'syn_type': 'TRADE_NAME', 'synonyms': 'NIQUITIN MINIS MINT'}, {'molecule_synonym': 'NiQuitin Minis Orange', 'syn_type': 'TRADE_NAME', 'synonyms': 'NIQUITIN MINIS ORANGE'}, {'molecule_synonym': 'NiQuitin Mint', 'syn_type': 'TRADE_NAME', 'synonyms': 'NIQUITIN MINT'}, {'molecule_synonym': 'NiQuitin Pre-Quit', 'syn_type': 'TRADE_NAME', 'synonyms': 'NIQUITIN PRE-QUIT'}, {'molecule_synonym': 'NiQuitin Strips Mint', 'syn_type': 'TRADE_NAME', 'synonyms': 'NIQUITIN STRIPS MINT'}, {'molecule_synonym': 'Nicotine', 'syn_type': 'USAN', 'synonyms': 'Nicotine'}, {'molecule_synonym': 'Nicotrol Inhaler', 'syn_type': 'TRADE_NAME', 'synonyms': 'Nicotrol Inhaler'}, {'molecule_synonym': 'Nicotrol NS', 'syn_type': 'TRADE_NAME', 'synonyms': 'Nicotrol NS'}, {'molecule_synonym': 'Prostep', 'syn_type': 'TRADE_NAME', 'synonyms': 'PROSTEP'}, {'molecule_synonym': 'Stoppers', 'syn_type': 'TRADE_NAME', 'synonyms': 'STOPPERS'}, {'molecule_synonym': 'Stubit', 'syn_type': 'TRADE_NAME', 'synonyms': 'STUBIT'}], 'molecule_type': 'Small molecule', 'natural_product': '0', 'oral': True, 'parenteral': False, 'polymer_flag': False, 'pref_name': 'NICOTINE', 'prodrug': '0', 'structure_type': 'MOL', 'therapeutic_flag': True, 'topical': True, 'usan_stem': None, 'usan_stem_definition': None, 'usan_substem': None, 'usan_year': 1985, 'withdrawn_class': None, 'withdrawn_country': None, 'withdrawn_flag': False, 'withdrawn_reason': None, 'withdrawn_year': None}, {'atc_classifications': ['J01MA01', 'S01AE01', 'S02AA16'], 'availability_type': '1', 'biotherapeutic': None, 'black_box_warning': '1', 'chebi_par_id': 7731, 'chirality': '0', 'cross_references': [{'xref_id': 'ofloxacin', 'xref_name': 'ofloxacin', 'xref_src': 'DailyMed'}, {'xref_id': '11533038', 'xref_name': 'SID: 11533038', 'xref_src': 'PubChem'}, {'xref_id': '124880995', 'xref_name': 'SID: 124880995', 'xref_src': 'PubChem'}, {'xref_id': '124880996', 'xref_name': 'SID: 124880996', 'xref_src': 'PubChem'}, {'xref_id': '144204254', 'xref_name': 'SID: 144204254', 'xref_src': 'PubChem'}, {'xref_id': '170465035', 'xref_name': 'SID: 170465035', 'xref_src': 'PubChem'}, {'xref_id': '174006255', 'xref_name': 'SID: 174006255', 'xref_src': 'PubChem'}, {'xref_id': '174007433', 'xref_name': 'SID: 174007433', 'xref_src': 'PubChem'}, {'xref_id': '26747609', 'xref_name': 'SID: 26747609', 'xref_src': 'PubChem'}, {'xref_id': '26747610', 'xref_name': 'SID: 26747610', 'xref_src': 'PubChem'}, {'xref_id': '50106760', 'xref_name': 'SID: 50106760', 'xref_src': 'PubChem'}, {'xref_id': '56423109', 'xref_name': 'SID: 56423109', 'xref_src': 'PubChem'}, {'xref_id': '85231170', 'xref_name': 'SID: 85231170', 'xref_src': 'PubChem'}, {'xref_id': '90341488', 'xref_name': 'SID: 90341488', 'xref_src': 'PubChem'}, {'xref_id': 'Ofloxacin', 'xref_name': None, 'xref_src': 'Wikipedia'}], 'dosed_ingredient': True, 'first_approval': 1990, 'first_in_class': '0', 'helm_notation': None, 'indication_class': 'Antibacterial', 'inorganic_flag': '0', 'max_phase': 4, 'molecule_chembl_id': 'CHEMBL4', 'molecule_hierarchy': {'molecule_chembl_id': 'CHEMBL4', 'parent_chembl_id': 'CHEMBL4'}, 'molecule_properties': {'acd_logd': '-0.39', 'acd_logp': '1.85', 'acd_most_apka': '5.19', 'acd_most_bpka': '7.37', 'alogp': '1.54', 'aromatic_rings': 2, 'full_molformula': 'C18H20FN3O4', 'full_mwt': '361.37', 'hba': 6, 'hba_lipinski': 7, 'hbd': 1, 'hbd_lipinski': 1, 'heavy_atoms': 26, 'molecular_species': 'ACID', 'mw_freebase': '361.37', 'mw_monoisotopic': '361.1438', 'num_lipinski_ro5_violations': 0, 'num_ro5_violations': 0, 'psa': '75.01', 'qed_weighted': '0.87', 'ro3_pass': 'N', 'rtb': 2}, 'molecule_structures': {'canonical_smiles': 'CC1COc2c(N3CCN(C)CC3)c(F)cc4C(=O)C(=CN1c24)C(=O)O', 'standard_inchi': 'InChI=1S/C18H20FN3O4/c1-10-9-26-17-14-11(16(23)12(18(24)25)8-22(10)14)7-13(19)15(17)21-5-3-20(2)4-6-21/h7-8,10H,3-6,9H2,1-2H3,(H,24,25)', 'standard_inchi_key': 'GSDSWSVVBLHKDQ-UHFFFAOYSA-N'}, 'molecule_synonyms': [{'molecule_synonym': 'DL-8280', 'syn_type': 'RESEARCH_CODE', 'synonyms': 'DL-8280'}, {'molecule_synonym': 'Exocin', 'syn_type': 'TRADE_NAME', 'synonyms': 'EXOCIN'}, {'molecule_synonym': 'Floxin', 'syn_type': 'TRADE_NAME', 'synonyms': 'FLOXIN'}, {'molecule_synonym': 'Floxin Otic', 'syn_type': 'TRADE_NAME', 'synonyms': 'FLOXIN OTIC'}, {'molecule_synonym': 'HOE-280', 'syn_type': 'RESEARCH_CODE', 'synonyms': 'HOE 280'}, {'molecule_synonym': 'Ocuflox', 'syn_type': 'TRADE_NAME', 'synonyms': 'OCUFLOX'}, {'molecule_synonym': 'Ofloxacin', 'syn_type': 'ATC', 'synonyms': 'OFLOXACIN'}, {'molecule_synonym': 'Ofloxacin', 'syn_type': 'BAN', 'synonyms': 'OFLOXACIN'}, {'molecule_synonym': 'Ofloxacin', 'syn_type': 'BNF', 'synonyms': 'OFLOXACIN'}, {'molecule_synonym': 'Ofloxacin', 'syn_type': 'FDA', 'synonyms': 'OFLOXACIN'}, {'molecule_synonym': 'Ofloxacin', 'syn_type': 'INN', 'synonyms': 'OFLOXACIN'}, {'molecule_synonym': 'Ofloxacin', 'syn_type': 'JAN', 'synonyms': 'OFLOXACIN'}, {'molecule_synonym': 'Ofloxacin', 'syn_type': 'TRADE_NAME', 'synonyms': 'OFLOXACIN'}, {'molecule_synonym': 'Ofloxacin', 'syn_type': 'USAN', 'synonyms': 'OFLOXACIN'}, {'molecule_synonym': 'Ofloxacin', 'syn_type': 'USP', 'synonyms': 'OFLOXACIN'}, {'molecule_synonym': 'Tarivid', 'syn_type': 'TRADE_NAME', 'synonyms': 'TARIVID'}, {'molecule_synonym': 'Tarivid 400', 'syn_type': 'TRADE_NAME', 'synonyms': 'TARIVID 400'}, {'molecule_synonym': 'Tarivid I.V.', 'syn_type': 'TRADE_NAME', 'synonyms': 'TARIVID I.V.'}, {'molecule_synonym': 'Visiren', 'syn_type': 'TRADE_NAME', 'synonyms': 'Visiren'}], 'molecule_type': 'Small molecule', 'natural_product': '0', 'oral': True, 'parenteral': True, 'polymer_flag': False, 'pref_name': 'OFLOXACIN', 'prodrug': '0', 'structure_type': 'MOL', 'therapeutic_flag': True, 'topical': True, 'usan_stem': '-oxacin', 'usan_stem_definition': 'antibacterials (quinolone derivatives)', 'usan_substem': '-oxacin', 'usan_year': 1984, 'withdrawn_class': None, 'withdrawn_country': None, 'withdrawn_flag': False, 'withdrawn_reason': None, 'withdrawn_year': None}]\n",
      "COc1cc2nc(nc(N)c2cc1OC)N3CCN(CC3)C(=O)c4occc4\n",
      "CN1CCC[C@H]1c2cccnc2\n",
      "CC1COc2c(N3CCN(C)CC3)c(F)cc4C(=O)C(=CN1c24)C(=O)O\n",
      "CCN1C=C(C(=O)O)C(=O)c2ccc(C)nc12\n",
      "COc1ccc2c(c1)c(CC(=O)O)c(C)n2C(=O)c3ccc(Cl)cc3\n",
      "CC1(C)[C@@H](N2[C@@H](CC2=O)S1(=O)=O)C(=O)O\n",
      "C[C@]1(Cn2ccnn2)[C@@H](N3[C@@H](CC3=O)S1(=O)=O)C(=O)O\n",
      "OC(=O)C1=CN(C2CC2)c3cc(N4CCNCC4)c(F)cc3C1=O\n",
      "CCN1C=C(C(=O)O)C(=O)c2cc(F)c(cc12)N3CCNCC3\n",
      "CC(N)Cc1ccccc1\n",
      "[O-][N+](=O)O[C@H]1CO[C@@H]2[C@@H](CO[C@H]12)O[N+](=O)[O-]\n",
      "CN1CCN2C(C1)c3ccccc3Cc4ccccc24\n",
      "CN(C)CCCN1c2ccccc2CCc3ccccc13\n",
      "CC1Cc2ccccc2N1NC(=O)c3ccc(Cl)c(c3)S(=O)(=O)N\n",
      "CCOC(=O)c1ncn2c1CN(C)C(=O)c3cc(F)ccc23\n",
      "Cc1c(C)c2OC(C)(COc3ccc(CC4SC(=O)NC4=O)cc3)CCc2c(C)c1O\n",
      "CC(O)(CS(=O)(=O)c1ccc(F)cc1)C(=O)Nc2ccc(C#N)c(c2)C(F)(F)F\n",
      "CN1C(=O)CN=C(c2ccccc2)c3cc(Cl)ccc13\n",
      "COCCc1ccc(OCC(O)CNC(C)C)cc1\n",
      "CC\\C(=C(\\CC)/c1ccc(O)cc1)\\c2ccc(O)cc2\n"
     ]
    }
   ],
   "source": [
    "# The QuerySet object returned by the client is a lazily-evaluated iterator\n",
    "# This means that it's ready to use and it will try to reduce the amount of server requests\n",
    "# All results are cached as well so they are fetched from server only once.\n",
    "approved_drugs = molecule.filter(max_phase=4)\n",
    "\n",
    "# Getting the lenght of the whole result set is easy:\n",
    "print(len(approved_drugs))\n",
    "\n",
    "# So is getting a single element:\n",
    "print(approved_drugs[123])\n",
    "\n",
    "# Or a chunk of elements:\n",
    "print(approved_drugs[2:5])\n",
    "\n",
    "# Or using in the loops or list comprehensions:\n",
    "for drug in approved_drugs[0:20]:\n",
    "    if drug['molecule_structures']:\n",
    "        print(drug['molecule_structures']['canonical_smiles'])"
   ]
  },
  {
   "cell_type": "markdown",
   "metadata": {
    "collapsed": true
   },
   "source": [
    "### Ordering results\n",
    "Similar to filtering, it's also possible to order the result set, there is a parameter called `order_by` that is reposnsible for ordering:"
   ]
  },
  {
   "cell_type": "code",
   "execution_count": 14,
   "metadata": {},
   "outputs": [
    {
     "data": {
      "text/plain": [
       "'HELIUM'"
      ]
     },
     "execution_count": 14,
     "metadata": {},
     "output_type": "execute_result"
    }
   ],
   "source": [
    "# Sort approved drugs by molecular weight ascending (from lightest to heaviest) and get the first (lightest) element\n",
    "lightest_drug = molecule.filter(max_phase=4).order_by('molecule_properties__mw_freebase')[0]\n",
    "lightest_drug['pref_name']"
   ]
  },
  {
   "cell_type": "code",
   "execution_count": 15,
   "metadata": {},
   "outputs": [
    {
     "data": {
      "text/plain": [
       "'CISPLATIN'"
      ]
     },
     "execution_count": 15,
     "metadata": {},
     "output_type": "execute_result"
    }
   ],
   "source": [
    "# Sort approved drugs by molecular weight descending (from heaviest to lightest) and get the first (heaviest) element\n",
    "heaviest_drug = molecule.filter(max_phase=4).order_by('-molecule_properties__mw_freebase')[0]\n",
    "heaviest_drug['pref_name']"
   ]
  },
  {
   "cell_type": "markdown",
   "metadata": {},
   "source": [
    "### Filtering molecules using SMILES\n",
    "It is possible to filter molecules by SMILES"
   ]
  },
  {
   "cell_type": "code",
   "execution_count": 16,
   "metadata": {},
   "outputs": [
    {
     "name": "stdout",
     "output_type": "stream",
     "text": [
      "1\n",
      "1\n",
      "1\n",
      "True\n",
      "True\n"
     ]
    }
   ],
   "source": [
    "# Atorvastatin...\n",
    "smiles = \"CC(C)c1c(C(=O)Nc2ccccc2)c(c3ccccc3)c(c4ccc(F)cc4)n1CC[C@@H](O)C[C@@H](O)CC(=O)O\"\n",
    "\n",
    "# By default, the type of search used is 'exact search' which means that only compounds with exacly same SMILES string will be picked:\n",
    "result = molecule.filter(molecule_structures__canonical_smiles=smiles)\n",
    "print(len(result))\n",
    "\n",
    "# This is quivalent of:\n",
    "result1 = molecule.filter(molecule_structures__canonical_smiles__exact=smiles)\n",
    "print(len(result1))\n",
    "\n",
    "# For convenience, we have a shortcut call:\n",
    "result2 = molecule.filter(smiles=smiles)\n",
    "print(len(result2))\n",
    "\n",
    "# Checking if they are all the same: \n",
    "print(result[0]['pref_name'] == result1[0]['pref_name'] == result2[0]['pref_name'])\n",
    "\n",
    "# And because SMILES string are unique in ChEMBL, this is similar to:\n",
    "result3 = molecule.get(smiles)\n",
    "print(result[0]['pref_name'] == result3['pref_name'])"
   ]
  },
  {
   "cell_type": "markdown",
   "metadata": {},
   "source": [
    "There are however different filtering operators that can be applied to SMILES; the most important one is called `flexmatch`, which will return all structures described by given SMILES string even if this is non-canonical SMILES."
   ]
  },
  {
   "cell_type": "code",
   "execution_count": 17,
   "metadata": {},
   "outputs": [
    {
     "name": "stdout",
     "output_type": "stream",
     "text": [
      "3\n",
      "CHEMBL1487      : CC(C)c1c(C(=O)Nc2ccccc2)c(c3ccccc3)c(c4ccc(F)cc4)n1CC[C@@H](O)C[C@@H](O)CC(=O)O\n",
      "CHEMBL1790017   : CC(C)c1c(C(=O)Nc2ccccc2)c(c3ccccc3)c(c4ccc(F)cc4)n1CC[C@@H](O)C[C@@H](O)CC(=O)O.CC(C)c5c(C(=O)Nc6ccccc6)c(c7ccccc7)c(c8ccc(F)cc8)n5CC[C@@H](O)C[C@@H](O)CC(=O)O\n",
      "CHEMBL3392029   : CC(C)c1c(C(=O)Nc2ccccc2)c(c3ccccc3)c(c4ccc(F)cc4)n1CC[C@H](O)C[C@@H](O)CC(=O)O\n"
     ]
    }
   ],
   "source": [
    "# Flexmatch will look for structures that match given SMILES, ignoring stereo:\n",
    "records = molecule.filter(molecule_structures__canonical_smiles__flexmatch=smiles)\n",
    "print(len(records))\n",
    "\n",
    "for record in records:\n",
    "    print(\"{:15s} : {}\".format(record[\"molecule_chembl_id\"], record['molecule_structures']['canonical_smiles']))"
   ]
  },
  {
   "cell_type": "markdown",
   "metadata": {
    "collapsed": true
   },
   "source": [
    "Unlike with the exact string match, it is possible to retrieve multiple records when a SMILES is used for the `flexmatch` lookup (_i.e._ it is potentially one-to-many instead of one-to-one as the ID lookups are). This is due to the nature of `flexmatch`.\n",
    "\n",
    "In our case two structures are returned, CHEMBL1487 (Atorvastatin) and CHEMBL1207181, which is the same structure as the former but with one of the two stereocentres undefined."
   ]
  },
  {
   "cell_type": "markdown",
   "metadata": {},
   "source": [
    "### Substructure-searching\n",
    "\n",
    "As well as ID lookups, the web services may also be used to perform substructure searches. Currently, only SMILES-based searches are supported, although this could change if there is is a need for more powerful search abilities (_e.g._ SMARTS searching)."
   ]
  },
  {
   "cell_type": "code",
   "execution_count": 18,
   "metadata": {},
   "outputs": [],
   "source": [
    "# Lapatinib contains the following core...\n",
    "query = \"c4ccc(Nc2ncnc3ccc(c1ccco1)cc23)cc4\""
   ]
  },
  {
   "cell_type": "code",
   "execution_count": 19,
   "metadata": {},
   "outputs": [
    {
     "data": {
      "text/plain": [
       "[{'atc_classifications': ['L01XE07'], 'availability_type': '1', 'biotherapeutic': None, 'black_box_warning': '1', 'chebi_par_id': 49603, 'chirality': '2', 'cross_references': [{'xref_id': 'lapatinib%20ditosylate', 'xref_name': 'lapatinib ditosylate', 'xref_src': 'DailyMed'}, {'xref_id': '103905567', 'xref_name': 'SID: 103905567', 'xref_src': 'PubChem'}, {'xref_id': '103905568', 'xref_name': 'SID: 103905568', 'xref_src': 'PubChem'}, {'xref_id': '144206058', 'xref_name': 'SID: 144206058', 'xref_src': 'PubChem'}, {'xref_id': '170465125', 'xref_name': 'SID: 170465125', 'xref_src': 'PubChem'}, {'xref_id': '50100107', 'xref_name': 'SID: 50100107', 'xref_src': 'PubChem'}, {'xref_id': 'Lapatinib', 'xref_name': None, 'xref_src': 'Wikipedia'}], 'dosed_ingredient': True, 'first_approval': 2007, 'first_in_class': '0', 'helm_notation': None, 'indication_class': None, 'inorganic_flag': '0', 'max_phase': 4, 'molecule_chembl_id': 'CHEMBL554', 'molecule_hierarchy': {'molecule_chembl_id': 'CHEMBL554', 'parent_chembl_id': 'CHEMBL554'}, 'molecule_properties': {'acd_logd': '6.26', 'acd_logp': '6.3', 'acd_most_apka': None, 'acd_most_bpka': '6.34', 'alogp': '6.14', 'aromatic_rings': 5, 'full_molformula': 'C29H26ClFN4O4S', 'full_mwt': '581.07', 'hba': 8, 'hba_lipinski': 8, 'hbd': 2, 'hbd_lipinski': 2, 'heavy_atoms': 40, 'molecular_species': 'NEUTRAL', 'mw_freebase': '581.07', 'mw_monoisotopic': '580.1347', 'num_lipinski_ro5_violations': 2, 'num_ro5_violations': 2, 'psa': '106.35', 'qed_weighted': '0.18', 'ro3_pass': 'N', 'rtb': 11}, 'molecule_structures': {'canonical_smiles': 'CS(=O)(=O)CCNCc1oc(cc1)c2ccc3ncnc(Nc4ccc(OCc5cccc(F)c5)c(Cl)c4)c3c2', 'standard_inchi': 'InChI=1S/C29H26ClFN4O4S/c1-40(36,37)12-11-32-16-23-7-10-27(39-23)20-5-8-26-24(14-20)29(34-18-33-26)35-22-6-9-28(25(30)15-22)38-17-19-3-2-4-21(31)13-19/h2-10,13-15,18,32H,11-12,16-17H2,1H3,(H,33,34,35)', 'standard_inchi_key': 'BCFGMOOMADDAQU-UHFFFAOYSA-N'}, 'molecule_type': 'Small molecule', 'natural_product': '0', 'oral': True, 'parenteral': False, 'polymer_flag': False, 'pref_name': 'LAPATINIB', 'prodrug': '0', 'structure_type': 'MOL', 'therapeutic_flag': True, 'topical': False, 'usan_stem': '-tinib', 'usan_stem_definition': 'tyrosine kinase inhibitors', 'usan_substem': '-tinib', 'usan_year': 2003, 'withdrawn_class': None, 'withdrawn_country': None, 'withdrawn_flag': False, 'withdrawn_reason': None, 'withdrawn_year': None}, {'atc_classifications': [], 'availability_type': '-1', 'biotherapeutic': None, 'black_box_warning': '0', 'chebi_par_id': None, 'chirality': '-1', 'cross_references': [], 'dosed_ingredient': False, 'first_approval': None, 'first_in_class': '-1', 'helm_notation': None, 'indication_class': None, 'inorganic_flag': '-1', 'max_phase': 0, 'molecule_chembl_id': 'CHEMBL212250', 'molecule_hierarchy': {'molecule_chembl_id': 'CHEMBL212250', 'parent_chembl_id': 'CHEMBL212250'}, 'molecule_properties': {'acd_logd': '7.07', 'acd_logp': '7.07', 'acd_most_apka': None, 'acd_most_bpka': '5.38', 'alogp': '8', 'aromatic_rings': 6, 'full_molformula': 'C34H27ClFN3O5S', 'full_mwt': '644.12', 'hba': 8, 'hba_lipinski': 8, 'hbd': 1, 'hbd_lipinski': 1, 'heavy_atoms': 45, 'molecular_species': 'NEUTRAL', 'mw_freebase': '644.12', 'mw_monoisotopic': '643.1344', 'num_lipinski_ro5_violations': 2, 'num_ro5_violations': 2, 'psa': '103.55', 'qed_weighted': '0.13', 'ro3_pass': 'N', 'rtb': 12}, 'molecule_structures': {'canonical_smiles': 'Fc1cccc(COc2ccc(Nc3ncnc4ccc(cc34)c5oc(COCCS(=O)(=O)c6ccccc6)cc5)cc2Cl)c1', 'standard_inchi': 'InChI=1S/C34H27ClFN3O5S/c35-30-19-26(10-13-33(30)43-20-23-5-4-6-25(36)17-23)39-34-29-18-24(9-12-31(29)37-22-38-34)32-14-11-27(44-32)21-42-15-16-45(40,41)28-7-2-1-3-8-28/h1-14,17-19,22H,15-16,20-21H2,(H,37,38,39)', 'standard_inchi_key': 'JLBVWHHVKVXOOR-UHFFFAOYSA-N'}, 'molecule_type': 'Small molecule', 'natural_product': '-1', 'oral': False, 'parenteral': False, 'polymer_flag': False, 'pref_name': 'GW615311X', 'prodrug': '-1', 'structure_type': 'MOL', 'therapeutic_flag': False, 'topical': False, 'usan_stem': None, 'usan_stem_definition': None, 'usan_substem': None, 'usan_year': None, 'withdrawn_class': None, 'withdrawn_country': None, 'withdrawn_flag': False, 'withdrawn_reason': None, 'withdrawn_year': None}, {'atc_classifications': [], 'availability_type': '-1', 'biotherapeutic': None, 'black_box_warning': '0', 'chebi_par_id': None, 'chirality': '-1', 'cross_references': [], 'dosed_ingredient': False, 'first_approval': None, 'first_in_class': '-1', 'helm_notation': None, 'indication_class': None, 'inorganic_flag': '-1', 'max_phase': 0, 'molecule_chembl_id': 'CHEMBL212201', 'molecule_hierarchy': {'molecule_chembl_id': 'CHEMBL212201', 'parent_chembl_id': 'CHEMBL212201'}, 'molecule_properties': {'acd_logd': '6.77', 'acd_logp': '7.68', 'acd_most_apka': None, 'acd_most_bpka': '8.28', 'alogp': '8.21', 'aromatic_rings': 6, 'full_molformula': 'C36H33ClN4O4S', 'full_mwt': '653.2', 'hba': 8, 'hba_lipinski': 8, 'hbd': 2, 'hbd_lipinski': 2, 'heavy_atoms': 46, 'molecular_species': 'NEUTRAL', 'mw_freebase': '653.2', 'mw_monoisotopic': '652.1911', 'num_lipinski_ro5_violations': 2, 'num_ro5_violations': 2, 'psa': '106.35', 'qed_weighted': '0.11', 'ro3_pass': 'N', 'rtb': 14}, 'molecule_structures': {'canonical_smiles': 'Clc1cc(Nc2ncnc3ccc(cc23)c4oc(CNCCCCS(=O)(=O)c5ccccc5)cc4)ccc1OCc6ccccc6', 'standard_inchi': 'InChI=1S/C36H33ClN4O4S/c37-32-22-28(14-17-35(32)44-24-26-9-3-1-4-10-26)41-36-31-21-27(13-16-33(31)39-25-40-36)34-18-15-29(45-34)23-38-19-7-8-20-46(42,43)30-11-5-2-6-12-30/h1-6,9-18,21-22,25,38H,7-8,19-20,23-24H2,(H,39,40,41)', 'standard_inchi_key': 'SOFMGJHORUKREC-UHFFFAOYSA-N'}, 'molecule_type': 'Small molecule', 'natural_product': '-1', 'oral': False, 'parenteral': False, 'polymer_flag': False, 'pref_name': None, 'prodrug': '-1', 'structure_type': 'MOL', 'therapeutic_flag': False, 'topical': False, 'usan_stem': None, 'usan_stem_definition': None, 'usan_substem': None, 'usan_year': None, 'withdrawn_class': None, 'withdrawn_country': None, 'withdrawn_flag': False, 'withdrawn_reason': None, 'withdrawn_year': None}, {'atc_classifications': [], 'availability_type': '-1', 'biotherapeutic': None, 'black_box_warning': '0', 'chebi_par_id': None, 'chirality': '-1', 'cross_references': [], 'dosed_ingredient': False, 'first_approval': None, 'first_in_class': '-1', 'helm_notation': None, 'indication_class': None, 'inorganic_flag': '-1', 'max_phase': 0, 'molecule_chembl_id': 'CHEMBL212251', 'molecule_hierarchy': {'molecule_chembl_id': 'CHEMBL212251', 'parent_chembl_id': 'CHEMBL212251'}, 'molecule_properties': {'acd_logd': '7.31', 'acd_logp': '7.36', 'acd_most_apka': None, 'acd_most_bpka': '6.44', 'alogp': '7.26', 'aromatic_rings': 5, 'full_molformula': 'C32H32ClFN4O4S', 'full_mwt': '623.15', 'hba': 8, 'hba_lipinski': 8, 'hbd': 1, 'hbd_lipinski': 1, 'heavy_atoms': 43, 'molecular_species': 'NEUTRAL', 'mw_freebase': '623.15', 'mw_monoisotopic': '622.1817', 'num_lipinski_ro5_violations': 2, 'num_ro5_violations': 2, 'psa': '97.56', 'qed_weighted': '0.15', 'ro3_pass': 'N', 'rtb': 13}, 'molecule_structures': {'canonical_smiles': 'CCCN(CCS(=O)(=O)C)Cc1oc(cc1)c2ccc3ncnc(Nc4ccc(OCc5cccc(F)c5)c(Cl)c4)c3c2', 'standard_inchi': 'InChI=1S/C32H32ClFN4O4S/c1-3-13-38(14-15-43(2,39)40)19-26-9-12-30(42-26)23-7-10-29-27(17-23)32(36-21-35-29)37-25-8-11-31(28(33)18-25)41-20-22-5-4-6-24(34)16-22/h4-12,16-18,21H,3,13-15,19-20H2,1-2H3,(H,35,36,37)', 'standard_inchi_key': 'LOWIJALPIWAMBK-UHFFFAOYSA-N'}, 'molecule_type': 'Small molecule', 'natural_product': '-1', 'oral': False, 'parenteral': False, 'polymer_flag': False, 'pref_name': None, 'prodrug': '-1', 'structure_type': 'MOL', 'therapeutic_flag': False, 'topical': False, 'usan_stem': None, 'usan_stem_definition': None, 'usan_substem': None, 'usan_year': None, 'withdrawn_class': None, 'withdrawn_country': None, 'withdrawn_flag': False, 'withdrawn_reason': None, 'withdrawn_year': None}, '...(remaining elements truncated)...']"
      ]
     },
     "execution_count": 19,
     "metadata": {},
     "output_type": "execute_result"
    }
   ],
   "source": [
    "# Perform substructure search on query using client\n",
    "substructure = new_client.substructure\n",
    "records = substructure.filter(smiles=query)\n",
    "records"
   ]
  },
  {
   "cell_type": "markdown",
   "metadata": {
    "collapsed": true
   },
   "source": [
    "### Similarity searching\n",
    "\n",
    "The web services may also be used to perform SMILES-based similarity searches."
   ]
  },
  {
   "cell_type": "code",
   "execution_count": 20,
   "metadata": {},
   "outputs": [],
   "source": [
    "# Lapatinib\n",
    "smiles = \"CS(=O)(=O)CCNCc1oc(cc1)c2ccc3ncnc(Nc4ccc(OCc5cccc(F)c5)c(Cl)c4)c3c2\""
   ]
  },
  {
   "cell_type": "code",
   "execution_count": 21,
   "metadata": {},
   "outputs": [
    {
     "data": {
      "text/plain": [
       "37"
      ]
     },
     "execution_count": 21,
     "metadata": {},
     "output_type": "execute_result"
    }
   ],
   "source": [
    "# Note that a percentage similarity must be supplied.\n",
    "similarity = new_client.similarity\n",
    "res = similarity.filter(smiles=smiles, similarity=85)\n",
    "len(res)"
   ]
  },
  {
   "cell_type": "code",
   "execution_count": 22,
   "metadata": {},
   "outputs": [
    {
     "data": {
      "text/plain": [
       "[{'atc_classifications': ['L01XE07'], 'availability_type': '1', 'biotherapeutic': None, 'black_box_warning': '1', 'chebi_par_id': 49603, 'chirality': '2', 'cross_references': [{'xref_id': 'lapatinib%20ditosylate', 'xref_name': 'lapatinib ditosylate', 'xref_src': 'DailyMed'}, {'xref_id': '103905567', 'xref_name': 'SID: 103905567', 'xref_src': 'PubChem'}, {'xref_id': '103905568', 'xref_name': 'SID: 103905568', 'xref_src': 'PubChem'}, {'xref_id': '144206058', 'xref_name': 'SID: 144206058', 'xref_src': 'PubChem'}, {'xref_id': '170465125', 'xref_name': 'SID: 170465125', 'xref_src': 'PubChem'}, {'xref_id': '50100107', 'xref_name': 'SID: 50100107', 'xref_src': 'PubChem'}, {'xref_id': 'Lapatinib', 'xref_name': None, 'xref_src': 'Wikipedia'}], 'dosed_ingredient': True, 'first_approval': 2007, 'first_in_class': '0', 'helm_notation': None, 'indication_class': None, 'inorganic_flag': '0', 'max_phase': 4, 'molecule_chembl_id': 'CHEMBL554', 'molecule_hierarchy': {'molecule_chembl_id': 'CHEMBL554', 'parent_chembl_id': 'CHEMBL554'}, 'molecule_properties': {'acd_logd': '6.26', 'acd_logp': '6.3', 'acd_most_apka': None, 'acd_most_bpka': '6.34', 'alogp': '6.14', 'aromatic_rings': 5, 'full_molformula': 'C29H26ClFN4O4S', 'full_mwt': '581.07', 'hba': 8, 'hba_lipinski': 8, 'hbd': 2, 'hbd_lipinski': 2, 'heavy_atoms': 40, 'molecular_species': 'NEUTRAL', 'mw_freebase': '581.07', 'mw_monoisotopic': '580.1347', 'num_lipinski_ro5_violations': 2, 'num_ro5_violations': 2, 'psa': '106.35', 'qed_weighted': '0.18', 'ro3_pass': 'N', 'rtb': 11}, 'molecule_structures': {'canonical_smiles': 'CS(=O)(=O)CCNCc1oc(cc1)c2ccc3ncnc(Nc4ccc(OCc5cccc(F)c5)c(Cl)c4)c3c2', 'standard_inchi': 'InChI=1S/C29H26ClFN4O4S/c1-40(36,37)12-11-32-16-23-7-10-27(39-23)20-5-8-26-24(14-20)29(34-18-33-26)35-22-6-9-28(25(30)15-22)38-17-19-3-2-4-21(31)13-19/h2-10,13-15,18,32H,11-12,16-17H2,1H3,(H,33,34,35)', 'standard_inchi_key': 'BCFGMOOMADDAQU-UHFFFAOYSA-N'}, 'molecule_type': 'Small molecule', 'natural_product': '0', 'oral': True, 'parenteral': False, 'polymer_flag': False, 'pref_name': 'LAPATINIB', 'prodrug': '0', 'similarity': '100', 'structure_type': 'MOL', 'therapeutic_flag': True, 'topical': False, 'usan_stem': '-tinib', 'usan_stem_definition': 'tyrosine kinase inhibitors', 'usan_substem': '-tinib', 'usan_year': 2003, 'withdrawn_class': None, 'withdrawn_country': None, 'withdrawn_flag': False, 'withdrawn_reason': None, 'withdrawn_year': None}, {'atc_classifications': [], 'availability_type': '-1', 'biotherapeutic': None, 'black_box_warning': '0', 'chebi_par_id': None, 'chirality': '-1', 'cross_references': [], 'dosed_ingredient': False, 'first_approval': None, 'first_in_class': '-1', 'helm_notation': None, 'indication_class': None, 'inorganic_flag': '-1', 'max_phase': 0, 'molecule_chembl_id': 'CHEMBL380247', 'molecule_hierarchy': {'molecule_chembl_id': 'CHEMBL380247', 'parent_chembl_id': 'CHEMBL380247'}, 'molecule_properties': {'acd_logd': '6.09', 'acd_logp': '6.13', 'acd_most_apka': None, 'acd_most_bpka': '6.34', 'alogp': '6', 'aromatic_rings': 5, 'full_molformula': 'C29H27ClN4O4S', 'full_mwt': '563.08', 'hba': 8, 'hba_lipinski': 8, 'hbd': 2, 'hbd_lipinski': 2, 'heavy_atoms': 39, 'molecular_species': 'NEUTRAL', 'mw_freebase': '563.08', 'mw_monoisotopic': '562.1442', 'num_lipinski_ro5_violations': 2, 'num_ro5_violations': 2, 'psa': '106.35', 'qed_weighted': '0.19', 'ro3_pass': 'N', 'rtb': 11}, 'molecule_structures': {'canonical_smiles': 'CS(=O)(=O)CCNCc1oc(cc1)c2ccc3ncnc(Nc4ccc(OCc5ccccc5)c(Cl)c4)c3c2', 'standard_inchi': 'InChI=1S/C29H27ClN4O4S/c1-39(35,36)14-13-31-17-23-9-12-27(38-23)21-7-10-26-24(15-21)29(33-19-32-26)34-22-8-11-28(25(30)16-22)37-18-20-5-3-2-4-6-20/h2-12,15-16,19,31H,13-14,17-18H2,1H3,(H,32,33,34)', 'standard_inchi_key': 'HTIFVTQSFKUCDX-UHFFFAOYSA-N'}, 'molecule_type': 'Small molecule', 'natural_product': '-1', 'oral': False, 'parenteral': False, 'polymer_flag': False, 'pref_name': None, 'prodrug': '-1', 'similarity': '99.0773', 'structure_type': 'MOL', 'therapeutic_flag': False, 'topical': False, 'usan_stem': None, 'usan_stem_definition': None, 'usan_substem': None, 'usan_year': None, 'withdrawn_class': None, 'withdrawn_country': None, 'withdrawn_flag': False, 'withdrawn_reason': None, 'withdrawn_year': None}, {'atc_classifications': [], 'availability_type': '-1', 'biotherapeutic': None, 'black_box_warning': '0', 'chebi_par_id': None, 'chirality': '-1', 'cross_references': [], 'dosed_ingredient': False, 'first_approval': None, 'first_in_class': '-1', 'helm_notation': None, 'indication_class': None, 'inorganic_flag': '-1', 'max_phase': 0, 'molecule_chembl_id': 'CHEMBL214689', 'molecule_hierarchy': {'molecule_chembl_id': 'CHEMBL214689', 'parent_chembl_id': 'CHEMBL214689'}, 'molecule_properties': {'acd_logd': '6.23', 'acd_logp': '6.27', 'acd_most_apka': None, 'acd_most_bpka': '6.34', 'alogp': '6.11', 'aromatic_rings': 5, 'full_molformula': 'C29H27BrN4O4S', 'full_mwt': '607.53', 'hba': 8, 'hba_lipinski': 8, 'hbd': 2, 'hbd_lipinski': 2, 'heavy_atoms': 39, 'molecular_species': 'NEUTRAL', 'mw_freebase': '607.53', 'mw_monoisotopic': '606.0936', 'num_lipinski_ro5_violations': 2, 'num_ro5_violations': 2, 'psa': '106.35', 'qed_weighted': '0.17', 'ro3_pass': 'N', 'rtb': 11}, 'molecule_structures': {'canonical_smiles': 'CS(=O)(=O)CCNCc1oc(cc1)c2ccc3ncnc(Nc4ccc(OCc5ccccc5)c(Br)c4)c3c2', 'standard_inchi': 'InChI=1S/C29H27BrN4O4S/c1-39(35,36)14-13-31-17-23-9-12-27(38-23)21-7-10-26-24(15-21)29(33-19-32-26)34-22-8-11-28(25(30)16-22)37-18-20-5-3-2-4-6-20/h2-12,15-16,19,31H,13-14,17-18H2,1H3,(H,32,33,34)', 'standard_inchi_key': 'RRURVOSFXQLYQR-UHFFFAOYSA-N'}, 'molecule_type': 'Small molecule', 'natural_product': '-1', 'oral': False, 'parenteral': False, 'polymer_flag': False, 'pref_name': None, 'prodrug': '-1', 'similarity': '98.0549', 'structure_type': 'MOL', 'therapeutic_flag': False, 'topical': False, 'usan_stem': None, 'usan_stem_definition': None, 'usan_substem': None, 'usan_year': None, 'withdrawn_class': None, 'withdrawn_country': None, 'withdrawn_flag': False, 'withdrawn_reason': None, 'withdrawn_year': None}, {'atc_classifications': [], 'availability_type': '-1', 'biotherapeutic': None, 'black_box_warning': '0', 'chebi_par_id': None, 'chirality': '-1', 'cross_references': [], 'dosed_ingredient': False, 'first_approval': None, 'first_in_class': '-1', 'helm_notation': None, 'indication_class': None, 'inorganic_flag': '-1', 'max_phase': 0, 'molecule_chembl_id': 'CHEMBL213818', 'molecule_hierarchy': {'molecule_chembl_id': 'CHEMBL213818', 'parent_chembl_id': 'CHEMBL213818'}, 'molecule_properties': {'acd_logd': '5.58', 'acd_logp': '5.62', 'acd_most_apka': None, 'acd_most_bpka': '6.34', 'alogp': '5.49', 'aromatic_rings': 5, 'full_molformula': 'C29H27FN4O4S', 'full_mwt': '546.62', 'hba': 8, 'hba_lipinski': 8, 'hbd': 2, 'hbd_lipinski': 2, 'heavy_atoms': 39, 'molecular_species': 'NEUTRAL', 'mw_freebase': '546.62', 'mw_monoisotopic': '546.1737', 'num_lipinski_ro5_violations': 2, 'num_ro5_violations': 2, 'psa': '106.35', 'qed_weighted': '0.21', 'ro3_pass': 'N', 'rtb': 11}, 'molecule_structures': {'canonical_smiles': 'CS(=O)(=O)CCNCc1oc(cc1)c2ccc3ncnc(Nc4ccc(OCc5cccc(F)c5)cc4)c3c2', 'standard_inchi': 'InChI=1S/C29H27FN4O4S/c1-39(35,36)14-13-31-17-25-10-12-28(38-25)21-5-11-27-26(16-21)29(33-19-32-27)34-23-6-8-24(9-7-23)37-18-20-3-2-4-22(30)15-20/h2-12,15-16,19,31H,13-14,17-18H2,1H3,(H,32,33,34)', 'standard_inchi_key': 'RZEMPBRXCDBLDH-UHFFFAOYSA-N'}, 'molecule_type': 'Small molecule', 'natural_product': '-1', 'oral': False, 'parenteral': False, 'polymer_flag': False, 'pref_name': None, 'prodrug': '-1', 'similarity': '96.0784', 'structure_type': 'MOL', 'therapeutic_flag': False, 'topical': False, 'usan_stem': None, 'usan_stem_definition': None, 'usan_substem': None, 'usan_year': None, 'withdrawn_class': None, 'withdrawn_country': None, 'withdrawn_flag': False, 'withdrawn_reason': None, 'withdrawn_year': None}, '...(remaining elements truncated)...']"
      ]
     },
     "execution_count": 22,
     "metadata": {},
     "output_type": "execute_result"
    }
   ],
   "source": [
    "res"
   ]
  },
  {
   "cell_type": "markdown",
   "metadata": {},
   "source": [
    "### Versions for a parent structure\n",
    "\n",
    "The versions (_e.g._ salt forms) for a parent compound may be retrieved for a ChEMBL ID. Keep in mind that a parent structure is one that has had salt/solvate components removed; it corresponds to the bioactive moiety and its use facilitates structure searching, comparison _etc_. A compound without salt/solvate components is its own parent."
   ]
  },
  {
   "cell_type": "code",
   "execution_count": 23,
   "metadata": {},
   "outputs": [],
   "source": [
    "# Neostigmine (a parent)...\n",
    "chembl_id = \"CHEMBL278020\" "
   ]
  },
  {
   "cell_type": "code",
   "execution_count": 24,
   "metadata": {},
   "outputs": [
    {
     "data": {
      "text/plain": [
       "[{'is_parent': True,\n",
       "  'molecule_chembl_id': 'CHEMBL278020',\n",
       "  'parent_chembl_id': 'CHEMBL278020'},\n",
       " {'is_parent': False,\n",
       "  'molecule_chembl_id': 'CHEMBL54126',\n",
       "  'parent_chembl_id': 'CHEMBL278020'},\n",
       " {'is_parent': False,\n",
       "  'molecule_chembl_id': 'CHEMBL211471',\n",
       "  'parent_chembl_id': 'CHEMBL278020'}]"
      ]
     },
     "execution_count": 24,
     "metadata": {},
     "output_type": "execute_result"
    }
   ],
   "source": [
    "records = new_client.molecule_form.get(chembl_id)['molecule_forms']\n",
    "records"
   ]
  },
  {
   "cell_type": "markdown",
   "metadata": {},
   "source": [
    "The ChEMBL ID lookup service may now be used to get the full records for the salt forms..."
   ]
  },
  {
   "cell_type": "code",
   "execution_count": 25,
   "metadata": {},
   "outputs": [
    {
     "name": "stdout",
     "output_type": "stream",
     "text": [
      "CHEMBL54126 : [Br-].CN(C)C(=O)Oc1cccc(c1)[N+](C)(C)C\n",
      "CHEMBL211471 : COS(=O)(=O)[O-].CN(C)C(=O)Oc1cccc(c1)[N+](C)(C)C\n"
     ]
    }
   ],
   "source": [
    "for chembl_id in [x[\"molecule_chembl_id\"] for x in records if x[\"is_parent\"] == False]:\n",
    "    record = new_client.molecule.get(chembl_id)          \n",
    "    print(\"{:10s} : {}\".format(chembl_id, record['molecule_structures']['canonical_smiles']))"
   ]
  },
  {
   "cell_type": "markdown",
   "metadata": {},
   "source": [
    "### Drug mechanism(s) of action\n",
    "\n",
    "The mechanisms of action of marketed drugs may be retrieved.\n",
    "\n",
    "Note that this data may not be recorded for the parent structure, but rather for one of its versions. For example, the marketed drug, Tykerb, containing the active ingredient Lapatinib (CHEMBL554) is actually the ditosylate monohydrate (CHEMBL1201179)."
   ]
  },
  {
   "cell_type": "code",
   "execution_count": 26,
   "metadata": {},
   "outputs": [
    {
     "name": "stdout",
     "output_type": "stream",
     "text": [
      "The recorded mechanisms of action of 'CHEMBL554' are...\n",
      "--------------------------------------------------\n",
      "The recorded mechanisms of action of 'CHEMBL1076241' are...\n",
      "--------------------------------------------------\n",
      "The recorded mechanisms of action of 'CHEMBL1201179' are...\n",
      "CHEMBL1201179 : Receptor protein-tyrosine kinase erbB-2 inhibitor\n",
      "CHEMBL1201179 : Epidermal growth factor receptor erbB1 inhibitor\n",
      "--------------------------------------------------\n",
      "The recorded mechanisms of action of 'CHEMBL3526325' are...\n",
      "--------------------------------------------------\n"
     ]
    }
   ],
   "source": [
    "# Molecule forms for Lapatinib are used here...\n",
    "for chembl_id in (x[\"molecule_chembl_id\"] for x in new_client.molecule_form.get(\"CHEMBL554\")['molecule_forms']):\n",
    "    print(\"The recorded mechanisms of action of '{}' are...\".format(chembl_id))\n",
    "    mechanism_records = new_client.mechanism.filter(molecule_chembl_id=chembl_id)\n",
    "    if mechanism_records:\n",
    "        for mech_rec in mechanism_records:\n",
    "            print(\"{:10s} : {}\".format(mech_rec[\"molecule_chembl_id\"], mech_rec[\"mechanism_of_action\"]))\n",
    "    print(\"-\" * 50)"
   ]
  },
  {
   "cell_type": "markdown",
   "metadata": {},
   "source": [
    "### Image query\n",
    "\n",
    "The webservice may be used to obtain a PNG image of a compound."
   ]
  },
  {
   "cell_type": "code",
   "execution_count": 27,
   "metadata": {},
   "outputs": [],
   "source": [
    "# Lapatinib ditosylate monohydrate (Tykerb)\n",
    "chembl_id = \"CHEMBL1201179\" "
   ]
  },
  {
   "cell_type": "code",
   "execution_count": 28,
   "metadata": {},
   "outputs": [
    {
     "data": {
      "image/png": "[encoded data removed]",
      "text/plain": [
       "<IPython.core.display.Image object>"
      ]
     },
     "execution_count": 28,
     "metadata": {},
     "output_type": "execute_result"
    }
   ],
   "source": [
    "png = new_client.image.get(chembl_id)\n",
    "Image(png)"
   ]
  },
  {
   "cell_type": "markdown",
   "metadata": {},
   "source": [
    "### Bioactivities\n",
    "\n",
    "All bioactivity records for a compound may be retrieved _via_ its ChEMBL ID.\n"
   ]
  },
  {
   "cell_type": "code",
   "execution_count": 29,
   "metadata": {},
   "outputs": [],
   "source": [
    "# Lapatinib\n",
    "chembl_id = \"CHEMBL554\" "
   ]
  },
  {
   "cell_type": "code",
   "execution_count": 30,
   "metadata": {},
   "outputs": [
    {
     "data": {
      "text/plain": [
       "(2118,\n",
       " [{'activity_comment': None, 'activity_id': 190221, 'activity_properties': [], 'assay_chembl_id': 'CHEMBL674106', 'assay_description': 'Inhibitory activity against epidermal growth factor receptor', 'assay_type': 'B', 'bao_endpoint': 'BAO_0000190', 'bao_format': 'BAO_0000357', 'bao_label': 'single protein format', 'canonical_smiles': 'CS(=O)(=O)CCNCc1oc(cc1)c2ccc3ncnc(Nc4ccc(OCc5cccc(F)c5)c(Cl)c4)c3c2', 'data_validity_comment': None, 'data_validity_description': None, 'document_chembl_id': 'CHEMBL1146682', 'document_journal': 'Bioorg. Med. Chem. Lett.', 'document_year': 2004, 'ligand_efficiency': {'bei': '13.77', 'le': '0.27', 'lle': '1.86', 'sei': '7.52'}, 'molecule_chembl_id': 'CHEMBL554', 'molecule_pref_name': 'LAPATINIB', 'parent_molecule_chembl_id': 'CHEMBL554', 'pchembl_value': '8', 'potential_duplicate': True, 'qudt_units': 'http://www.openphacts.org/units/Nanomolar', 'record_id': 15408, 'relation': '=', 'src_id': 1, 'standard_flag': True, 'standard_relation': '=', 'standard_text_value': None, 'standard_type': 'IC50', 'standard_units': 'nM', 'standard_upper_value': None, 'standard_value': '10', 'target_chembl_id': 'CHEMBL203', 'target_organism': 'Homo sapiens', 'target_pref_name': 'Epidermal growth factor receptor erbB1', 'target_tax_id': '9606', 'text_value': None, 'toid': None, 'type': 'IC50', 'units': 'uM', 'uo_units': 'UO_0000065', 'upper_value': None, 'value': '0.01'}, {'activity_comment': None, 'activity_id': 190222, 'activity_properties': [], 'assay_chembl_id': 'CHEMBL682312', 'assay_description': 'Inhibitory activity against ERBB2 receptor kinase', 'assay_type': 'B', 'bao_endpoint': 'BAO_0000190', 'bao_format': 'BAO_0000357', 'bao_label': 'single protein format', 'canonical_smiles': 'CS(=O)(=O)CCNCc1oc(cc1)c2ccc3ncnc(Nc4ccc(OCc5cccc(F)c5)c(Cl)c4)c3c2', 'data_validity_comment': None, 'data_validity_description': None, 'document_chembl_id': 'CHEMBL1146682', 'document_journal': 'Bioorg. Med. Chem. Lett.', 'document_year': 2004, 'ligand_efficiency': {'bei': '13.85', 'le': '0.27', 'lle': '1.91', 'sei': '7.57'}, 'molecule_chembl_id': 'CHEMBL554', 'molecule_pref_name': 'LAPATINIB', 'parent_molecule_chembl_id': 'CHEMBL554', 'pchembl_value': '8.05', 'potential_duplicate': True, 'qudt_units': 'http://www.openphacts.org/units/Nanomolar', 'record_id': 15408, 'relation': '=', 'src_id': 1, 'standard_flag': True, 'standard_relation': '=', 'standard_text_value': None, 'standard_type': 'IC50', 'standard_units': 'nM', 'standard_upper_value': None, 'standard_value': '9', 'target_chembl_id': 'CHEMBL1824', 'target_organism': 'Homo sapiens', 'target_pref_name': 'Receptor protein-tyrosine kinase erbB-2', 'target_tax_id': '9606', 'text_value': None, 'toid': None, 'type': 'IC50', 'units': 'uM', 'uo_units': 'UO_0000065', 'upper_value': None, 'value': '0.009'}])"
      ]
     },
     "execution_count": 30,
     "metadata": {},
     "output_type": "execute_result"
    }
   ],
   "source": [
    "records = new_client.activity.filter(molecule_chembl_id=chembl_id)\n",
    "len(records), records[:2]"
   ]
  },
  {
   "cell_type": "markdown",
   "metadata": {},
   "source": [
    "## Targets\n",
    "\n",
    "The webservices may also be used to obtain information on biological targets, _i.e._ the entities, such as proteins, cells or organisms, with which compounds interact.\n"
   ]
  },
  {
   "cell_type": "code",
   "execution_count": 31,
   "metadata": {},
   "outputs": [
    {
     "data": {
      "text/plain": [
       "12482"
      ]
     },
     "execution_count": 31,
     "metadata": {},
     "output_type": "execute_result"
    }
   ],
   "source": [
    "# Like with any other resource type, a complete list of targets can be requested using the client:\n",
    "records = new_client.target.all()\n",
    "len(records)"
   ]
  },
  {
   "cell_type": "code",
   "execution_count": 32,
   "metadata": {},
   "outputs": [
    {
     "data": {
      "text/plain": [
       "[{'cross_references': [{'xref_id': 'Maltase-glucoamylase', 'xref_name': None, 'xref_src': 'Wikipedia'}, {'xref_id': 'O43451', 'xref_name': None, 'xref_src': 'canSAR-Target'}], 'organism': 'Homo sapiens', 'pref_name': 'Maltase-glucoamylase', 'species_group_flag': False, 'target_chembl_id': 'CHEMBL2074', 'target_components': [{'accession': 'O43451', 'component_description': 'Maltase-glucoamylase, intestinal', 'component_id': 434, 'component_type': 'PROTEIN', 'relationship': 'SINGLE PROTEIN', 'target_component_synonyms': [{'component_synonym': '3.2.1.20', 'syn_type': 'EC_NUMBER'}, {'component_synonym': '3.2.1.3', 'syn_type': 'EC_NUMBER'}, {'component_synonym': 'Alpha-glucosidase', 'syn_type': 'UNIPROT'}, {'component_synonym': 'Glucan 1,4-alpha-glucosidase', 'syn_type': 'UNIPROT'}, {'component_synonym': 'Glucoamylase', 'syn_type': 'UNIPROT'}, {'component_synonym': 'MGA', 'syn_type': 'GENE_SYMBOL_OTHER'}, {'component_synonym': 'MGAM', 'syn_type': 'GENE_SYMBOL'}, {'component_synonym': 'MGAML', 'syn_type': 'GENE_SYMBOL_OTHER'}, {'component_synonym': 'Maltase', 'syn_type': 'UNIPROT'}, {'component_synonym': 'Maltase-glucoamylase, intestinal', 'syn_type': 'UNIPROT'}], 'target_component_xrefs': [{'xref_id': 'ENSG00000257335', 'xref_name': None, 'xref_src_db': 'EnsemblGene'}, {'xref_id': 'O43451', 'xref_name': None, 'xref_src_db': 'ExpressionAtlas'}, {'xref_id': 'GO:0005886', 'xref_name': 'plasma membrane', 'xref_src_db': 'GoComponent'}, {'xref_id': 'GO:0016020', 'xref_name': 'membrane', 'xref_src_db': 'GoComponent'}, {'xref_id': 'GO:0016021', 'xref_name': 'integral component of membrane', 'xref_src_db': 'GoComponent'}, {'xref_id': 'GO:0016324', 'xref_name': 'apical plasma membrane', 'xref_src_db': 'GoComponent'}, {'xref_id': 'GO:0070062', 'xref_name': 'extracellular exosome', 'xref_src_db': 'GoComponent'}, {'xref_id': 'GO:0070821', 'xref_name': 'tertiary granule membrane', 'xref_src_db': 'GoComponent'}, {'xref_id': 'GO:0101003', 'xref_name': 'ficolin-1-rich granule membrane', 'xref_src_db': 'GoComponent'}, {'xref_id': 'GO:0003824', 'xref_name': 'catalytic activity', 'xref_src_db': 'GoFunction'}, {'xref_id': 'GO:0004339', 'xref_name': 'glucan 1,4-alpha-glucosidase activity', 'xref_src_db': 'GoFunction'}, {'xref_id': 'GO:0004553', 'xref_name': 'hydrolase activity, hydrolyzing O-glycosyl compounds', 'xref_src_db': 'GoFunction'}, {'xref_id': 'GO:0004558', 'xref_name': 'alpha-1,4-glucosidase activity', 'xref_src_db': 'GoFunction'}, {'xref_id': 'GO:0016160', 'xref_name': 'amylase activity', 'xref_src_db': 'GoFunction'}, {'xref_id': 'GO:0016787', 'xref_name': 'hydrolase activity', 'xref_src_db': 'GoFunction'}, {'xref_id': 'GO:0016798', 'xref_name': 'hydrolase activity, acting on glycosyl bonds', 'xref_src_db': 'GoFunction'}, {'xref_id': 'GO:0030246', 'xref_name': 'carbohydrate binding', 'xref_src_db': 'GoFunction'}, {'xref_id': 'GO:0032450', 'xref_name': 'maltose alpha-glucosidase activity', 'xref_src_db': 'GoFunction'}, {'xref_id': 'GO:0090599', 'xref_name': 'alpha-glucosidase activity', 'xref_src_db': 'GoFunction'}, {'xref_id': 'GO:0000023', 'xref_name': 'maltose metabolic process', 'xref_src_db': 'GoProcess'}, {'xref_id': 'GO:0005975', 'xref_name': 'carbohydrate metabolic process', 'xref_src_db': 'GoProcess'}, {'xref_id': 'GO:0005983', 'xref_name': 'starch catabolic process', 'xref_src_db': 'GoProcess'}, {'xref_id': 'GO:0008152', 'xref_name': 'metabolic process', 'xref_src_db': 'GoProcess'}, {'xref_id': 'GO:0043312', 'xref_name': 'neutrophil degranulation', 'xref_src_db': 'GoProcess'}, {'xref_id': 'GO:0044245', 'xref_name': 'polysaccharide digestion', 'xref_src_db': 'GoProcess'}, {'xref_id': '2627', 'xref_name': None, 'xref_src_db': 'GuideToPHARMACOLOGY'}, {'xref_id': 'O43451', 'xref_name': None, 'xref_src_db': 'IntAct'}, {'xref_id': 'IPR000322', 'xref_name': 'Glyco_hydro_31.', 'xref_src_db': 'InterPro'}, {'xref_id': 'IPR000519', 'xref_name': 'P_trefoil_dom.', 'xref_src_db': 'InterPro'}, {'xref_id': 'IPR011013', 'xref_name': 'Gal_mutarotase_sf_dom.', 'xref_src_db': 'InterPro'}, {'xref_id': 'IPR013780', 'xref_name': 'Glyco_hydro_b.', 'xref_src_db': 'InterPro'}, {'xref_id': 'IPR017853', 'xref_name': 'Glycoside_hydrolase_SF.', 'xref_src_db': 'InterPro'}, {'xref_id': 'IPR017957', 'xref_name': 'P_trefoil_CS.', 'xref_src_db': 'InterPro'}, {'xref_id': 'IPR030458', 'xref_name': 'Glyco_hydro_31_AS.', 'xref_src_db': 'InterPro'}, {'xref_id': 'IPR030459', 'xref_name': 'Glyco_hydro_31_CS.', 'xref_src_db': 'InterPro'}, {'xref_id': 'IPR031727', 'xref_name': 'Gal_mutarotase_N.', 'xref_src_db': 'InterPro'}, {'xref_id': '2QLY', 'xref_name': 'A', 'xref_src_db': 'PDBe'}, {'xref_id': '2QMJ', 'xref_name': 'A', 'xref_src_db': 'PDBe'}, {'xref_id': '3CTT', 'xref_name': 'A', 'xref_src_db': 'PDBe'}, {'xref_id': '3L4T', 'xref_name': 'A', 'xref_src_db': 'PDBe'}, {'xref_id': '3L4U', 'xref_name': 'A', 'xref_src_db': 'PDBe'}, {'xref_id': '3L4V', 'xref_name': 'A', 'xref_src_db': 'PDBe'}, {'xref_id': '3L4W', 'xref_name': 'A', 'xref_src_db': 'PDBe'}, {'xref_id': '3L4X', 'xref_name': 'A', 'xref_src_db': 'PDBe'}, {'xref_id': '3L4Y', 'xref_name': 'A', 'xref_src_db': 'PDBe'}, {'xref_id': '3L4Z', 'xref_name': 'A', 'xref_src_db': 'PDBe'}, {'xref_id': '3TON', 'xref_name': 'A', 'xref_src_db': 'PDBe'}, {'xref_id': '3TOP', 'xref_name': 'A', 'xref_src_db': 'PDBe'}, {'xref_id': 'PF00088', 'xref_name': 'Trefoil', 'xref_src_db': 'Pfam'}, {'xref_id': 'PF01055', 'xref_name': 'Glyco_hydro_31', 'xref_src_db': 'Pfam'}, {'xref_id': 'PF16863', 'xref_name': 'NtCtMGAM_N', 'xref_src_db': 'Pfam'}, {'xref_id': 'PA30778', 'xref_name': 'maltase-glucoamylase (alpha-glucosidase)', 'xref_src_db': 'PharmGKB'}, {'xref_id': 'R-HSA-189085', 'xref_name': 'Digestion of dietary carbohydrate.', 'xref_src_db': 'Reactome'}, {'xref_id': 'R-HSA-6798695', 'xref_name': 'Neutrophil degranulation.', 'xref_src_db': 'Reactome'}, {'xref_id': 'O43451', 'xref_name': None, 'xref_src_db': 'UniProt'}, {'xref_id': 'Q0VAX6', 'xref_name': None, 'xref_src_db': 'UniProt'}, {'xref_id': 'Q75ME7', 'xref_name': None, 'xref_src_db': 'UniProt'}, {'xref_id': 'Q86UM5', 'xref_name': None, 'xref_src_db': 'UniProt'}]}], 'target_type': 'SINGLE PROTEIN', 'tax_id': 9606}, {'cross_references': [{'xref_id': 'ABCC9', 'xref_name': None, 'xref_src': 'Wikipedia'}, {'xref_id': 'O60706', 'xref_name': None, 'xref_src': 'canSAR-Target'}], 'organism': 'Homo sapiens', 'pref_name': 'Sulfonylurea receptor 2', 'species_group_flag': False, 'target_chembl_id': 'CHEMBL1971', 'target_components': [{'accession': 'O60706', 'component_description': 'ATP-binding cassette sub-family C member 9', 'component_id': 294, 'component_type': 'PROTEIN', 'relationship': 'SINGLE PROTEIN', 'target_component_synonyms': [{'component_synonym': 'ABCC9', 'syn_type': 'GENE_SYMBOL'}, {'component_synonym': 'ATP-binding cassette sub-family C member 9', 'syn_type': 'UNIPROT'}, {'component_synonym': 'SUR2', 'syn_type': 'GENE_SYMBOL_OTHER'}, {'component_synonym': 'Sulfonylurea receptor 2', 'syn_type': 'UNIPROT'}], 'target_component_xrefs': [{'xref_id': 'ABCC9', 'xref_name': 'Cardiomyopathy, dilated, 10; Atrial fibrillation, familial 12; Cantu syndrome', 'xref_src_db': 'CGD'}, {'xref_id': 'ENSG00000069431', 'xref_name': None, 'xref_src_db': 'EnsemblGene'}, {'xref_id': 'O60706', 'xref_name': None, 'xref_src_db': 'ExpressionAtlas'}, {'xref_id': 'GO:0005886', 'xref_name': 'plasma membrane', 'xref_src_db': 'GoComponent'}, {'xref_id': 'GO:0008282', 'xref_name': 'inward rectifying potassium channel', 'xref_src_db': 'GoComponent'}, {'xref_id': 'GO:0016020', 'xref_name': 'membrane', 'xref_src_db': 'GoComponent'}, {'xref_id': 'GO:0016021', 'xref_name': 'integral component of membrane', 'xref_src_db': 'GoComponent'}, {'xref_id': 'GO:0030017', 'xref_name': 'sarcomere', 'xref_src_db': 'GoComponent'}, {'xref_id': 'GO:0042383', 'xref_name': 'sarcolemma', 'xref_src_db': 'GoComponent'}, {'xref_id': 'GO:0000166', 'xref_name': 'nucleotide binding', 'xref_src_db': 'GoFunction'}, {'xref_id': 'GO:0005215', 'xref_name': 'transporter activity', 'xref_src_db': 'GoFunction'}, {'xref_id': 'GO:0005267', 'xref_name': 'potassium channel activity', 'xref_src_db': 'GoFunction'}, {'xref_id': 'GO:0005524', 'xref_name': 'ATP binding', 'xref_src_db': 'GoFunction'}, {'xref_id': 'GO:0008281', 'xref_name': 'sulfonylurea receptor activity', 'xref_src_db': 'GoFunction'}, {'xref_id': 'GO:0015459', 'xref_name': 'potassium channel regulator activity', 'xref_src_db': 'GoFunction'}, {'xref_id': 'GO:0016887', 'xref_name': 'ATPase activity', 'xref_src_db': 'GoFunction'}, {'xref_id': 'GO:0042626', 'xref_name': 'ATPase activity, coupled to transmembrane movement of substances', 'xref_src_db': 'GoFunction'}, {'xref_id': 'GO:0043225', 'xref_name': 'ATPase-coupled anion transmembrane transporter activity', 'xref_src_db': 'GoFunction'}, {'xref_id': 'GO:0044325', 'xref_name': 'ion channel binding', 'xref_src_db': 'GoFunction'}, {'xref_id': 'GO:0006813', 'xref_name': 'potassium ion transport', 'xref_src_db': 'GoProcess'}, {'xref_id': 'GO:0042493', 'xref_name': 'response to drug', 'xref_src_db': 'GoProcess'}, {'xref_id': 'GO:0051607', 'xref_name': 'defense response to virus', 'xref_src_db': 'GoProcess'}, {'xref_id': 'GO:0055085', 'xref_name': 'transmembrane transport', 'xref_src_db': 'GoProcess'}, {'xref_id': 'GO:0099133', 'xref_name': 'ATP hydrolysis coupled anion transmembrane transport', 'xref_src_db': 'GoProcess'}, {'xref_id': 'GO:1990573', 'xref_name': 'potassium ion import across plasma membrane', 'xref_src_db': 'GoProcess'}, {'xref_id': '2746', 'xref_name': None, 'xref_src_db': 'GuideToPHARMACOLOGY'}, {'xref_id': 'O60706', 'xref_name': None, 'xref_src_db': 'IntAct'}, {'xref_id': 'IPR000388', 'xref_name': 'Sulphorea_rcpt.', 'xref_src_db': 'InterPro'}, {'xref_id': 'IPR001475', 'xref_name': 'ABCC9.', 'xref_src_db': 'InterPro'}, {'xref_id': 'IPR003439', 'xref_name': 'ABC_transporter-like.', 'xref_src_db': 'InterPro'}, {'xref_id': 'IPR003593', 'xref_name': 'AAA+_ATPase.', 'xref_src_db': 'InterPro'}, {'xref_id': 'IPR011527', 'xref_name': 'ABC1_TM_dom.', 'xref_src_db': 'InterPro'}, {'xref_id': 'IPR017871', 'xref_name': 'ABC_transporter_CS.', 'xref_src_db': 'InterPro'}, {'xref_id': 'IPR027417', 'xref_name': 'P-loop_NTPase.', 'xref_src_db': 'InterPro'}, {'xref_id': 'IPR036640', 'xref_name': 'ABC1_TM_sf.', 'xref_src_db': 'InterPro'}, {'xref_id': 'PF00005', 'xref_name': 'ABC_tran', 'xref_src_db': 'Pfam'}, {'xref_id': 'PF00664', 'xref_name': 'ABC_membrane', 'xref_src_db': 'Pfam'}, {'xref_id': 'PA396', 'xref_name': 'ATP-binding cassette, sub-family C (CFTR/MRP), member 9', 'xref_src_db': 'PharmGKB'}, {'xref_id': 'R-HSA-1296025', 'xref_name': 'ATP sensitive Potassium channels.', 'xref_src_db': 'Reactome'}, {'xref_id': 'R-HSA-382556', 'xref_name': 'ABC-family proteins mediated transport.', 'xref_src_db': 'Reactome'}, {'xref_id': 'R-HSA-5578775', 'xref_name': 'Ion homeostasis.', 'xref_src_db': 'Reactome'}, {'xref_id': 'R-HSA-5678420', 'xref_name': 'Defective ABCC9 causes dilated cardiomyopathy 10, familial atrial fibrillation 12 and hypertrichotic osteochondrodysplasia.', 'xref_src_db': 'Reactome'}, {'xref_id': 'O60706', 'xref_name': None, 'xref_src_db': 'UniProt'}, {'xref_id': 'O60707', 'xref_name': None, 'xref_src_db': 'UniProt'}]}], 'target_type': 'SINGLE PROTEIN', 'tax_id': 9606}, {'cross_references': [{'xref_id': 'CGMP-specific_phosphodiesterase_type_5', 'xref_name': None, 'xref_src': 'Wikipedia'}], 'organism': 'Homo sapiens', 'pref_name': 'Phosphodiesterase 5A', 'species_group_flag': False, 'target_chembl_id': 'CHEMBL1827', 'target_components': [{'accession': 'O76074', 'component_description': \"cGMP-specific 3',5'-cyclic phosphodiesterase\", 'component_id': 124, 'component_type': 'PROTEIN', 'relationship': 'SINGLE PROTEIN', 'target_component_synonyms': [{'component_synonym': '3.1.4.35', 'syn_type': 'EC_NUMBER'}, {'component_synonym': 'CGB-PDE', 'syn_type': 'UNIPROT'}, {'component_synonym': 'PDE5', 'syn_type': 'GENE_SYMBOL_OTHER'}, {'component_synonym': 'PDE5A', 'syn_type': 'GENE_SYMBOL'}, {'component_synonym': 'cGMP-binding cGMP-specific phosphodiesterase', 'syn_type': 'UNIPROT'}, {'component_synonym': \"cGMP-specific 3',5'-cyclic phosphodiesterase\", 'syn_type': 'UNIPROT'}], 'target_component_xrefs': [{'xref_id': 'ENSG00000138735', 'xref_name': None, 'xref_src_db': 'EnsemblGene'}, {'xref_id': 'O76074', 'xref_name': None, 'xref_src_db': 'ExpressionAtlas'}, {'xref_id': 'GO:0005575', 'xref_name': 'cellular_component', 'xref_src_db': 'GoComponent'}, {'xref_id': 'GO:0005829', 'xref_name': 'cytosol', 'xref_src_db': 'GoComponent'}, {'xref_id': 'GO:0000166', 'xref_name': 'nucleotide binding', 'xref_src_db': 'GoFunction'}, {'xref_id': 'GO:0003824', 'xref_name': 'catalytic activity', 'xref_src_db': 'GoFunction'}, {'xref_id': 'GO:0004112', 'xref_name': 'cyclic-nucleotide phosphodiesterase activity', 'xref_src_db': 'GoFunction'}, {'xref_id': 'GO:0004114', 'xref_name': \"3',5'-cyclic-nucleotide phosphodiesterase activity\", 'xref_src_db': 'GoFunction'}, {'xref_id': 'GO:0005515', 'xref_name': 'protein binding', 'xref_src_db': 'GoFunction'}, {'xref_id': 'GO:0008081', 'xref_name': 'phosphoric diester hydrolase activity', 'xref_src_db': 'GoFunction'}, {'xref_id': 'GO:0016787', 'xref_name': 'hydrolase activity', 'xref_src_db': 'GoFunction'}, {'xref_id': 'GO:0030553', 'xref_name': 'cGMP binding', 'xref_src_db': 'GoFunction'}, {'xref_id': 'GO:0046872', 'xref_name': 'metal ion binding', 'xref_src_db': 'GoFunction'}, {'xref_id': 'GO:0047555', 'xref_name': \"3',5'-cyclic-GMP phosphodiesterase activity\", 'xref_src_db': 'GoFunction'}, {'xref_id': 'GO:0007165', 'xref_name': 'signal transduction', 'xref_src_db': 'GoProcess'}, {'xref_id': 'GO:0008152', 'xref_name': 'metabolic process', 'xref_src_db': 'GoProcess'}, {'xref_id': 'GO:0010613', 'xref_name': 'positive regulation of cardiac muscle hypertrophy', 'xref_src_db': 'GoProcess'}, {'xref_id': 'GO:0010749', 'xref_name': 'regulation of nitric oxide mediated signal transduction', 'xref_src_db': 'GoProcess'}, {'xref_id': 'GO:0042130', 'xref_name': 'negative regulation of T cell proliferation', 'xref_src_db': 'GoProcess'}, {'xref_id': 'GO:0043406', 'xref_name': 'positive regulation of MAP kinase activity', 'xref_src_db': 'GoProcess'}, {'xref_id': 'GO:0046068', 'xref_name': 'cGMP metabolic process', 'xref_src_db': 'GoProcess'}, {'xref_id': 'GO:0046069', 'xref_name': 'cGMP catabolic process', 'xref_src_db': 'GoProcess'}, {'xref_id': 'GO:0055118', 'xref_name': 'negative regulation of cardiac muscle contraction', 'xref_src_db': 'GoProcess'}, {'xref_id': 'GO:0055119', 'xref_name': 'relaxation of cardiac muscle', 'xref_src_db': 'GoProcess'}, {'xref_id': 'GO:0060282', 'xref_name': 'positive regulation of oocyte development', 'xref_src_db': 'GoProcess'}, {'xref_id': '1304', 'xref_name': None, 'xref_src_db': 'GuideToPHARMACOLOGY'}, {'xref_id': 'O76074', 'xref_name': None, 'xref_src_db': 'IntAct'}, {'xref_id': 'IPR002073', 'xref_name': 'PDEase_catalytic_dom.', 'xref_src_db': 'InterPro'}, {'xref_id': 'IPR003018', 'xref_name': 'GAF.', 'xref_src_db': 'InterPro'}, {'xref_id': 'IPR003607', 'xref_name': 'HD/PDEase_dom.', 'xref_src_db': 'InterPro'}, {'xref_id': 'IPR023088', 'xref_name': 'PDEase.', 'xref_src_db': 'InterPro'}, {'xref_id': 'IPR023174', 'xref_name': 'PDEase_CS.', 'xref_src_db': 'InterPro'}, {'xref_id': 'IPR029016', 'xref_name': 'GAF-like_dom_sf.', 'xref_src_db': 'InterPro'}, {'xref_id': 'IPR036971', 'xref_name': 'PDEase_catalytic_dom_sf.', 'xref_src_db': 'InterPro'}, {'xref_id': '1RKP', 'xref_name': 'A', 'xref_src_db': 'PDBe'}, {'xref_id': '1T9R', 'xref_name': 'A', 'xref_src_db': 'PDBe'}, {'xref_id': '1T9S', 'xref_name': 'A', 'xref_src_db': 'PDBe'}, {'xref_id': '1TBF', 'xref_name': 'A', 'xref_src_db': 'PDBe'}, {'xref_id': '1UDT', 'xref_name': 'A', 'xref_src_db': 'PDBe'}, {'xref_id': '1UDU', 'xref_name': 'A', 'xref_src_db': 'PDBe'}, {'xref_id': '1UHO', 'xref_name': 'A', 'xref_src_db': 'PDBe'}, {'xref_id': '1XOZ', 'xref_name': 'A', 'xref_src_db': 'PDBe'}, {'xref_id': '1XP0', 'xref_name': 'A', 'xref_src_db': 'PDBe'}, {'xref_id': '2CHM', 'xref_name': 'A', 'xref_src_db': 'PDBe'}, {'xref_id': '2H40', 'xref_name': 'A', 'xref_src_db': 'PDBe'}, {'xref_id': '2H42', 'xref_name': 'A', 'xref_src_db': 'PDBe'}, {'xref_id': '2H44', 'xref_name': 'A', 'xref_src_db': 'PDBe'}, {'xref_id': '2XSS', 'xref_name': 'A', 'xref_src_db': 'PDBe'}, {'xref_id': '3B2R', 'xref_name': 'A', 'xref_src_db': 'PDBe'}, {'xref_id': '3BJC', 'xref_name': 'A', 'xref_src_db': 'PDBe'}, {'xref_id': '3HC8', 'xref_name': 'A', 'xref_src_db': 'PDBe'}, {'xref_id': '3HDZ', 'xref_name': 'A', 'xref_src_db': 'PDBe'}, {'xref_id': '3JWQ', 'xref_name': 'A', 'xref_src_db': 'PDBe'}, {'xref_id': '3JWR', 'xref_name': 'A', 'xref_src_db': 'PDBe'}, {'xref_id': '3LFV', 'xref_name': 'A', 'xref_src_db': 'PDBe'}, {'xref_id': '3MF0', 'xref_name': 'A', 'xref_src_db': 'PDBe'}, {'xref_id': '3SHY', 'xref_name': 'A', 'xref_src_db': 'PDBe'}, {'xref_id': '3SHZ', 'xref_name': 'A', 'xref_src_db': 'PDBe'}, {'xref_id': '3SIE', 'xref_name': 'A', 'xref_src_db': 'PDBe'}, {'xref_id': '3TGE', 'xref_name': 'A', 'xref_src_db': 'PDBe'}, {'xref_id': '3TGG', 'xref_name': 'A', 'xref_src_db': 'PDBe'}, {'xref_id': '4G2W', 'xref_name': 'A', 'xref_src_db': 'PDBe'}, {'xref_id': '4G2Y', 'xref_name': 'A', 'xref_src_db': 'PDBe'}, {'xref_id': '4I9Z', 'xref_name': 'A', 'xref_src_db': 'PDBe'}, {'xref_id': '4IA0', 'xref_name': 'A', 'xref_src_db': 'PDBe'}, {'xref_id': '4MD6', 'xref_name': 'A', 'xref_src_db': 'PDBe'}, {'xref_id': '4OEW', 'xref_name': 'A', 'xref_src_db': 'PDBe'}, {'xref_id': '4OEX', 'xref_name': 'A', 'xref_src_db': 'PDBe'}, {'xref_id': '5JO3', 'xref_name': 'A', 'xref_src_db': 'PDBe'}, {'xref_id': '5ZZ2', 'xref_name': 'A', 'xref_src_db': 'PDBe'}, {'xref_id': '6ACB', 'xref_name': 'A', 'xref_src_db': 'PDBe'}, {'xref_id': 'PF00233', 'xref_name': 'PDEase_I', 'xref_src_db': 'Pfam'}, {'xref_id': 'PF01590', 'xref_name': 'GAF', 'xref_src_db': 'Pfam'}, {'xref_id': 'PA33132', 'xref_name': 'phosphodiesterase 5A, cGMP-specific', 'xref_src_db': 'PharmGKB'}, {'xref_id': 'R-HSA-418457', 'xref_name': 'cGMP effects.', 'xref_src_db': 'Reactome'}, {'xref_id': 'A0AV69', 'xref_name': None, 'xref_src_db': 'UniProt'}, {'xref_id': 'A8K2C4', 'xref_name': None, 'xref_src_db': 'UniProt'}, {'xref_id': 'O75026', 'xref_name': None, 'xref_src_db': 'UniProt'}, {'xref_id': 'O75887', 'xref_name': None, 'xref_src_db': 'UniProt'}, {'xref_id': 'O76074', 'xref_name': None, 'xref_src_db': 'UniProt'}, {'xref_id': 'Q86UI0', 'xref_name': None, 'xref_src_db': 'UniProt'}, {'xref_id': 'Q86V66', 'xref_name': None, 'xref_src_db': 'UniProt'}, {'xref_id': 'Q9Y6Z6', 'xref_name': None, 'xref_src_db': 'UniProt'}]}], 'target_type': 'SINGLE PROTEIN', 'tax_id': 9606}, {'cross_references': [{'xref_id': 'CACNA1H', 'xref_name': None, 'xref_src': 'Wikipedia'}, {'xref_id': 'O95180', 'xref_name': None, 'xref_src': 'canSAR-Target'}], 'organism': 'Homo sapiens', 'pref_name': 'Voltage-gated T-type calcium channel alpha-1H subunit', 'species_group_flag': False, 'target_chembl_id': 'CHEMBL1859', 'target_components': [{'accession': 'O95180', 'component_description': 'Voltage-dependent T-type calcium channel subunit alpha-1H', 'component_id': 167, 'component_type': 'PROTEIN', 'relationship': 'SINGLE PROTEIN', 'target_component_synonyms': [{'component_synonym': 'CACNA1H', 'syn_type': 'GENE_SYMBOL'}, {'component_synonym': 'Low-voltage-activated calcium channel alpha1 3.2 subunit', 'syn_type': 'UNIPROT'}, {'component_synonym': 'Voltage-dependent T-type calcium channel subunit alpha-1H', 'syn_type': 'UNIPROT'}, {'component_synonym': 'Voltage-gated calcium channel subunit alpha Cav3.2', 'syn_type': 'UNIPROT'}], 'target_component_xrefs': [{'xref_id': 'ENSG00000196557', 'xref_name': None, 'xref_src_db': 'EnsemblGene'}, {'xref_id': 'O95180', 'xref_name': None, 'xref_src_db': 'ExpressionAtlas'}, {'xref_id': 'GO:0005886', 'xref_name': 'plasma membrane', 'xref_src_db': 'GoComponent'}, {'xref_id': 'GO:0005887', 'xref_name': 'integral component of plasma membrane', 'xref_src_db': 'GoComponent'}, {'xref_id': 'GO:0005891', 'xref_name': 'voltage-gated calcium channel complex', 'xref_src_db': 'GoComponent'}, {'xref_id': 'GO:0016020', 'xref_name': 'membrane', 'xref_src_db': 'GoComponent'}, {'xref_id': 'GO:0016021', 'xref_name': 'integral component of membrane', 'xref_src_db': 'GoComponent'}, {'xref_id': 'GO:0005216', 'xref_name': 'ion channel activity', 'xref_src_db': 'GoFunction'}, {'xref_id': 'GO:0005244', 'xref_name': 'voltage-gated ion channel activity', 'xref_src_db': 'GoFunction'}, {'xref_id': 'GO:0005245', 'xref_name': 'voltage-gated calcium channel activity', 'xref_src_db': 'GoFunction'}, {'xref_id': 'GO:0005262', 'xref_name': 'calcium channel activity', 'xref_src_db': 'GoFunction'}, {'xref_id': 'GO:0005515', 'xref_name': 'protein binding', 'xref_src_db': 'GoFunction'}, {'xref_id': 'GO:0008332', 'xref_name': 'low voltage-gated calcium channel activity', 'xref_src_db': 'GoFunction'}, {'xref_id': 'GO:0046872', 'xref_name': 'metal ion binding', 'xref_src_db': 'GoFunction'}, {'xref_id': 'GO:0097110', 'xref_name': 'scaffold protein binding', 'xref_src_db': 'GoFunction'}, {'xref_id': 'GO:0006811', 'xref_name': 'ion transport', 'xref_src_db': 'GoProcess'}, {'xref_id': 'GO:0006816', 'xref_name': 'calcium ion transport', 'xref_src_db': 'GoProcess'}, {'xref_id': 'GO:0006936', 'xref_name': 'muscle contraction', 'xref_src_db': 'GoProcess'}, {'xref_id': 'GO:0007517', 'xref_name': 'muscle organ development', 'xref_src_db': 'GoProcess'}, {'xref_id': 'GO:0007520', 'xref_name': 'myoblast fusion', 'xref_src_db': 'GoProcess'}, {'xref_id': 'GO:0008016', 'xref_name': 'regulation of heart contraction', 'xref_src_db': 'GoProcess'}, {'xref_id': 'GO:0019228', 'xref_name': 'neuronal action potential', 'xref_src_db': 'GoProcess'}, {'xref_id': 'GO:0032342', 'xref_name': 'aldosterone biosynthetic process', 'xref_src_db': 'GoProcess'}, {'xref_id': 'GO:0032870', 'xref_name': 'cellular response to hormone stimulus', 'xref_src_db': 'GoProcess'}, {'xref_id': 'GO:0034651', 'xref_name': 'cortisol biosynthetic process', 'xref_src_db': 'GoProcess'}, {'xref_id': 'GO:0034765', 'xref_name': 'regulation of ion transmembrane transport', 'xref_src_db': 'GoProcess'}, {'xref_id': 'GO:0035865', 'xref_name': 'cellular response to potassium ion', 'xref_src_db': 'GoProcess'}, {'xref_id': 'GO:0042391', 'xref_name': 'regulation of membrane potential', 'xref_src_db': 'GoProcess'}, {'xref_id': 'GO:0045956', 'xref_name': 'positive regulation of calcium ion-dependent exocytosis', 'xref_src_db': 'GoProcess'}, {'xref_id': 'GO:0055085', 'xref_name': 'transmembrane transport', 'xref_src_db': 'GoProcess'}, {'xref_id': 'GO:0070509', 'xref_name': 'calcium ion import', 'xref_src_db': 'GoProcess'}, {'xref_id': 'GO:0070588', 'xref_name': 'calcium ion transmembrane transport', 'xref_src_db': 'GoProcess'}, {'xref_id': 'GO:0086010', 'xref_name': 'membrane depolarization during action potential', 'xref_src_db': 'GoProcess'}, {'xref_id': 'GO:0098662', 'xref_name': 'inorganic cation transmembrane transport', 'xref_src_db': 'GoProcess'}, {'xref_id': 'GO:2000344', 'xref_name': 'positive regulation of acrosome reaction', 'xref_src_db': 'GoProcess'}, {'xref_id': '536', 'xref_name': None, 'xref_src_db': 'GuideToPHARMACOLOGY'}, {'xref_id': 'O95180', 'xref_name': None, 'xref_src_db': 'IntAct'}, {'xref_id': 'IPR005445', 'xref_name': 'VDCC_T_a1.', 'xref_src_db': 'InterPro'}, {'xref_id': 'IPR005821', 'xref_name': 'Ion_trans_dom.', 'xref_src_db': 'InterPro'}, {'xref_id': 'IPR027359', 'xref_name': 'Volt_channel_dom_sf.', 'xref_src_db': 'InterPro'}, {'xref_id': 'PF00520', 'xref_name': 'Ion_trans', 'xref_src_db': 'Pfam'}, {'xref_id': 'PA380', 'xref_name': 'calcium channel, voltage-dependent, T type, alpha 1H subunit', 'xref_src_db': 'PharmGKB'}, {'xref_id': 'O95180', 'xref_name': 'Tclin', 'xref_src_db': 'Pharos'}, {'xref_id': 'R-HSA-419037', 'xref_name': 'NCAM1 interactions.', 'xref_src_db': 'Reactome'}, {'xref_id': 'B5ME00', 'xref_name': None, 'xref_src_db': 'UniProt'}, {'xref_id': 'F8WFD1', 'xref_name': None, 'xref_src_db': 'UniProt'}, {'xref_id': 'O95180', 'xref_name': None, 'xref_src_db': 'UniProt'}, {'xref_id': 'O95802', 'xref_name': None, 'xref_src_db': 'UniProt'}, {'xref_id': 'Q8WWI6', 'xref_name': None, 'xref_src_db': 'UniProt'}, {'xref_id': 'Q96QI6', 'xref_name': None, 'xref_src_db': 'UniProt'}, {'xref_id': 'Q96RZ9', 'xref_name': None, 'xref_src_db': 'UniProt'}, {'xref_id': 'Q9NYY4', 'xref_name': None, 'xref_src_db': 'UniProt'}, {'xref_id': 'Q9NYY5', 'xref_name': None, 'xref_src_db': 'UniProt'}]}], 'target_type': 'SINGLE PROTEIN', 'tax_id': 9606}]"
      ]
     },
     "execution_count": 32,
     "metadata": {},
     "output_type": "execute_result"
    }
   ],
   "source": [
    "records[:4]"
   ]
  },
  {
   "cell_type": "markdown",
   "metadata": {},
   "source": [
    "### ChEMBL ID\n",
    "\n",
    "Data on any target type may be obtained _via_ a lookup of its ChEMBL ID.\n"
   ]
  },
  {
   "cell_type": "code",
   "execution_count": 33,
   "metadata": {},
   "outputs": [],
   "source": [
    "# Receptor protein-tyrosine kinase erbB-2\n",
    "chembl_id = \"CHEMBL1824\""
   ]
  },
  {
   "cell_type": "code",
   "execution_count": 34,
   "metadata": {},
   "outputs": [
    {
     "data": {
      "text/plain": [
       "{'cross_references': [{'xref_id': 'NBK23144',\n",
       "   'xref_name': 'Human epidermal growth factor receptor 2 (HER2)',\n",
       "   'xref_src': 'MICAD'},\n",
       "  {'xref_id': 'HER2/neu', 'xref_name': None, 'xref_src': 'Wikipedia'},\n",
       "  {'xref_id': 'P04626', 'xref_name': None, 'xref_src': 'canSAR-Target'}],\n",
       " 'organism': 'Homo sapiens',\n",
       " 'pref_name': 'Receptor protein-tyrosine kinase erbB-2',\n",
       " 'species_group_flag': False,\n",
       " 'target_chembl_id': 'CHEMBL1824',\n",
       " 'target_components': [{'accession': 'P04626',\n",
       "   'component_description': 'Receptor tyrosine-protein kinase erbB-2',\n",
       "   'component_id': 120,\n",
       "   'component_type': 'PROTEIN',\n",
       "   'relationship': 'SINGLE PROTEIN',\n",
       "   'target_component_synonyms': [{'component_synonym': '2.7.10.1',\n",
       "     'syn_type': 'EC_NUMBER'},\n",
       "    {'component_synonym': 'CD_antigen=CD340', 'syn_type': 'UNIPROT'},\n",
       "    {'component_synonym': 'ERBB2', 'syn_type': 'GENE_SYMBOL'},\n",
       "    {'component_synonym': 'HER2', 'syn_type': 'GENE_SYMBOL_OTHER'},\n",
       "    {'component_synonym': 'MLN 19', 'syn_type': 'UNIPROT'},\n",
       "    {'component_synonym': 'MLN19', 'syn_type': 'GENE_SYMBOL_OTHER'},\n",
       "    {'component_synonym': 'Metastatic lymph node gene 19 protein',\n",
       "     'syn_type': 'UNIPROT'},\n",
       "    {'component_synonym': 'NEU', 'syn_type': 'GENE_SYMBOL_OTHER'},\n",
       "    {'component_synonym': 'NGL', 'syn_type': 'GENE_SYMBOL_OTHER'},\n",
       "    {'component_synonym': 'Proto-oncogene Neu', 'syn_type': 'UNIPROT'},\n",
       "    {'component_synonym': 'Proto-oncogene c-ErbB-2', 'syn_type': 'UNIPROT'},\n",
       "    {'component_synonym': 'Receptor tyrosine-protein kinase erbB-2',\n",
       "     'syn_type': 'UNIPROT'},\n",
       "    {'component_synonym': 'Tyrosine kinase-type cell surface receptor HER2',\n",
       "     'syn_type': 'UNIPROT'},\n",
       "    {'component_synonym': 'p185erbB2', 'syn_type': 'UNIPROT'}],\n",
       "   'target_component_xrefs': [{'xref_id': 'ENSG00000141736',\n",
       "     'xref_name': None,\n",
       "     'xref_src_db': 'EnsemblGene'},\n",
       "    {'xref_id': 'P04626', 'xref_name': None, 'xref_src_db': 'ExpressionAtlas'},\n",
       "    {'xref_id': 'GO:0005634',\n",
       "     'xref_name': 'nucleus',\n",
       "     'xref_src_db': 'GoComponent'},\n",
       "    {'xref_id': 'GO:0005737',\n",
       "     'xref_name': 'cytoplasm',\n",
       "     'xref_src_db': 'GoComponent'},\n",
       "    {'xref_id': 'GO:0005829',\n",
       "     'xref_name': 'cytosol',\n",
       "     'xref_src_db': 'GoComponent'},\n",
       "    {'xref_id': 'GO:0005886',\n",
       "     'xref_name': 'plasma membrane',\n",
       "     'xref_src_db': 'GoComponent'},\n",
       "    {'xref_id': 'GO:0005887',\n",
       "     'xref_name': 'integral component of plasma membrane',\n",
       "     'xref_src_db': 'GoComponent'},\n",
       "    {'xref_id': 'GO:0009925',\n",
       "     'xref_name': 'basal plasma membrane',\n",
       "     'xref_src_db': 'GoComponent'},\n",
       "    {'xref_id': 'GO:0010008',\n",
       "     'xref_name': 'endosome membrane',\n",
       "     'xref_src_db': 'GoComponent'},\n",
       "    {'xref_id': 'GO:0016020',\n",
       "     'xref_name': 'membrane',\n",
       "     'xref_src_db': 'GoComponent'},\n",
       "    {'xref_id': 'GO:0016021',\n",
       "     'xref_name': 'integral component of membrane',\n",
       "     'xref_src_db': 'GoComponent'},\n",
       "    {'xref_id': 'GO:0016323',\n",
       "     'xref_name': 'basolateral plasma membrane',\n",
       "     'xref_src_db': 'GoComponent'},\n",
       "    {'xref_id': 'GO:0016324',\n",
       "     'xref_name': 'apical plasma membrane',\n",
       "     'xref_src_db': 'GoComponent'},\n",
       "    {'xref_id': 'GO:0031410',\n",
       "     'xref_name': 'cytoplasmic vesicle',\n",
       "     'xref_src_db': 'GoComponent'},\n",
       "    {'xref_id': 'GO:0043209',\n",
       "     'xref_name': 'myelin sheath',\n",
       "     'xref_src_db': 'GoComponent'},\n",
       "    {'xref_id': 'GO:0043235',\n",
       "     'xref_name': 'receptor complex',\n",
       "     'xref_src_db': 'GoComponent'},\n",
       "    {'xref_id': 'GO:0048471',\n",
       "     'xref_name': 'perinuclear region of cytoplasm',\n",
       "     'xref_src_db': 'GoComponent'},\n",
       "    {'xref_id': 'GO:0000166',\n",
       "     'xref_name': 'nucleotide binding',\n",
       "     'xref_src_db': 'GoFunction'},\n",
       "    {'xref_id': 'GO:0001042',\n",
       "     'xref_name': 'RNA polymerase I core binding',\n",
       "     'xref_src_db': 'GoFunction'},\n",
       "    {'xref_id': 'GO:0004672',\n",
       "     'xref_name': 'protein kinase activity',\n",
       "     'xref_src_db': 'GoFunction'},\n",
       "    {'xref_id': 'GO:0004713',\n",
       "     'xref_name': 'protein tyrosine kinase activity',\n",
       "     'xref_src_db': 'GoFunction'},\n",
       "    {'xref_id': 'GO:0004714',\n",
       "     'xref_name': 'transmembrane receptor protein tyrosine kinase activity',\n",
       "     'xref_src_db': 'GoFunction'},\n",
       "    {'xref_id': 'GO:0004888',\n",
       "     'xref_name': 'transmembrane signaling receptor activity',\n",
       "     'xref_src_db': 'GoFunction'},\n",
       "    {'xref_id': 'GO:0005088',\n",
       "     'xref_name': 'Ras guanyl-nucleotide exchange factor activity',\n",
       "     'xref_src_db': 'GoFunction'},\n",
       "    {'xref_id': 'GO:0005515',\n",
       "     'xref_name': 'protein binding',\n",
       "     'xref_src_db': 'GoFunction'},\n",
       "    {'xref_id': 'GO:0005524',\n",
       "     'xref_name': 'ATP binding',\n",
       "     'xref_src_db': 'GoFunction'},\n",
       "    {'xref_id': 'GO:0008022',\n",
       "     'xref_name': 'protein C-terminus binding',\n",
       "     'xref_src_db': 'GoFunction'},\n",
       "    {'xref_id': 'GO:0016301',\n",
       "     'xref_name': 'kinase activity',\n",
       "     'xref_src_db': 'GoFunction'},\n",
       "    {'xref_id': 'GO:0016740',\n",
       "     'xref_name': 'transferase activity',\n",
       "     'xref_src_db': 'GoFunction'},\n",
       "    {'xref_id': 'GO:0019838',\n",
       "     'xref_name': 'growth factor binding',\n",
       "     'xref_src_db': 'GoFunction'},\n",
       "    {'xref_id': 'GO:0019903',\n",
       "     'xref_name': 'protein phosphatase binding',\n",
       "     'xref_src_db': 'GoFunction'},\n",
       "    {'xref_id': 'GO:0042802',\n",
       "     'xref_name': 'identical protein binding',\n",
       "     'xref_src_db': 'GoFunction'},\n",
       "    {'xref_id': 'GO:0043125',\n",
       "     'xref_name': 'ErbB-3 class receptor binding',\n",
       "     'xref_src_db': 'GoFunction'},\n",
       "    {'xref_id': 'GO:0046934',\n",
       "     'xref_name': 'phosphatidylinositol-4,5-bisphosphate 3-kinase activity',\n",
       "     'xref_src_db': 'GoFunction'},\n",
       "    {'xref_id': 'GO:0046982',\n",
       "     'xref_name': 'protein heterodimerization activity',\n",
       "     'xref_src_db': 'GoFunction'},\n",
       "    {'xref_id': 'GO:0046983',\n",
       "     'xref_name': 'protein dimerization activity',\n",
       "     'xref_src_db': 'GoFunction'},\n",
       "    {'xref_id': 'GO:0000165',\n",
       "     'xref_name': 'MAPK cascade',\n",
       "     'xref_src_db': 'GoProcess'},\n",
       "    {'xref_id': 'GO:0001934',\n",
       "     'xref_name': 'positive regulation of protein phosphorylation',\n",
       "     'xref_src_db': 'GoProcess'},\n",
       "    {'xref_id': 'GO:0006357',\n",
       "     'xref_name': 'regulation of transcription by RNA polymerase II',\n",
       "     'xref_src_db': 'GoProcess'},\n",
       "    {'xref_id': 'GO:0006468',\n",
       "     'xref_name': 'protein phosphorylation',\n",
       "     'xref_src_db': 'GoProcess'},\n",
       "    {'xref_id': 'GO:0007165',\n",
       "     'xref_name': 'signal transduction',\n",
       "     'xref_src_db': 'GoProcess'},\n",
       "    {'xref_id': 'GO:0007166',\n",
       "     'xref_name': 'cell surface receptor signaling pathway',\n",
       "     'xref_src_db': 'GoProcess'},\n",
       "    {'xref_id': 'GO:0007167',\n",
       "     'xref_name': 'enzyme linked receptor protein signaling pathway',\n",
       "     'xref_src_db': 'GoProcess'},\n",
       "    {'xref_id': 'GO:0007169',\n",
       "     'xref_name': 'transmembrane receptor protein tyrosine kinase signaling pathway',\n",
       "     'xref_src_db': 'GoProcess'},\n",
       "    {'xref_id': 'GO:0007399',\n",
       "     'xref_name': 'nervous system development',\n",
       "     'xref_src_db': 'GoProcess'},\n",
       "    {'xref_id': 'GO:0007422',\n",
       "     'xref_name': 'peripheral nervous system development',\n",
       "     'xref_src_db': 'GoProcess'},\n",
       "    {'xref_id': 'GO:0007507',\n",
       "     'xref_name': 'heart development',\n",
       "     'xref_src_db': 'GoProcess'},\n",
       "    {'xref_id': 'GO:0007528',\n",
       "     'xref_name': 'neuromuscular junction development',\n",
       "     'xref_src_db': 'GoProcess'},\n",
       "    {'xref_id': 'GO:0008045',\n",
       "     'xref_name': 'motor neuron axon guidance',\n",
       "     'xref_src_db': 'GoProcess'},\n",
       "    {'xref_id': 'GO:0008283',\n",
       "     'xref_name': 'cell proliferation',\n",
       "     'xref_src_db': 'GoProcess'},\n",
       "    {'xref_id': 'GO:0008284',\n",
       "     'xref_name': 'positive regulation of cell proliferation',\n",
       "     'xref_src_db': 'GoProcess'},\n",
       "    {'xref_id': 'GO:0010628',\n",
       "     'xref_name': 'positive regulation of gene expression',\n",
       "     'xref_src_db': 'GoProcess'},\n",
       "    {'xref_id': 'GO:0014065',\n",
       "     'xref_name': 'phosphatidylinositol 3-kinase signaling',\n",
       "     'xref_src_db': 'GoProcess'},\n",
       "    {'xref_id': 'GO:0016310',\n",
       "     'xref_name': 'phosphorylation',\n",
       "     'xref_src_db': 'GoProcess'},\n",
       "    {'xref_id': 'GO:0018108',\n",
       "     'xref_name': 'peptidyl-tyrosine phosphorylation',\n",
       "     'xref_src_db': 'GoProcess'},\n",
       "    {'xref_id': 'GO:0030182',\n",
       "     'xref_name': 'neuron differentiation',\n",
       "     'xref_src_db': 'GoProcess'},\n",
       "    {'xref_id': 'GO:0030307',\n",
       "     'xref_name': 'positive regulation of cell growth',\n",
       "     'xref_src_db': 'GoProcess'},\n",
       "    {'xref_id': 'GO:0032886',\n",
       "     'xref_name': 'regulation of microtubule-based process',\n",
       "     'xref_src_db': 'GoProcess'},\n",
       "    {'xref_id': 'GO:0033088',\n",
       "     'xref_name': 'negative regulation of immature T cell proliferation in thymus',\n",
       "     'xref_src_db': 'GoProcess'},\n",
       "    {'xref_id': 'GO:0035556',\n",
       "     'xref_name': 'intracellular signal transduction',\n",
       "     'xref_src_db': 'GoProcess'},\n",
       "    {'xref_id': 'GO:0038128',\n",
       "     'xref_name': 'ERBB2 signaling pathway',\n",
       "     'xref_src_db': 'GoProcess'},\n",
       "    {'xref_id': 'GO:0042060',\n",
       "     'xref_name': 'wound healing',\n",
       "     'xref_src_db': 'GoProcess'},\n",
       "    {'xref_id': 'GO:0042552',\n",
       "     'xref_name': 'myelination',\n",
       "     'xref_src_db': 'GoProcess'},\n",
       "    {'xref_id': 'GO:0043406',\n",
       "     'xref_name': 'positive regulation of MAP kinase activity',\n",
       "     'xref_src_db': 'GoProcess'},\n",
       "    {'xref_id': 'GO:0043410',\n",
       "     'xref_name': 'positive regulation of MAPK cascade',\n",
       "     'xref_src_db': 'GoProcess'},\n",
       "    {'xref_id': 'GO:0043547',\n",
       "     'xref_name': 'positive regulation of GTPase activity',\n",
       "     'xref_src_db': 'GoProcess'},\n",
       "    {'xref_id': 'GO:0045727',\n",
       "     'xref_name': 'positive regulation of translation',\n",
       "     'xref_src_db': 'GoProcess'},\n",
       "    {'xref_id': 'GO:0045765',\n",
       "     'xref_name': 'regulation of angiogenesis',\n",
       "     'xref_src_db': 'GoProcess'},\n",
       "    {'xref_id': 'GO:0045785',\n",
       "     'xref_name': 'positive regulation of cell adhesion',\n",
       "     'xref_src_db': 'GoProcess'},\n",
       "    {'xref_id': 'GO:0045943',\n",
       "     'xref_name': 'positive regulation of transcription by RNA polymerase I',\n",
       "     'xref_src_db': 'GoProcess'},\n",
       "    {'xref_id': 'GO:0046777',\n",
       "     'xref_name': 'protein autophosphorylation',\n",
       "     'xref_src_db': 'GoProcess'},\n",
       "    {'xref_id': 'GO:0046854',\n",
       "     'xref_name': 'phosphatidylinositol phosphorylation',\n",
       "     'xref_src_db': 'GoProcess'},\n",
       "    {'xref_id': 'GO:0048709',\n",
       "     'xref_name': 'oligodendrocyte differentiation',\n",
       "     'xref_src_db': 'GoProcess'},\n",
       "    {'xref_id': 'GO:0050679',\n",
       "     'xref_name': 'positive regulation of epithelial cell proliferation',\n",
       "     'xref_src_db': 'GoProcess'},\n",
       "    {'xref_id': 'GO:0051897',\n",
       "     'xref_name': 'positive regulation of protein kinase B signaling',\n",
       "     'xref_src_db': 'GoProcess'},\n",
       "    {'xref_id': 'GO:0070372',\n",
       "     'xref_name': 'regulation of ERK1 and ERK2 cascade',\n",
       "     'xref_src_db': 'GoProcess'},\n",
       "    {'xref_id': 'GO:0071363',\n",
       "     'xref_name': 'cellular response to growth factor stimulus',\n",
       "     'xref_src_db': 'GoProcess'},\n",
       "    {'xref_id': 'GO:0071364',\n",
       "     'xref_name': 'cellular response to epidermal growth factor stimulus',\n",
       "     'xref_src_db': 'GoProcess'},\n",
       "    {'xref_id': 'GO:0090314',\n",
       "     'xref_name': 'positive regulation of protein targeting to membrane',\n",
       "     'xref_src_db': 'GoProcess'},\n",
       "    {'xref_id': 'GO:1901185',\n",
       "     'xref_name': 'negative regulation of ERBB signaling pathway',\n",
       "     'xref_src_db': 'GoProcess'},\n",
       "    {'xref_id': 'GO:2000145',\n",
       "     'xref_name': 'regulation of cell motility',\n",
       "     'xref_src_db': 'GoProcess'},\n",
       "    {'xref_id': '2019',\n",
       "     'xref_name': None,\n",
       "     'xref_src_db': 'GuideToPHARMACOLOGY'},\n",
       "    {'xref_id': 'P04626', 'xref_name': None, 'xref_src_db': 'IntAct'},\n",
       "    {'xref_id': 'IPR000494',\n",
       "     'xref_name': 'Rcpt_L-dom.',\n",
       "     'xref_src_db': 'InterPro'},\n",
       "    {'xref_id': 'IPR000719',\n",
       "     'xref_name': 'Prot_kinase_dom.',\n",
       "     'xref_src_db': 'InterPro'},\n",
       "    {'xref_id': 'IPR001245',\n",
       "     'xref_name': 'Ser-Thr/Tyr_kinase_cat_dom.',\n",
       "     'xref_src_db': 'InterPro'},\n",
       "    {'xref_id': 'IPR006211',\n",
       "     'xref_name': 'Furin-like_Cys-rich_dom.',\n",
       "     'xref_src_db': 'InterPro'},\n",
       "    {'xref_id': 'IPR006212',\n",
       "     'xref_name': 'Furin_repeat.',\n",
       "     'xref_src_db': 'InterPro'},\n",
       "    {'xref_id': 'IPR008266',\n",
       "     'xref_name': 'Tyr_kinase_AS.',\n",
       "     'xref_src_db': 'InterPro'},\n",
       "    {'xref_id': 'IPR009030',\n",
       "     'xref_name': 'Growth_fac_rcpt_cys_sf.',\n",
       "     'xref_src_db': 'InterPro'},\n",
       "    {'xref_id': 'IPR011009',\n",
       "     'xref_name': 'Kinase-like_dom_sf.',\n",
       "     'xref_src_db': 'InterPro'},\n",
       "    {'xref_id': 'IPR016245',\n",
       "     'xref_name': 'Tyr_kinase_EGF/ERB/XmrK_rcpt.',\n",
       "     'xref_src_db': 'InterPro'},\n",
       "    {'xref_id': 'IPR017441',\n",
       "     'xref_name': 'Protein_kinase_ATP_BS.',\n",
       "     'xref_src_db': 'InterPro'},\n",
       "    {'xref_id': 'IPR020635',\n",
       "     'xref_name': 'Tyr_kinase_cat_dom.',\n",
       "     'xref_src_db': 'InterPro'},\n",
       "    {'xref_id': 'IPR032778',\n",
       "     'xref_name': 'GF_recep_IV.',\n",
       "     'xref_src_db': 'InterPro'},\n",
       "    {'xref_id': 'IPR036941',\n",
       "     'xref_name': 'Rcpt_L-dom_sf.',\n",
       "     'xref_src_db': 'InterPro'},\n",
       "    {'xref_id': '1MFG', 'xref_name': 'A', 'xref_src_db': 'PDBe'},\n",
       "    {'xref_id': '1MFL', 'xref_name': 'A', 'xref_src_db': 'PDBe'},\n",
       "    {'xref_id': '1N8Z', 'xref_name': 'A', 'xref_src_db': 'PDBe'},\n",
       "    {'xref_id': '1QR1', 'xref_name': 'A', 'xref_src_db': 'PDBe'},\n",
       "    {'xref_id': '1S78', 'xref_name': 'A', 'xref_src_db': 'PDBe'},\n",
       "    {'xref_id': '2A91', 'xref_name': 'A', 'xref_src_db': 'PDBe'},\n",
       "    {'xref_id': '3BE1', 'xref_name': 'A', 'xref_src_db': 'PDBe'},\n",
       "    {'xref_id': '3H3B', 'xref_name': 'A', 'xref_src_db': 'PDBe'},\n",
       "    {'xref_id': '3MZW', 'xref_name': 'A', 'xref_src_db': 'PDBe'},\n",
       "    {'xref_id': '3N85', 'xref_name': 'A', 'xref_src_db': 'PDBe'},\n",
       "    {'xref_id': '3PP0', 'xref_name': 'A', 'xref_src_db': 'PDBe'},\n",
       "    {'xref_id': '3RCD', 'xref_name': 'A', 'xref_src_db': 'PDBe'},\n",
       "    {'xref_id': '3WLW', 'xref_name': 'A', 'xref_src_db': 'PDBe'},\n",
       "    {'xref_id': '3WSQ', 'xref_name': 'A', 'xref_src_db': 'PDBe'},\n",
       "    {'xref_id': '4GFU', 'xref_name': 'A', 'xref_src_db': 'PDBe'},\n",
       "    {'xref_id': '4HRL', 'xref_name': 'A', 'xref_src_db': 'PDBe'},\n",
       "    {'xref_id': '4HRM', 'xref_name': 'A', 'xref_src_db': 'PDBe'},\n",
       "    {'xref_id': '4HRN', 'xref_name': 'A', 'xref_src_db': 'PDBe'},\n",
       "    {'xref_id': '5K33', 'xref_name': 'A', 'xref_src_db': 'PDBe'},\n",
       "    {'xref_id': '5KWG', 'xref_name': 'A', 'xref_src_db': 'PDBe'},\n",
       "    {'xref_id': '5MY6', 'xref_name': 'A', 'xref_src_db': 'PDBe'},\n",
       "    {'xref_id': '5O4G', 'xref_name': 'A', 'xref_src_db': 'PDBe'},\n",
       "    {'xref_id': '5TQS', 'xref_name': 'A', 'xref_src_db': 'PDBe'},\n",
       "    {'xref_id': '6ATT', 'xref_name': 'A', 'xref_src_db': 'PDBe'},\n",
       "    {'xref_id': 'PF00757', 'xref_name': 'Furin-like', 'xref_src_db': 'Pfam'},\n",
       "    {'xref_id': 'PF01030',\n",
       "     'xref_name': 'Recep_L_domain',\n",
       "     'xref_src_db': 'Pfam'},\n",
       "    {'xref_id': 'PF07714', 'xref_name': 'Pkinase_Tyr', 'xref_src_db': 'Pfam'},\n",
       "    {'xref_id': 'PF14843', 'xref_name': 'GF_recep_IV', 'xref_src_db': 'Pfam'},\n",
       "    {'xref_id': 'PA27844',\n",
       "     'xref_name': 'v-erb-b2 erythroblastic leukemia viral oncogene homolog 2, neuro/glioblastoma derived oncogene homolog (avian)',\n",
       "     'xref_src_db': 'PharmGKB'},\n",
       "    {'xref_id': 'P04626', 'xref_name': 'Tclin', 'xref_src_db': 'Pharos'},\n",
       "    {'xref_id': 'R-HSA-1227986',\n",
       "     'xref_name': 'Signaling by ERBB2.',\n",
       "     'xref_src_db': 'Reactome'},\n",
       "    {'xref_id': 'R-HSA-1250196',\n",
       "     'xref_name': 'SHC1 events in ERBB2 signaling.',\n",
       "     'xref_src_db': 'Reactome'},\n",
       "    {'xref_id': 'R-HSA-1251932',\n",
       "     'xref_name': 'PLCG1 events in ERBB2 signaling.',\n",
       "     'xref_src_db': 'Reactome'},\n",
       "    {'xref_id': 'R-HSA-1257604',\n",
       "     'xref_name': 'PIP3 activates AKT signaling.',\n",
       "     'xref_src_db': 'Reactome'},\n",
       "    {'xref_id': 'R-HSA-1306955',\n",
       "     'xref_name': 'GRB7 events in ERBB2 signaling.',\n",
       "     'xref_src_db': 'Reactome'},\n",
       "    {'xref_id': 'R-HSA-1358803',\n",
       "     'xref_name': 'Downregulation of ERBB2:ERBB3 signaling.',\n",
       "     'xref_src_db': 'Reactome'},\n",
       "    {'xref_id': 'R-HSA-1963640',\n",
       "     'xref_name': 'GRB2 events in ERBB2 signaling.',\n",
       "     'xref_src_db': 'Reactome'},\n",
       "    {'xref_id': 'R-HSA-1963642',\n",
       "     'xref_name': 'PI3K events in ERBB2 signaling.',\n",
       "     'xref_src_db': 'Reactome'},\n",
       "    {'xref_id': 'R-HSA-2219530',\n",
       "     'xref_name': 'Constitutive Signaling by Aberrant PI3K in Cancer.',\n",
       "     'xref_src_db': 'Reactome'},\n",
       "    {'xref_id': 'R-HSA-416572',\n",
       "     'xref_name': 'Sema4D induced cell migration and growth-cone collapse.',\n",
       "     'xref_src_db': 'Reactome'},\n",
       "    {'xref_id': 'R-HSA-5673001',\n",
       "     'xref_name': 'RAF/MAP kinase cascade.',\n",
       "     'xref_src_db': 'Reactome'},\n",
       "    {'xref_id': 'R-HSA-6785631',\n",
       "     'xref_name': 'ERBB2 Regulates Cell Motility.',\n",
       "     'xref_src_db': 'Reactome'},\n",
       "    {'xref_id': 'R-HSA-6811558',\n",
       "     'xref_name': 'PI5P, PP2A and IER3 Regulate PI3K/AKT Signaling.',\n",
       "     'xref_src_db': 'Reactome'},\n",
       "    {'xref_id': 'R-HSA-8847993',\n",
       "     'xref_name': 'ERBB2 Activates PTK6 Signaling.',\n",
       "     'xref_src_db': 'Reactome'},\n",
       "    {'xref_id': 'R-HSA-8863795',\n",
       "     'xref_name': 'Downregulation of ERBB2 signaling.',\n",
       "     'xref_src_db': 'Reactome'},\n",
       "    {'xref_id': 'R-HSA-8866910',\n",
       "     'xref_name': 'TFAP2 (AP-2) family regulates transcription of growth factors and their receptors.',\n",
       "     'xref_src_db': 'Reactome'},\n",
       "    {'xref_id': 'B2RZG3', 'xref_name': None, 'xref_src_db': 'UniProt'},\n",
       "    {'xref_id': 'B4DHN3', 'xref_name': None, 'xref_src_db': 'UniProt'},\n",
       "    {'xref_id': 'P04626', 'xref_name': None, 'xref_src_db': 'UniProt'},\n",
       "    {'xref_id': 'Q14256', 'xref_name': None, 'xref_src_db': 'UniProt'},\n",
       "    {'xref_id': 'Q6LDV1', 'xref_name': None, 'xref_src_db': 'UniProt'},\n",
       "    {'xref_id': 'Q9UMK4', 'xref_name': None, 'xref_src_db': 'UniProt'},\n",
       "    {'xref_id': 'X5D2V5', 'xref_name': None, 'xref_src_db': 'UniProt'}]}],\n",
       " 'target_type': 'SINGLE PROTEIN',\n",
       " 'tax_id': 9606}"
      ]
     },
     "execution_count": 34,
     "metadata": {},
     "output_type": "execute_result"
    }
   ],
   "source": [
    "record = new_client.target.get(chembl_id)\n",
    "record"
   ]
  },
  {
   "cell_type": "markdown",
   "metadata": {},
   "source": [
    "Remember that all targets have ChEMBL IDs, not just proteins..."
   ]
  },
  {
   "cell_type": "code",
   "execution_count": 35,
   "metadata": {},
   "outputs": [],
   "source": [
    "# SK-BR-3, a cell line over-expressing erbB-2\n",
    "chembl_id = \"CHEMBL613834\" "
   ]
  },
  {
   "cell_type": "code",
   "execution_count": 36,
   "metadata": {},
   "outputs": [
    {
     "data": {
      "text/plain": [
       "{'cross_references': [],\n",
       " 'organism': 'Homo sapiens',\n",
       " 'pref_name': 'SK-BR-3',\n",
       " 'species_group_flag': False,\n",
       " 'target_chembl_id': 'CHEMBL613834',\n",
       " 'target_components': [],\n",
       " 'target_type': 'CELL-LINE',\n",
       " 'tax_id': 9606}"
      ]
     },
     "execution_count": 36,
     "metadata": {},
     "output_type": "execute_result"
    }
   ],
   "source": [
    "record = new_client.target.get(chembl_id)\n",
    "record"
   ]
  },
  {
   "cell_type": "markdown",
   "metadata": {},
   "source": [
    "### UniProt ID\n",
    "\n",
    "Data on protein targets may also be obtained using UniProt ID."
   ]
  },
  {
   "cell_type": "code",
   "execution_count": 37,
   "metadata": {},
   "outputs": [],
   "source": [
    "# UniProt ID for erbB-2, a target of Lapatinib\n",
    "uniprot_id = \"P04626\""
   ]
  },
  {
   "cell_type": "code",
   "execution_count": 38,
   "metadata": {},
   "outputs": [
    {
     "name": "stdout",
     "output_type": "stream",
     "text": [
      "[('CHEMBL1824', 'Receptor protein-tyrosine kinase erbB-2'), ('CHEMBL2111431', 'Epidermal growth factor receptor and ErbB2 (HER1 and HER2)'), ('CHEMBL2363049', 'Epidermal growth factor receptor'), ('CHEMBL4106134', 'FASN/HER2')]\n"
     ]
    }
   ],
   "source": [
    "records = new_client.target.filter(target_components__accession=uniprot_id)\n",
    "print([(x['target_chembl_id'], x['pref_name']) for x in records])"
   ]
  },
  {
   "cell_type": "markdown",
   "metadata": {},
   "source": [
    "### Bioactivities\n",
    "\n",
    "All bioactivities for a target may be retrieved."
   ]
  },
  {
   "cell_type": "code",
   "execution_count": 39,
   "metadata": {},
   "outputs": [],
   "source": [
    "# Receptor protein-tyrosine kinase erbB-2\n",
    "chembl_id = \"CHEMBL1824\""
   ]
  },
  {
   "cell_type": "code",
   "execution_count": 40,
   "metadata": {},
   "outputs": [
    {
     "data": {
      "text/plain": [
       "6784"
      ]
     },
     "execution_count": 40,
     "metadata": {},
     "output_type": "execute_result"
    }
   ],
   "source": [
    "records = new_client.activity.filter(target_chembl_id=chembl_id)\n",
    "len(records)"
   ]
  },
  {
   "cell_type": "markdown",
   "metadata": {},
   "source": [
    "### Approved Drugs\n",
    "\n",
    "The approved drugs for a target may be retrieved."
   ]
  },
  {
   "cell_type": "code",
   "execution_count": 41,
   "metadata": {},
   "outputs": [],
   "source": [
    "# Receptor protein-tyrosine kinase erbB-2\n",
    "chembl_id = \"CHEMBL1824\""
   ]
  },
  {
   "cell_type": "code",
   "execution_count": 42,
   "metadata": {},
   "outputs": [
    {
     "name": "stdout",
     "output_type": "stream",
     "text": [
      "CHEMBL180022 : NERATINIB\n",
      "CHEMBL1201179 : LAPATINIB DITOSYLATE\n",
      "CHEMBL1201585 : TRASTUZUMAB\n",
      "CHEMBL1743082 : TRASTUZUMAB EMTANSINE\n",
      "CHEMBL2007641 : PERTUZUMAB\n",
      "CHEMBL2105712 : AFATINIB DIMALEATE\n"
     ]
    }
   ],
   "source": [
    "activities = new_client.mechanism.filter(target_chembl_id=chembl_id)\n",
    "compound_ids = [x['molecule_chembl_id'] for x in activities]\n",
    "approved_drugs = new_client.molecule.filter(molecule_chembl_id__in=compound_ids).filter(max_phase=4)\n",
    "\n",
    "for record in approved_drugs:\n",
    "    print(\"{:10s} : {}\".format(record[\"molecule_chembl_id\"], record[\"pref_name\"]))"
   ]
  },
  {
   "cell_type": "markdown",
   "metadata": {},
   "source": [
    "### Assay details\n",
    "\n",
    "Details of an assay may be retrieved _via_ its ChEMBL ID."
   ]
  },
  {
   "cell_type": "code",
   "execution_count": 43,
   "metadata": {},
   "outputs": [],
   "source": [
    "# Inhibitory activity against epidermal growth factor receptor\n",
    "chembl_id = \"CHEMBL674106\""
   ]
  },
  {
   "cell_type": "code",
   "execution_count": 44,
   "metadata": {},
   "outputs": [
    {
     "data": {
      "text/plain": [
       "{'assay_category': None,\n",
       " 'assay_cell_type': None,\n",
       " 'assay_chembl_id': 'CHEMBL674106',\n",
       " 'assay_classifications': [],\n",
       " 'assay_organism': None,\n",
       " 'assay_parameters': [],\n",
       " 'assay_strain': None,\n",
       " 'assay_subcellular_fraction': None,\n",
       " 'assay_tax_id': None,\n",
       " 'assay_test_type': None,\n",
       " 'assay_tissue': None,\n",
       " 'assay_type': 'B',\n",
       " 'assay_type_description': 'Binding',\n",
       " 'bao_format': 'BAO_0000357',\n",
       " 'bao_label': 'single protein format',\n",
       " 'cell_chembl_id': None,\n",
       " 'confidence_description': 'Homologous single protein target assigned',\n",
       " 'confidence_score': 8,\n",
       " 'description': 'Inhibitory activity against epidermal growth factor receptor',\n",
       " 'document_chembl_id': 'CHEMBL1146682',\n",
       " 'relationship_description': 'Homologous protein target assigned',\n",
       " 'relationship_type': 'H',\n",
       " 'src_assay_id': None,\n",
       " 'src_id': 1,\n",
       " 'target_chembl_id': 'CHEMBL203',\n",
       " 'tissue_chembl_id': None}"
      ]
     },
     "execution_count": 44,
     "metadata": {},
     "output_type": "execute_result"
    }
   ],
   "source": [
    "record = new_client.assay.get(chembl_id)\n",
    "record"
   ]
  },
  {
   "cell_type": "markdown",
   "metadata": {},
   "source": [
    "### Bioactivities\n",
    "\n",
    "All bioactivity records for an assay may be requested."
   ]
  },
  {
   "cell_type": "code",
   "execution_count": 45,
   "metadata": {},
   "outputs": [
    {
     "data": {
      "text/plain": [
       "(16,\n",
       " [{'activity_comment': None, 'activity_id': 183887, 'activity_properties': [], 'assay_chembl_id': 'CHEMBL674106', 'assay_description': 'Inhibitory activity against epidermal growth factor receptor', 'assay_type': 'B', 'bao_endpoint': 'BAO_0000190', 'bao_format': 'BAO_0000357', 'bao_label': 'single protein format', 'canonical_smiles': 'Oc1ccc2ncnc(Nc3ccc(OCc4ccccc4)cc3)c2c1', 'data_validity_comment': None, 'data_validity_description': None, 'document_chembl_id': 'CHEMBL1146682', 'document_journal': 'Bioorg. Med. Chem. Lett.', 'document_year': 2004, 'ligand_efficiency': {'bei': '20.41', 'le': '0.37', 'lle': '2.35', 'sei': '10.42'}, 'molecule_chembl_id': 'CHEMBL14932', 'molecule_pref_name': None, 'parent_molecule_chembl_id': 'CHEMBL14932', 'pchembl_value': '7.01', 'potential_duplicate': True, 'qudt_units': 'http://www.openphacts.org/units/Nanomolar', 'record_id': 15404, 'relation': '=', 'src_id': 1, 'standard_flag': True, 'standard_relation': '=', 'standard_text_value': None, 'standard_type': 'IC50', 'standard_units': 'nM', 'standard_upper_value': None, 'standard_value': '98', 'target_chembl_id': 'CHEMBL203', 'target_organism': 'Homo sapiens', 'target_pref_name': 'Epidermal growth factor receptor erbB1', 'target_tax_id': '9606', 'text_value': None, 'toid': None, 'type': 'IC50', 'units': 'nM', 'uo_units': 'UO_0000065', 'upper_value': None, 'value': '98'}, {'activity_comment': None, 'activity_id': 186628, 'activity_properties': [], 'assay_chembl_id': 'CHEMBL674106', 'assay_description': 'Inhibitory activity against epidermal growth factor receptor', 'assay_type': 'B', 'bao_endpoint': 'BAO_0000190', 'bao_format': 'BAO_0000357', 'bao_label': 'single protein format', 'canonical_smiles': 'COCCOc1cc2ncnc(Nc3cccc(c3)C#C)c2cc1OCCOC', 'data_validity_comment': None, 'data_validity_description': None, 'document_chembl_id': 'CHEMBL1146682', 'document_journal': 'Bioorg. Med. Chem. Lett.', 'document_year': 2004, 'ligand_efficiency': {'bei': '22.88', 'le': '0.42', 'lle': '5.59', 'sei': '12.04'}, 'molecule_chembl_id': 'CHEMBL553', 'molecule_pref_name': 'ERLOTINIB', 'parent_molecule_chembl_id': 'CHEMBL553', 'pchembl_value': '9', 'potential_duplicate': True, 'qudt_units': 'http://www.openphacts.org/units/Nanomolar', 'record_id': 15410, 'relation': '=', 'src_id': 1, 'standard_flag': True, 'standard_relation': '=', 'standard_text_value': None, 'standard_type': 'IC50', 'standard_units': 'nM', 'standard_upper_value': None, 'standard_value': '1', 'target_chembl_id': 'CHEMBL203', 'target_organism': 'Homo sapiens', 'target_pref_name': 'Epidermal growth factor receptor erbB1', 'target_tax_id': '9606', 'text_value': None, 'toid': None, 'type': 'IC50', 'units': 'uM', 'uo_units': 'UO_0000065', 'upper_value': None, 'value': '0.001'}])"
      ]
     },
     "execution_count": 45,
     "metadata": {},
     "output_type": "execute_result"
    }
   ],
   "source": [
    "records = new_client.activity.filter(assay_chembl_id=chembl_id)\n",
    "len(records), records[:2]"
   ]
  },
  {
   "cell_type": "markdown",
   "metadata": {},
   "source": [
    "## Other resources\n",
    "\n",
    "As noted previously, there are many other resources that can be useful. They won't be covered in this document in a great detail but some examples may be helpful."
   ]
  },
  {
   "cell_type": "code",
   "execution_count": 46,
   "metadata": {},
   "outputs": [
    {
     "name": "stdout",
     "output_type": "stream",
     "text": [
      "[{'abstract': '', 'authors': 'Estenne G, Dodey P, Renaut P, Leclerc G', 'doc_type': 'PUBLICATION', 'document_chembl_id': 'CHEMBL1128135', 'doi': '10.1016/0960-894X(94)00451-K', 'doi_chembl': None, 'first_page': '15', 'issue': '1', 'journal': 'Bioorg. Med. Chem. Lett.', 'journal_full_title': 'Bioorganic & medicinal chemistry letters.', 'last_page': '18', 'patent_id': None, 'pubmed_id': None, 'src_id': 1, 'title': 'Synthesis and biological evaluation of new arylthiophene analogs of DuP 753', 'volume': '5', 'year': 1995}, {'abstract': '', 'authors': 'Hill DT, Girard GR, Weinstock J, Edwards RM, Weidley EF, Ohlstein E, Peishoff CE, Baker E, Aiyar N', 'doc_type': 'PUBLICATION', 'document_chembl_id': 'CHEMBL1128136', 'doi': '10.1016/0960-894X(94)00456-P', 'doi_chembl': None, 'first_page': '19', 'issue': '1', 'journal': 'Bioorg. Med. Chem. Lett.', 'journal_full_title': 'Bioorganic & medicinal chemistry letters.', 'last_page': '24', 'patent_id': None, 'pubmed_id': None, 'src_id': 1, 'title': 'and -N-[(1-benzyl-1H-imidazol-5-yl)-alkyl]-amino acids as angiotensin II AT-1 antagonists', 'volume': '5', 'year': 1995}, {'abstract': '', 'authors': 'Cornish JA, Murray H, Kemp GD, Gani D', 'doc_type': 'PUBLICATION', 'document_chembl_id': 'CHEMBL1150533', 'doi': '10.1016/0960-894X(94)00452-L', 'doi_chembl': None, 'first_page': '25', 'issue': '1', 'journal': 'Bioorg. Med. Chem. Lett.', 'journal_full_title': 'Bioorganic & medicinal chemistry letters.', 'last_page': '30', 'patent_id': None, 'pubmed_id': None, 'src_id': 1, 'title': 'Inhibitors of the adenovirus type 2 proteinase based on substrate-like tetrapeptide nitriles', 'volume': '5', 'year': 1995}, {'abstract': '', 'authors': 'Kosaka T, Ochiai K, Ohba S, Wakabayashi T, Murota S', 'doc_type': 'PUBLICATION', 'document_chembl_id': 'CHEMBL1128137', 'doi': '10.1016/0960-894X(94)00449-P', 'doi_chembl': None, 'first_page': '35', 'issue': '1', 'journal': 'Bioorg. Med. Chem. Lett.', 'journal_full_title': 'Bioorganic & medicinal chemistry letters.', 'last_page': '38', 'patent_id': None, 'pubmed_id': None, 'src_id': 1, 'title': 'A novel series of highly potent 5-lipoxygenase inhibitors; 2-aryldienylbenzoxazoles', 'volume': '5', 'year': 1995}, '...(remaining elements truncated)...']\n"
     ]
    }
   ],
   "source": [
    "# Documents - retrieve all publications published after 1985 in 5th volume.\n",
    "print(new_client.document.filter(doc_type='PUBLICATION').filter(year__gt=1985).filter(volume=5))"
   ]
  },
  {
   "cell_type": "code",
   "execution_count": 47,
   "metadata": {},
   "outputs": [
    {
     "name": "stdout",
     "output_type": "stream",
     "text": [
      "{'cell_chembl_id': 'CHEMBL3307242', 'cell_description': 'P3HR-1', 'cell_id': 2, 'cell_name': 'P3HR-1', 'cell_source_organism': 'Homo sapiens', 'cell_source_tax_id': 9606, 'cell_source_tissue': 'Lyphoma', 'cellosaurus_id': 'CVCL_2676', 'cl_lincs_id': 'LCL-2024', 'clo_id': 'CLO_0008331', 'efo_id': 'EFO_0002312'}\n"
     ]
    }
   ],
   "source": [
    "# Cell lines:\n",
    "print(new_client.cell_line.get('CHEMBL3307242'))"
   ]
  },
  {
   "cell_type": "code",
   "execution_count": 48,
   "metadata": {},
   "outputs": [
    {
     "name": "stdout",
     "output_type": "stream",
     "text": [
      "[{'l1': 'Enzyme', 'l2': 'Kinase', 'l3': 'Protein Kinase', 'l4': 'CAMK protein kinase group', 'l5': 'CAMK protein kinase CAMK1 family', 'l6': 'CAMK protein kinase AMPK subfamily', 'l7': None, 'l8': None, 'protein_class_id': 409}]\n"
     ]
    }
   ],
   "source": [
    "# Protein class:\n",
    "print(new_client.protein_class.filter(l6=\"CAMK protein kinase AMPK subfamily\"))"
   ]
  },
  {
   "cell_type": "code",
   "execution_count": 49,
   "metadata": {},
   "outputs": [
    {
     "name": "stdout",
     "output_type": "stream",
     "text": [
      "[{'src_description': 'Gene Expression Atlas Compounds', 'src_id': 26, 'src_short_name': 'ATLAS'}]\n"
     ]
    }
   ],
   "source": [
    "# Source:\n",
    "print(new_client.source.filter(src_short_name=\"ATLAS\"))"
   ]
  },
  {
   "cell_type": "code",
   "execution_count": 50,
   "metadata": {},
   "outputs": [
    {
     "name": "stdout",
     "output_type": "stream",
     "text": [
      "{'accession': 'Q72547', 'component_id': 375, 'component_type': 'PROTEIN', 'description': 'Reverse transcriptase/RNaseH', 'go_slims': [{'go_id': 'GO:0003676'}, {'go_id': 'GO:0004518'}, {'go_id': 'GO:0006259'}, {'go_id': 'GO:0009058'}, {'go_id': 'GO:0016740'}, {'go_id': 'GO:0016779'}, {'go_id': 'GO:0034641'}, {'go_id': 'GO:0042802'}, {'go_id': 'GO:0043167'}], 'organism': 'Human immunodeficiency virus 1', 'protein_classifications': [{'protein_classification_id': 646}], 'sequence': 'PISPIETVPVKLKPGMDGPKVKQWPLTEEKIKALVEICTEMEKEGKISKIGPENPYNTPVFAIKKKDSTKWRKLVDFRELNKRTQDFWEVQLGIPHPAGLKKRKSVTVLDVGDAYFSVPLDEDFRKYTAFTIPSINNETPGIRYQYNVLPQGWKGSPAIFQSSMTKILEPFRKQNPDIVIYQYMDDLYVGSDLEIGQHRTKIEELRQHLLRWGLTTPDKKHQKEPPFLWMGYELHPDKWTVQPIVLPEKDSWTVNDIQKLVGKLNWASQIYPGIRVRQLCKLLRGTKALTEVIPLTEEAELELAENREILKEPVHGVYYDPSKDLIAEIQKQGQGQWTYQIYQEPFKNLRTGKYARMRGAHTNDVKQLTEAVQKITTESIVIWGKTPKFKLPIQKETWETWWTEYWQATWIPEWEFVNTPPLVKLWYQLEKEPIVGAETFYVDGAANRETKLGKAGYVTNRGRQKVVTLTDTTNQKTELQAIYLALQDSGLEVNIVTDSQYALGIIQAQPDQSESELVNQIIEQLIKKEKVYLAWVPAHKGIGGNEQVDKLVSAGIRKVLFLDGID', 'target_component_synonyms': [{'component_synonym': 'Reverse transcriptase/RNaseH', 'syn_type': 'UNIPROT'}, {'component_synonym': 'pol', 'syn_type': 'GENE_SYMBOL'}], 'target_component_xrefs': [{'xref_id': 'GO:0003676', 'xref_name': 'nucleic acid binding', 'xref_src_db': 'GoFunction'}, {'xref_id': 'GO:0003964', 'xref_name': 'RNA-directed DNA polymerase activity', 'xref_src_db': 'GoFunction'}, {'xref_id': 'GO:0004523', 'xref_name': 'RNA-DNA hybrid ribonuclease activity', 'xref_src_db': 'GoFunction'}, {'xref_id': 'GO:0016740', 'xref_name': 'transferase activity', 'xref_src_db': 'GoFunction'}, {'xref_id': 'GO:0016779', 'xref_name': 'nucleotidyltransferase activity', 'xref_src_db': 'GoFunction'}, {'xref_id': 'GO:0042802', 'xref_name': 'identical protein binding', 'xref_src_db': 'GoFunction'}, {'xref_id': 'GO:0046872', 'xref_name': 'metal ion binding', 'xref_src_db': 'GoFunction'}, {'xref_id': 'GO:0006278', 'xref_name': 'RNA-dependent DNA biosynthetic process', 'xref_src_db': 'GoProcess'}, {'xref_id': 'GO:0090502', 'xref_name': 'RNA phosphodiester bond hydrolysis, endonucleolytic', 'xref_src_db': 'GoProcess'}, {'xref_id': 'Q72547', 'xref_name': None, 'xref_src_db': 'IntAct'}, {'xref_id': 'IPR000477', 'xref_name': 'RT_dom.', 'xref_src_db': 'InterPro'}, {'xref_id': 'IPR002156', 'xref_name': 'RNaseH_domain.', 'xref_src_db': 'InterPro'}, {'xref_id': 'IPR010659', 'xref_name': 'RVT_connect.', 'xref_src_db': 'InterPro'}, {'xref_id': 'IPR010661', 'xref_name': 'RVT_thumb.', 'xref_src_db': 'InterPro'}, {'xref_id': 'IPR012337', 'xref_name': 'RNaseH-like_sf.', 'xref_src_db': 'InterPro'}, {'xref_id': 'IPR036397', 'xref_name': 'RNaseH_sf.', 'xref_src_db': 'InterPro'}, {'xref_id': '2JLE', 'xref_name': 'A', 'xref_src_db': 'PDBe'}, {'xref_id': '3HYF', 'xref_name': 'A', 'xref_src_db': 'PDBe'}, {'xref_id': 'PF00075', 'xref_name': 'RNase_H', 'xref_src_db': 'Pfam'}, {'xref_id': 'PF00078', 'xref_name': 'RVT_1', 'xref_src_db': 'Pfam'}, {'xref_id': 'PF06815', 'xref_name': 'RVT_connect', 'xref_src_db': 'Pfam'}, {'xref_id': 'PF06817', 'xref_name': 'RVT_thumb', 'xref_src_db': 'Pfam'}, {'xref_id': 'Q72547', 'xref_name': None, 'xref_src_db': 'UniProt'}], 'targets': [{'target_chembl_id': 'CHEMBL247'}], 'tax_id': 11676}\n"
     ]
    }
   ],
   "source": [
    "# Target component:\n",
    "print(new_client.target_component.get(375))"
   ]
  },
  {
   "cell_type": "code",
   "execution_count": 51,
   "metadata": {},
   "outputs": [
    {
     "name": "stdout",
     "output_type": "stream",
     "text": [
      "COMPOUND\n"
     ]
    }
   ],
   "source": [
    "# ChEMBL ID Lookup: check if CHEMBL1 is a molecule, assay or target:\n",
    "print(new_client.chembl_id_lookup.get(\"CHEMBL1\")['entity_type'])"
   ]
  },
  {
   "cell_type": "code",
   "execution_count": 52,
   "metadata": {},
   "outputs": [
    {
     "name": "stdout",
     "output_type": "stream",
     "text": [
      "{'level1': 'H', 'level1_description': 'SYSTEMIC HORMONAL PREPARATIONS, EXCL. SEX HORMONES AND INSULINS', 'level2': 'H03', 'level2_description': 'THYROID THERAPY', 'level3': 'H03A', 'level3_description': 'THYROID PREPARATIONS', 'level4': 'H03AA', 'level4_description': 'Thyroid hormones', 'level5': 'H03AA03', 'who_name': 'combinations of levothyroxine and liothyronine'}\n"
     ]
    }
   ],
   "source": [
    "# ATC class:\n",
    "print(new_client.atc_class.get('H03AA03'))"
   ]
  },
  {
   "cell_type": "code",
   "execution_count": null,
   "metadata": {},
   "outputs": [],
   "source": []
  }
 ],
 "metadata": {
  "kernelspec": {
   "display_name": "Python 3",
   "language": "python",
   "name": "python3"
  },
  "language_info": {
   "codemirror_mode": {
    "name": "ipython",
    "version": 3
   },
   "file_extension": ".py",
   "mimetype": "text/x-python",
   "name": "python",
   "nbconvert_exporter": "python",
   "pygments_lexer": "ipython3",
   "version": "3.7.3"
  },
  "widgets": {
   "state": {},
   "version": "1.1.2"
  }
 },
 "nbformat": 4,
 "nbformat_minor": 1
}
